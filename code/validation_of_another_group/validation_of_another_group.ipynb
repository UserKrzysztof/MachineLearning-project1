{
 "cells": [
  {
   "cell_type": "code",
   "execution_count": null,
   "metadata": {},
   "outputs": [],
   "source": [
    "from sklearn.svm import SVC\n",
    "from sklearn.ensemble import RandomForestClassifier, StackingClassifier\n",
    "from lightgbm import LGBMClassifier\n",
    "from xgboost import XGBClassifier\n",
    "from sklearn.linear_model import LogisticRegression\n",
    "from sklearn.preprocessing import RobustScaler\n",
    "from sklearn.model_selection import train_test_split\n",
    "from sklearn.metrics import classification_report,confusion_matrix, ConfusionMatrixDisplay,accuracy_score"
   ]
  },
  {
   "cell_type": "code",
   "execution_count": null,
   "metadata": {},
   "outputs": [],
   "source": [
    "features_to_drop2 = ['ShapeFactor3', 'EquivDiameter', 'Eccentricity', 'Area', 'ConvexArea', 'Extent', 'ShapeFactor2', 'roundness', 'AspectRation']\n",
    "\n",
    "def drop_columns(X, columns_to_drop):\n",
    "    return X.drop(columns=columns_to_drop, axis=1)\n",
    "\n",
    "def standarize(df, column):\n",
    "    return RobustScaler().fit_transform(np.array(df[column]).reshape(-1, 1))\n",
    "\n",
    "def prepare_data(df):\n",
    "    df = df.copy()\n",
    "    df.drop(columns=features_to_drop2, inplace=True)\n",
    "    for col in df.columns:\n",
    "        if col != 'Class':\n",
    "            df[col] = standarize(df, col)\n",
    "    X_train, X_test, y_train, y_test = train_test_split(df.drop(columns=['Class']), df['Class'], test_size=0.2, random_state=311)\n",
    "    return X_train, y_train, X_test, y_test\n",
    "\n",
    "def prepare_val_data(df):\n",
    "    df = df.copy()\n",
    "    df.drop(columns=features_to_drop2, inplace=True)\n",
    "    for col in df.columns:\n",
    "        if col != 'Class':\n",
    "            df[col] = standarize(df, col)\n",
    "    X = df.drop(columns=['Class'])\n",
    "    y = df['Class']\n",
    "    return X, y\n"
   ]
  },
  {
   "cell_type": "code",
   "execution_count": null,
   "metadata": {},
   "outputs": [],
   "source": [
    "\n",
    "model1 = SVC(random_state=311, C=9, gamma='auto', kernel='rbf')\n",
    "\n",
    "SVM_best = SVC(random_state=311, C=9, gamma='auto', kernel='rbf')\n",
    "RF_best = RandomForestClassifier(random_state=311)\n",
    "LGBM_best = LGBMClassifier(random_state=311, boosting_type='goss', max_depth=3, n_estimators=120, verbose=-1)\n",
    "XGB_best = XGBClassifier(random_state=311, booster = 'gbtree', eta=0.2, max_depth=3, min_child_weight=0.05)\n",
    "\n",
    "models_best = [\n",
    "    ('SVM', SVM_best),\n",
    "    ('Random Forest', RF_best),\n",
    "    ('LGBM', LGBM_best),\n",
    "    ('XGBoost', XGB_best)\n",
    "]\n",
    "\n",
    "model2 = StackingClassifier(estimators=models_best, final_estimator=LogisticRegression())"
   ]
  }
 ],
 "metadata": {
  "kernelspec": {
   "display_name": "base",
   "language": "python",
   "name": "python3"
  },
  "language_info": {
   "codemirror_mode": {
    "name": "ipython",
    "version": 3
   },
   "file_extension": ".py",
   "mimetype": "text/x-python",
   "name": "python",
   "nbconvert_exporter": "python",
   "pygments_lexer": "ipython3",
   "version": "3.9.13"
  }
 },
 "nbformat": 4,
 "nbformat_minor": 2
}
