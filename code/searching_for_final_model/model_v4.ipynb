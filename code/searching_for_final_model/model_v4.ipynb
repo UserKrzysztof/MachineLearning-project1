{
 "cells": [
  {
   "cell_type": "code",
   "execution_count": 19,
   "metadata": {},
   "outputs": [],
   "source": [
    "import pandas as pd\n",
    "import numpy as np\n",
    "import seaborn as sns\n",
    "from matplotlib import pyplot as plt"
   ]
  },
  {
   "cell_type": "code",
   "execution_count": 20,
   "metadata": {},
   "outputs": [],
   "source": [
    "from sklearn.metrics import accuracy_score, f1_score, precision_score, recall_score, confusion_matrix, ConfusionMatrixDisplay, roc_auc_score\n",
    "def printMetrics(test, pred): \n",
    "    cm = confusion_matrix(test,pred)\n",
    "    cm_display = ConfusionMatrixDisplay(confusion_matrix = cm, display_labels = [False, True])\n",
    "    cm_display.plot()\n",
    "    print(f\"accuracy: {accuracy_score(test, pred)}\")\n",
    "    print(f\"f1_score: {f1_score(test, pred)}\")\n",
    "    print(f\"precision_score: {precision_score(test, pred)}\")\n",
    "    print(f\"recall: {recall_score(test, pred)}\")\n",
    "    print(f\"roc_auc:{roc_auc_score(test,pred)}\")"
   ]
  },
  {
   "cell_type": "code",
   "execution_count": 21,
   "metadata": {},
   "outputs": [],
   "source": [
    "#df = pd.read_csv(\"datasource/bank_data_after_fe.csv\")"
   ]
  },
  {
   "cell_type": "code",
   "execution_count": 22,
   "metadata": {},
   "outputs": [],
   "source": [
    "df_base = pd.read_csv(\"datasource/bank_data_after_fe.csv\")"
   ]
  },
  {
   "cell_type": "code",
   "execution_count": 23,
   "metadata": {},
   "outputs": [],
   "source": [
    "df = pd.read_csv(\"datasource/data_only_cat_mod.csv\")"
   ]
  },
  {
   "cell_type": "code",
   "execution_count": 24,
   "metadata": {},
   "outputs": [
    {
     "data": {
      "text/html": [
       "<div>\n",
       "<style scoped>\n",
       "    .dataframe tbody tr th:only-of-type {\n",
       "        vertical-align: middle;\n",
       "    }\n",
       "\n",
       "    .dataframe tbody tr th {\n",
       "        vertical-align: top;\n",
       "    }\n",
       "\n",
       "    .dataframe thead th {\n",
       "        text-align: right;\n",
       "    }\n",
       "</style>\n",
       "<table border=\"1\" class=\"dataframe\">\n",
       "  <thead>\n",
       "    <tr style=\"text-align: right;\">\n",
       "      <th></th>\n",
       "      <th>age</th>\n",
       "      <th>marital</th>\n",
       "      <th>education</th>\n",
       "      <th>default</th>\n",
       "      <th>balance</th>\n",
       "      <th>housing</th>\n",
       "      <th>loan</th>\n",
       "      <th>duration</th>\n",
       "      <th>campaign</th>\n",
       "      <th>pdays</th>\n",
       "      <th>...</th>\n",
       "      <th>job_retired</th>\n",
       "      <th>job_self-employed</th>\n",
       "      <th>job_services</th>\n",
       "      <th>job_student</th>\n",
       "      <th>job_technician</th>\n",
       "      <th>job_unemployed</th>\n",
       "      <th>job_unknown</th>\n",
       "      <th>contact_cellular</th>\n",
       "      <th>contact_telephone</th>\n",
       "      <th>contact_unknown</th>\n",
       "    </tr>\n",
       "  </thead>\n",
       "  <tbody>\n",
       "    <tr>\n",
       "      <th>count</th>\n",
       "      <td>3616.000000</td>\n",
       "      <td>3616.000000</td>\n",
       "      <td>3616.000000</td>\n",
       "      <td>3616.000000</td>\n",
       "      <td>3616.000000</td>\n",
       "      <td>3616.000000</td>\n",
       "      <td>3616.000000</td>\n",
       "      <td>3616.000000</td>\n",
       "      <td>3616.000000</td>\n",
       "      <td>3616.000000</td>\n",
       "      <td>...</td>\n",
       "      <td>3616.000000</td>\n",
       "      <td>3616.000000</td>\n",
       "      <td>3616.000000</td>\n",
       "      <td>3616.000000</td>\n",
       "      <td>3616.000000</td>\n",
       "      <td>3616.000000</td>\n",
       "      <td>3616.000000</td>\n",
       "      <td>3616.000000</td>\n",
       "      <td>3616.000000</td>\n",
       "      <td>3616.000000</td>\n",
       "    </tr>\n",
       "    <tr>\n",
       "      <th>mean</th>\n",
       "      <td>41.043971</td>\n",
       "      <td>0.674226</td>\n",
       "      <td>0.590017</td>\n",
       "      <td>0.019082</td>\n",
       "      <td>1403.934458</td>\n",
       "      <td>0.568308</td>\n",
       "      <td>0.154591</td>\n",
       "      <td>263.769358</td>\n",
       "      <td>2.795354</td>\n",
       "      <td>40.218473</td>\n",
       "      <td>...</td>\n",
       "      <td>0.046737</td>\n",
       "      <td>0.040376</td>\n",
       "      <td>0.088772</td>\n",
       "      <td>0.017976</td>\n",
       "      <td>0.175608</td>\n",
       "      <td>0.028208</td>\n",
       "      <td>0.007743</td>\n",
       "      <td>0.646018</td>\n",
       "      <td>0.063606</td>\n",
       "      <td>0.290376</td>\n",
       "    </tr>\n",
       "    <tr>\n",
       "      <th>std</th>\n",
       "      <td>10.464800</td>\n",
       "      <td>0.435854</td>\n",
       "      <td>0.293404</td>\n",
       "      <td>0.136832</td>\n",
       "      <td>2811.286428</td>\n",
       "      <td>0.495381</td>\n",
       "      <td>0.361564</td>\n",
       "      <td>260.675975</td>\n",
       "      <td>3.144846</td>\n",
       "      <td>100.170192</td>\n",
       "      <td>...</td>\n",
       "      <td>0.211104</td>\n",
       "      <td>0.196867</td>\n",
       "      <td>0.284454</td>\n",
       "      <td>0.132881</td>\n",
       "      <td>0.380539</td>\n",
       "      <td>0.165589</td>\n",
       "      <td>0.087667</td>\n",
       "      <td>0.478270</td>\n",
       "      <td>0.244084</td>\n",
       "      <td>0.453999</td>\n",
       "    </tr>\n",
       "    <tr>\n",
       "      <th>min</th>\n",
       "      <td>19.000000</td>\n",
       "      <td>0.000000</td>\n",
       "      <td>0.000000</td>\n",
       "      <td>0.000000</td>\n",
       "      <td>-3313.000000</td>\n",
       "      <td>0.000000</td>\n",
       "      <td>0.000000</td>\n",
       "      <td>4.000000</td>\n",
       "      <td>1.000000</td>\n",
       "      <td>-1.000000</td>\n",
       "      <td>...</td>\n",
       "      <td>0.000000</td>\n",
       "      <td>0.000000</td>\n",
       "      <td>0.000000</td>\n",
       "      <td>0.000000</td>\n",
       "      <td>0.000000</td>\n",
       "      <td>0.000000</td>\n",
       "      <td>0.000000</td>\n",
       "      <td>0.000000</td>\n",
       "      <td>0.000000</td>\n",
       "      <td>0.000000</td>\n",
       "    </tr>\n",
       "    <tr>\n",
       "      <th>25%</th>\n",
       "      <td>33.000000</td>\n",
       "      <td>0.000000</td>\n",
       "      <td>0.500000</td>\n",
       "      <td>0.000000</td>\n",
       "      <td>65.000000</td>\n",
       "      <td>0.000000</td>\n",
       "      <td>0.000000</td>\n",
       "      <td>104.000000</td>\n",
       "      <td>1.000000</td>\n",
       "      <td>-1.000000</td>\n",
       "      <td>...</td>\n",
       "      <td>0.000000</td>\n",
       "      <td>0.000000</td>\n",
       "      <td>0.000000</td>\n",
       "      <td>0.000000</td>\n",
       "      <td>0.000000</td>\n",
       "      <td>0.000000</td>\n",
       "      <td>0.000000</td>\n",
       "      <td>0.000000</td>\n",
       "      <td>0.000000</td>\n",
       "      <td>0.000000</td>\n",
       "    </tr>\n",
       "    <tr>\n",
       "      <th>50%</th>\n",
       "      <td>39.000000</td>\n",
       "      <td>1.000000</td>\n",
       "      <td>0.500000</td>\n",
       "      <td>0.000000</td>\n",
       "      <td>450.500000</td>\n",
       "      <td>1.000000</td>\n",
       "      <td>0.000000</td>\n",
       "      <td>185.000000</td>\n",
       "      <td>2.000000</td>\n",
       "      <td>-1.000000</td>\n",
       "      <td>...</td>\n",
       "      <td>0.000000</td>\n",
       "      <td>0.000000</td>\n",
       "      <td>0.000000</td>\n",
       "      <td>0.000000</td>\n",
       "      <td>0.000000</td>\n",
       "      <td>0.000000</td>\n",
       "      <td>0.000000</td>\n",
       "      <td>1.000000</td>\n",
       "      <td>0.000000</td>\n",
       "      <td>0.000000</td>\n",
       "    </tr>\n",
       "    <tr>\n",
       "      <th>75%</th>\n",
       "      <td>48.000000</td>\n",
       "      <td>1.000000</td>\n",
       "      <td>1.000000</td>\n",
       "      <td>0.000000</td>\n",
       "      <td>1477.750000</td>\n",
       "      <td>1.000000</td>\n",
       "      <td>0.000000</td>\n",
       "      <td>330.000000</td>\n",
       "      <td>3.000000</td>\n",
       "      <td>-1.000000</td>\n",
       "      <td>...</td>\n",
       "      <td>0.000000</td>\n",
       "      <td>0.000000</td>\n",
       "      <td>0.000000</td>\n",
       "      <td>0.000000</td>\n",
       "      <td>0.000000</td>\n",
       "      <td>0.000000</td>\n",
       "      <td>0.000000</td>\n",
       "      <td>1.000000</td>\n",
       "      <td>0.000000</td>\n",
       "      <td>1.000000</td>\n",
       "    </tr>\n",
       "    <tr>\n",
       "      <th>max</th>\n",
       "      <td>87.000000</td>\n",
       "      <td>1.000000</td>\n",
       "      <td>1.000000</td>\n",
       "      <td>1.000000</td>\n",
       "      <td>42045.000000</td>\n",
       "      <td>1.000000</td>\n",
       "      <td>1.000000</td>\n",
       "      <td>3025.000000</td>\n",
       "      <td>50.000000</td>\n",
       "      <td>871.000000</td>\n",
       "      <td>...</td>\n",
       "      <td>1.000000</td>\n",
       "      <td>1.000000</td>\n",
       "      <td>1.000000</td>\n",
       "      <td>1.000000</td>\n",
       "      <td>1.000000</td>\n",
       "      <td>1.000000</td>\n",
       "      <td>1.000000</td>\n",
       "      <td>1.000000</td>\n",
       "      <td>1.000000</td>\n",
       "      <td>1.000000</td>\n",
       "    </tr>\n",
       "  </tbody>\n",
       "</table>\n",
       "<p>8 rows × 29 columns</p>\n",
       "</div>"
      ],
      "text/plain": [
       "               age      marital    education      default       balance  \\\n",
       "count  3616.000000  3616.000000  3616.000000  3616.000000   3616.000000   \n",
       "mean     41.043971     0.674226     0.590017     0.019082   1403.934458   \n",
       "std      10.464800     0.435854     0.293404     0.136832   2811.286428   \n",
       "min      19.000000     0.000000     0.000000     0.000000  -3313.000000   \n",
       "25%      33.000000     0.000000     0.500000     0.000000     65.000000   \n",
       "50%      39.000000     1.000000     0.500000     0.000000    450.500000   \n",
       "75%      48.000000     1.000000     1.000000     0.000000   1477.750000   \n",
       "max      87.000000     1.000000     1.000000     1.000000  42045.000000   \n",
       "\n",
       "           housing         loan     duration     campaign        pdays  ...  \\\n",
       "count  3616.000000  3616.000000  3616.000000  3616.000000  3616.000000  ...   \n",
       "mean      0.568308     0.154591   263.769358     2.795354    40.218473  ...   \n",
       "std       0.495381     0.361564   260.675975     3.144846   100.170192  ...   \n",
       "min       0.000000     0.000000     4.000000     1.000000    -1.000000  ...   \n",
       "25%       0.000000     0.000000   104.000000     1.000000    -1.000000  ...   \n",
       "50%       1.000000     0.000000   185.000000     2.000000    -1.000000  ...   \n",
       "75%       1.000000     0.000000   330.000000     3.000000    -1.000000  ...   \n",
       "max       1.000000     1.000000  3025.000000    50.000000   871.000000  ...   \n",
       "\n",
       "       job_retired  job_self-employed  job_services  job_student  \\\n",
       "count  3616.000000        3616.000000   3616.000000  3616.000000   \n",
       "mean      0.046737           0.040376      0.088772     0.017976   \n",
       "std       0.211104           0.196867      0.284454     0.132881   \n",
       "min       0.000000           0.000000      0.000000     0.000000   \n",
       "25%       0.000000           0.000000      0.000000     0.000000   \n",
       "50%       0.000000           0.000000      0.000000     0.000000   \n",
       "75%       0.000000           0.000000      0.000000     0.000000   \n",
       "max       1.000000           1.000000      1.000000     1.000000   \n",
       "\n",
       "       job_technician  job_unemployed  job_unknown  contact_cellular  \\\n",
       "count     3616.000000     3616.000000  3616.000000       3616.000000   \n",
       "mean         0.175608        0.028208     0.007743          0.646018   \n",
       "std          0.380539        0.165589     0.087667          0.478270   \n",
       "min          0.000000        0.000000     0.000000          0.000000   \n",
       "25%          0.000000        0.000000     0.000000          0.000000   \n",
       "50%          0.000000        0.000000     0.000000          1.000000   \n",
       "75%          0.000000        0.000000     0.000000          1.000000   \n",
       "max          1.000000        1.000000     1.000000          1.000000   \n",
       "\n",
       "       contact_telephone  contact_unknown  \n",
       "count        3616.000000      3616.000000  \n",
       "mean            0.063606         0.290376  \n",
       "std             0.244084         0.453999  \n",
       "min             0.000000         0.000000  \n",
       "25%             0.000000         0.000000  \n",
       "50%             0.000000         0.000000  \n",
       "75%             0.000000         1.000000  \n",
       "max             1.000000         1.000000  \n",
       "\n",
       "[8 rows x 29 columns]"
      ]
     },
     "execution_count": 24,
     "metadata": {},
     "output_type": "execute_result"
    }
   ],
   "source": [
    "df.describe()"
   ]
  },
  {
   "cell_type": "markdown",
   "metadata": {},
   "source": [
    "# Feature engeenering v2"
   ]
  },
  {
   "cell_type": "code",
   "execution_count": 25,
   "metadata": {},
   "outputs": [],
   "source": [
    "df.drop(columns=[\"job_unknown\", \"contact_telephone\"],  inplace=True)"
   ]
  },
  {
   "cell_type": "code",
   "execution_count": 26,
   "metadata": {},
   "outputs": [
    {
     "data": {
      "text/plain": [
       "<Axes: >"
      ]
     },
     "execution_count": 26,
     "metadata": {},
     "output_type": "execute_result"
    },
    {
     "data": {
      "image/png": "[encoded data removed]",
      "text/plain": [
       "<Figure size 640x480 with 1 Axes>"
      ]
     },
     "metadata": {},
     "output_type": "display_data"
    }
   ],
   "source": [
    "df.age.plot(kind='box')"
   ]
  },
  {
   "cell_type": "code",
   "execution_count": 27,
   "metadata": {},
   "outputs": [],
   "source": [
    "df[\"age\"] = pd.qcut(df[\"age\"], q = 3, labels=[0,0.5,1])\n",
    "df[\"balance\"] = pd.qcut(df[\"balance\"], q = 4, labels=[0,0.25,0.5,1])\n",
    "df[\"duration\"] = pd.qcut(df[\"duration\"], q = 6, labels=[0,0.2,0.4, 0.6,0.8,1])"
   ]
  },
  {
   "cell_type": "code",
   "execution_count": 28,
   "metadata": {},
   "outputs": [],
   "source": [
    "df['age'] = df['age'].cat.codes.astype('float64')\n",
    "df['duration'] = df['duration'].cat.codes.astype('float64')\n",
    "df['balance'] = df['balance'].cat.codes.astype('float64')\n",
    "\n",
    "for column in [\"age\", \"duration\", \"balance\", \"day_of_the_year\", \"pdays\", \"campaign\"]:\n",
    "    df[column] = (df[column] - df[column].min()) / (df[column].max() - df[column].min())\n",
    "\n"
   ]
  },
  {
   "cell_type": "code",
   "execution_count": 29,
   "metadata": {},
   "outputs": [],
   "source": [
    "df.to_csv(\"datasource/data_num_to_cat.csv\", index=False)"
   ]
  },
  {
   "cell_type": "code",
   "execution_count": 30,
   "metadata": {},
   "outputs": [
    {
     "name": "stdout",
     "output_type": "stream",
     "text": [
      "<class 'pandas.core.frame.DataFrame'>\n",
      "RangeIndex: 3616 entries, 0 to 3615\n",
      "Data columns (total 27 columns):\n",
      " #   Column             Non-Null Count  Dtype  \n",
      "---  ------             --------------  -----  \n",
      " 0   age                3616 non-null   float64\n",
      " 1   marital            3616 non-null   float64\n",
      " 2   education          3616 non-null   float64\n",
      " 3   default            3616 non-null   int64  \n",
      " 4   balance            3616 non-null   float64\n",
      " 5   housing            3616 non-null   int64  \n",
      " 6   loan               3616 non-null   int64  \n",
      " 7   duration           3616 non-null   float64\n",
      " 8   campaign           3616 non-null   float64\n",
      " 9   pdays              3616 non-null   float64\n",
      " 10  previous           3616 non-null   int64  \n",
      " 11  poutcome           3616 non-null   float64\n",
      " 12  day_of_the_year    3616 non-null   float64\n",
      " 13  y                  3616 non-null   int64  \n",
      " 14  job_admin.         3616 non-null   int64  \n",
      " 15  job_blue-collar    3616 non-null   int64  \n",
      " 16  job_entrepreneur   3616 non-null   int64  \n",
      " 17  job_housemaid      3616 non-null   int64  \n",
      " 18  job_management     3616 non-null   int64  \n",
      " 19  job_retired        3616 non-null   int64  \n",
      " 20  job_self-employed  3616 non-null   int64  \n",
      " 21  job_services       3616 non-null   int64  \n",
      " 22  job_student        3616 non-null   int64  \n",
      " 23  job_technician     3616 non-null   int64  \n",
      " 24  job_unemployed     3616 non-null   int64  \n",
      " 25  contact_cellular   3616 non-null   int64  \n",
      " 26  contact_unknown    3616 non-null   int64  \n",
      "dtypes: float64(9), int64(18)\n",
      "memory usage: 762.9 KB\n"
     ]
    }
   ],
   "source": [
    "df.info()"
   ]
  },
  {
   "cell_type": "code",
   "execution_count": 31,
   "metadata": {},
   "outputs": [
    {
     "data": {
      "text/html": [
       "<div>\n",
       "<style scoped>\n",
       "    .dataframe tbody tr th:only-of-type {\n",
       "        vertical-align: middle;\n",
       "    }\n",
       "\n",
       "    .dataframe tbody tr th {\n",
       "        vertical-align: top;\n",
       "    }\n",
       "\n",
       "    .dataframe thead th {\n",
       "        text-align: right;\n",
       "    }\n",
       "</style>\n",
       "<table border=\"1\" class=\"dataframe\">\n",
       "  <thead>\n",
       "    <tr style=\"text-align: right;\">\n",
       "      <th></th>\n",
       "      <th>age</th>\n",
       "      <th>marital</th>\n",
       "      <th>education</th>\n",
       "      <th>default</th>\n",
       "      <th>balance</th>\n",
       "      <th>housing</th>\n",
       "      <th>loan</th>\n",
       "      <th>duration</th>\n",
       "      <th>campaign</th>\n",
       "      <th>pdays</th>\n",
       "      <th>...</th>\n",
       "      <th>job_housemaid</th>\n",
       "      <th>job_management</th>\n",
       "      <th>job_retired</th>\n",
       "      <th>job_self-employed</th>\n",
       "      <th>job_services</th>\n",
       "      <th>job_student</th>\n",
       "      <th>job_technician</th>\n",
       "      <th>job_unemployed</th>\n",
       "      <th>contact_cellular</th>\n",
       "      <th>contact_unknown</th>\n",
       "    </tr>\n",
       "  </thead>\n",
       "  <tbody>\n",
       "    <tr>\n",
       "      <th>count</th>\n",
       "      <td>3616.000000</td>\n",
       "      <td>3616.000000</td>\n",
       "      <td>3616.000000</td>\n",
       "      <td>3616.000000</td>\n",
       "      <td>3616.000000</td>\n",
       "      <td>3616.000000</td>\n",
       "      <td>3616.000000</td>\n",
       "      <td>3616.000000</td>\n",
       "      <td>3616.000000</td>\n",
       "      <td>3616.000000</td>\n",
       "      <td>...</td>\n",
       "      <td>3616.000000</td>\n",
       "      <td>3616.000000</td>\n",
       "      <td>3616.000000</td>\n",
       "      <td>3616.000000</td>\n",
       "      <td>3616.000000</td>\n",
       "      <td>3616.000000</td>\n",
       "      <td>3616.000000</td>\n",
       "      <td>3616.000000</td>\n",
       "      <td>3616.000000</td>\n",
       "      <td>3616.000000</td>\n",
       "    </tr>\n",
       "    <tr>\n",
       "      <th>mean</th>\n",
       "      <td>0.477461</td>\n",
       "      <td>0.674226</td>\n",
       "      <td>0.590017</td>\n",
       "      <td>0.019082</td>\n",
       "      <td>0.499723</td>\n",
       "      <td>0.568308</td>\n",
       "      <td>0.154591</td>\n",
       "      <td>0.499004</td>\n",
       "      <td>0.036640</td>\n",
       "      <td>0.047269</td>\n",
       "      <td>...</td>\n",
       "      <td>0.023783</td>\n",
       "      <td>0.214049</td>\n",
       "      <td>0.046737</td>\n",
       "      <td>0.040376</td>\n",
       "      <td>0.088772</td>\n",
       "      <td>0.017976</td>\n",
       "      <td>0.175608</td>\n",
       "      <td>0.028208</td>\n",
       "      <td>0.646018</td>\n",
       "      <td>0.290376</td>\n",
       "    </tr>\n",
       "    <tr>\n",
       "      <th>std</th>\n",
       "      <td>0.415606</td>\n",
       "      <td>0.435854</td>\n",
       "      <td>0.293404</td>\n",
       "      <td>0.136832</td>\n",
       "      <td>0.372977</td>\n",
       "      <td>0.495381</td>\n",
       "      <td>0.361564</td>\n",
       "      <td>0.341794</td>\n",
       "      <td>0.064181</td>\n",
       "      <td>0.114874</td>\n",
       "      <td>...</td>\n",
       "      <td>0.152394</td>\n",
       "      <td>0.410217</td>\n",
       "      <td>0.211104</td>\n",
       "      <td>0.196867</td>\n",
       "      <td>0.284454</td>\n",
       "      <td>0.132881</td>\n",
       "      <td>0.380539</td>\n",
       "      <td>0.165589</td>\n",
       "      <td>0.478270</td>\n",
       "      <td>0.453999</td>\n",
       "    </tr>\n",
       "    <tr>\n",
       "      <th>min</th>\n",
       "      <td>0.000000</td>\n",
       "      <td>0.000000</td>\n",
       "      <td>0.000000</td>\n",
       "      <td>0.000000</td>\n",
       "      <td>0.000000</td>\n",
       "      <td>0.000000</td>\n",
       "      <td>0.000000</td>\n",
       "      <td>0.000000</td>\n",
       "      <td>0.000000</td>\n",
       "      <td>0.000000</td>\n",
       "      <td>...</td>\n",
       "      <td>0.000000</td>\n",
       "      <td>0.000000</td>\n",
       "      <td>0.000000</td>\n",
       "      <td>0.000000</td>\n",
       "      <td>0.000000</td>\n",
       "      <td>0.000000</td>\n",
       "      <td>0.000000</td>\n",
       "      <td>0.000000</td>\n",
       "      <td>0.000000</td>\n",
       "      <td>0.000000</td>\n",
       "    </tr>\n",
       "    <tr>\n",
       "      <th>25%</th>\n",
       "      <td>0.000000</td>\n",
       "      <td>0.000000</td>\n",
       "      <td>0.500000</td>\n",
       "      <td>0.000000</td>\n",
       "      <td>0.000000</td>\n",
       "      <td>0.000000</td>\n",
       "      <td>0.000000</td>\n",
       "      <td>0.200000</td>\n",
       "      <td>0.000000</td>\n",
       "      <td>0.000000</td>\n",
       "      <td>...</td>\n",
       "      <td>0.000000</td>\n",
       "      <td>0.000000</td>\n",
       "      <td>0.000000</td>\n",
       "      <td>0.000000</td>\n",
       "      <td>0.000000</td>\n",
       "      <td>0.000000</td>\n",
       "      <td>0.000000</td>\n",
       "      <td>0.000000</td>\n",
       "      <td>0.000000</td>\n",
       "      <td>0.000000</td>\n",
       "    </tr>\n",
       "    <tr>\n",
       "      <th>50%</th>\n",
       "      <td>0.500000</td>\n",
       "      <td>1.000000</td>\n",
       "      <td>0.500000</td>\n",
       "      <td>0.000000</td>\n",
       "      <td>0.500000</td>\n",
       "      <td>1.000000</td>\n",
       "      <td>0.000000</td>\n",
       "      <td>0.400000</td>\n",
       "      <td>0.020408</td>\n",
       "      <td>0.000000</td>\n",
       "      <td>...</td>\n",
       "      <td>0.000000</td>\n",
       "      <td>0.000000</td>\n",
       "      <td>0.000000</td>\n",
       "      <td>0.000000</td>\n",
       "      <td>0.000000</td>\n",
       "      <td>0.000000</td>\n",
       "      <td>0.000000</td>\n",
       "      <td>0.000000</td>\n",
       "      <td>1.000000</td>\n",
       "      <td>0.000000</td>\n",
       "    </tr>\n",
       "    <tr>\n",
       "      <th>75%</th>\n",
       "      <td>1.000000</td>\n",
       "      <td>1.000000</td>\n",
       "      <td>1.000000</td>\n",
       "      <td>0.000000</td>\n",
       "      <td>0.750000</td>\n",
       "      <td>1.000000</td>\n",
       "      <td>0.000000</td>\n",
       "      <td>0.800000</td>\n",
       "      <td>0.040816</td>\n",
       "      <td>0.000000</td>\n",
       "      <td>...</td>\n",
       "      <td>0.000000</td>\n",
       "      <td>0.000000</td>\n",
       "      <td>0.000000</td>\n",
       "      <td>0.000000</td>\n",
       "      <td>0.000000</td>\n",
       "      <td>0.000000</td>\n",
       "      <td>0.000000</td>\n",
       "      <td>0.000000</td>\n",
       "      <td>1.000000</td>\n",
       "      <td>1.000000</td>\n",
       "    </tr>\n",
       "    <tr>\n",
       "      <th>max</th>\n",
       "      <td>1.000000</td>\n",
       "      <td>1.000000</td>\n",
       "      <td>1.000000</td>\n",
       "      <td>1.000000</td>\n",
       "      <td>1.000000</td>\n",
       "      <td>1.000000</td>\n",
       "      <td>1.000000</td>\n",
       "      <td>1.000000</td>\n",
       "      <td>1.000000</td>\n",
       "      <td>1.000000</td>\n",
       "      <td>...</td>\n",
       "      <td>1.000000</td>\n",
       "      <td>1.000000</td>\n",
       "      <td>1.000000</td>\n",
       "      <td>1.000000</td>\n",
       "      <td>1.000000</td>\n",
       "      <td>1.000000</td>\n",
       "      <td>1.000000</td>\n",
       "      <td>1.000000</td>\n",
       "      <td>1.000000</td>\n",
       "      <td>1.000000</td>\n",
       "    </tr>\n",
       "  </tbody>\n",
       "</table>\n",
       "<p>8 rows × 27 columns</p>\n",
       "</div>"
      ],
      "text/plain": [
       "               age      marital    education      default      balance  \\\n",
       "count  3616.000000  3616.000000  3616.000000  3616.000000  3616.000000   \n",
       "mean      0.477461     0.674226     0.590017     0.019082     0.499723   \n",
       "std       0.415606     0.435854     0.293404     0.136832     0.372977   \n",
       "min       0.000000     0.000000     0.000000     0.000000     0.000000   \n",
       "25%       0.000000     0.000000     0.500000     0.000000     0.000000   \n",
       "50%       0.500000     1.000000     0.500000     0.000000     0.500000   \n",
       "75%       1.000000     1.000000     1.000000     0.000000     0.750000   \n",
       "max       1.000000     1.000000     1.000000     1.000000     1.000000   \n",
       "\n",
       "           housing         loan     duration     campaign        pdays  ...  \\\n",
       "count  3616.000000  3616.000000  3616.000000  3616.000000  3616.000000  ...   \n",
       "mean      0.568308     0.154591     0.499004     0.036640     0.047269  ...   \n",
       "std       0.495381     0.361564     0.341794     0.064181     0.114874  ...   \n",
       "min       0.000000     0.000000     0.000000     0.000000     0.000000  ...   \n",
       "25%       0.000000     0.000000     0.200000     0.000000     0.000000  ...   \n",
       "50%       1.000000     0.000000     0.400000     0.020408     0.000000  ...   \n",
       "75%       1.000000     0.000000     0.800000     0.040816     0.000000  ...   \n",
       "max       1.000000     1.000000     1.000000     1.000000     1.000000  ...   \n",
       "\n",
       "       job_housemaid  job_management  job_retired  job_self-employed  \\\n",
       "count    3616.000000     3616.000000  3616.000000        3616.000000   \n",
       "mean        0.023783        0.214049     0.046737           0.040376   \n",
       "std         0.152394        0.410217     0.211104           0.196867   \n",
       "min         0.000000        0.000000     0.000000           0.000000   \n",
       "25%         0.000000        0.000000     0.000000           0.000000   \n",
       "50%         0.000000        0.000000     0.000000           0.000000   \n",
       "75%         0.000000        0.000000     0.000000           0.000000   \n",
       "max         1.000000        1.000000     1.000000           1.000000   \n",
       "\n",
       "       job_services  job_student  job_technician  job_unemployed  \\\n",
       "count   3616.000000  3616.000000     3616.000000     3616.000000   \n",
       "mean       0.088772     0.017976        0.175608        0.028208   \n",
       "std        0.284454     0.132881        0.380539        0.165589   \n",
       "min        0.000000     0.000000        0.000000        0.000000   \n",
       "25%        0.000000     0.000000        0.000000        0.000000   \n",
       "50%        0.000000     0.000000        0.000000        0.000000   \n",
       "75%        0.000000     0.000000        0.000000        0.000000   \n",
       "max        1.000000     1.000000        1.000000        1.000000   \n",
       "\n",
       "       contact_cellular  contact_unknown  \n",
       "count       3616.000000      3616.000000  \n",
       "mean           0.646018         0.290376  \n",
       "std            0.478270         0.453999  \n",
       "min            0.000000         0.000000  \n",
       "25%            0.000000         0.000000  \n",
       "50%            1.000000         0.000000  \n",
       "75%            1.000000         1.000000  \n",
       "max            1.000000         1.000000  \n",
       "\n",
       "[8 rows x 27 columns]"
      ]
     },
     "execution_count": 31,
     "metadata": {},
     "output_type": "execute_result"
    }
   ],
   "source": [
    "df.describe()"
   ]
  },
  {
   "cell_type": "code",
   "execution_count": 32,
   "metadata": {},
   "outputs": [
    {
     "data": {
      "text/plain": [
       "array([0. , 0.5, 1. ])"
      ]
     },
     "execution_count": 32,
     "metadata": {},
     "output_type": "execute_result"
    }
   ],
   "source": [
    "df.age.unique()"
   ]
  },
  {
   "cell_type": "code",
   "execution_count": 33,
   "metadata": {},
   "outputs": [],
   "source": [
    "target_value = \"y\"\n",
    "\n",
    "from sklearn.model_selection import train_test_split\n",
    "\n",
    "X_train, X_test, y_train, y_test = train_test_split(\n",
    "    df.drop(columns=target_value),\n",
    "    df[target_value],\n",
    "    test_size=0.2,\n",
    "    stratify=df[target_value],\n",
    "    random_state=42,\n",
    ")\n",
    "\n",
    "X_train_og, X_test_og, y_train_og, y_test_og = train_test_split(\n",
    "    df_base.drop(columns=target_value),\n",
    "    df_base[target_value],\n",
    "    test_size=0.2,\n",
    "    stratify=df_base[target_value],\n",
    "    random_state=42,\n",
    ")"
   ]
  },
  {
   "cell_type": "code",
   "execution_count": 34,
   "metadata": {},
   "outputs": [],
   "source": [
    "from sklearn.utils import compute_class_weight\n",
    "\n",
    "\n",
    "weights = compute_class_weight(class_weight=\"balanced\",classes= np.unique(y_train), y = y_train)\n",
    "weights = {0:weights[0], 1:weights[1]}"
   ]
  },
  {
   "cell_type": "markdown",
   "metadata": {},
   "source": [
    "# Best trusted"
   ]
  },
  {
   "cell_type": "code",
   "execution_count": 64,
   "metadata": {},
   "outputs": [],
   "source": [
    "from sklearn.dummy import DummyClassifier\n",
    "from sklearn.ensemble import AdaBoostClassifier, GradientBoostingClassifier, RandomForestClassifier\n",
    "from sklearn.linear_model import LogisticRegression\n",
    "from sklearn.svm import SVC\n",
    "from sklearn.tree import DecisionTreeClassifier\n",
    "from xgboost import XGBClassifier\n",
    "\n",
    "estimators = [(\"LogisticRegression\", LogisticRegression(max_iter=1000,solver=\"liblinear\", penalty=\"l1\", class_weight=\"balanced\")),\n",
    "              (\"DecisionTree\", DecisionTreeClassifier(max_depth=9, max_features='log2',min_samples_leaf=20)),\n",
    "              (\"Gradient\", GradientBoostingClassifier(learning_rate=0.3,n_estimators=1000,init=DummyClassifier(strategy=\"stratified\"),)),\n",
    "              (\"RandomForestClassifier\",  RandomForestClassifier(n_estimators=200, max_depth=9, max_features='log2', class_weight=\"balanced_subsample\")),\n",
    "              (\"XGBClassifier\", XGBClassifier(n_estimators=1000, learning_rate=0.3, booster=\"gbtree\", max_depth=5)),\n",
    "              (\"SVC\", SVC(class_weight=weights, kernel=\"linear\", decision_function_shape=\"ovr\")),\n",
    "              (\"AdaBoostClassifier\", AdaBoostClassifier(algorithm='SAMME', learning_rate=1.6, n_estimators=150))]"
   ]
  },
  {
   "cell_type": "markdown",
   "metadata": {},
   "source": [
    "Using data from fe v2"
   ]
  },
  {
   "cell_type": "code",
   "execution_count": 65,
   "metadata": {},
   "outputs": [
    {
     "name": "stdout",
     "output_type": "stream",
     "text": [
      "accuracy: 0.8867403314917127\n",
      "f1_score: 0.5858585858585859\n",
      "precision_score: 0.5043478260869565\n",
      "recall: 0.6987951807228916\n",
      "roc_auc:0.8049358118903069\n"
     ]
    },
    {
     "name": "stderr",
     "output_type": "stream",
     "text": [
      "/Users/krzysztof/opt/anaconda3/lib/python3.9/site-packages/sklearn/svm/_base.py:1237: ConvergenceWarning: Liblinear failed to converge, increase the number of iterations.\n",
      "  warnings.warn(\n"
     ]
    },
    {
     "data": {
      "image/png": "[encoded data removed]",
      "text/plain": [
       "<Figure size 640x480 with 2 Axes>"
      ]
     },
     "metadata": {},
     "output_type": "display_data"
    }
   ],
   "source": [
    "from sklearn.ensemble import StackingClassifier\n",
    "\n",
    "clf = StackingClassifier(estimators=estimators, \n",
    "                         final_estimator=LogisticRegression(solver=\"liblinear\", penalty=\"l1\", class_weight={0:1, 1:2.6}),\n",
    "                         cv = 10)#1,2\n",
    "clf.fit(X_train, y_train)\n",
    "y_hat = clf.predict(X_test)\n",
    "printMetrics(y_test, y_hat)"
   ]
  },
  {
   "cell_type": "markdown",
   "metadata": {},
   "source": [
    "### Model presented below is the best one, but there is a room for improvement"
   ]
  },
  {
   "cell_type": "markdown",
   "metadata": {},
   "source": [
    "Using data from original fe"
   ]
  },
  {
   "cell_type": "code",
   "execution_count": 66,
   "metadata": {},
   "outputs": [
    {
     "name": "stdout",
     "output_type": "stream",
     "text": [
      "accuracy: 0.9033149171270718\n",
      "f1_score: 0.6111111111111112\n",
      "precision_score: 0.5670103092783505\n",
      "recall: 0.6626506024096386\n",
      "roc_auc:0.7985639907524013\n"
     ]
    },
    {
     "data": {
      "image/png": "[encoded data removed]",
      "text/plain": [
       "<Figure size 640x480 with 2 Axes>"
      ]
     },
     "metadata": {},
     "output_type": "display_data"
    }
   ],
   "source": [
    "from sklearn.ensemble import StackingClassifier\n",
    "\n",
    "clf = StackingClassifier(estimators=estimators, \n",
    "                         final_estimator=LogisticRegression(solver=\"liblinear\", penalty=\"l1\", class_weight={0:1, 1:2.6}),\n",
    "                         cv = 10)#1,2\n",
    "clf.fit(X_train_og, y_train_og)\n",
    "y_hat = clf.predict(X_test_og)\n",
    "printMetrics(y_test_og, y_hat)"
   ]
  },
  {
   "cell_type": "markdown",
   "metadata": {},
   "source": [
    "We are gona use data modifications from original feature engineering"
   ]
  },
  {
   "cell_type": "markdown",
   "metadata": {},
   "source": [
    "# Tuning"
   ]
  },
  {
   "cell_type": "code",
   "execution_count": 54,
   "metadata": {},
   "outputs": [],
   "source": [
    "from sklearn.ensemble import AdaBoostClassifier"
   ]
  },
  {
   "cell_type": "code",
   "execution_count": 55,
   "metadata": {},
   "outputs": [],
   "source": [
    "estimators = [(\"LogisticRegression\", LogisticRegression(max_iter=1000,solver=\"liblinear\", penalty=\"l1\", class_weight=weights)),\n",
    "              #(\"DecisionTree\", DecisionTreeClassifier(max_depth=6, min_samples_leaf=20, class_weight=weights)),\n",
    "              (\"Gradient\", GradientBoostingClassifier(learning_rate=0.13, min_samples_split=6)),\n",
    "              (\"RandomForestClassifier\",  RandomForestClassifier(n_estimators = 1000, n_jobs = -1)),\n",
    "              (\"XGBClassifier\", XGBClassifier(n_estimators=1000, learning_rate=0.3, booster=\"gbtree\", max_depth=5)),\n",
    "              (\"AdaBoostClassifier\", AdaBoostClassifier(random_state=42, algorithm=\"SAMME\")),\n",
    "              ]"
   ]
  },
  {
   "cell_type": "code",
   "execution_count": 57,
   "metadata": {},
   "outputs": [
    {
     "name": "stdout",
     "output_type": "stream",
     "text": [
      "accuracy: 0.9033149171270718\n",
      "f1_score: 0.6111111111111112\n",
      "precision_score: 0.5670103092783505\n",
      "recall: 0.6626506024096386\n",
      "roc_auc:0.7985639907524013\n"
     ]
    },
    {
     "data": {
      "image/png": "[encoded data removed]",
      "text/plain": [
       "<Figure size 640x480 with 2 Axes>"
      ]
     },
     "metadata": {},
     "output_type": "display_data"
    }
   ],
   "source": [
    "clf = StackingClassifier(estimators=estimators, \n",
    "                         final_estimator=LogisticRegression(solver=\"liblinear\", penalty=\"l1\", class_weight={0:1, 1:2.6}),\n",
    "                         cv = 10)#1,2\n",
    "clf.fit(X_train_og, y_train_og)\n",
    "y_hat = clf.predict(X_test_og)\n",
    "printMetrics(y_test_og, y_hat)"
   ]
  },
  {
   "cell_type": "code",
   "execution_count": 28,
   "metadata": {},
   "outputs": [],
   "source": [
    "from sklearn.model_selection import RepeatedStratifiedKFold, cross_val_score\n",
    "\n",
    "\n",
    "def evaluate_model(model, X, y):\n",
    "    \n",
    "    cv = RepeatedStratifiedKFold(n_splits=10, n_repeats=3, random_state=1)\n",
    "    scores = cross_val_score(model, X, y, scoring='accuracy', cv=cv, n_jobs=-1, error_score='raise')\n",
    "\n",
    "    return scores\n",
    "\n",
    "def evaluate_model_f1(model, X, y):\n",
    "    \n",
    "    cv = RepeatedStratifiedKFold(n_splits=10, n_repeats=3, random_state=1)\n",
    "    scores = cross_val_score(model, X, y, scoring='f1', cv=cv, n_jobs=-1, error_score='raise')\n",
    "\n",
    "    return scores"
   ]
  },
  {
   "cell_type": "code",
   "execution_count": 29,
   "metadata": {},
   "outputs": [],
   "source": [
    "models = dict()\n",
    "for e in estimators:\n",
    "    models[e[0]] = e[1]\n",
    "models[\"stacked\"] = clf\n"
   ]
  },
  {
   "cell_type": "code",
   "execution_count": 30,
   "metadata": {},
   "outputs": [],
   "source": [
    "X = df.drop(columns=target_value)\n",
    "y = df[target_value]"
   ]
  },
  {
   "cell_type": "code",
   "execution_count": 31,
   "metadata": {},
   "outputs": [
    {
     "name": "stdout",
     "output_type": "stream",
     "text": [
      "LogisticRegression mean-0.803 std-0.022\n",
      "Gradient mean-0.898 std-0.011\n",
      "RandomForestClassifier mean-0.901 std-0.010\n",
      "XGBClassifier mean-0.898 std-0.010\n",
      "AdaBoostClassifier mean-0.901 std-0.012\n",
      " stacked mean-0.900 std-0.014\n"
     ]
    }
   ],
   "source": [
    "results, names = list(), list()\n",
    "for name, model in models.items():\n",
    "    scores = evaluate_model(model, X, y)\n",
    "    results.append(scores)\n",
    "    names.append(name)\n",
    "    print('%8s mean-%.3f std-%.3f' % (name, np.mean(scores), np.std(scores)))"
   ]
  },
  {
   "cell_type": "code",
   "execution_count": 32,
   "metadata": {},
   "outputs": [
    {
     "data": {
      "text/html": [
       "<div>\n",
       "<style scoped>\n",
       "    .dataframe tbody tr th:only-of-type {\n",
       "        vertical-align: middle;\n",
       "    }\n",
       "\n",
       "    .dataframe tbody tr th {\n",
       "        vertical-align: top;\n",
       "    }\n",
       "\n",
       "    .dataframe thead th {\n",
       "        text-align: right;\n",
       "    }\n",
       "</style>\n",
       "<table border=\"1\" class=\"dataframe\">\n",
       "  <thead>\n",
       "    <tr style=\"text-align: right;\">\n",
       "      <th></th>\n",
       "      <th>model</th>\n",
       "      <th>cv</th>\n",
       "      <th>accuracy</th>\n",
       "    </tr>\n",
       "  </thead>\n",
       "  <tbody>\n",
       "    <tr>\n",
       "      <th>0</th>\n",
       "      <td>LogisticRegression</td>\n",
       "      <td>0</td>\n",
       "      <td>0.839779</td>\n",
       "    </tr>\n",
       "    <tr>\n",
       "      <th>1</th>\n",
       "      <td>Gradient</td>\n",
       "      <td>0</td>\n",
       "      <td>0.892265</td>\n",
       "    </tr>\n",
       "    <tr>\n",
       "      <th>2</th>\n",
       "      <td>RandomForestClassifier</td>\n",
       "      <td>0</td>\n",
       "      <td>0.897790</td>\n",
       "    </tr>\n",
       "    <tr>\n",
       "      <th>3</th>\n",
       "      <td>XGBClassifier</td>\n",
       "      <td>0</td>\n",
       "      <td>0.892265</td>\n",
       "    </tr>\n",
       "    <tr>\n",
       "      <th>4</th>\n",
       "      <td>AdaBoostClassifier</td>\n",
       "      <td>0</td>\n",
       "      <td>0.895028</td>\n",
       "    </tr>\n",
       "  </tbody>\n",
       "</table>\n",
       "</div>"
      ],
      "text/plain": [
       "                    model cv  accuracy\n",
       "0      LogisticRegression  0  0.839779\n",
       "1                Gradient  0  0.892265\n",
       "2  RandomForestClassifier  0  0.897790\n",
       "3           XGBClassifier  0  0.892265\n",
       "4      AdaBoostClassifier  0  0.895028"
      ]
     },
     "execution_count": 32,
     "metadata": {},
     "output_type": "execute_result"
    }
   ],
   "source": [
    "res_df = pd.DataFrame(results)\n",
    "res_df[\"model\"] = names\n",
    "res_df = res_df.melt(id_vars=\"model\", var_name=\"cv\", value_name=\"accuracy\")\n",
    "res_df.head()"
   ]
  },
  {
   "cell_type": "code",
   "execution_count": 33,
   "metadata": {},
   "outputs": [
    {
     "data": {
      "image/png": "[encoded data removed]",
      "text/plain": [
       "<Figure size 640x480 with 1 Axes>"
      ]
     },
     "metadata": {},
     "output_type": "display_data"
    }
   ],
   "source": [
    "sns.boxplot(res_df, x=\"model\", y=\"accuracy\", color=\"lightblue\")\n",
    "plt.show()"
   ]
  }
 ],
 "metadata": {
  "kernelspec": {
   "display_name": "base",
   "language": "python",
   "name": "python3"
  },
  "language_info": {
   "codemirror_mode": {
    "name": "ipython",
    "version": 3
   },
   "file_extension": ".py",
   "mimetype": "text/x-python",
   "name": "python",
   "nbconvert_exporter": "python",
   "pygments_lexer": "ipython3",
   "version": "3.9.13"
  }
 },
 "nbformat": 4,
 "nbformat_minor": 2
}
