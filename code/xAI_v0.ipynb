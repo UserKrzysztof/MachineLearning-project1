{
 "cells": [
  {
   "cell_type": "markdown",
   "metadata": {},
   "source": [
    "# Testing  model with XAI methods "
   ]
  },
  {
   "cell_type": "code",
   "execution_count": 24,
   "metadata": {},
   "outputs": [],
   "source": [
    "import pandas as pd\n",
    "import numpy as np\n",
    "import seaborn as sns\n",
    "from matplotlib import pyplot as plt"
   ]
  },
  {
   "cell_type": "code",
   "execution_count": 25,
   "metadata": {},
   "outputs": [],
   "source": [
    "import calendar\n",
    "from sklearn.base import BaseEstimator, TransformerMixin\n",
    "from sklearn.compose import ColumnTransformer\n",
    "from sklearn.metrics import ConfusionMatrixDisplay, confusion_matrix, f1_score, precision_score, recall_score, roc_auc_score, accuracy_score\n",
    "from sklearn.pipeline import FunctionTransformer, Pipeline\n",
    "from sklearn.preprocessing import MinMaxScaler, OneHotEncoder, OrdinalEncoder, PowerTransformer\n",
    "from xgboost import XGBClassifier"
   ]
  },
  {
   "cell_type": "markdown",
   "metadata": {},
   "source": [
    "## Defining model"
   ]
  },
  {
   "cell_type": "code",
   "execution_count": 26,
   "metadata": {},
   "outputs": [],
   "source": [
    "TARGET_VALUE = 'y'\n",
    "\n",
    "def get_training_data():\n",
    "    df = pd.read_csv(\"datasource/bank_data_model.csv\")\n",
    "    return df.iloc[:,1:]\n",
    "\n",
    "def get_validation_data():\n",
    "    df =  pd.read_csv(\"datasource/bank_data_validate.csv\")\n",
    "    return df.iloc[:,1:]\n",
    "\n",
    "def get_categorical_features(dataFrame): \n",
    "    return dataFrame.drop(columns=get_numerical_features(dataFrame)).columns.values\n",
    "\n",
    "def get_numerical_features(dataFrame):\n",
    "    return dataFrame.select_dtypes(include=np.number).columns.values\n",
    "\n",
    "def get_numerical_features_transformer():\n",
    "    class DayMonthTransformer(BaseEstimator,TransformerMixin):\n",
    "        def fit(self, X, y=None):\n",
    "            return self\n",
    "        \n",
    "        def transform(self, X):\n",
    "            X_transformed = X.copy()\n",
    "            month_num_dict = {month.lower(): index for index, month in enumerate(calendar.month_abbr) if month}\n",
    "            X_transformed['month'] = X_transformed['month'].map(month_num_dict)\n",
    "            X_transformed['year'] = np.repeat(2024, repeats= X_transformed.shape[0])\n",
    "            X_transformed['day_of_the_year'] = pd.to_datetime(X_transformed[[\"year\",\"month\",\"day\"]], format='%d/%m/%y', errors='coerce')\n",
    "            X_transformed['day_of_the_year'] = X_transformed['day_of_the_year'].apply(lambda x: x.dayofyear)\n",
    "            return X_transformed.drop(columns=[\"day\", \"month\", \"year\"])\n",
    "        \n",
    "        def get_feature_names_out(self, input_features = None):\n",
    "            return ['day_of_the_year']\n",
    "        \n",
    "    return ColumnTransformer(\n",
    "        transformers=[\n",
    "            (\"duration\", PowerTransformer(method=\"yeo-johnson\"), [\"duration\"]),\n",
    "            (\"age\", Pipeline( steps = [\n",
    "                                (\"age_power_transform\", PowerTransformer(method=\"box-cox\")),\n",
    "                                (\"age_function_transform\", FunctionTransformer(lambda col : col + abs(np.min(col)), feature_names_out='one-to-one'))\n",
    "                                ]\n",
    "                            ),\n",
    "            [\"age\"]),\n",
    "            (\"balance\", Pipeline( steps = [\n",
    "                                (\"balance_function_transform_min\", FunctionTransformer(lambda col : col + abs(np.min(col)),feature_names_out='one-to-one')),\n",
    "                                (\"balance_function_transform_log\", FunctionTransformer(np.log1p, feature_names_out='one-to-one')),\n",
    "                                ]\n",
    "                            ),\n",
    "            [\"balance\"]),\n",
    "            (\"day_of_the_year\", DayMonthTransformer(), [\"day\",\"month\"])\n",
    "            ]\n",
    "        )\n",
    "                        \n",
    "def get_categorical_features_transformer():\n",
    "    return ColumnTransformer(\n",
    "        transformers= [\n",
    "            (\"yes_no_variables\",  OrdinalEncoder(), [\"default\", \"housing\", \"loan\"]),\n",
    "            (\"sorted_variables\", Pipeline(\n",
    "                steps=[\n",
    "                    (\"ordinal\", OrdinalEncoder()),\n",
    "                    (\"min_max_scaler\", MinMaxScaler())\n",
    "                ]\n",
    "            ),\n",
    "            [\"education\", \"marital\", \"poutcome\"]),\n",
    "            (\"unsorted_variables\", OneHotEncoder(), [\"job\", \"contact\"]),\n",
    "        ]\n",
    "    )  \n",
    "\n",
    "def get_features_transformer():\n",
    "    return ColumnTransformer(\n",
    "        transformers = [\n",
    "            (\"num\", get_numerical_features_transformer(), [\"duration\",\"balance\", \"age\", \"day\", \"month\"]),\n",
    "            (\"cat\", get_categorical_features_transformer(), [\"default\", \"housing\", \"loan\", \"education\", \"marital\", \"poutcome\", \"job\", \"contact\"]),\n",
    "            (\"others\", FunctionTransformer(feature_names_out='one-to-one'), [\"campaign\", \"pdays\",\"previous\"])\n",
    "        ]\n",
    "    )\n",
    "\n",
    "def get_estimator(weights):\n",
    "    return XGBClassifier(booster= 'gbtree', \n",
    "                         eta= 0.10987358313376537,\n",
    "                         max_delta_step= 1.446953199095078, \n",
    "                         max_depth= 4, \n",
    "                         min_child_weight= 1.666061864206202, \n",
    "                         objective= 'binary:logistic', \n",
    "                         scale_pos_weight= weights, \n",
    "                         tree_method= 'exact')\n",
    "def get_model(weights):\n",
    "    return Pipeline(\n",
    "        steps = [\n",
    "            (\"preprocessor\", get_features_transformer()),\n",
    "            (\"estimator\", get_estimator(weights))\n",
    "        ]\n",
    "    )\n",
    "\n",
    "def printMetrics(test, pred): \n",
    "    cm = confusion_matrix(test,pred)\n",
    "    cm_display = ConfusionMatrixDisplay(confusion_matrix = cm, display_labels = [False, True])\n",
    "    cm_display.plot()\n",
    "    print(f\"accuracy : {accuracy_score(test, pred)}\")\n",
    "    print(f\"f1       : {f1_score(test, pred)}\")\n",
    "    print(f\"precision: {precision_score(test, pred)}\")\n",
    "    print(f\"recall   : {recall_score(test, pred)}\")\n",
    "    print(f\"roc_auc  : {roc_auc_score(test,pred)}\")"
   ]
  },
  {
   "cell_type": "code",
   "execution_count": 27,
   "metadata": {},
   "outputs": [],
   "source": [
    "from sklearn.calibration import LabelEncoder\n",
    "from sklearn.model_selection import train_test_split\n",
    "\n",
    "df = get_training_data()\n",
    "le = LabelEncoder()\n",
    "df[TARGET_VALUE] = le.fit_transform(df[TARGET_VALUE])\n",
    "\n",
    "X_train, X_test = train_test_split(\n",
    "    df,\n",
    "    test_size=0.2,\n",
    "    stratify=df[TARGET_VALUE],\n",
    "    random_state=42,\n",
    ")\n",
    "\n",
    "y_train, y_test = X_train[TARGET_VALUE], X_test[TARGET_VALUE]\n",
    "X_train, X_test = X_train.drop(columns=TARGET_VALUE), X_test.drop(columns=TARGET_VALUE)"
   ]
  },
  {
   "cell_type": "code",
   "execution_count": 28,
   "metadata": {},
   "outputs": [],
   "source": [
    "positive = y_train.sum()\n",
    "negative = y_train.count() - positive\n",
    "clf = get_model(negative/positive)"
   ]
  },
  {
   "cell_type": "code",
   "execution_count": 29,
   "metadata": {},
   "outputs": [
    {
     "data": {
      "text/html": [
       "<style>#sk-container-id-2 {\n",
       "  /* Definition of color scheme common for light and dark mode */\n",
       "  --sklearn-color-text: black;\n",
       "  --sklearn-color-line: gray;\n",
       "  /* Definition of color scheme for unfitted estimators */\n",
       "  --sklearn-color-unfitted-level-0: #fff5e6;\n",
       "  --sklearn-color-unfitted-level-1: #f6e4d2;\n",
       "  --sklearn-color-unfitted-level-2: #ffe0b3;\n",
       "  --sklearn-color-unfitted-level-3: chocolate;\n",
       "  /* Definition of color scheme for fitted estimators */\n",
       "  --sklearn-color-fitted-level-0: #f0f8ff;\n",
       "  --sklearn-color-fitted-level-1: #d4ebff;\n",
       "  --sklearn-color-fitted-level-2: #b3dbfd;\n",
       "  --sklearn-color-fitted-level-3: cornflowerblue;\n",
       "\n",
       "  /* Specific color for light theme */\n",
       "  --sklearn-color-text-on-default-background: var(--sg-text-color, var(--theme-code-foreground, var(--jp-content-font-color1, black)));\n",
       "  --sklearn-color-background: var(--sg-background-color, var(--theme-background, var(--jp-layout-color0, white)));\n",
       "  --sklearn-color-border-box: var(--sg-text-color, var(--theme-code-foreground, var(--jp-content-font-color1, black)));\n",
       "  --sklearn-color-icon: #696969;\n",
       "\n",
       "  @media (prefers-color-scheme: dark) {\n",
       "    /* Redefinition of color scheme for dark theme */\n",
       "    --sklearn-color-text-on-default-background: var(--sg-text-color, var(--theme-code-foreground, var(--jp-content-font-color1, white)));\n",
       "    --sklearn-color-background: var(--sg-background-color, var(--theme-background, var(--jp-layout-color0, #111)));\n",
       "    --sklearn-color-border-box: var(--sg-text-color, var(--theme-code-foreground, var(--jp-content-font-color1, white)));\n",
       "    --sklearn-color-icon: #878787;\n",
       "  }\n",
       "}\n",
       "\n",
       "#sk-container-id-2 {\n",
       "  color: var(--sklearn-color-text);\n",
       "}\n",
       "\n",
       "#sk-container-id-2 pre {\n",
       "  padding: 0;\n",
       "}\n",
       "\n",
       "#sk-container-id-2 input.sk-hidden--visually {\n",
       "  border: 0;\n",
       "  clip: rect(1px 1px 1px 1px);\n",
       "  clip: rect(1px, 1px, 1px, 1px);\n",
       "  height: 1px;\n",
       "  margin: -1px;\n",
       "  overflow: hidden;\n",
       "  padding: 0;\n",
       "  position: absolute;\n",
       "  width: 1px;\n",
       "}\n",
       "\n",
       "#sk-container-id-2 div.sk-dashed-wrapped {\n",
       "  border: 1px dashed var(--sklearn-color-line);\n",
       "  margin: 0 0.4em 0.5em 0.4em;\n",
       "  box-sizing: border-box;\n",
       "  padding-bottom: 0.4em;\n",
       "  background-color: var(--sklearn-color-background);\n",
       "}\n",
       "\n",
       "#sk-container-id-2 div.sk-container {\n",
       "  /* jupyter's `normalize.less` sets `[hidden] { display: none; }`\n",
       "     but bootstrap.min.css set `[hidden] { display: none !important; }`\n",
       "     so we also need the `!important` here to be able to override the\n",
       "     default hidden behavior on the sphinx rendered scikit-learn.org.\n",
       "     See: https://github.com/scikit-learn/scikit-learn/issues/21755 */\n",
       "  display: inline-block !important;\n",
       "  position: relative;\n",
       "}\n",
       "\n",
       "#sk-container-id-2 div.sk-text-repr-fallback {\n",
       "  display: none;\n",
       "}\n",
       "\n",
       "div.sk-parallel-item,\n",
       "div.sk-serial,\n",
       "div.sk-item {\n",
       "  /* draw centered vertical line to link estimators */\n",
       "  background-image: linear-gradient(var(--sklearn-color-text-on-default-background), var(--sklearn-color-text-on-default-background));\n",
       "  background-size: 2px 100%;\n",
       "  background-repeat: no-repeat;\n",
       "  background-position: center center;\n",
       "}\n",
       "\n",
       "/* Parallel-specific style estimator block */\n",
       "\n",
       "#sk-container-id-2 div.sk-parallel-item::after {\n",
       "  content: \"\";\n",
       "  width: 100%;\n",
       "  border-bottom: 2px solid var(--sklearn-color-text-on-default-background);\n",
       "  flex-grow: 1;\n",
       "}\n",
       "\n",
       "#sk-container-id-2 div.sk-parallel {\n",
       "  display: flex;\n",
       "  align-items: stretch;\n",
       "  justify-content: center;\n",
       "  background-color: var(--sklearn-color-background);\n",
       "  position: relative;\n",
       "}\n",
       "\n",
       "#sk-container-id-2 div.sk-parallel-item {\n",
       "  display: flex;\n",
       "  flex-direction: column;\n",
       "}\n",
       "\n",
       "#sk-container-id-2 div.sk-parallel-item:first-child::after {\n",
       "  align-self: flex-end;\n",
       "  width: 50%;\n",
       "}\n",
       "\n",
       "#sk-container-id-2 div.sk-parallel-item:last-child::after {\n",
       "  align-self: flex-start;\n",
       "  width: 50%;\n",
       "}\n",
       "\n",
       "#sk-container-id-2 div.sk-parallel-item:only-child::after {\n",
       "  width: 0;\n",
       "}\n",
       "\n",
       "/* Serial-specific style estimator block */\n",
       "\n",
       "#sk-container-id-2 div.sk-serial {\n",
       "  display: flex;\n",
       "  flex-direction: column;\n",
       "  align-items: center;\n",
       "  background-color: var(--sklearn-color-background);\n",
       "  padding-right: 1em;\n",
       "  padding-left: 1em;\n",
       "}\n",
       "\n",
       "\n",
       "/* Toggleable style: style used for estimator/Pipeline/ColumnTransformer box that is\n",
       "clickable and can be expanded/collapsed.\n",
       "- Pipeline and ColumnTransformer use this feature and define the default style\n",
       "- Estimators will overwrite some part of the style using the `sk-estimator` class\n",
       "*/\n",
       "\n",
       "/* Pipeline and ColumnTransformer style (default) */\n",
       "\n",
       "#sk-container-id-2 div.sk-toggleable {\n",
       "  /* Default theme specific background. It is overwritten whether we have a\n",
       "  specific estimator or a Pipeline/ColumnTransformer */\n",
       "  background-color: var(--sklearn-color-background);\n",
       "}\n",
       "\n",
       "/* Toggleable label */\n",
       "#sk-container-id-2 label.sk-toggleable__label {\n",
       "  cursor: pointer;\n",
       "  display: block;\n",
       "  width: 100%;\n",
       "  margin-bottom: 0;\n",
       "  padding: 0.5em;\n",
       "  box-sizing: border-box;\n",
       "  text-align: center;\n",
       "}\n",
       "\n",
       "#sk-container-id-2 label.sk-toggleable__label-arrow:before {\n",
       "  /* Arrow on the left of the label */\n",
       "  content: \"▸\";\n",
       "  float: left;\n",
       "  margin-right: 0.25em;\n",
       "  color: var(--sklearn-color-icon);\n",
       "}\n",
       "\n",
       "#sk-container-id-2 label.sk-toggleable__label-arrow:hover:before {\n",
       "  color: var(--sklearn-color-text);\n",
       "}\n",
       "\n",
       "/* Toggleable content - dropdown */\n",
       "\n",
       "#sk-container-id-2 div.sk-toggleable__content {\n",
       "  max-height: 0;\n",
       "  max-width: 0;\n",
       "  overflow: hidden;\n",
       "  text-align: left;\n",
       "  /* unfitted */\n",
       "  background-color: var(--sklearn-color-unfitted-level-0);\n",
       "}\n",
       "\n",
       "#sk-container-id-2 div.sk-toggleable__content.fitted {\n",
       "  /* fitted */\n",
       "  background-color: var(--sklearn-color-fitted-level-0);\n",
       "}\n",
       "\n",
       "#sk-container-id-2 div.sk-toggleable__content pre {\n",
       "  margin: 0.2em;\n",
       "  border-radius: 0.25em;\n",
       "  color: var(--sklearn-color-text);\n",
       "  /* unfitted */\n",
       "  background-color: var(--sklearn-color-unfitted-level-0);\n",
       "}\n",
       "\n",
       "#sk-container-id-2 div.sk-toggleable__content.fitted pre {\n",
       "  /* unfitted */\n",
       "  background-color: var(--sklearn-color-fitted-level-0);\n",
       "}\n",
       "\n",
       "#sk-container-id-2 input.sk-toggleable__control:checked~div.sk-toggleable__content {\n",
       "  /* Expand drop-down */\n",
       "  max-height: 200px;\n",
       "  max-width: 100%;\n",
       "  overflow: auto;\n",
       "}\n",
       "\n",
       "#sk-container-id-2 input.sk-toggleable__control:checked~label.sk-toggleable__label-arrow:before {\n",
       "  content: \"▾\";\n",
       "}\n",
       "\n",
       "/* Pipeline/ColumnTransformer-specific style */\n",
       "\n",
       "#sk-container-id-2 div.sk-label input.sk-toggleable__control:checked~label.sk-toggleable__label {\n",
       "  color: var(--sklearn-color-text);\n",
       "  background-color: var(--sklearn-color-unfitted-level-2);\n",
       "}\n",
       "\n",
       "#sk-container-id-2 div.sk-label.fitted input.sk-toggleable__control:checked~label.sk-toggleable__label {\n",
       "  background-color: var(--sklearn-color-fitted-level-2);\n",
       "}\n",
       "\n",
       "/* Estimator-specific style */\n",
       "\n",
       "/* Colorize estimator box */\n",
       "#sk-container-id-2 div.sk-estimator input.sk-toggleable__control:checked~label.sk-toggleable__label {\n",
       "  /* unfitted */\n",
       "  background-color: var(--sklearn-color-unfitted-level-2);\n",
       "}\n",
       "\n",
       "#sk-container-id-2 div.sk-estimator.fitted input.sk-toggleable__control:checked~label.sk-toggleable__label {\n",
       "  /* fitted */\n",
       "  background-color: var(--sklearn-color-fitted-level-2);\n",
       "}\n",
       "\n",
       "#sk-container-id-2 div.sk-label label.sk-toggleable__label,\n",
       "#sk-container-id-2 div.sk-label label {\n",
       "  /* The background is the default theme color */\n",
       "  color: var(--sklearn-color-text-on-default-background);\n",
       "}\n",
       "\n",
       "/* On hover, darken the color of the background */\n",
       "#sk-container-id-2 div.sk-label:hover label.sk-toggleable__label {\n",
       "  color: var(--sklearn-color-text);\n",
       "  background-color: var(--sklearn-color-unfitted-level-2);\n",
       "}\n",
       "\n",
       "/* Label box, darken color on hover, fitted */\n",
       "#sk-container-id-2 div.sk-label.fitted:hover label.sk-toggleable__label.fitted {\n",
       "  color: var(--sklearn-color-text);\n",
       "  background-color: var(--sklearn-color-fitted-level-2);\n",
       "}\n",
       "\n",
       "/* Estimator label */\n",
       "\n",
       "#sk-container-id-2 div.sk-label label {\n",
       "  font-family: monospace;\n",
       "  font-weight: bold;\n",
       "  display: inline-block;\n",
       "  line-height: 1.2em;\n",
       "}\n",
       "\n",
       "#sk-container-id-2 div.sk-label-container {\n",
       "  text-align: center;\n",
       "}\n",
       "\n",
       "/* Estimator-specific */\n",
       "#sk-container-id-2 div.sk-estimator {\n",
       "  font-family: monospace;\n",
       "  border: 1px dotted var(--sklearn-color-border-box);\n",
       "  border-radius: 0.25em;\n",
       "  box-sizing: border-box;\n",
       "  margin-bottom: 0.5em;\n",
       "  /* unfitted */\n",
       "  background-color: var(--sklearn-color-unfitted-level-0);\n",
       "}\n",
       "\n",
       "#sk-container-id-2 div.sk-estimator.fitted {\n",
       "  /* fitted */\n",
       "  background-color: var(--sklearn-color-fitted-level-0);\n",
       "}\n",
       "\n",
       "/* on hover */\n",
       "#sk-container-id-2 div.sk-estimator:hover {\n",
       "  /* unfitted */\n",
       "  background-color: var(--sklearn-color-unfitted-level-2);\n",
       "}\n",
       "\n",
       "#sk-container-id-2 div.sk-estimator.fitted:hover {\n",
       "  /* fitted */\n",
       "  background-color: var(--sklearn-color-fitted-level-2);\n",
       "}\n",
       "\n",
       "/* Specification for estimator info (e.g. \"i\" and \"?\") */\n",
       "\n",
       "/* Common style for \"i\" and \"?\" */\n",
       "\n",
       ".sk-estimator-doc-link,\n",
       "a:link.sk-estimator-doc-link,\n",
       "a:visited.sk-estimator-doc-link {\n",
       "  float: right;\n",
       "  font-size: smaller;\n",
       "  line-height: 1em;\n",
       "  font-family: monospace;\n",
       "  background-color: var(--sklearn-color-background);\n",
       "  border-radius: 1em;\n",
       "  height: 1em;\n",
       "  width: 1em;\n",
       "  text-decoration: none !important;\n",
       "  margin-left: 1ex;\n",
       "  /* unfitted */\n",
       "  border: var(--sklearn-color-unfitted-level-1) 1pt solid;\n",
       "  color: var(--sklearn-color-unfitted-level-1);\n",
       "}\n",
       "\n",
       ".sk-estimator-doc-link.fitted,\n",
       "a:link.sk-estimator-doc-link.fitted,\n",
       "a:visited.sk-estimator-doc-link.fitted {\n",
       "  /* fitted */\n",
       "  border: var(--sklearn-color-fitted-level-1) 1pt solid;\n",
       "  color: var(--sklearn-color-fitted-level-1);\n",
       "}\n",
       "\n",
       "/* On hover */\n",
       "div.sk-estimator:hover .sk-estimator-doc-link:hover,\n",
       ".sk-estimator-doc-link:hover,\n",
       "div.sk-label-container:hover .sk-estimator-doc-link:hover,\n",
       ".sk-estimator-doc-link:hover {\n",
       "  /* unfitted */\n",
       "  background-color: var(--sklearn-color-unfitted-level-3);\n",
       "  color: var(--sklearn-color-background);\n",
       "  text-decoration: none;\n",
       "}\n",
       "\n",
       "div.sk-estimator.fitted:hover .sk-estimator-doc-link.fitted:hover,\n",
       ".sk-estimator-doc-link.fitted:hover,\n",
       "div.sk-label-container:hover .sk-estimator-doc-link.fitted:hover,\n",
       ".sk-estimator-doc-link.fitted:hover {\n",
       "  /* fitted */\n",
       "  background-color: var(--sklearn-color-fitted-level-3);\n",
       "  color: var(--sklearn-color-background);\n",
       "  text-decoration: none;\n",
       "}\n",
       "\n",
       "/* Span, style for the box shown on hovering the info icon */\n",
       ".sk-estimator-doc-link span {\n",
       "  display: none;\n",
       "  z-index: 9999;\n",
       "  position: relative;\n",
       "  font-weight: normal;\n",
       "  right: .2ex;\n",
       "  padding: .5ex;\n",
       "  margin: .5ex;\n",
       "  width: min-content;\n",
       "  min-width: 20ex;\n",
       "  max-width: 50ex;\n",
       "  color: var(--sklearn-color-text);\n",
       "  box-shadow: 2pt 2pt 4pt #999;\n",
       "  /* unfitted */\n",
       "  background: var(--sklearn-color-unfitted-level-0);\n",
       "  border: .5pt solid var(--sklearn-color-unfitted-level-3);\n",
       "}\n",
       "\n",
       ".sk-estimator-doc-link.fitted span {\n",
       "  /* fitted */\n",
       "  background: var(--sklearn-color-fitted-level-0);\n",
       "  border: var(--sklearn-color-fitted-level-3);\n",
       "}\n",
       "\n",
       ".sk-estimator-doc-link:hover span {\n",
       "  display: block;\n",
       "}\n",
       "\n",
       "/* \"?\"-specific style due to the `<a>` HTML tag */\n",
       "\n",
       "#sk-container-id-2 a.estimator_doc_link {\n",
       "  float: right;\n",
       "  font-size: 1rem;\n",
       "  line-height: 1em;\n",
       "  font-family: monospace;\n",
       "  background-color: var(--sklearn-color-background);\n",
       "  border-radius: 1rem;\n",
       "  height: 1rem;\n",
       "  width: 1rem;\n",
       "  text-decoration: none;\n",
       "  /* unfitted */\n",
       "  color: var(--sklearn-color-unfitted-level-1);\n",
       "  border: var(--sklearn-color-unfitted-level-1) 1pt solid;\n",
       "}\n",
       "\n",
       "#sk-container-id-2 a.estimator_doc_link.fitted {\n",
       "  /* fitted */\n",
       "  border: var(--sklearn-color-fitted-level-1) 1pt solid;\n",
       "  color: var(--sklearn-color-fitted-level-1);\n",
       "}\n",
       "\n",
       "/* On hover */\n",
       "#sk-container-id-2 a.estimator_doc_link:hover {\n",
       "  /* unfitted */\n",
       "  background-color: var(--sklearn-color-unfitted-level-3);\n",
       "  color: var(--sklearn-color-background);\n",
       "  text-decoration: none;\n",
       "}\n",
       "\n",
       "#sk-container-id-2 a.estimator_doc_link.fitted:hover {\n",
       "  /* fitted */\n",
       "  background-color: var(--sklearn-color-fitted-level-3);\n",
       "}\n",
       "</style><div id=\"sk-container-id-2\" class=\"sk-top-container\"><div class=\"sk-text-repr-fallback\"><pre>Pipeline(steps=[(&#x27;preprocessor&#x27;,\n",
       "                 ColumnTransformer(transformers=[(&#x27;num&#x27;,\n",
       "                                                  ColumnTransformer(transformers=[(&#x27;duration&#x27;,\n",
       "                                                                                   PowerTransformer(),\n",
       "                                                                                   [&#x27;duration&#x27;]),\n",
       "                                                                                  (&#x27;age&#x27;,\n",
       "                                                                                   Pipeline(steps=[(&#x27;age_power_transform&#x27;,\n",
       "                                                                                                    PowerTransformer(method=&#x27;box-cox&#x27;)),\n",
       "                                                                                                   (&#x27;age_function_transform&#x27;,\n",
       "                                                                                                    FunctionTransformer(feature_names_out=&#x27;one-to-one&#x27;,\n",
       "                                                                                                                        func=&lt;function get_numerical_features_transf...\n",
       "                               feature_types=None, gamma=None, grow_policy=None,\n",
       "                               importance_type=None,\n",
       "                               interaction_constraints=None, learning_rate=None,\n",
       "                               max_bin=None, max_cat_threshold=None,\n",
       "                               max_cat_to_onehot=None,\n",
       "                               max_delta_step=1.446953199095078, max_depth=4,\n",
       "                               max_leaves=None,\n",
       "                               min_child_weight=1.666061864206202, missing=nan,\n",
       "                               monotone_constraints=None, multi_strategy=None,\n",
       "                               n_estimators=None, n_jobs=None,\n",
       "                               num_parallel_tree=None, ...))])</pre><b>In a Jupyter environment, please rerun this cell to show the HTML representation or trust the notebook. <br />On GitHub, the HTML representation is unable to render, please try loading this page with nbviewer.org.</b></div><div class=\"sk-container\" hidden><div class=\"sk-item sk-dashed-wrapped\"><div class=\"sk-label-container\"><div class=\"sk-label fitted sk-toggleable\"><input class=\"sk-toggleable__control sk-hidden--visually\" id=\"sk-estimator-id-25\" type=\"checkbox\" ><label for=\"sk-estimator-id-25\" class=\"sk-toggleable__label fitted sk-toggleable__label-arrow fitted\">&nbsp;&nbsp;Pipeline<a class=\"sk-estimator-doc-link fitted\" rel=\"noreferrer\" target=\"_blank\" href=\"https://scikit-learn.org/1.4/modules/generated/sklearn.pipeline.Pipeline.html\">?<span>Documentation for Pipeline</span></a><span class=\"sk-estimator-doc-link fitted\">i<span>Fitted</span></span></label><div class=\"sk-toggleable__content fitted\"><pre>Pipeline(steps=[(&#x27;preprocessor&#x27;,\n",
       "                 ColumnTransformer(transformers=[(&#x27;num&#x27;,\n",
       "                                                  ColumnTransformer(transformers=[(&#x27;duration&#x27;,\n",
       "                                                                                   PowerTransformer(),\n",
       "                                                                                   [&#x27;duration&#x27;]),\n",
       "                                                                                  (&#x27;age&#x27;,\n",
       "                                                                                   Pipeline(steps=[(&#x27;age_power_transform&#x27;,\n",
       "                                                                                                    PowerTransformer(method=&#x27;box-cox&#x27;)),\n",
       "                                                                                                   (&#x27;age_function_transform&#x27;,\n",
       "                                                                                                    FunctionTransformer(feature_names_out=&#x27;one-to-one&#x27;,\n",
       "                                                                                                                        func=&lt;function get_numerical_features_transf...\n",
       "                               feature_types=None, gamma=None, grow_policy=None,\n",
       "                               importance_type=None,\n",
       "                               interaction_constraints=None, learning_rate=None,\n",
       "                               max_bin=None, max_cat_threshold=None,\n",
       "                               max_cat_to_onehot=None,\n",
       "                               max_delta_step=1.446953199095078, max_depth=4,\n",
       "                               max_leaves=None,\n",
       "                               min_child_weight=1.666061864206202, missing=nan,\n",
       "                               monotone_constraints=None, multi_strategy=None,\n",
       "                               n_estimators=None, n_jobs=None,\n",
       "                               num_parallel_tree=None, ...))])</pre></div> </div></div><div class=\"sk-serial\"><div class=\"sk-item sk-dashed-wrapped\"><div class=\"sk-label-container\"><div class=\"sk-label fitted sk-toggleable\"><input class=\"sk-toggleable__control sk-hidden--visually\" id=\"sk-estimator-id-26\" type=\"checkbox\" ><label for=\"sk-estimator-id-26\" class=\"sk-toggleable__label fitted sk-toggleable__label-arrow fitted\">&nbsp;preprocessor: ColumnTransformer<a class=\"sk-estimator-doc-link fitted\" rel=\"noreferrer\" target=\"_blank\" href=\"https://scikit-learn.org/1.4/modules/generated/sklearn.compose.ColumnTransformer.html\">?<span>Documentation for preprocessor: ColumnTransformer</span></a></label><div class=\"sk-toggleable__content fitted\"><pre>ColumnTransformer(transformers=[(&#x27;num&#x27;,\n",
       "                                 ColumnTransformer(transformers=[(&#x27;duration&#x27;,\n",
       "                                                                  PowerTransformer(),\n",
       "                                                                  [&#x27;duration&#x27;]),\n",
       "                                                                 (&#x27;age&#x27;,\n",
       "                                                                  Pipeline(steps=[(&#x27;age_power_transform&#x27;,\n",
       "                                                                                   PowerTransformer(method=&#x27;box-cox&#x27;)),\n",
       "                                                                                  (&#x27;age_function_transform&#x27;,\n",
       "                                                                                   FunctionTransformer(feature_names_out=&#x27;one-to-one&#x27;,\n",
       "                                                                                                       func=&lt;function get_numerical_features_transformer.&lt;locals&gt;.&lt;lambda&gt; at 0x7ea9d...\n",
       "                                                                  Pipeline(steps=[(&#x27;ordinal&#x27;,\n",
       "                                                                                   OrdinalEncoder()),\n",
       "                                                                                  (&#x27;min_max_scaler&#x27;,\n",
       "                                                                                   MinMaxScaler())]),\n",
       "                                                                  [&#x27;education&#x27;,\n",
       "                                                                   &#x27;marital&#x27;,\n",
       "                                                                   &#x27;poutcome&#x27;]),\n",
       "                                                                 (&#x27;unsorted_variables&#x27;,\n",
       "                                                                  OneHotEncoder(),\n",
       "                                                                  [&#x27;job&#x27;,\n",
       "                                                                   &#x27;contact&#x27;])]),\n",
       "                                 [&#x27;default&#x27;, &#x27;housing&#x27;, &#x27;loan&#x27;, &#x27;education&#x27;,\n",
       "                                  &#x27;marital&#x27;, &#x27;poutcome&#x27;, &#x27;job&#x27;, &#x27;contact&#x27;]),\n",
       "                                (&#x27;others&#x27;,\n",
       "                                 FunctionTransformer(feature_names_out=&#x27;one-to-one&#x27;),\n",
       "                                 [&#x27;campaign&#x27;, &#x27;pdays&#x27;, &#x27;previous&#x27;])])</pre></div> </div></div><div class=\"sk-parallel\"><div class=\"sk-parallel-item\"><div class=\"sk-item\"><div class=\"sk-label-container\"><div class=\"sk-label fitted sk-toggleable\"><input class=\"sk-toggleable__control sk-hidden--visually\" id=\"sk-estimator-id-27\" type=\"checkbox\" ><label for=\"sk-estimator-id-27\" class=\"sk-toggleable__label fitted sk-toggleable__label-arrow fitted\">num</label><div class=\"sk-toggleable__content fitted\"><pre>[&#x27;duration&#x27;, &#x27;balance&#x27;, &#x27;age&#x27;, &#x27;day&#x27;, &#x27;month&#x27;]</pre></div> </div></div><div class=\"sk-serial\"><div class=\"sk-item sk-dashed-wrapped\"><div class=\"sk-parallel\"><div class=\"sk-parallel-item\"><div class=\"sk-item\"><div class=\"sk-label-container\"><div class=\"sk-label fitted sk-toggleable\"><input class=\"sk-toggleable__control sk-hidden--visually\" id=\"sk-estimator-id-28\" type=\"checkbox\" ><label for=\"sk-estimator-id-28\" class=\"sk-toggleable__label fitted sk-toggleable__label-arrow fitted\">duration</label><div class=\"sk-toggleable__content fitted\"><pre>[&#x27;duration&#x27;]</pre></div> </div></div><div class=\"sk-serial\"><div class=\"sk-item\"><div class=\"sk-estimator fitted sk-toggleable\"><input class=\"sk-toggleable__control sk-hidden--visually\" id=\"sk-estimator-id-29\" type=\"checkbox\" ><label for=\"sk-estimator-id-29\" class=\"sk-toggleable__label fitted sk-toggleable__label-arrow fitted\">&nbsp;PowerTransformer<a class=\"sk-estimator-doc-link fitted\" rel=\"noreferrer\" target=\"_blank\" href=\"https://scikit-learn.org/1.4/modules/generated/sklearn.preprocessing.PowerTransformer.html\">?<span>Documentation for PowerTransformer</span></a></label><div class=\"sk-toggleable__content fitted\"><pre>PowerTransformer()</pre></div> </div></div></div></div></div><div class=\"sk-parallel-item\"><div class=\"sk-item\"><div class=\"sk-label-container\"><div class=\"sk-label fitted sk-toggleable\"><input class=\"sk-toggleable__control sk-hidden--visually\" id=\"sk-estimator-id-30\" type=\"checkbox\" ><label for=\"sk-estimator-id-30\" class=\"sk-toggleable__label fitted sk-toggleable__label-arrow fitted\">age</label><div class=\"sk-toggleable__content fitted\"><pre>[&#x27;age&#x27;]</pre></div> </div></div><div class=\"sk-serial\"><div class=\"sk-item\"><div class=\"sk-serial\"><div class=\"sk-item\"><div class=\"sk-estimator fitted sk-toggleable\"><input class=\"sk-toggleable__control sk-hidden--visually\" id=\"sk-estimator-id-31\" type=\"checkbox\" ><label for=\"sk-estimator-id-31\" class=\"sk-toggleable__label fitted sk-toggleable__label-arrow fitted\">&nbsp;PowerTransformer<a class=\"sk-estimator-doc-link fitted\" rel=\"noreferrer\" target=\"_blank\" href=\"https://scikit-learn.org/1.4/modules/generated/sklearn.preprocessing.PowerTransformer.html\">?<span>Documentation for PowerTransformer</span></a></label><div class=\"sk-toggleable__content fitted\"><pre>PowerTransformer(method=&#x27;box-cox&#x27;)</pre></div> </div></div><div class=\"sk-item\"><div class=\"sk-estimator fitted sk-toggleable\"><input class=\"sk-toggleable__control sk-hidden--visually\" id=\"sk-estimator-id-32\" type=\"checkbox\" ><label for=\"sk-estimator-id-32\" class=\"sk-toggleable__label fitted sk-toggleable__label-arrow fitted\">&nbsp;FunctionTransformer<a class=\"sk-estimator-doc-link fitted\" rel=\"noreferrer\" target=\"_blank\" href=\"https://scikit-learn.org/1.4/modules/generated/sklearn.preprocessing.FunctionTransformer.html\">?<span>Documentation for FunctionTransformer</span></a></label><div class=\"sk-toggleable__content fitted\"><pre>FunctionTransformer(feature_names_out=&#x27;one-to-one&#x27;,\n",
       "                    func=&lt;function get_numerical_features_transformer.&lt;locals&gt;.&lt;lambda&gt; at 0x7ea9d432b100&gt;)</pre></div> </div></div></div></div></div></div></div><div class=\"sk-parallel-item\"><div class=\"sk-item\"><div class=\"sk-label-container\"><div class=\"sk-label fitted sk-toggleable\"><input class=\"sk-toggleable__control sk-hidden--visually\" id=\"sk-estimator-id-33\" type=\"checkbox\" ><label for=\"sk-estimator-id-33\" class=\"sk-toggleable__label fitted sk-toggleable__label-arrow fitted\">balance</label><div class=\"sk-toggleable__content fitted\"><pre>[&#x27;balance&#x27;]</pre></div> </div></div><div class=\"sk-serial\"><div class=\"sk-item\"><div class=\"sk-serial\"><div class=\"sk-item\"><div class=\"sk-estimator fitted sk-toggleable\"><input class=\"sk-toggleable__control sk-hidden--visually\" id=\"sk-estimator-id-34\" type=\"checkbox\" ><label for=\"sk-estimator-id-34\" class=\"sk-toggleable__label fitted sk-toggleable__label-arrow fitted\">&nbsp;FunctionTransformer<a class=\"sk-estimator-doc-link fitted\" rel=\"noreferrer\" target=\"_blank\" href=\"https://scikit-learn.org/1.4/modules/generated/sklearn.preprocessing.FunctionTransformer.html\">?<span>Documentation for FunctionTransformer</span></a></label><div class=\"sk-toggleable__content fitted\"><pre>FunctionTransformer(feature_names_out=&#x27;one-to-one&#x27;,\n",
       "                    func=&lt;function get_numerical_features_transformer.&lt;locals&gt;.&lt;lambda&gt; at 0x7ea9d432b380&gt;)</pre></div> </div></div><div class=\"sk-item\"><div class=\"sk-estimator fitted sk-toggleable\"><input class=\"sk-toggleable__control sk-hidden--visually\" id=\"sk-estimator-id-35\" type=\"checkbox\" ><label for=\"sk-estimator-id-35\" class=\"sk-toggleable__label fitted sk-toggleable__label-arrow fitted\">&nbsp;FunctionTransformer<a class=\"sk-estimator-doc-link fitted\" rel=\"noreferrer\" target=\"_blank\" href=\"https://scikit-learn.org/1.4/modules/generated/sklearn.preprocessing.FunctionTransformer.html\">?<span>Documentation for FunctionTransformer</span></a></label><div class=\"sk-toggleable__content fitted\"><pre>FunctionTransformer(feature_names_out=&#x27;one-to-one&#x27;, func=&lt;ufunc &#x27;log1p&#x27;&gt;)</pre></div> </div></div></div></div></div></div></div><div class=\"sk-parallel-item\"><div class=\"sk-item\"><div class=\"sk-label-container\"><div class=\"sk-label fitted sk-toggleable\"><input class=\"sk-toggleable__control sk-hidden--visually\" id=\"sk-estimator-id-36\" type=\"checkbox\" ><label for=\"sk-estimator-id-36\" class=\"sk-toggleable__label fitted sk-toggleable__label-arrow fitted\">day_of_the_year</label><div class=\"sk-toggleable__content fitted\"><pre>[&#x27;day&#x27;, &#x27;month&#x27;]</pre></div> </div></div><div class=\"sk-serial\"><div class=\"sk-item\"><div class=\"sk-estimator fitted sk-toggleable\"><input class=\"sk-toggleable__control sk-hidden--visually\" id=\"sk-estimator-id-37\" type=\"checkbox\" ><label for=\"sk-estimator-id-37\" class=\"sk-toggleable__label fitted sk-toggleable__label-arrow fitted\">DayMonthTransformer</label><div class=\"sk-toggleable__content fitted\"><pre>DayMonthTransformer()</pre></div> </div></div></div></div></div></div></div></div></div></div><div class=\"sk-parallel-item\"><div class=\"sk-item\"><div class=\"sk-label-container\"><div class=\"sk-label fitted sk-toggleable\"><input class=\"sk-toggleable__control sk-hidden--visually\" id=\"sk-estimator-id-38\" type=\"checkbox\" ><label for=\"sk-estimator-id-38\" class=\"sk-toggleable__label fitted sk-toggleable__label-arrow fitted\">cat</label><div class=\"sk-toggleable__content fitted\"><pre>[&#x27;default&#x27;, &#x27;housing&#x27;, &#x27;loan&#x27;, &#x27;education&#x27;, &#x27;marital&#x27;, &#x27;poutcome&#x27;, &#x27;job&#x27;, &#x27;contact&#x27;]</pre></div> </div></div><div class=\"sk-serial\"><div class=\"sk-item sk-dashed-wrapped\"><div class=\"sk-parallel\"><div class=\"sk-parallel-item\"><div class=\"sk-item\"><div class=\"sk-label-container\"><div class=\"sk-label fitted sk-toggleable\"><input class=\"sk-toggleable__control sk-hidden--visually\" id=\"sk-estimator-id-39\" type=\"checkbox\" ><label for=\"sk-estimator-id-39\" class=\"sk-toggleable__label fitted sk-toggleable__label-arrow fitted\">yes_no_variables</label><div class=\"sk-toggleable__content fitted\"><pre>[&#x27;default&#x27;, &#x27;housing&#x27;, &#x27;loan&#x27;]</pre></div> </div></div><div class=\"sk-serial\"><div class=\"sk-item\"><div class=\"sk-estimator fitted sk-toggleable\"><input class=\"sk-toggleable__control sk-hidden--visually\" id=\"sk-estimator-id-40\" type=\"checkbox\" ><label for=\"sk-estimator-id-40\" class=\"sk-toggleable__label fitted sk-toggleable__label-arrow fitted\">&nbsp;OrdinalEncoder<a class=\"sk-estimator-doc-link fitted\" rel=\"noreferrer\" target=\"_blank\" href=\"https://scikit-learn.org/1.4/modules/generated/sklearn.preprocessing.OrdinalEncoder.html\">?<span>Documentation for OrdinalEncoder</span></a></label><div class=\"sk-toggleable__content fitted\"><pre>OrdinalEncoder()</pre></div> </div></div></div></div></div><div class=\"sk-parallel-item\"><div class=\"sk-item\"><div class=\"sk-label-container\"><div class=\"sk-label fitted sk-toggleable\"><input class=\"sk-toggleable__control sk-hidden--visually\" id=\"sk-estimator-id-41\" type=\"checkbox\" ><label for=\"sk-estimator-id-41\" class=\"sk-toggleable__label fitted sk-toggleable__label-arrow fitted\">sorted_variables</label><div class=\"sk-toggleable__content fitted\"><pre>[&#x27;education&#x27;, &#x27;marital&#x27;, &#x27;poutcome&#x27;]</pre></div> </div></div><div class=\"sk-serial\"><div class=\"sk-item\"><div class=\"sk-serial\"><div class=\"sk-item\"><div class=\"sk-estimator fitted sk-toggleable\"><input class=\"sk-toggleable__control sk-hidden--visually\" id=\"sk-estimator-id-42\" type=\"checkbox\" ><label for=\"sk-estimator-id-42\" class=\"sk-toggleable__label fitted sk-toggleable__label-arrow fitted\">&nbsp;OrdinalEncoder<a class=\"sk-estimator-doc-link fitted\" rel=\"noreferrer\" target=\"_blank\" href=\"https://scikit-learn.org/1.4/modules/generated/sklearn.preprocessing.OrdinalEncoder.html\">?<span>Documentation for OrdinalEncoder</span></a></label><div class=\"sk-toggleable__content fitted\"><pre>OrdinalEncoder()</pre></div> </div></div><div class=\"sk-item\"><div class=\"sk-estimator fitted sk-toggleable\"><input class=\"sk-toggleable__control sk-hidden--visually\" id=\"sk-estimator-id-43\" type=\"checkbox\" ><label for=\"sk-estimator-id-43\" class=\"sk-toggleable__label fitted sk-toggleable__label-arrow fitted\">&nbsp;MinMaxScaler<a class=\"sk-estimator-doc-link fitted\" rel=\"noreferrer\" target=\"_blank\" href=\"https://scikit-learn.org/1.4/modules/generated/sklearn.preprocessing.MinMaxScaler.html\">?<span>Documentation for MinMaxScaler</span></a></label><div class=\"sk-toggleable__content fitted\"><pre>MinMaxScaler()</pre></div> </div></div></div></div></div></div></div><div class=\"sk-parallel-item\"><div class=\"sk-item\"><div class=\"sk-label-container\"><div class=\"sk-label fitted sk-toggleable\"><input class=\"sk-toggleable__control sk-hidden--visually\" id=\"sk-estimator-id-44\" type=\"checkbox\" ><label for=\"sk-estimator-id-44\" class=\"sk-toggleable__label fitted sk-toggleable__label-arrow fitted\">unsorted_variables</label><div class=\"sk-toggleable__content fitted\"><pre>[&#x27;job&#x27;, &#x27;contact&#x27;]</pre></div> </div></div><div class=\"sk-serial\"><div class=\"sk-item\"><div class=\"sk-estimator fitted sk-toggleable\"><input class=\"sk-toggleable__control sk-hidden--visually\" id=\"sk-estimator-id-45\" type=\"checkbox\" ><label for=\"sk-estimator-id-45\" class=\"sk-toggleable__label fitted sk-toggleable__label-arrow fitted\">&nbsp;OneHotEncoder<a class=\"sk-estimator-doc-link fitted\" rel=\"noreferrer\" target=\"_blank\" href=\"https://scikit-learn.org/1.4/modules/generated/sklearn.preprocessing.OneHotEncoder.html\">?<span>Documentation for OneHotEncoder</span></a></label><div class=\"sk-toggleable__content fitted\"><pre>OneHotEncoder()</pre></div> </div></div></div></div></div></div></div></div></div></div><div class=\"sk-parallel-item\"><div class=\"sk-item\"><div class=\"sk-label-container\"><div class=\"sk-label fitted sk-toggleable\"><input class=\"sk-toggleable__control sk-hidden--visually\" id=\"sk-estimator-id-46\" type=\"checkbox\" ><label for=\"sk-estimator-id-46\" class=\"sk-toggleable__label fitted sk-toggleable__label-arrow fitted\">others</label><div class=\"sk-toggleable__content fitted\"><pre>[&#x27;campaign&#x27;, &#x27;pdays&#x27;, &#x27;previous&#x27;]</pre></div> </div></div><div class=\"sk-serial\"><div class=\"sk-item\"><div class=\"sk-estimator fitted sk-toggleable\"><input class=\"sk-toggleable__control sk-hidden--visually\" id=\"sk-estimator-id-47\" type=\"checkbox\" ><label for=\"sk-estimator-id-47\" class=\"sk-toggleable__label fitted sk-toggleable__label-arrow fitted\">&nbsp;FunctionTransformer<a class=\"sk-estimator-doc-link fitted\" rel=\"noreferrer\" target=\"_blank\" href=\"https://scikit-learn.org/1.4/modules/generated/sklearn.preprocessing.FunctionTransformer.html\">?<span>Documentation for FunctionTransformer</span></a></label><div class=\"sk-toggleable__content fitted\"><pre>FunctionTransformer(feature_names_out=&#x27;one-to-one&#x27;)</pre></div> </div></div></div></div></div></div></div><div class=\"sk-item\"><div class=\"sk-estimator fitted sk-toggleable\"><input class=\"sk-toggleable__control sk-hidden--visually\" id=\"sk-estimator-id-48\" type=\"checkbox\" ><label for=\"sk-estimator-id-48\" class=\"sk-toggleable__label fitted sk-toggleable__label-arrow fitted\">XGBClassifier</label><div class=\"sk-toggleable__content fitted\"><pre>XGBClassifier(base_score=None, booster=&#x27;gbtree&#x27;, callbacks=None,\n",
       "              colsample_bylevel=None, colsample_bynode=None,\n",
       "              colsample_bytree=None, device=None, early_stopping_rounds=None,\n",
       "              enable_categorical=False, eta=0.10987358313376537,\n",
       "              eval_metric=None, feature_types=None, gamma=None,\n",
       "              grow_policy=None, importance_type=None,\n",
       "              interaction_constraints=None, learning_rate=None, max_bin=None,\n",
       "              max_cat_threshold=None, max_cat_to_onehot=None,\n",
       "              max_delta_step=1.446953199095078, max_depth=4, max_leaves=None,\n",
       "              min_child_weight=1.666061864206202, missing=nan,\n",
       "              monotone_constraints=None, multi_strategy=None, n_estimators=None,\n",
       "              n_jobs=None, num_parallel_tree=None, ...)</pre></div> </div></div></div></div></div></div>"
      ],
      "text/plain": [
       "Pipeline(steps=[('preprocessor',\n",
       "                 ColumnTransformer(transformers=[('num',\n",
       "                                                  ColumnTransformer(transformers=[('duration',\n",
       "                                                                                   PowerTransformer(),\n",
       "                                                                                   ['duration']),\n",
       "                                                                                  ('age',\n",
       "                                                                                   Pipeline(steps=[('age_power_transform',\n",
       "                                                                                                    PowerTransformer(method='box-cox')),\n",
       "                                                                                                   ('age_function_transform',\n",
       "                                                                                                    FunctionTransformer(feature_names_out='one-to-one',\n",
       "                                                                                                                        func=<function get_numerical_features_transf...\n",
       "                               feature_types=None, gamma=None, grow_policy=None,\n",
       "                               importance_type=None,\n",
       "                               interaction_constraints=None, learning_rate=None,\n",
       "                               max_bin=None, max_cat_threshold=None,\n",
       "                               max_cat_to_onehot=None,\n",
       "                               max_delta_step=1.446953199095078, max_depth=4,\n",
       "                               max_leaves=None,\n",
       "                               min_child_weight=1.666061864206202, missing=nan,\n",
       "                               monotone_constraints=None, multi_strategy=None,\n",
       "                               n_estimators=None, n_jobs=None,\n",
       "                               num_parallel_tree=None, ...))])"
      ]
     },
     "execution_count": 29,
     "metadata": {},
     "output_type": "execute_result"
    }
   ],
   "source": [
    "clf.fit(X_train,y_train)"
   ]
  },
  {
   "cell_type": "markdown",
   "metadata": {},
   "source": [
    "## Dalex"
   ]
  },
  {
   "cell_type": "code",
   "execution_count": 30,
   "metadata": {},
   "outputs": [],
   "source": [
    "import dalex as dx\n"
   ]
  },
  {
   "cell_type": "code",
   "execution_count": 31,
   "metadata": {},
   "outputs": [
    {
     "name": "stdout",
     "output_type": "stream",
     "text": [
      "Preparation of a new explainer is initiated\n",
      "\n",
      "  -> data              : 724 rows 16 cols\n",
      "  -> target variable   : Parameter 'y' was a pandas.Series. Converted to a numpy.ndarray.\n",
      "  -> target variable   : 724 values\n",
      "  -> model_class       : xgboost.sklearn.XGBClassifier (default)\n",
      "  -> label             : Not specified, model's class short name will be used. (default)\n",
      "  -> predict function  : <function yhat_proba_default at 0x7ea9db372020> will be used (default)\n",
      "  -> predict function  : Accepts only pandas.DataFrame, numpy.ndarray causes problems.\n",
      "  -> predicted values  : min = 0.00051, mean = 0.214, max = 0.976\n",
      "  -> model type        : classification will be used (default)\n",
      "  -> residual function : difference between y and yhat (default)\n",
      "  -> residuals         : min = -0.951, mean = -0.0993, max = 0.999\n",
      "  -> model_info        : package sklearn\n",
      "\n",
      "A new explainer has been created!\n"
     ]
    }
   ],
   "source": [
    "exp = dx.Explainer(clf, X_test, y_test)"
   ]
  },
  {
   "cell_type": "code",
   "execution_count": 32,
   "metadata": {},
   "outputs": [
    {
     "data": {
      "text/html": [
       "<div>\n",
       "<style scoped>\n",
       "    .dataframe tbody tr th:only-of-type {\n",
       "        vertical-align: middle;\n",
       "    }\n",
       "\n",
       "    .dataframe tbody tr th {\n",
       "        vertical-align: top;\n",
       "    }\n",
       "\n",
       "    .dataframe thead th {\n",
       "        text-align: right;\n",
       "    }\n",
       "</style>\n",
       "<table border=\"1\" class=\"dataframe\">\n",
       "  <thead>\n",
       "    <tr style=\"text-align: right;\">\n",
       "      <th></th>\n",
       "      <th>recall</th>\n",
       "      <th>precision</th>\n",
       "      <th>f1</th>\n",
       "      <th>accuracy</th>\n",
       "      <th>auc</th>\n",
       "    </tr>\n",
       "  </thead>\n",
       "  <tbody>\n",
       "    <tr>\n",
       "      <th>XGBClassifier</th>\n",
       "      <td>0.686747</td>\n",
       "      <td>0.459677</td>\n",
       "      <td>0.550725</td>\n",
       "      <td>0.871547</td>\n",
       "      <td>0.904066</td>\n",
       "    </tr>\n",
       "  </tbody>\n",
       "</table>\n",
       "</div>"
      ],
      "text/plain": [
       "                 recall  precision        f1  accuracy       auc\n",
       "XGBClassifier  0.686747   0.459677  0.550725  0.871547  0.904066"
      ]
     },
     "execution_count": 32,
     "metadata": {},
     "output_type": "execute_result"
    }
   ],
   "source": [
    "mp = exp.model_performance(model_type = 'classification')\n",
    "mp.result"
   ]
  },
  {
   "cell_type": "markdown",
   "metadata": {},
   "source": [
    "### ROC "
   ]
  },
  {
   "cell_type": "code",
   "execution_count": 33,
   "metadata": {},
   "outputs": [
    {
     "data": {
      "application/vnd.plotly.v1+json": {
       "config": {
        "plotlyServerURL": "https://plot.ly"
       },
       "data": [
        {
         "line": {
          "shape": "hv"
         },
         "marker": {
          "color": "#46bac2"
         },
         "name": "XGBClassifier",
         "type": "scatter",
         "x": [
          0,
          0,
          0,
          0.0062402496099844,
          0.0078003120124804995,
          0.0093603744149766,
          0.0109204368174727,
          0.0124804992199688,
          0.014040561622464899,
          0.014040561622464899,
          0.0171606864274571,
          0.0265210608424337,
          0.029641185647425898,
          0.0405616224648986,
          0.0452418096723869,
          0.0686427457098284,
          0.0686427457098284,
          0.0873634945397816,
          0.10764430577223089,
          0.12012480499219969,
          0.1294851794071763,
          0.1310452418096724,
          0.1435257410296412,
          0.1435257410296412,
          0.15756630265210608,
          0.16536661466458658,
          0.1856474258970359,
          0.18876755070202808,
          0.20124804992199688,
          0.20280811232449297,
          0.20436817472698907,
          0.20904836193447737,
          0.21840873634945399,
          0.21996879875195008,
          0.22620904836193448,
          0.23244929797191888,
          0.23400936037441497,
          0.24492979719188768,
          0.24804992199687986,
          0.26365054602184085,
          0.2745709828393136,
          0.27769110764430577,
          0.2792511700468019,
          0.28549141965678626,
          0.28861154446177845,
          0.30109204368174725,
          0.30265210608424337,
          0.3166926677067083,
          0.3338533541341654,
          0.33853354134165364,
          0.34009360374414976,
          0.3416536661466459,
          0.3463338533541342,
          0.37285491419656785,
          0.374414976599064,
          0.38221528861154447,
          0.38845553822152884,
          0.40093603744149764,
          0.40249609984399376,
          0.4118564742589704,
          0.42589703588143524,
          0.43369734789391573,
          0.43837753510140404,
          0.44305772230889234,
          0.46957878315132606,
          0.48049921996879874,
          0.4914196567862715,
          0.5101404056162246,
          0.5179407176287052,
          0.5210608424336973,
          0.5288611544461779,
          0.53198127925117,
          0.5335413416536662,
          0.5351014040561622,
          0.5382215288611545,
          0.5444617784711389,
          0.5491419656786272,
          0.5507020280811232,
          0.5569422776911076,
          0.5631825273010921,
          0.5678627145085804,
          0.5865834633385335,
          0.6365054602184087,
          0.6552262090483619,
          0.6645865834633385,
          0.7020280811232449,
          0.733229329173167,
          0.7441497659906396,
          0.7566302652106084,
          0.7597503900156006,
          0.8174726989079563,
          0.828393135725429,
          0.8923556942277691,
          0.9110764430577223,
          0.9204368174726989,
          0.9469578783151326,
          0.9547581903276131,
          0.9594383775351014,
          0.9672386895475819,
          0.968798751950078,
          0.9765990639625585,
          0.9859594383775351
         ],
         "y": [
          0,
          0.060240963855421686,
          0.024096385542168676,
          0.0963855421686747,
          0.12048192771084337,
          0.18072289156626506,
          0.1927710843373494,
          0.1927710843373494,
          0.25301204819277107,
          0.2289156626506024,
          0.2891566265060241,
          0.37349397590361444,
          0.37349397590361444,
          0.39759036144578314,
          0.43373493975903615,
          0.6385542168674698,
          0.6265060240963856,
          0.6746987951807228,
          0.6987951807228916,
          0.7228915662650602,
          0.7228915662650602,
          0.7469879518072289,
          0.7710843373493976,
          0.7590361445783133,
          0.8072289156626506,
          0.8192771084337349,
          0.8433734939759037,
          0.8433734939759037,
          0.8554216867469879,
          0.8554216867469879,
          0.8674698795180723,
          0.8674698795180723,
          0.891566265060241,
          0.891566265060241,
          0.9156626506024096,
          0.9156626506024096,
          0.9156626506024096,
          0.9156626506024096,
          0.9156626506024096,
          0.927710843373494,
          0.927710843373494,
          0.927710843373494,
          0.927710843373494,
          0.9397590361445783,
          0.9397590361445783,
          0.9518072289156626,
          0.9518072289156626,
          0.963855421686747,
          0.963855421686747,
          0.963855421686747,
          0.963855421686747,
          0.963855421686747,
          0.963855421686747,
          0.963855421686747,
          0.963855421686747,
          0.9759036144578314,
          0.9759036144578314,
          0.9759036144578314,
          0.9759036144578314,
          0.9759036144578314,
          0.9759036144578314,
          0.9759036144578314,
          0.9759036144578314,
          0.9759036144578314,
          0.9759036144578314,
          0.9759036144578314,
          0.9759036144578314,
          0.9879518072289156,
          0.9879518072289156,
          0.9879518072289156,
          0.9879518072289156,
          0.9879518072289156,
          0.9879518072289156,
          0.9879518072289156,
          0.9879518072289156,
          0.9879518072289156,
          0.9879518072289156,
          0.9879518072289156,
          0.9879518072289156,
          0.9879518072289156,
          0.9879518072289156,
          0.9879518072289156,
          0.9879518072289156,
          0.9879518072289156,
          0.9879518072289156,
          0.9879518072289156,
          0.9879518072289156,
          0.9879518072289156,
          0.9879518072289156,
          0.9879518072289156,
          0.9879518072289156,
          0.9879518072289156,
          0.9879518072289156,
          0.9879518072289156,
          0.9879518072289156,
          0.9879518072289156,
          0.9879518072289156,
          0.9879518072289156,
          0.9879518072289156,
          0.9879518072289156,
          0.9879518072289156,
          0.9879518072289156
         ]
        }
       ],
       "layout": {
        "font": {
         "color": "#371ea3"
        },
        "margin": {
         "b": 71,
         "r": 30,
         "t": 78
        },
        "template": {
         "data": {
          "scatter": [
           {
            "type": "scatter"
           }
          ]
         }
        },
        "title": {
         "text": "Receiver Operating Characteristic",
         "x": 0.15
        },
        "xaxis": {
         "automargin": true,
         "fixedrange": true,
         "gridwidth": 2,
         "tickcolor": "white",
         "ticklen": 10,
         "ticks": "outside",
         "title": {
          "text": "False positive rate"
         },
         "type": "linear",
         "zeroline": false
        },
        "yaxis": {
         "automargin": true,
         "fixedrange": true,
         "gridwidth": 2,
         "tickcolor": "white",
         "ticklen": 10,
         "ticks": "outside",
         "title": {
          "text": "True positive rate"
         },
         "type": "linear",
         "zeroline": false
        }
       }
      }
     },
     "metadata": {},
     "output_type": "display_data"
    }
   ],
   "source": [
    "mp.plot(geom=\"roc\")"
   ]
  },
  {
   "cell_type": "code",
   "execution_count": 34,
   "metadata": {},
   "outputs": [
    {
     "data": {
      "application/vnd.plotly.v1+json": {
       "config": {
        "plotlyServerURL": "https://plot.ly"
       },
       "data": [
        {
         "line": {
          "shape": "hv"
         },
         "marker": {
          "color": "#46bac2"
         },
         "name": "XGBClassifier",
         "type": "scatter",
         "x": [
          0.0005103243165649474,
          0.0007248457986861467,
          0.0007859288016334176,
          0.000915850221645087,
          0.0009435415267944336,
          0.0010116397170349956,
          0.0011061923578381538,
          0.0011193681275472045,
          0.0011458712397143245,
          0.0011566568864509463,
          0.001294638030230999,
          0.0013406849466264248,
          0.001419797888956964,
          0.0015374105423688889,
          0.0015622044447809458,
          0.0016801264137029648,
          0.001701102126389742,
          0.0017523090355098248,
          0.0018776818178594112,
          0.0019333104137331247,
          0.0019712659996002913,
          0.001975576626136899,
          0.001996993087232113,
          0.0020434055477380753,
          0.002045165281742811,
          0.0020789415575563908,
          0.0022465556394308805,
          0.0022502096835523844,
          0.0023490653838962317,
          0.0023532924242317677,
          0.0024710253346711397,
          0.00262972479686141,
          0.0027217345777899027,
          0.002737242728471756,
          0.0027431428898125887,
          0.0027514593675732613,
          0.0028168007265776396,
          0.0028255442157387733,
          0.002835937775671482,
          0.0028831143863499165,
          0.002999657765030861,
          0.0030834225472062826,
          0.003114561317488551,
          0.003134585451334715,
          0.0032183972653001547,
          0.003232426242902875,
          0.0032463695388287306,
          0.0032627489417791367,
          0.003299800679087639,
          0.003386347321793437,
          0.003483056789264083,
          0.003579671261832118,
          0.0035862410441040993,
          0.0036597317084670067,
          0.003670284990221262,
          0.003734155325219035,
          0.003767122281715274,
          0.0038441193755716085,
          0.0039451089687645435,
          0.003994846250861883,
          0.004001239780336618,
          0.004069992806762457,
          0.004133612848818302,
          0.00417186226695776,
          0.004183533135801554,
          0.0043039810843765736,
          0.0043449681252241135,
          0.004445358645170927,
          0.004533178173005581,
          0.004569194745272398,
          0.004585023503750563,
          0.0046257865615189075,
          0.004917113576084375,
          0.004978181794285774,
          0.004983652848750353,
          0.005017382558435202,
          0.005222235806286335,
          0.005339927040040493,
          0.005773533601313829,
          0.005791712086647749,
          0.005879716947674751,
          0.005952564068138599,
          0.005999735556542873,
          0.006109775044023991,
          0.006148252636194229,
          0.006179273594170809,
          0.0063023935072124004,
          0.0063169351778924465,
          0.00643180962651968,
          0.0065313177183270454,
          0.0065480805933475494,
          0.006719786208122969,
          0.006787478923797607,
          0.006947080604732037,
          0.007191302254796028,
          0.007353285327553749,
          0.007532094605267048,
          0.007537061348557472,
          0.0076330737210810184,
          0.007750486023724079,
          0.007800979074090719,
          0.007838073186576366,
          0.007922837510704994,
          0.008021731860935688,
          0.008131240494549274,
          0.008359042927622795,
          0.0086131002753973,
          0.008760567754507065,
          0.008984430693089962,
          0.00921835470944643,
          0.00927965808659792,
          0.009292665868997574,
          0.009328634478151798,
          0.009439695626497269,
          0.009518577717244625,
          0.009725499898195267,
          0.010081017389893532,
          0.010322943329811096,
          0.010573301464319229,
          0.010911782272160053,
          0.010926922783255577,
          0.010962704196572304,
          0.010966433212161064,
          0.011039846576750278,
          0.011078990995883942,
          0.011116365902125835,
          0.011272406205534935,
          0.011300592683255672,
          0.0114053413271904,
          0.01149839535355568,
          0.011578367091715336,
          0.011612123809754848,
          0.0116744264960289,
          0.011705243028700352,
          0.011828789487481117,
          0.01189215574413538,
          0.011917728930711746,
          0.012087060138583183,
          0.012152154929935932,
          0.012201182544231415,
          0.012303798459470272,
          0.012303822673857212,
          0.012305410578846931,
          0.01232687197625637,
          0.012393947690725327,
          0.012753705494105816,
          0.012910953722894192,
          0.0133125651627779,
          0.013383729383349419,
          0.013707227073609829,
          0.013709993101656437,
          0.013724145479500294,
          0.0138277942314744,
          0.013828410767018795,
          0.013852883130311966,
          0.013963796198368073,
          0.014181176200509071,
          0.014327923767268658,
          0.014347747899591923,
          0.014387277886271477,
          0.014687083661556244,
          0.014728170819580555,
          0.01485564187169075,
          0.01509212888777256,
          0.015180742368102074,
          0.01525748148560524,
          0.015718722715973854,
          0.01608435995876789,
          0.0162254236638546,
          0.016298441216349602,
          0.016433432698249817,
          0.016483714804053307,
          0.016871966421604156,
          0.01705465093255043,
          0.017056090757250786,
          0.017408275976777077,
          0.017438406124711037,
          0.017444707453250885,
          0.017750585451722145,
          0.017851028591394424,
          0.01796494796872139,
          0.018471185117959976,
          0.01861666515469551,
          0.0186925046145916,
          0.018815018236637115,
          0.018982237204909325,
          0.019219757989048958,
          0.0192224383354187,
          0.019406259059906006,
          0.019431274384260178,
          0.019775228574872017,
          0.019938616082072258,
          0.020246336236596107,
          0.020533666014671326,
          0.02053694613277912,
          0.020849524065852165,
          0.021045248955488205,
          0.021062934771180153,
          0.02148306742310524,
          0.021500540897250175,
          0.02179642580449581,
          0.021801989525556564,
          0.021994510665535927,
          0.022103406488895416,
          0.02211543545126915,
          0.022163091227412224,
          0.022207973524928093,
          0.02232084795832634,
          0.02258164808154106,
          0.022634357213974,
          0.02279311791062355,
          0.02294810116291046,
          0.023030728101730347,
          0.023393001407384872,
          0.023484403267502785,
          0.023723971098661423,
          0.02377995103597641,
          0.02390386164188385,
          0.02404572255909443,
          0.024056121706962585,
          0.024070607498288155,
          0.024312203750014305,
          0.024448096752166748,
          0.024448368698358536,
          0.024509621784090996,
          0.024660658091306686,
          0.02467183582484722,
          0.02476593293249607,
          0.02527609094977379,
          0.025613397359848022,
          0.025745969265699387,
          0.02582145854830742,
          0.0262148454785347,
          0.026244312524795532,
          0.026251230388879776,
          0.026345426216721535,
          0.026351334527134895,
          0.027338575571775436,
          0.02753390371799469,
          0.027607450261712074,
          0.027683597058057785,
          0.02775530517101288,
          0.028065389022231102,
          0.028202613815665245,
          0.02834736928343773,
          0.028705934062600136,
          0.029305746778845787,
          0.029556838795542717,
          0.029585739597678185,
          0.029689693823456764,
          0.02980867400765419,
          0.03007255494594574,
          0.03014448471367359,
          0.030352938920259476,
          0.03036605194211006,
          0.03060259111225605,
          0.031036922708153725,
          0.03110918030142784,
          0.03129609674215317,
          0.031571436673402786,
          0.031649939715862274,
          0.03194792568683624,
          0.0319712869822979,
          0.031976912170648575,
          0.03205146640539169,
          0.032232481986284256,
          0.032637376338243484,
          0.03292865306138992,
          0.03365311771631241,
          0.03390805050730705,
          0.03399483487010002,
          0.03426766395568848,
          0.035267964005470276,
          0.035341646522283554,
          0.03544013202190399,
          0.03554585948586464,
          0.03636230155825615,
          0.036797333508729935,
          0.036805033683776855,
          0.03726774826645851,
          0.037685658782720566,
          0.037955258041620255,
          0.03816862776875496,
          0.03826570138335228,
          0.038547806441783905,
          0.03866727650165558,
          0.03866741061210632,
          0.03875699266791344,
          0.0388987734913826,
          0.038907427340745926,
          0.03974940627813339,
          0.0398949533700943,
          0.039932623505592346,
          0.039981234818696976,
          0.0400928370654583,
          0.04018155857920647,
          0.040539227426052094,
          0.04071080684661865,
          0.04084315523505211,
          0.04097225144505501,
          0.040978848934173584,
          0.0412239208817482,
          0.042212601751089096,
          0.04235818609595299,
          0.042712341994047165,
          0.04318907484412193,
          0.04323633387684822,
          0.04376392811536789,
          0.04383602365851402,
          0.044032152742147446,
          0.04422722011804581,
          0.04441910982131958,
          0.044495705515146255,
          0.04490609094500542,
          0.04501758888363838,
          0.045339297503232956,
          0.04547087103128433,
          0.04571489989757538,
          0.046392012387514114,
          0.04713914543390274,
          0.04721729829907417,
          0.047247231006622314,
          0.0473456084728241,
          0.047798119485378265,
          0.047906674444675446,
          0.047997523099184036,
          0.04835498332977295,
          0.048706818372011185,
          0.049201030284166336,
          0.049668390303850174,
          0.04969177395105362,
          0.04988216236233711,
          0.04992413520812988,
          0.05001876875758171,
          0.05013716220855713,
          0.050301238894462585,
          0.05053171142935753,
          0.05101307854056358,
          0.05107596516609192,
          0.05110599473118782,
          0.05118894577026367,
          0.051418837159872055,
          0.0519343726336956,
          0.05232870206236839,
          0.052884552627801895,
          0.05312347039580345,
          0.05328340083360672,
          0.05351661518216133,
          0.053574029356241226,
          0.05371386557817459,
          0.054156847298145294,
          0.054335761815309525,
          0.05436819791793823,
          0.05505016818642616,
          0.055536992847919464,
          0.055648323148489,
          0.05604393780231476,
          0.05660475417971611,
          0.05678410083055496,
          0.05686667561531067,
          0.05722544342279434,
          0.057443585246801376,
          0.0576372928917408,
          0.058412063866853714,
          0.059734366834163666,
          0.06039276346564293,
          0.06052384525537491,
          0.06072481721639633,
          0.0611734464764595,
          0.06125130131840706,
          0.06126036494970322,
          0.06206109747290611,
          0.0629294291138649,
          0.06525063514709473,
          0.06558874994516373,
          0.06561372429132462,
          0.06582113355398178,
          0.06587782502174377,
          0.06657353043556213,
          0.06713299453258514,
          0.06714148819446564,
          0.06770095229148865,
          0.06785424798727036,
          0.06801635026931763,
          0.06859541684389114,
          0.06868049502372742,
          0.06980986148118973,
          0.07003527879714966,
          0.07018144428730011,
          0.07037360221147537,
          0.0714186429977417,
          0.07154634594917297,
          0.07337683439254761,
          0.07417024672031403,
          0.07439211010932922,
          0.07655872404575348,
          0.07674235105514526,
          0.07713556289672852,
          0.07797393202781677,
          0.07862512022256851,
          0.07922744005918503,
          0.08003215491771698,
          0.08049803972244263,
          0.08119454234838486,
          0.08317327499389648,
          0.08346167206764221,
          0.08375770598649979,
          0.08382394909858704,
          0.08489276468753815,
          0.0850004181265831,
          0.08562035113573074,
          0.08609095960855484,
          0.08610527217388153,
          0.08687534183263779,
          0.08785036206245422,
          0.08914738893508911,
          0.08943998068571091,
          0.08971767872571945,
          0.08983151614665985,
          0.09022234380245209,
          0.09184180200099945,
          0.09475646913051605,
          0.09540167450904846,
          0.09548377990722656,
          0.09690608084201813,
          0.09705733507871628,
          0.09736895561218262,
          0.0978253111243248,
          0.09841263294219971,
          0.10018666088581085,
          0.10048928111791611,
          0.1014123484492302,
          0.1027819961309433,
          0.10344172269105911,
          0.10351818054914474,
          0.10378692299127579,
          0.10508596897125244,
          0.10626409947872162,
          0.10647988319396973,
          0.10655271261930466,
          0.10657954216003418,
          0.10813932865858078,
          0.11168316006660461,
          0.11175861954689026,
          0.11293331533670425,
          0.11331792920827866,
          0.11394040286540985,
          0.11575593054294586,
          0.1162947565317154,
          0.11651236563920975,
          0.11667687445878983,
          0.1180732250213623,
          0.11823122948408127,
          0.11998641490936279,
          0.12035178393125534,
          0.12108761817216873,
          0.12219678610563278,
          0.1224871352314949,
          0.12520945072174072,
          0.12618164718151093,
          0.12669962644577026,
          0.13081735372543335,
          0.13688121736049652,
          0.13826419413089752,
          0.14005619287490845,
          0.14104551076889038,
          0.14227499067783356,
          0.14457127451896667,
          0.1451701521873474,
          0.14576822519302368,
          0.1457718014717102,
          0.14712843298912048,
          0.15057747066020966,
          0.15130428969860077,
          0.1544942557811737,
          0.15457242727279663,
          0.15468811988830566,
          0.15527379512786865,
          0.15598426759243011,
          0.15614508092403412,
          0.15752221643924713,
          0.15856635570526123,
          0.1593325138092041,
          0.1612192541360855,
          0.1612420678138733,
          0.16151463985443115,
          0.16411417722702026,
          0.16666275262832642,
          0.16724281013011932,
          0.16881924867630005,
          0.1711026430130005,
          0.17120233178138733,
          0.17529144883155823,
          0.17591072618961334,
          0.1771445870399475,
          0.18069756031036377,
          0.1812414526939392,
          0.18145331740379333,
          0.18231159448623657,
          0.18551021814346313,
          0.19008129835128784,
          0.1915680319070816,
          0.19179262220859528,
          0.19451186060905457,
          0.1948145180940628,
          0.19668301939964294,
          0.19796240329742432,
          0.20139841735363007,
          0.20455721020698547,
          0.20526215434074402,
          0.20702137053012848,
          0.20868192613124847,
          0.20960867404937744,
          0.21070152521133423,
          0.21094316244125366,
          0.21510133147239685,
          0.216512531042099,
          0.21806184947490692,
          0.21827475726604462,
          0.21915198862552643,
          0.22019270062446594,
          0.2225327044725418,
          0.22416625916957855,
          0.2268335521221161,
          0.22747111320495605,
          0.2278241515159607,
          0.23214751482009888,
          0.23223549127578735,
          0.2327226996421814,
          0.23438292741775513,
          0.23714344203472137,
          0.23765140771865845,
          0.23947679996490479,
          0.24126291275024414,
          0.24146215617656708,
          0.24243275821208954,
          0.2429857850074768,
          0.24564939737319946,
          0.24817414581775665,
          0.2499910295009613,
          0.25172048807144165,
          0.2561880350112915,
          0.2573937475681305,
          0.25847357511520386,
          0.2618108093738556,
          0.2644813358783722,
          0.2699640095233917,
          0.2706817388534546,
          0.27136367559432983,
          0.2749820947647095,
          0.27701112627983093,
          0.2772364616394043,
          0.2790358066558838,
          0.27937522530555725,
          0.2794695198535919,
          0.2839995324611664,
          0.286286324262619,
          0.28848448395729065,
          0.28927284479141235,
          0.29094499349594116,
          0.29143577814102173,
          0.2916555404663086,
          0.2922147512435913,
          0.2924517095088959,
          0.2942279279232025,
          0.2979075312614441,
          0.29797977209091187,
          0.2983499765396118,
          0.3002956509590149,
          0.3008471727371216,
          0.3031655550003052,
          0.305642694234848,
          0.30635935068130493,
          0.3072296977043152,
          0.3081756830215454,
          0.3117986023426056,
          0.3137243390083313,
          0.31592321395874023,
          0.31640511751174927,
          0.31743961572647095,
          0.3193003535270691,
          0.32119494676589966,
          0.3294844925403595,
          0.3308184742927551,
          0.33269625902175903,
          0.33357346057891846,
          0.33400923013687134,
          0.33953574299812317,
          0.34137454628944397,
          0.3445480465888977,
          0.3488929569721222,
          0.3548361659049988,
          0.35799440741539,
          0.359033465385437,
          0.3636552691459656,
          0.3642158508300781,
          0.3691340684890747,
          0.3700944483280182,
          0.37200820446014404,
          0.3789149820804596,
          0.38594499230384827,
          0.39316433668136597,
          0.3937675356864929,
          0.3975714445114136,
          0.3976134657859802,
          0.4001373052597046,
          0.40150564908981323,
          0.41181114315986633,
          0.41559314727783203,
          0.4174111783504486,
          0.4218112826347351,
          0.426491379737854,
          0.4286590814590454,
          0.43238580226898193,
          0.43307819962501526,
          0.43383505940437317,
          0.4344550669193268,
          0.44273197650909424,
          0.4434664249420166,
          0.44542017579078674,
          0.4506553113460541,
          0.45472511649131775,
          0.46869513392448425,
          0.4707106649875641,
          0.4805731475353241,
          0.48115962743759155,
          0.49021878838539124,
          0.49454641342163086,
          0.49457037448883057,
          0.49785318970680237,
          0.5005604922771454,
          0.5037656426429749,
          0.5072362422943115,
          0.5100514888763428,
          0.5126091837882996,
          0.5158306360244751,
          0.5165454149246216,
          0.518841028213501,
          0.5325825214385986,
          0.5341590046882629,
          0.5361315011978149,
          0.5366963148117065,
          0.5369566679000854,
          0.538545548915863,
          0.5484098196029663,
          0.5511525273323059,
          0.5654983520507812,
          0.5714484453201294,
          0.5749747455120087,
          0.5751562714576721,
          0.5829306244850159,
          0.5893494486808777,
          0.5895226299762726,
          0.6002055406570435,
          0.6006267666816711,
          0.6039834022521973,
          0.6049107313156128,
          0.6112218201160431,
          0.6188299059867859,
          0.6199278235435486,
          0.6254920363426208,
          0.6264387369155884,
          0.6354241371154785,
          0.6470563113689423,
          0.6551129817962646,
          0.6662511825561523,
          0.6673204302787781,
          0.6712711453437805,
          0.6819359958171844,
          0.6828802824020386,
          0.6841266751289368,
          0.6871569156646729,
          0.6912668943405151,
          0.6923770308494568,
          0.7023670971393585,
          0.7172786891460419,
          0.7211697101593018,
          0.725365400314331,
          0.7263407707214355,
          0.731232225894928,
          0.7426410913467407,
          0.7448151707649231,
          0.7540006041526794,
          0.7579153180122375,
          0.7600396126508713,
          0.7621364593505859,
          0.7707931399345398,
          0.7890304327011108,
          0.7914221286773682,
          0.8009149432182312,
          0.8016513586044312,
          0.8041151165962219,
          0.8075106739997864,
          0.8091099858283997,
          0.809188187122345,
          0.8137995004653931,
          0.8144538402557373,
          0.8204089999198914,
          0.8222450613975525,
          0.8301754593849182,
          0.8356384336948395,
          0.8362860679626465,
          0.8370040655136108,
          0.837200403213501,
          0.8391883969306946,
          0.8459365367889404,
          0.8551492691040039,
          0.8560006618499756,
          0.869491696357727,
          0.8705759197473526,
          0.8708624839782715,
          0.8931573629379272,
          0.8971111178398132,
          0.8976147174835205,
          0.9132784530520439,
          0.9265952706336975,
          0.9367150068283081,
          0.9390110969543457,
          0.9403899312019348,
          0.9437676668167114,
          0.9508486986160278,
          0.9537320844829082,
          0.9988871689420193
         ],
         "y": [
          0.9986187845303868,
          0.9972375690607734,
          0.9958563535911602,
          0.994475138121547,
          0.9930939226519337,
          0.9917127071823204,
          0.9903314917127072,
          0.988950276243094,
          0.9875690607734806,
          0.9861878453038674,
          0.9848066298342542,
          0.9834254143646409,
          0.9820441988950276,
          0.9806629834254144,
          0.9792817679558011,
          0.9779005524861879,
          0.9765193370165746,
          0.9751381215469613,
          0.9737569060773481,
          0.9723756906077348,
          0.9709944751381215,
          0.9696132596685083,
          0.968232044198895,
          0.9668508287292817,
          0.9654696132596685,
          0.9640883977900553,
          0.962707182320442,
          0.9613259668508287,
          0.9599447513812155,
          0.9585635359116023,
          0.9571823204419889,
          0.9558011049723757,
          0.9544198895027625,
          0.9530386740331491,
          0.9516574585635359,
          0.9502762430939227,
          0.9488950276243094,
          0.9475138121546961,
          0.9461325966850829,
          0.9447513812154696,
          0.9433701657458563,
          0.9419889502762431,
          0.9406077348066298,
          0.9392265193370166,
          0.9378453038674033,
          0.93646408839779,
          0.9350828729281768,
          0.9337016574585635,
          0.9323204419889503,
          0.930939226519337,
          0.9295580110497238,
          0.9281767955801105,
          0.9267955801104972,
          0.925414364640884,
          0.9240331491712708,
          0.9226519337016574,
          0.9212707182320442,
          0.919889502762431,
          0.9185082872928176,
          0.9171270718232044,
          0.9157458563535912,
          0.9143646408839778,
          0.9129834254143646,
          0.9116022099447514,
          0.9102209944751382,
          0.9088397790055248,
          0.9074585635359116,
          0.9060773480662984,
          0.9046961325966851,
          0.9033149171270718,
          0.9019337016574586,
          0.9005524861878453,
          0.899171270718232,
          0.8977900552486188,
          0.8964088397790055,
          0.8950276243093923,
          0.893646408839779,
          0.8922651933701657,
          0.8908839779005525,
          0.8895027624309393,
          0.888121546961326,
          0.8867403314917127,
          0.8853591160220995,
          0.8839779005524862,
          0.8825966850828729,
          0.8812154696132597,
          0.8798342541436464,
          0.8784530386740331,
          0.8770718232044199,
          0.8756906077348067,
          0.8743093922651933,
          0.8729281767955801,
          0.8715469613259669,
          0.8701657458563536,
          0.8687845303867403,
          0.8674033149171271,
          0.8660220994475138,
          0.8646408839779005,
          0.8632596685082873,
          0.861878453038674,
          0.8604972375690607,
          0.8591160220994475,
          0.8577348066298343,
          0.856353591160221,
          0.8549723756906078,
          0.8535911602209945,
          0.8522099447513812,
          0.850828729281768,
          0.8494475138121547,
          0.8480662983425414,
          0.8466850828729282,
          0.8453038674033149,
          0.8439226519337016,
          0.8425414364640884,
          0.8411602209944751,
          0.8397790055248618,
          0.8383977900552486,
          0.8370165745856354,
          0.8356353591160222,
          0.8342541436464088,
          0.8328729281767956,
          0.8314917127071824,
          0.830110497237569,
          0.8287292817679558,
          0.8273480662983426,
          0.8259668508287292,
          0.824585635359116,
          0.8232044198895028,
          0.8218232044198895,
          0.8204419889502762,
          0.819060773480663,
          0.8176795580110497,
          0.8162983425414365,
          0.8149171270718232,
          0.81353591160221,
          0.8121546961325967,
          0.8107734806629834,
          0.8093922651933702,
          0.8080110497237569,
          0.8066298342541436,
          0.8052486187845304,
          0.8038674033149171,
          0.8024861878453039,
          0.8011049723756907,
          0.7997237569060773,
          0.7983425414364641,
          0.7969613259668509,
          0.7955801104972375,
          0.7941988950276243,
          0.7928176795580111,
          0.7914364640883977,
          0.7900552486187845,
          0.7886740331491713,
          0.7872928176795579,
          0.7859116022099447,
          0.7845303867403315,
          0.7831491712707183,
          0.781767955801105,
          0.7803867403314917,
          0.7790055248618785,
          0.7776243093922652,
          0.7762430939226519,
          0.7748618784530387,
          0.7734806629834254,
          0.7720994475138121,
          0.7707182320441989,
          0.7693370165745856,
          0.7679558011049724,
          0.7665745856353592,
          0.7651933701657458,
          0.7638121546961326,
          0.7624309392265194,
          0.761049723756906,
          0.7596685082872928,
          0.7582872928176796,
          0.7569060773480663,
          0.755524861878453,
          0.7541436464088398,
          0.7527624309392265,
          0.7513812154696132,
          0.75,
          0.7486187845303867,
          0.7472375690607735,
          0.7458563535911602,
          0.744475138121547,
          0.7430939226519337,
          0.7417127071823204,
          0.7403314917127072,
          0.738950276243094,
          0.7375690607734806,
          0.7361878453038674,
          0.7348066298342542,
          0.7334254143646408,
          0.7320441988950277,
          0.7306629834254144,
          0.7292817679558011,
          0.7279005524861879,
          0.7265193370165746,
          0.7251381215469613,
          0.7237569060773481,
          0.7223756906077348,
          0.7209944751381215,
          0.7196132596685083,
          0.718232044198895,
          0.7168508287292817,
          0.7154696132596685,
          0.7140883977900552,
          0.7127071823204421,
          0.7113259668508287,
          0.7099447513812155,
          0.7085635359116023,
          0.7071823204419889,
          0.7058011049723757,
          0.7044198895027625,
          0.7030386740331491,
          0.7016574585635359,
          0.7002762430939227,
          0.6988950276243093,
          0.6975138121546962,
          0.6961325966850829,
          0.6947513812154695,
          0.6933701657458564,
          0.6919889502762431,
          0.6906077348066298,
          0.6892265193370166,
          0.6878453038674033,
          0.68646408839779,
          0.6850828729281768,
          0.6837016574585635,
          0.6823204419889503,
          0.680939226519337,
          0.6795580110497237,
          0.6781767955801106,
          0.6767955801104972,
          0.675414364640884,
          0.6740331491712708,
          0.6726519337016574,
          0.6712707182320442,
          0.669889502762431,
          0.6685082872928176,
          0.6671270718232044,
          0.6657458563535912,
          0.6643646408839778,
          0.6629834254143646,
          0.6616022099447514,
          0.660220994475138,
          0.6588397790055249,
          0.6574585635359116,
          0.6560773480662984,
          0.6546961325966851,
          0.6533149171270718,
          0.6519337016574586,
          0.6505524861878453,
          0.649171270718232,
          0.6477900552486188,
          0.6464088397790055,
          0.6450276243093922,
          0.6436464088397791,
          0.6422651933701657,
          0.6408839779005524,
          0.6395027624309393,
          0.638121546961326,
          0.6367403314917127,
          0.6353591160220995,
          0.6339779005524862,
          0.6325966850828729,
          0.6312154696132597,
          0.6298342541436464,
          0.6284530386740331,
          0.6270718232044199,
          0.6256906077348066,
          0.6243093922651934,
          0.6229281767955801,
          0.6215469613259669,
          0.6201657458563536,
          0.6187845303867403,
          0.6174033149171271,
          0.6160220994475138,
          0.6146408839779005,
          0.6132596685082873,
          0.611878453038674,
          0.6104972375690607,
          0.6091160220994476,
          0.6077348066298343,
          0.6063535911602209,
          0.6049723756906078,
          0.6035911602209945,
          0.6022099447513812,
          0.600828729281768,
          0.5994475138121547,
          0.5980662983425414,
          0.5966850828729282,
          0.5953038674033149,
          0.5939226519337016,
          0.5925414364640884,
          0.5911602209944751,
          0.589779005524862,
          0.5883977900552486,
          0.5870165745856354,
          0.5856353591160222,
          0.5842541436464088,
          0.5828729281767956,
          0.5814917127071824,
          0.580110497237569,
          0.5787292817679558,
          0.5773480662983426,
          0.5759668508287292,
          0.574585635359116,
          0.5732044198895028,
          0.5718232044198894,
          0.5704419889502763,
          0.569060773480663,
          0.5676795580110497,
          0.5662983425414365,
          0.5649171270718232,
          0.56353591160221,
          0.5621546961325967,
          0.5607734806629834,
          0.5593922651933702,
          0.5580110497237569,
          0.5566298342541436,
          0.5552486187845305,
          0.5538674033149171,
          0.5524861878453038,
          0.5511049723756907,
          0.5497237569060773,
          0.5483425414364641,
          0.5469613259668509,
          0.5455801104972375,
          0.5441988950276243,
          0.5428176795580111,
          0.5414364640883977,
          0.5400552486187845,
          0.5386740331491713,
          0.5372928176795579,
          0.5359116022099448,
          0.5345303867403315,
          0.5331491712707183,
          0.531767955801105,
          0.5303867403314917,
          0.5290055248618785,
          0.5276243093922652,
          0.5262430939226519,
          0.5248618784530387,
          0.5234806629834254,
          0.5220994475138121,
          0.5207182320441989,
          0.5193370165745856,
          0.5179558011049723,
          0.5165745856353592,
          0.5151933701657458,
          0.5138121546961326,
          0.5124309392265194,
          0.511049723756906,
          0.5096685082872928,
          0.5082872928176796,
          0.5069060773480663,
          0.505524861878453,
          0.5041436464088398,
          0.5027624309392265,
          0.5013812154696133,
          0.5,
          0.49861878453038677,
          0.49723756906077343,
          0.4958563535911602,
          0.494475138121547,
          0.49309392265193375,
          0.4917127071823204,
          0.4903314917127072,
          0.48895027624309395,
          0.4875690607734806,
          0.4861878453038674,
          0.48480662983425415,
          0.4834254143646409,
          0.4820441988950276,
          0.48066298342541436,
          0.47928176795580113,
          0.4779005524861878,
          0.47651933701657456,
          0.47513812154696133,
          0.4737569060773481,
          0.47237569060773477,
          0.47099447513812154,
          0.4696132596685083,
          0.4682320441988951,
          0.46685082872928174,
          0.4654696132596685,
          0.4640883977900553,
          0.46270718232044195,
          0.4613259668508287,
          0.4599447513812155,
          0.45856353591160226,
          0.4571823204419889,
          0.4558011049723757,
          0.45441988950276246,
          0.4530386740331491,
          0.4516574585635359,
          0.45027624309392267,
          0.44889502762430944,
          0.4475138121546961,
          0.44613259668508287,
          0.44475138121546964,
          0.4433701657458563,
          0.4419889502762431,
          0.44060773480662985,
          0.4392265193370166,
          0.4378453038674033,
          0.43646408839779005,
          0.4350828729281768,
          0.4337016574585635,
          0.43232044198895025,
          0.430939226519337,
          0.4295580110497238,
          0.42817679558011046,
          0.42679558011049723,
          0.425414364640884,
          0.4240331491712708,
          0.42265193370165743,
          0.4212707182320442,
          0.419889502762431,
          0.41850828729281764,
          0.4171270718232044,
          0.4157458563535912,
          0.41436464088397795,
          0.4129834254143646,
          0.4116022099447514,
          0.41022099447513816,
          0.4088397790055248,
          0.4074585635359116,
          0.40607734806629836,
          0.40469613259668513,
          0.4033149171270718,
          0.40193370165745856,
          0.40055248618784534,
          0.399171270718232,
          0.39779005524861877,
          0.39640883977900554,
          0.3950276243093923,
          0.39364640883977897,
          0.39226519337016574,
          0.3908839779005525,
          0.3895027624309392,
          0.38812154696132595,
          0.3867403314917127,
          0.3853591160220995,
          0.38397790055248615,
          0.3825966850828729,
          0.3812154696132597,
          0.37983425414364635,
          0.3784530386740331,
          0.3770718232044199,
          0.37569060773480667,
          0.37430939226519333,
          0.3729281767955801,
          0.3715469613259669,
          0.37016574585635365,
          0.3687845303867403,
          0.3674033149171271,
          0.36602209944751385,
          0.3646408839779005,
          0.3632596685082873,
          0.36187845303867405,
          0.3604972375690608,
          0.3591160220994475,
          0.35773480662983426,
          0.35635359116022103,
          0.3549723756906077,
          0.35359116022099446,
          0.35220994475138123,
          0.350828729281768,
          0.34944751381215466,
          0.34806629834254144,
          0.3466850828729282,
          0.34530386740331487,
          0.34392265193370164,
          0.3425414364640884,
          0.3411602209944752,
          0.33977900552486184,
          0.3383977900552486,
          0.3370165745856354,
          0.33563535911602205,
          0.3342541436464088,
          0.3328729281767956,
          0.33149171270718236,
          0.330110497237569,
          0.3287292817679558,
          0.32734806629834257,
          0.3259668508287292,
          0.324585635359116,
          0.32320441988950277,
          0.32182320441988954,
          0.3204419889502762,
          0.319060773480663,
          0.31767955801104975,
          0.3162983425414365,
          0.3149171270718232,
          0.31353591160220995,
          0.3121546961325967,
          0.3107734806629834,
          0.30939226519337015,
          0.3080110497237569,
          0.3066298342541437,
          0.30524861878453036,
          0.30386740331491713,
          0.3024861878453039,
          0.30110497237569056,
          0.29972375690607733,
          0.2983425414364641,
          0.2969613259668509,
          0.29558011049723754,
          0.2941988950276243,
          0.2928176795580111,
          0.29143646408839774,
          0.2900552486187845,
          0.2886740331491713,
          0.28729281767955805,
          0.2859116022099447,
          0.2845303867403315,
          0.28314917127071826,
          0.2817679558011049,
          0.2803867403314917,
          0.27900552486187846,
          0.27762430939226523,
          0.2762430939226519,
          0.27486187845303867,
          0.27348066298342544,
          0.2720994475138122,
          0.27071823204419887,
          0.26933701657458564,
          0.2679558011049724,
          0.2665745856353591,
          0.26519337016574585,
          0.2638121546961326,
          0.2624309392265194,
          0.26104972375690605,
          0.2596685082872928,
          0.2582872928176796,
          0.25690607734806625,
          0.255524861878453,
          0.2541436464088398,
          0.25276243093922657,
          0.25138121546961323,
          0.25,
          0.24861878453038677,
          0.24723756906077343,
          0.2458563535911602,
          0.24447513812154698,
          0.24309392265193375,
          0.2417127071823204,
          0.24033149171270718,
          0.23895027624309395,
          0.2375690607734806,
          0.23618784530386738,
          0.23480662983425415,
          0.23342541436464093,
          0.2320441988950276,
          0.23066298342541436,
          0.22928176795580113,
          0.2279005524861878,
          0.22651933701657456,
          0.22513812154696133,
          0.2237569060773481,
          0.22237569060773477,
          0.22099447513812154,
          0.2196132596685083,
          0.21823204419889508,
          0.21685082872928174,
          0.2154696132596685,
          0.21408839779005528,
          0.21270718232044195,
          0.21132596685082872,
          0.2099447513812155,
          0.20856353591160226,
          0.20718232044198892,
          0.2058011049723757,
          0.20441988950276246,
          0.20303867403314912,
          0.2016574585635359,
          0.20027624309392267,
          0.19889502762430944,
          0.1975138121546961,
          0.19613259668508287,
          0.19475138121546964,
          0.1933701657458563,
          0.19198895027624308,
          0.19060773480662985,
          0.18922651933701662,
          0.18784530386740328,
          0.18646408839779005,
          0.18508287292817682,
          0.18370165745856348,
          0.18232044198895025,
          0.18093922651933703,
          0.1795580110497238,
          0.17817679558011046,
          0.17679558011049723,
          0.175414364640884,
          0.17403314917127077,
          0.17265193370165743,
          0.1712707182320442,
          0.16988950276243098,
          0.16850828729281764,
          0.1671270718232044,
          0.16436464088397795,
          0.1629834254143646,
          0.16160220994475138,
          0.16022099447513816,
          0.15883977900552482,
          0.1574585635359116,
          0.15607734806629836,
          0.15469613259668513,
          0.1533149171270718,
          0.15193370165745856,
          0.15055248618784534,
          0.149171270718232,
          0.14779005524861877,
          0.14640883977900554,
          0.1450276243093923,
          0.14364640883977897,
          0.14226519337016574,
          0.14088397790055252,
          0.13950276243093918,
          0.13812154696132595,
          0.13674033149171272,
          0.1353591160220995,
          0.13397790055248615,
          0.13259668508287292,
          0.1312154696132597,
          0.12983425414364635,
          0.12845303867403313,
          0.1270718232044199,
          0.12569060773480667,
          0.12430939226519333,
          0.1229281767955801,
          0.12154696132596687,
          0.12016574585635365,
          0.1187845303867403,
          0.11740331491712708,
          0.11602209944751385,
          0.11464088397790051,
          0.11325966850828728,
          0.11187845303867405,
          0.11049723756906082,
          0.10911602209944748,
          0.10773480662983426,
          0.10635359116022103,
          0.10497237569060769,
          0.10359116022099446,
          0.10220994475138123,
          0.100828729281768,
          0.09944751381215466,
          0.09806629834254144,
          0.09668508287292821,
          0.09530386740331487,
          0.09392265193370164,
          0.09254143646408841,
          0.09116022099447518,
          0.08977900552486184,
          0.08839779005524862,
          0.08701657458563539,
          0.08563535911602205,
          0.08425414364640882,
          0.08287292817679559,
          0.08149171270718236,
          0.08011049723756902,
          0.0787292817679558,
          0.07734806629834257,
          0.07596685082872923,
          0.074585635359116,
          0.07320441988950277,
          0.07182320441988954,
          0.0704419889502762,
          0.06906077348066297,
          0.06767955801104975,
          0.06629834254143652,
          0.06491712707182318,
          0.06353591160220995,
          0.06215469613259672,
          0.06077348066298338,
          0.05939226519337015,
          0.058011049723756924,
          0.056629834254143696,
          0.05524861878453036,
          0.05386740331491713,
          0.0524861878453039,
          0.05110497237569056,
          0.04972375690607733,
          0.048342541436464104,
          0.046961325966850875,
          0.045580110497237536,
          0.04419889502762431,
          0.04281767955801108,
          0.04143646408839774,
          0.04005524861878451,
          0.03867403314917128,
          0.037292817679558055,
          0.035911602209944715,
          0.03453038674033149,
          0.03314917127071826,
          0.03176795580110492,
          0.03038674033149169,
          0.029005524861878462,
          0.027624309392265234,
          0.026243093922651894,
          0.024861878453038666,
          0.023480662983425438,
          0.02209944751381221,
          0.02071823204419887,
          0.01933701657458564,
          0.017955801104972413,
          0.016574585635359074,
          0.015193370165745845,
          0.013812154696132617,
          0.012430939226519389,
          0.011049723756906049,
          0.00966850828729282,
          0.008287292817679592,
          0.006906077348066253,
          0.0055248618784530246,
          0.004143646408839796,
          0.002762430939226568,
          0.0013812154696132284,
          0
         ]
        }
       ],
       "layout": {
        "font": {
         "color": "#371ea3"
        },
        "margin": {
         "b": 71,
         "r": 30,
         "t": 78
        },
        "template": {
         "data": {
          "scatter": [
           {
            "type": "scatter"
           }
          ]
         }
        },
        "title": {
         "text": "Reverse cumulative distribution of |residual|",
         "x": 0.15
        },
        "xaxis": {
         "automargin": true,
         "fixedrange": true,
         "gridwidth": 2,
         "tickcolor": "white",
         "ticklen": 10,
         "ticks": "outside",
         "title": {
          "text": "|residual|"
         },
         "type": "linear",
         "zeroline": false
        },
        "yaxis": {
         "automargin": true,
         "fixedrange": true,
         "gridwidth": 2,
         "tickcolor": "white",
         "tickformat": ",.0%",
         "ticklen": 10,
         "ticks": "outside",
         "type": "linear",
         "zeroline": false
        }
       }
      }
     },
     "metadata": {},
     "output_type": "display_data"
    }
   ],
   "source": [
    "mp.plot()"
   ]
  },
  {
   "cell_type": "markdown",
   "metadata": {},
   "source": [
    "### Feature importance"
   ]
  },
  {
   "cell_type": "code",
   "execution_count": 35,
   "metadata": {},
   "outputs": [
    {
     "data": {
      "text/html": [
       "<div>\n",
       "<style scoped>\n",
       "    .dataframe tbody tr th:only-of-type {\n",
       "        vertical-align: middle;\n",
       "    }\n",
       "\n",
       "    .dataframe tbody tr th {\n",
       "        vertical-align: top;\n",
       "    }\n",
       "\n",
       "    .dataframe thead th {\n",
       "        text-align: right;\n",
       "    }\n",
       "</style>\n",
       "<table border=\"1\" class=\"dataframe\">\n",
       "  <thead>\n",
       "    <tr style=\"text-align: right;\">\n",
       "      <th></th>\n",
       "      <th>variable</th>\n",
       "      <th>dropout_loss</th>\n",
       "      <th>label</th>\n",
       "    </tr>\n",
       "  </thead>\n",
       "  <tbody>\n",
       "    <tr>\n",
       "      <th>0</th>\n",
       "      <td>age</td>\n",
       "      <td>0.092314</td>\n",
       "      <td>XGBClassifier</td>\n",
       "    </tr>\n",
       "    <tr>\n",
       "      <th>1</th>\n",
       "      <td>marital</td>\n",
       "      <td>0.095542</td>\n",
       "      <td>XGBClassifier</td>\n",
       "    </tr>\n",
       "    <tr>\n",
       "      <th>2</th>\n",
       "      <td>_full_model_</td>\n",
       "      <td>0.095934</td>\n",
       "      <td>XGBClassifier</td>\n",
       "    </tr>\n",
       "    <tr>\n",
       "      <th>3</th>\n",
       "      <td>job</td>\n",
       "      <td>0.096201</td>\n",
       "      <td>XGBClassifier</td>\n",
       "    </tr>\n",
       "    <tr>\n",
       "      <th>4</th>\n",
       "      <td>campaign</td>\n",
       "      <td>0.096760</td>\n",
       "      <td>XGBClassifier</td>\n",
       "    </tr>\n",
       "    <tr>\n",
       "      <th>5</th>\n",
       "      <td>previous</td>\n",
       "      <td>0.096857</td>\n",
       "      <td>XGBClassifier</td>\n",
       "    </tr>\n",
       "    <tr>\n",
       "      <th>6</th>\n",
       "      <td>default</td>\n",
       "      <td>0.096985</td>\n",
       "      <td>XGBClassifier</td>\n",
       "    </tr>\n",
       "    <tr>\n",
       "      <th>7</th>\n",
       "      <td>loan</td>\n",
       "      <td>0.098090</td>\n",
       "      <td>XGBClassifier</td>\n",
       "    </tr>\n",
       "    <tr>\n",
       "      <th>8</th>\n",
       "      <td>housing</td>\n",
       "      <td>0.098243</td>\n",
       "      <td>XGBClassifier</td>\n",
       "    </tr>\n",
       "    <tr>\n",
       "      <th>9</th>\n",
       "      <td>education</td>\n",
       "      <td>0.098594</td>\n",
       "      <td>XGBClassifier</td>\n",
       "    </tr>\n",
       "    <tr>\n",
       "      <th>10</th>\n",
       "      <td>balance</td>\n",
       "      <td>0.098739</td>\n",
       "      <td>XGBClassifier</td>\n",
       "    </tr>\n",
       "    <tr>\n",
       "      <th>11</th>\n",
       "      <td>pdays</td>\n",
       "      <td>0.103225</td>\n",
       "      <td>XGBClassifier</td>\n",
       "    </tr>\n",
       "    <tr>\n",
       "      <th>12</th>\n",
       "      <td>poutcome</td>\n",
       "      <td>0.103519</td>\n",
       "      <td>XGBClassifier</td>\n",
       "    </tr>\n",
       "    <tr>\n",
       "      <th>13</th>\n",
       "      <td>contact</td>\n",
       "      <td>0.115977</td>\n",
       "      <td>XGBClassifier</td>\n",
       "    </tr>\n",
       "    <tr>\n",
       "      <th>14</th>\n",
       "      <td>date</td>\n",
       "      <td>0.140938</td>\n",
       "      <td>XGBClassifier</td>\n",
       "    </tr>\n",
       "    <tr>\n",
       "      <th>15</th>\n",
       "      <td>duration</td>\n",
       "      <td>0.333728</td>\n",
       "      <td>XGBClassifier</td>\n",
       "    </tr>\n",
       "    <tr>\n",
       "      <th>16</th>\n",
       "      <td>_baseline_</td>\n",
       "      <td>0.495853</td>\n",
       "      <td>XGBClassifier</td>\n",
       "    </tr>\n",
       "  </tbody>\n",
       "</table>\n",
       "</div>"
      ],
      "text/plain": [
       "        variable  dropout_loss          label\n",
       "0            age      0.092314  XGBClassifier\n",
       "1        marital      0.095542  XGBClassifier\n",
       "2   _full_model_      0.095934  XGBClassifier\n",
       "3            job      0.096201  XGBClassifier\n",
       "4       campaign      0.096760  XGBClassifier\n",
       "5       previous      0.096857  XGBClassifier\n",
       "6        default      0.096985  XGBClassifier\n",
       "7           loan      0.098090  XGBClassifier\n",
       "8        housing      0.098243  XGBClassifier\n",
       "9      education      0.098594  XGBClassifier\n",
       "10       balance      0.098739  XGBClassifier\n",
       "11         pdays      0.103225  XGBClassifier\n",
       "12      poutcome      0.103519  XGBClassifier\n",
       "13       contact      0.115977  XGBClassifier\n",
       "14          date      0.140938  XGBClassifier\n",
       "15      duration      0.333728  XGBClassifier\n",
       "16    _baseline_      0.495853  XGBClassifier"
      ]
     },
     "execution_count": 35,
     "metadata": {},
     "output_type": "execute_result"
    }
   ],
   "source": [
    "vi_grouped = exp.model_parts(variable_groups = {\n",
    "    'age': ['age'], \n",
    "    'job': ['job'], \n",
    "    'marital': ['marital'], \n",
    "    'education': ['education'], \n",
    "    'default': ['default'], \n",
    "    'balance': ['balance'], \n",
    "    'housing': ['housing'], \n",
    "    'loan': ['loan'], \n",
    "    'contact': ['contact'], \n",
    "    'date': ['day', 'month'], \n",
    "    'duration': ['duration'], \n",
    "    'campaign': ['campaign'], \n",
    "    'pdays': ['pdays'], \n",
    "    'previous': ['previous'], \n",
    "    'poutcome': ['poutcome']\n",
    "}\n",
    ")\n",
    "vi_grouped.result"
   ]
  },
  {
   "cell_type": "code",
   "execution_count": 36,
   "metadata": {},
   "outputs": [
    {
     "data": {
      "application/vnd.plotly.v1+json": {
       "config": {
        "displaylogo": false,
        "modeBarButtonsToRemove": [
         "sendDataToCloud",
         "lasso2d",
         "autoScale2d",
         "select2d",
         "zoom2d",
         "pan2d",
         "zoomIn2d",
         "zoomOut2d",
         "resetScale2d",
         "toggleSpikelines",
         "hoverCompareCartesian",
         "hoverClosestCartesian"
        ],
        "plotlyServerURL": "https://plot.ly",
        "staticPlot": false,
        "toImageButtonOptions": {
         "height": null,
         "width": null
        }
       },
       "data": [
        {
         "base": 0.09593443978723004,
         "hoverinfo": "text",
         "hoverlabel": {
          "bgcolor": "rgba(0,0,0,0.8)"
         },
         "hovertext": [
          "Model: XGBClassifier loss after<br>variable: duration is permuted: 0.334<br>Drop-out loss change: +0.238",
          "Model: XGBClassifier loss after<br>variable: date is permuted: 0.141<br>Drop-out loss change: +0.045",
          "Model: XGBClassifier loss after<br>variable: contact is permuted: 0.116<br>Drop-out loss change: +0.02",
          "Model: XGBClassifier loss after<br>variable: poutcome is permuted: 0.104<br>Drop-out loss change: +0.008",
          "Model: XGBClassifier loss after<br>variable: pdays is permuted: 0.103<br>Drop-out loss change: +0.007",
          "Model: XGBClassifier loss after<br>variable: balance is permuted: 0.099<br>Drop-out loss change: +0.003",
          "Model: XGBClassifier loss after<br>variable: education is permuted: 0.099<br>Drop-out loss change: +0.003",
          "Model: XGBClassifier loss after<br>variable: housing is permuted: 0.098<br>Drop-out loss change: +0.002",
          "Model: XGBClassifier loss after<br>variable: loan is permuted: 0.098<br>Drop-out loss change: +0.002",
          "Model: XGBClassifier loss after<br>variable: default is permuted: 0.097<br>Drop-out loss change: +0.001"
         ],
         "marker": {
          "color": "#46bac2"
         },
         "orientation": "h",
         "showlegend": false,
         "text": [
          "+0.238",
          "+0.045",
          "+0.02",
          "+0.008",
          "+0.007",
          "+0.003",
          "+0.003",
          "+0.002",
          "+0.002",
          "+0.001"
         ],
         "textposition": "outside",
         "type": "bar",
         "x": [
          0.23779392139541,
          0.045003101328872475,
          0.02004210288893489,
          0.0075841587880383365,
          0.0072909422400992685,
          0.0028043531379809555,
          0.002659624457267473,
          0.0023081405183918297,
          0.002155893464654307,
          0.0010506926301147995
         ],
         "xaxis": "x",
         "y": [
          "duration",
          "date",
          "contact",
          "poutcome",
          "pdays",
          "balance",
          "education",
          "housing",
          "loan",
          "default"
         ],
         "yaxis": "y"
        }
       ],
       "layout": {
        "annotations": [
         {
          "font": {
           "size": 16
          },
          "showarrow": false,
          "text": "XGBClassifier",
          "x": 0.5,
          "xanchor": "center",
          "xref": "paper",
          "y": 1,
          "yanchor": "bottom",
          "yref": "paper"
         },
         {
          "font": {
           "size": 16
          },
          "showarrow": false,
          "text": "drop-out loss",
          "x": 0.5,
          "xanchor": "center",
          "xref": "paper",
          "y": 0,
          "yanchor": "top",
          "yref": "paper",
          "yshift": -30
         }
        ],
        "font": {
         "color": "#371ea3"
        },
        "height": 383,
        "margin": {
         "b": 71,
         "r": 30,
         "t": 78
        },
        "shapes": [
         {
          "line": {
           "color": "#371ea3",
           "dash": "dot",
           "width": 1.5
          },
          "type": "line",
          "x0": 0.09593443978723004,
          "x1": 0.09593443978723004,
          "xref": "x",
          "y0": -1,
          "y1": 10,
          "yref": "y"
         }
        ],
        "template": {
         "data": {
          "scatter": [
           {
            "type": "scatter"
           }
          ]
         }
        },
        "title": {
         "text": "Variable Importance",
         "x": 0.15
        },
        "xaxis": {
         "anchor": "y",
         "automargin": true,
         "domain": [
          0,
          1
         ],
         "fixedrange": true,
         "gridwidth": 2,
         "range": [
          0.05610224047516119,
          0.36994046388361557
         ],
         "tickcolor": "white",
         "ticklen": 3,
         "ticks": "outside",
         "type": "linear",
         "zeroline": false
        },
        "yaxis": {
         "anchor": "x",
         "automargin": true,
         "autorange": "reversed",
         "domain": [
          0,
          1
         ],
         "fixedrange": true,
         "gridwidth": 2,
         "tickcolor": "white",
         "ticklen": 10,
         "ticks": "outside",
         "type": "category"
        }
       }
      }
     },
     "metadata": {},
     "output_type": "display_data"
    }
   ],
   "source": [
    "vi_grouped.plot()"
   ]
  },
  {
   "cell_type": "markdown",
   "metadata": {},
   "source": [
    "### Aggregated Profiles"
   ]
  },
  {
   "cell_type": "code",
   "execution_count": 14,
   "metadata": {},
   "outputs": [
    {
     "name": "stderr",
     "output_type": "stream",
     "text": [
      "Calculating ceteris paribus:   0%|          | 0/6 [00:00<?, ?it/s]/home/michal/Dokumenty/python_dodatkowy/lib/python3.11/site-packages/dalex/predict_explanations/_ceteris_paribus/utils.py:104: FutureWarning:\n",
      "\n",
      "Setting an item of incompatible dtype is deprecated and will raise in a future error of pandas. Value '[20.  20.6 21.2 ... 78.8 79.4 80. ]' has dtype incompatible with int64, please explicitly cast to a compatible dtype first.\n",
      "\n",
      "Calculating ceteris paribus:  17%|█▋        | 1/6 [00:00<00:01,  4.87it/s]/home/michal/Dokumenty/python_dodatkowy/lib/python3.11/site-packages/dalex/predict_explanations/_ceteris_paribus/utils.py:104: FutureWarning:\n",
      "\n",
      "Setting an item of incompatible dtype is deprecated and will raise in a future error of pandas. Value '[-1164.    -731.91  -299.82 ... 41180.82 41612.91 42045.  ]' has dtype incompatible with int64, please explicitly cast to a compatible dtype first.\n",
      "\n",
      "Calculating ceteris paribus:  33%|███▎      | 2/6 [00:00<00:00,  6.59it/s]/home/michal/Dokumenty/python_dodatkowy/lib/python3.11/site-packages/dalex/predict_explanations/_ceteris_paribus/utils.py:104: FutureWarning:\n",
      "\n",
      "Setting an item of incompatible dtype is deprecated and will raise in a future error of pandas. Value '[   5.     24.66   44.32 ... 1931.68 1951.34 1971.  ]' has dtype incompatible with int64, please explicitly cast to a compatible dtype first.\n",
      "\n",
      "Calculating ceteris paribus:  50%|█████     | 3/6 [00:00<00:00,  5.64it/s]/home/michal/Dokumenty/python_dodatkowy/lib/python3.11/site-packages/dalex/predict_explanations/_ceteris_paribus/utils.py:104: FutureWarning:\n",
      "\n",
      "Setting an item of incompatible dtype is deprecated and will raise in a future error of pandas. Value '[ 1.    1.49  1.98 ... 49.02 49.51 50.  ]' has dtype incompatible with int64, please explicitly cast to a compatible dtype first.\n",
      "\n",
      "Calculating ceteris paribus:  67%|██████▋   | 4/6 [00:00<00:00,  6.62it/s]/home/michal/Dokumenty/python_dodatkowy/lib/python3.11/site-packages/dalex/predict_explanations/_ceteris_paribus/utils.py:104: FutureWarning:\n",
      "\n",
      "Setting an item of incompatible dtype is deprecated and will raise in a future error of pandas. Value '[ -1.     7.09  15.18 ... 791.82 799.91 808.  ]' has dtype incompatible with int64, please explicitly cast to a compatible dtype first.\n",
      "\n",
      "Calculating ceteris paribus:  83%|████████▎ | 5/6 [00:00<00:00,  5.82it/s]/home/michal/Dokumenty/python_dodatkowy/lib/python3.11/site-packages/dalex/predict_explanations/_ceteris_paribus/utils.py:104: FutureWarning:\n",
      "\n",
      "Setting an item of incompatible dtype is deprecated and will raise in a future error of pandas. Value '[ 0.    0.19  0.38 ... 18.62 18.81 19.  ]' has dtype incompatible with int64, please explicitly cast to a compatible dtype first.\n",
      "\n",
      "Calculating ceteris paribus: 100%|██████████| 6/6 [00:00<00:00,  6.20it/s]\n",
      "Calculating ceteris paribus:   0%|          | 0/6 [00:00<?, ?it/s]/home/michal/Dokumenty/python_dodatkowy/lib/python3.11/site-packages/dalex/predict_explanations/_ceteris_paribus/utils.py:104: FutureWarning:\n",
      "\n",
      "Setting an item of incompatible dtype is deprecated and will raise in a future error of pandas. Value '[20.  20.6 21.2 ... 78.8 79.4 80. ]' has dtype incompatible with int64, please explicitly cast to a compatible dtype first.\n",
      "\n",
      "Calculating ceteris paribus:  17%|█▋        | 1/6 [00:00<00:00,  5.25it/s]/home/michal/Dokumenty/python_dodatkowy/lib/python3.11/site-packages/dalex/predict_explanations/_ceteris_paribus/utils.py:104: FutureWarning:\n",
      "\n",
      "Setting an item of incompatible dtype is deprecated and will raise in a future error of pandas. Value '[-1164.    -731.91  -299.82 ... 41180.82 41612.91 42045.  ]' has dtype incompatible with int64, please explicitly cast to a compatible dtype first.\n",
      "\n",
      "Calculating ceteris paribus:  33%|███▎      | 2/6 [00:00<00:00,  7.22it/s]/home/michal/Dokumenty/python_dodatkowy/lib/python3.11/site-packages/dalex/predict_explanations/_ceteris_paribus/utils.py:104: FutureWarning:\n",
      "\n",
      "Setting an item of incompatible dtype is deprecated and will raise in a future error of pandas. Value '[   5.     24.66   44.32 ... 1931.68 1951.34 1971.  ]' has dtype incompatible with int64, please explicitly cast to a compatible dtype first.\n",
      "\n",
      "Calculating ceteris paribus:  50%|█████     | 3/6 [00:00<00:00,  6.02it/s]/home/michal/Dokumenty/python_dodatkowy/lib/python3.11/site-packages/dalex/predict_explanations/_ceteris_paribus/utils.py:104: FutureWarning:\n",
      "\n",
      "Setting an item of incompatible dtype is deprecated and will raise in a future error of pandas. Value '[ 1.    1.49  1.98 ... 49.02 49.51 50.  ]' has dtype incompatible with int64, please explicitly cast to a compatible dtype first.\n",
      "\n",
      "Calculating ceteris paribus:  67%|██████▋   | 4/6 [00:00<00:00,  7.14it/s]/home/michal/Dokumenty/python_dodatkowy/lib/python3.11/site-packages/dalex/predict_explanations/_ceteris_paribus/utils.py:104: FutureWarning:\n",
      "\n",
      "Setting an item of incompatible dtype is deprecated and will raise in a future error of pandas. Value '[ -1.     7.09  15.18 ... 791.82 799.91 808.  ]' has dtype incompatible with int64, please explicitly cast to a compatible dtype first.\n",
      "\n",
      "Calculating ceteris paribus:  83%|████████▎ | 5/6 [00:00<00:00,  6.28it/s]/home/michal/Dokumenty/python_dodatkowy/lib/python3.11/site-packages/dalex/predict_explanations/_ceteris_paribus/utils.py:104: FutureWarning:\n",
      "\n",
      "Setting an item of incompatible dtype is deprecated and will raise in a future error of pandas. Value '[ 0.    0.19  0.38 ... 18.62 18.81 19.  ]' has dtype incompatible with int64, please explicitly cast to a compatible dtype first.\n",
      "\n",
      "Calculating ceteris paribus: 100%|██████████| 6/6 [00:00<00:00,  6.12it/s]\n",
      "Calculating accumulated dependency: 100%|██████████| 6/6 [00:00<00:00, 16.30it/s]\n"
     ]
    }
   ],
   "source": [
    "num_var = ['age', 'balance', 'duration', 'campaign', 'pdays',\n",
    "       'previous']\n",
    "pdp_num = exp.model_profile(type = 'partial', variables=num_var, label = \"pdp\", N = 500)\n",
    "\n",
    "ale_num = exp.model_profile(type = 'accumulated', variables=num_var, label=\"ale\", N = 500)"
   ]
  },
  {
   "cell_type": "code",
   "execution_count": 15,
   "metadata": {},
   "outputs": [
    {
     "data": {
      "application/vnd.plotly.v1+json": {
       "config": {
        "displaylogo": false,
        "modeBarButtonsToRemove": [
         "sendDataToCloud",
         "lasso2d",
         "autoScale2d",
         "select2d",
         "zoom2d",
         "pan2d",
         "zoomIn2d",
         "zoomOut2d",
         "resetScale2d",
         "toggleSpikelines",
         "hoverCompareCartesian",
         "hoverClosestCartesian"
        ],
        "plotlyServerURL": "https://plot.ly",
        "staticPlot": false,
        "toImageButtonOptions": {
         "height": null,
         "width": null
        }
       },
       "data": [
        {
         "customdata": [
          [
           0.21491335332393646,
           "pdp",
           "age"
          ],
          [
           0.21491335332393646,
           "pdp",
           "age"
          ],
          [
           0.21491335332393646,
           "pdp",
           "age"
          ],
          [
           0.21491335332393646,
           "pdp",
           "age"
          ],
          [
           0.21491335332393646,
           "pdp",
           "age"
          ],
          [
           0.21491335332393646,
           "pdp",
           "age"
          ],
          [
           0.21491335332393646,
           "pdp",
           "age"
          ],
          [
           0.21491335332393646,
           "pdp",
           "age"
          ],
          [
           0.21491335332393646,
           "pdp",
           "age"
          ],
          [
           0.21491335332393646,
           "pdp",
           "age"
          ],
          [
           0.21491335332393646,
           "pdp",
           "age"
          ],
          [
           0.21491335332393646,
           "pdp",
           "age"
          ],
          [
           0.21491335332393646,
           "pdp",
           "age"
          ],
          [
           0.21491335332393646,
           "pdp",
           "age"
          ],
          [
           0.21491335332393646,
           "pdp",
           "age"
          ],
          [
           0.21491335332393646,
           "pdp",
           "age"
          ],
          [
           0.21491335332393646,
           "pdp",
           "age"
          ],
          [
           0.21491335332393646,
           "pdp",
           "age"
          ],
          [
           0.21491335332393646,
           "pdp",
           "age"
          ],
          [
           0.21491335332393646,
           "pdp",
           "age"
          ],
          [
           0.21491335332393646,
           "pdp",
           "age"
          ],
          [
           0.21491335332393646,
           "pdp",
           "age"
          ],
          [
           0.21491335332393646,
           "pdp",
           "age"
          ],
          [
           0.21491335332393646,
           "pdp",
           "age"
          ],
          [
           0.21491335332393646,
           "pdp",
           "age"
          ],
          [
           0.21491335332393646,
           "pdp",
           "age"
          ],
          [
           0.21491335332393646,
           "pdp",
           "age"
          ],
          [
           0.21491335332393646,
           "pdp",
           "age"
          ],
          [
           0.21491335332393646,
           "pdp",
           "age"
          ],
          [
           0.21491335332393646,
           "pdp",
           "age"
          ],
          [
           0.21491335332393646,
           "pdp",
           "age"
          ],
          [
           0.21491335332393646,
           "pdp",
           "age"
          ],
          [
           0.21491335332393646,
           "pdp",
           "age"
          ],
          [
           0.21491335332393646,
           "pdp",
           "age"
          ],
          [
           0.21491335332393646,
           "pdp",
           "age"
          ],
          [
           0.21491335332393646,
           "pdp",
           "age"
          ],
          [
           0.21491335332393646,
           "pdp",
           "age"
          ],
          [
           0.21491335332393646,
           "pdp",
           "age"
          ],
          [
           0.21491335332393646,
           "pdp",
           "age"
          ],
          [
           0.21491335332393646,
           "pdp",
           "age"
          ],
          [
           0.21491335332393646,
           "pdp",
           "age"
          ],
          [
           0.21491335332393646,
           "pdp",
           "age"
          ],
          [
           0.21491335332393646,
           "pdp",
           "age"
          ],
          [
           0.21491335332393646,
           "pdp",
           "age"
          ],
          [
           0.21491335332393646,
           "pdp",
           "age"
          ],
          [
           0.21491335332393646,
           "pdp",
           "age"
          ],
          [
           0.21491335332393646,
           "pdp",
           "age"
          ],
          [
           0.21491335332393646,
           "pdp",
           "age"
          ],
          [
           0.21491335332393646,
           "pdp",
           "age"
          ],
          [
           0.21491335332393646,
           "pdp",
           "age"
          ],
          [
           0.21491335332393646,
           "pdp",
           "age"
          ],
          [
           0.21491335332393646,
           "pdp",
           "age"
          ],
          [
           0.21491335332393646,
           "pdp",
           "age"
          ],
          [
           0.21491335332393646,
           "pdp",
           "age"
          ],
          [
           0.21491335332393646,
           "pdp",
           "age"
          ],
          [
           0.21491335332393646,
           "pdp",
           "age"
          ],
          [
           0.21491335332393646,
           "pdp",
           "age"
          ],
          [
           0.21491335332393646,
           "pdp",
           "age"
          ],
          [
           0.21491335332393646,
           "pdp",
           "age"
          ],
          [
           0.21491335332393646,
           "pdp",
           "age"
          ],
          [
           0.21491335332393646,
           "pdp",
           "age"
          ],
          [
           0.21491335332393646,
           "pdp",
           "age"
          ],
          [
           0.21491335332393646,
           "pdp",
           "age"
          ],
          [
           0.21491335332393646,
           "pdp",
           "age"
          ],
          [
           0.21491335332393646,
           "pdp",
           "age"
          ],
          [
           0.21491335332393646,
           "pdp",
           "age"
          ],
          [
           0.21491335332393646,
           "pdp",
           "age"
          ],
          [
           0.21491335332393646,
           "pdp",
           "age"
          ],
          [
           0.21491335332393646,
           "pdp",
           "age"
          ],
          [
           0.21491335332393646,
           "pdp",
           "age"
          ],
          [
           0.21491335332393646,
           "pdp",
           "age"
          ],
          [
           0.21491335332393646,
           "pdp",
           "age"
          ],
          [
           0.21491335332393646,
           "pdp",
           "age"
          ],
          [
           0.21491335332393646,
           "pdp",
           "age"
          ],
          [
           0.21491335332393646,
           "pdp",
           "age"
          ],
          [
           0.21491335332393646,
           "pdp",
           "age"
          ],
          [
           0.21491335332393646,
           "pdp",
           "age"
          ],
          [
           0.21491335332393646,
           "pdp",
           "age"
          ],
          [
           0.21491335332393646,
           "pdp",
           "age"
          ],
          [
           0.21491335332393646,
           "pdp",
           "age"
          ],
          [
           0.21491335332393646,
           "pdp",
           "age"
          ],
          [
           0.21491335332393646,
           "pdp",
           "age"
          ],
          [
           0.21491335332393646,
           "pdp",
           "age"
          ],
          [
           0.21491335332393646,
           "pdp",
           "age"
          ],
          [
           0.21491335332393646,
           "pdp",
           "age"
          ],
          [
           0.21491335332393646,
           "pdp",
           "age"
          ],
          [
           0.21491335332393646,
           "pdp",
           "age"
          ],
          [
           0.21491335332393646,
           "pdp",
           "age"
          ],
          [
           0.21491335332393646,
           "pdp",
           "age"
          ],
          [
           0.21491335332393646,
           "pdp",
           "age"
          ],
          [
           0.21491335332393646,
           "pdp",
           "age"
          ],
          [
           0.21491335332393646,
           "pdp",
           "age"
          ],
          [
           0.21491335332393646,
           "pdp",
           "age"
          ],
          [
           0.21491335332393646,
           "pdp",
           "age"
          ],
          [
           0.21491335332393646,
           "pdp",
           "age"
          ],
          [
           0.21491335332393646,
           "pdp",
           "age"
          ],
          [
           0.21491335332393646,
           "pdp",
           "age"
          ],
          [
           0.21491335332393646,
           "pdp",
           "age"
          ],
          [
           0.21491335332393646,
           "pdp",
           "age"
          ],
          [
           0.21491335332393646,
           "pdp",
           "age"
          ],
          [
           0.21491335332393646,
           "pdp",
           "age"
          ]
         ],
         "hovertemplate": "<b>%{hovertext}</b><br><br>prediction=%{y:.3f}<br>mean_prediction=%{customdata[0]:.3f}<extra></extra>",
         "hovertext": [
          "pdp",
          "pdp",
          "pdp",
          "pdp",
          "pdp",
          "pdp",
          "pdp",
          "pdp",
          "pdp",
          "pdp",
          "pdp",
          "pdp",
          "pdp",
          "pdp",
          "pdp",
          "pdp",
          "pdp",
          "pdp",
          "pdp",
          "pdp",
          "pdp",
          "pdp",
          "pdp",
          "pdp",
          "pdp",
          "pdp",
          "pdp",
          "pdp",
          "pdp",
          "pdp",
          "pdp",
          "pdp",
          "pdp",
          "pdp",
          "pdp",
          "pdp",
          "pdp",
          "pdp",
          "pdp",
          "pdp",
          "pdp",
          "pdp",
          "pdp",
          "pdp",
          "pdp",
          "pdp",
          "pdp",
          "pdp",
          "pdp",
          "pdp",
          "pdp",
          "pdp",
          "pdp",
          "pdp",
          "pdp",
          "pdp",
          "pdp",
          "pdp",
          "pdp",
          "pdp",
          "pdp",
          "pdp",
          "pdp",
          "pdp",
          "pdp",
          "pdp",
          "pdp",
          "pdp",
          "pdp",
          "pdp",
          "pdp",
          "pdp",
          "pdp",
          "pdp",
          "pdp",
          "pdp",
          "pdp",
          "pdp",
          "pdp",
          "pdp",
          "pdp",
          "pdp",
          "pdp",
          "pdp",
          "pdp",
          "pdp",
          "pdp",
          "pdp",
          "pdp",
          "pdp",
          "pdp",
          "pdp",
          "pdp",
          "pdp",
          "pdp",
          "pdp",
          "pdp",
          "pdp",
          "pdp",
          "pdp",
          "pdp"
         ],
         "legendgroup": "pdp",
         "line": {
          "color": "#8bdcbe",
          "dash": "solid",
          "width": 2
         },
         "marker": {
          "symbol": "circle"
         },
         "mode": "lines",
         "name": "pdp",
         "opacity": 1,
         "orientation": "v",
         "showlegend": true,
         "type": "scatter",
         "x": [
          20,
          20.6,
          21.2,
          21.8,
          22.4,
          23,
          23.6,
          24.2,
          24.8,
          25.4,
          26,
          26.6,
          27.2,
          27.8,
          28.4,
          29,
          29.6,
          30.2,
          30.799999999999997,
          31.4,
          32,
          32.6,
          33.2,
          33.8,
          34.4,
          35,
          35.6,
          36.2,
          36.8,
          37.4,
          38,
          38.599999999999994,
          39.2,
          39.8,
          40.4,
          41,
          41.599999999999994,
          42.2,
          42.8,
          43.4,
          44,
          44.599999999999994,
          45.2,
          45.8,
          46.4,
          47,
          47.599999999999994,
          48.2,
          48.8,
          49.4,
          50,
          50.599999999999994,
          51.2,
          51.8,
          52.4,
          53,
          53.6,
          54.199999999999996,
          54.8,
          55.4,
          56,
          56.6,
          57.199999999999996,
          57.8,
          58.4,
          59,
          59.6,
          60.199999999999996,
          60.8,
          61.4,
          62,
          62.6,
          63.199999999999996,
          63.8,
          64.4,
          65,
          65.6,
          66.19999999999999,
          66.8,
          67.4,
          68,
          68.6,
          69.19999999999999,
          69.8,
          70.4,
          71,
          71.6,
          72.19999999999999,
          72.8,
          73.4,
          74,
          74.6,
          75.19999999999999,
          75.8,
          76.4,
          77,
          77.6,
          78.19999999999999,
          78.8,
          79.4,
          80
         ],
         "xaxis": "x5",
         "y": [
          0.32980796694755554,
          0.24799472093582153,
          0.23682279884815216,
          0.23682279884815216,
          0.23682279884815216,
          0.23551496863365173,
          0.23453305661678314,
          0.23453305661678314,
          0.23453305661678314,
          0.23453305661678314,
          0.23453305661678314,
          0.23453305661678314,
          0.21303793787956238,
          0.21303793787956238,
          0.21090707182884216,
          0.21090707182884216,
          0.21090707182884216,
          0.21822328865528107,
          0.21822328865528107,
          0.21770016849040985,
          0.21770016849040985,
          0.2063741385936737,
          0.2063741385936737,
          0.20365968346595764,
          0.20424607396125793,
          0.20424607396125793,
          0.20679880678653717,
          0.20679880678653717,
          0.20774447917938232,
          0.20774447917938232,
          0.20591530203819275,
          0.20591530203819275,
          0.20670706033706665,
          0.20739996433258057,
          0.20739996433258057,
          0.2079518735408783,
          0.2079518735408783,
          0.2079518735408783,
          0.2079518735408783,
          0.20831288397312164,
          0.20699162781238556,
          0.20699162781238556,
          0.20699162781238556,
          0.20699162781238556,
          0.2071632593870163,
          0.20685599744319916,
          0.20685599744319916,
          0.20685599744319916,
          0.21854844689369202,
          0.22312913835048676,
          0.22523094713687897,
          0.22523094713687897,
          0.22523094713687897,
          0.22523094713687897,
          0.22445228695869446,
          0.22576209902763367,
          0.22467359900474548,
          0.22467359900474548,
          0.2390698492527008,
          0.2397361546754837,
          0.2397361546754837,
          0.2397361546754837,
          0.2397361546754837,
          0.2397361546754837,
          0.23656058311462402,
          0.23656058311462402,
          0.23656058311462402,
          0.23283803462982178,
          0.23283803462982178,
          0.20940226316452026,
          0.20940226316452026,
          0.20940226316452026,
          0.20940226316452026,
          0.20940226316452026,
          0.24333742260932922,
          0.24280233681201935,
          0.24159714579582214,
          0.2373763471841812,
          0.2373763471841812,
          0.2373763471841812,
          0.2373763471841812,
          0.23750512301921844,
          0.23750512301921844,
          0.23750512301921844,
          0.23750512301921844,
          0.23750512301921844,
          0.23750512301921844,
          0.23750512301921844,
          0.23750512301921844,
          0.23750512301921844,
          0.23750512301921844,
          0.23750512301921844,
          0.23750512301921844,
          0.23750512301921844,
          0.23750512301921844,
          0.23750512301921844,
          0.23750512301921844,
          0.25442495942115784,
          0.2565099596977234,
          0.2565099596977234,
          0.2690032422542572
         ],
         "yaxis": "y5"
        },
        {
         "customdata": [
          [
           0.21491335332393646,
           "pdp",
           "balance"
          ],
          [
           0.21491335332393646,
           "pdp",
           "balance"
          ],
          [
           0.21491335332393646,
           "pdp",
           "balance"
          ],
          [
           0.21491335332393646,
           "pdp",
           "balance"
          ],
          [
           0.21491335332393646,
           "pdp",
           "balance"
          ],
          [
           0.21491335332393646,
           "pdp",
           "balance"
          ],
          [
           0.21491335332393646,
           "pdp",
           "balance"
          ],
          [
           0.21491335332393646,
           "pdp",
           "balance"
          ],
          [
           0.21491335332393646,
           "pdp",
           "balance"
          ],
          [
           0.21491335332393646,
           "pdp",
           "balance"
          ],
          [
           0.21491335332393646,
           "pdp",
           "balance"
          ],
          [
           0.21491335332393646,
           "pdp",
           "balance"
          ],
          [
           0.21491335332393646,
           "pdp",
           "balance"
          ],
          [
           0.21491335332393646,
           "pdp",
           "balance"
          ],
          [
           0.21491335332393646,
           "pdp",
           "balance"
          ],
          [
           0.21491335332393646,
           "pdp",
           "balance"
          ],
          [
           0.21491335332393646,
           "pdp",
           "balance"
          ],
          [
           0.21491335332393646,
           "pdp",
           "balance"
          ],
          [
           0.21491335332393646,
           "pdp",
           "balance"
          ],
          [
           0.21491335332393646,
           "pdp",
           "balance"
          ],
          [
           0.21491335332393646,
           "pdp",
           "balance"
          ],
          [
           0.21491335332393646,
           "pdp",
           "balance"
          ],
          [
           0.21491335332393646,
           "pdp",
           "balance"
          ],
          [
           0.21491335332393646,
           "pdp",
           "balance"
          ],
          [
           0.21491335332393646,
           "pdp",
           "balance"
          ],
          [
           0.21491335332393646,
           "pdp",
           "balance"
          ],
          [
           0.21491335332393646,
           "pdp",
           "balance"
          ],
          [
           0.21491335332393646,
           "pdp",
           "balance"
          ],
          [
           0.21491335332393646,
           "pdp",
           "balance"
          ],
          [
           0.21491335332393646,
           "pdp",
           "balance"
          ],
          [
           0.21491335332393646,
           "pdp",
           "balance"
          ],
          [
           0.21491335332393646,
           "pdp",
           "balance"
          ],
          [
           0.21491335332393646,
           "pdp",
           "balance"
          ],
          [
           0.21491335332393646,
           "pdp",
           "balance"
          ],
          [
           0.21491335332393646,
           "pdp",
           "balance"
          ],
          [
           0.21491335332393646,
           "pdp",
           "balance"
          ],
          [
           0.21491335332393646,
           "pdp",
           "balance"
          ],
          [
           0.21491335332393646,
           "pdp",
           "balance"
          ],
          [
           0.21491335332393646,
           "pdp",
           "balance"
          ],
          [
           0.21491335332393646,
           "pdp",
           "balance"
          ],
          [
           0.21491335332393646,
           "pdp",
           "balance"
          ],
          [
           0.21491335332393646,
           "pdp",
           "balance"
          ],
          [
           0.21491335332393646,
           "pdp",
           "balance"
          ],
          [
           0.21491335332393646,
           "pdp",
           "balance"
          ],
          [
           0.21491335332393646,
           "pdp",
           "balance"
          ],
          [
           0.21491335332393646,
           "pdp",
           "balance"
          ],
          [
           0.21491335332393646,
           "pdp",
           "balance"
          ],
          [
           0.21491335332393646,
           "pdp",
           "balance"
          ],
          [
           0.21491335332393646,
           "pdp",
           "balance"
          ],
          [
           0.21491335332393646,
           "pdp",
           "balance"
          ],
          [
           0.21491335332393646,
           "pdp",
           "balance"
          ],
          [
           0.21491335332393646,
           "pdp",
           "balance"
          ],
          [
           0.21491335332393646,
           "pdp",
           "balance"
          ],
          [
           0.21491335332393646,
           "pdp",
           "balance"
          ],
          [
           0.21491335332393646,
           "pdp",
           "balance"
          ],
          [
           0.21491335332393646,
           "pdp",
           "balance"
          ],
          [
           0.21491335332393646,
           "pdp",
           "balance"
          ],
          [
           0.21491335332393646,
           "pdp",
           "balance"
          ],
          [
           0.21491335332393646,
           "pdp",
           "balance"
          ],
          [
           0.21491335332393646,
           "pdp",
           "balance"
          ],
          [
           0.21491335332393646,
           "pdp",
           "balance"
          ],
          [
           0.21491335332393646,
           "pdp",
           "balance"
          ],
          [
           0.21491335332393646,
           "pdp",
           "balance"
          ],
          [
           0.21491335332393646,
           "pdp",
           "balance"
          ],
          [
           0.21491335332393646,
           "pdp",
           "balance"
          ],
          [
           0.21491335332393646,
           "pdp",
           "balance"
          ],
          [
           0.21491335332393646,
           "pdp",
           "balance"
          ],
          [
           0.21491335332393646,
           "pdp",
           "balance"
          ],
          [
           0.21491335332393646,
           "pdp",
           "balance"
          ],
          [
           0.21491335332393646,
           "pdp",
           "balance"
          ],
          [
           0.21491335332393646,
           "pdp",
           "balance"
          ],
          [
           0.21491335332393646,
           "pdp",
           "balance"
          ],
          [
           0.21491335332393646,
           "pdp",
           "balance"
          ],
          [
           0.21491335332393646,
           "pdp",
           "balance"
          ],
          [
           0.21491335332393646,
           "pdp",
           "balance"
          ],
          [
           0.21491335332393646,
           "pdp",
           "balance"
          ],
          [
           0.21491335332393646,
           "pdp",
           "balance"
          ],
          [
           0.21491335332393646,
           "pdp",
           "balance"
          ],
          [
           0.21491335332393646,
           "pdp",
           "balance"
          ],
          [
           0.21491335332393646,
           "pdp",
           "balance"
          ],
          [
           0.21491335332393646,
           "pdp",
           "balance"
          ],
          [
           0.21491335332393646,
           "pdp",
           "balance"
          ],
          [
           0.21491335332393646,
           "pdp",
           "balance"
          ],
          [
           0.21491335332393646,
           "pdp",
           "balance"
          ],
          [
           0.21491335332393646,
           "pdp",
           "balance"
          ],
          [
           0.21491335332393646,
           "pdp",
           "balance"
          ],
          [
           0.21491335332393646,
           "pdp",
           "balance"
          ],
          [
           0.21491335332393646,
           "pdp",
           "balance"
          ],
          [
           0.21491335332393646,
           "pdp",
           "balance"
          ],
          [
           0.21491335332393646,
           "pdp",
           "balance"
          ],
          [
           0.21491335332393646,
           "pdp",
           "balance"
          ],
          [
           0.21491335332393646,
           "pdp",
           "balance"
          ],
          [
           0.21491335332393646,
           "pdp",
           "balance"
          ],
          [
           0.21491335332393646,
           "pdp",
           "balance"
          ],
          [
           0.21491335332393646,
           "pdp",
           "balance"
          ],
          [
           0.21491335332393646,
           "pdp",
           "balance"
          ],
          [
           0.21491335332393646,
           "pdp",
           "balance"
          ],
          [
           0.21491335332393646,
           "pdp",
           "balance"
          ],
          [
           0.21491335332393646,
           "pdp",
           "balance"
          ],
          [
           0.21491335332393646,
           "pdp",
           "balance"
          ],
          [
           0.21491335332393646,
           "pdp",
           "balance"
          ]
         ],
         "hovertemplate": "<b>%{hovertext}</b><br><br>prediction=%{y:.3f}<br>mean_prediction=%{customdata[0]:.3f}<extra></extra>",
         "hovertext": [
          "pdp",
          "pdp",
          "pdp",
          "pdp",
          "pdp",
          "pdp",
          "pdp",
          "pdp",
          "pdp",
          "pdp",
          "pdp",
          "pdp",
          "pdp",
          "pdp",
          "pdp",
          "pdp",
          "pdp",
          "pdp",
          "pdp",
          "pdp",
          "pdp",
          "pdp",
          "pdp",
          "pdp",
          "pdp",
          "pdp",
          "pdp",
          "pdp",
          "pdp",
          "pdp",
          "pdp",
          "pdp",
          "pdp",
          "pdp",
          "pdp",
          "pdp",
          "pdp",
          "pdp",
          "pdp",
          "pdp",
          "pdp",
          "pdp",
          "pdp",
          "pdp",
          "pdp",
          "pdp",
          "pdp",
          "pdp",
          "pdp",
          "pdp",
          "pdp",
          "pdp",
          "pdp",
          "pdp",
          "pdp",
          "pdp",
          "pdp",
          "pdp",
          "pdp",
          "pdp",
          "pdp",
          "pdp",
          "pdp",
          "pdp",
          "pdp",
          "pdp",
          "pdp",
          "pdp",
          "pdp",
          "pdp",
          "pdp",
          "pdp",
          "pdp",
          "pdp",
          "pdp",
          "pdp",
          "pdp",
          "pdp",
          "pdp",
          "pdp",
          "pdp",
          "pdp",
          "pdp",
          "pdp",
          "pdp",
          "pdp",
          "pdp",
          "pdp",
          "pdp",
          "pdp",
          "pdp",
          "pdp",
          "pdp",
          "pdp",
          "pdp",
          "pdp",
          "pdp",
          "pdp",
          "pdp",
          "pdp",
          "pdp"
         ],
         "legendgroup": "pdp",
         "line": {
          "color": "#8bdcbe",
          "dash": "solid",
          "width": 2
         },
         "marker": {
          "symbol": "circle"
         },
         "mode": "lines",
         "name": "pdp",
         "opacity": 1,
         "orientation": "v",
         "showlegend": false,
         "type": "scatter",
         "x": [
          -1164,
          -731.9100000000001,
          -299.82000000000005,
          132.26999999999998,
          564.3599999999999,
          996.4499999999998,
          1428.54,
          1860.6299999999997,
          2292.72,
          2724.81,
          3156.8999999999996,
          3588.99,
          4021.08,
          4453.17,
          4885.259999999999,
          5317.349999999999,
          5749.44,
          6181.53,
          6613.62,
          7045.709999999999,
          7477.799999999999,
          7909.889999999999,
          8341.98,
          8774.07,
          9206.16,
          9638.25,
          10070.34,
          10502.429999999998,
          10934.519999999999,
          11366.609999999999,
          11798.699999999999,
          12230.789999999999,
          12662.88,
          13094.97,
          13527.06,
          13959.15,
          14391.24,
          14823.33,
          15255.419999999998,
          15687.509999999998,
          16119.599999999999,
          16551.69,
          16983.78,
          17415.87,
          17847.96,
          18280.05,
          18712.14,
          19144.23,
          19576.32,
          20008.41,
          20440.5,
          20872.59,
          21304.68,
          21736.77,
          22168.859999999997,
          22600.949999999997,
          23033.039999999997,
          23465.129999999997,
          23897.219999999998,
          24329.309999999998,
          24761.399999999998,
          25193.489999999998,
          25625.579999999998,
          26057.67,
          26489.76,
          26921.85,
          27353.94,
          27786.03,
          28218.12,
          28650.21,
          29082.3,
          29514.39,
          29946.48,
          30378.57,
          30810.66,
          31242.749999999996,
          31674.839999999997,
          32106.93,
          32539.019999999997,
          32971.11,
          33403.2,
          33835.29,
          34267.38,
          34699.47,
          35131.56,
          35563.65,
          35995.74,
          36427.829999999994,
          36859.92,
          37292.009999999995,
          37724.1,
          38156.189999999995,
          38588.28,
          39020.369999999995,
          39452.46,
          39884.549999999996,
          40316.64,
          40748.729999999996,
          41180.82,
          41612.909999999996,
          42045
         ],
         "xaxis": "x6",
         "y": [
          0.20845374464988708,
          0.20845374464988708,
          0.20845374464988708,
          0.20845374464988708,
          0.20845374464988708,
          0.20845374464988708,
          0.20235015451908112,
          0.2022467404603958,
          0.2744906544685364,
          0.22666014730930328,
          0.24666112661361694,
          0.24693188071250916,
          0.27305227518081665,
          0.28630009293556213,
          0.2862052023410797,
          0.2862052023410797,
          0.28722384572029114,
          0.28722384572029114,
          0.28722384572029114,
          0.2876507341861725,
          0.2869197726249695,
          0.22675304114818573,
          0.20531553030014038,
          0.20531553030014038,
          0.20531553030014038,
          0.199025496840477,
          0.1918477565050125,
          0.20057973265647888,
          0.20057973265647888,
          0.20101766288280487,
          0.20101766288280487,
          0.1981581151485443,
          0.1981581151485443,
          0.1981581151485443,
          0.20232956111431122,
          0.20232956111431122,
          0.20232956111431122,
          0.1973503977060318,
          0.1973503977060318,
          0.1973503977060318,
          0.1973503977060318,
          0.1973503977060318,
          0.1973503977060318,
          0.1973503977060318,
          0.1973503977060318,
          0.1973503977060318,
          0.1973503977060318,
          0.1973503977060318,
          0.1973503977060318,
          0.1973503977060318,
          0.1973503977060318,
          0.1973503977060318,
          0.1973503977060318,
          0.1973503977060318,
          0.1973503977060318,
          0.1973503977060318,
          0.1973503977060318,
          0.1973503977060318,
          0.1973503977060318,
          0.1973503977060318,
          0.1973503977060318,
          0.1973503977060318,
          0.1973503977060318,
          0.1973503977060318,
          0.1973503977060318,
          0.1973503977060318,
          0.1973503977060318,
          0.1973503977060318,
          0.1973503977060318,
          0.1973503977060318,
          0.1973503977060318,
          0.1973503977060318,
          0.1973503977060318,
          0.1973503977060318,
          0.1973503977060318,
          0.1973503977060318,
          0.1973503977060318,
          0.1973503977060318,
          0.1973503977060318,
          0.1973503977060318,
          0.1973503977060318,
          0.1973503977060318,
          0.1973503977060318,
          0.1973503977060318,
          0.1973503977060318,
          0.1973503977060318,
          0.1973503977060318,
          0.1973503977060318,
          0.1973503977060318,
          0.1973503977060318,
          0.1973503977060318,
          0.1973503977060318,
          0.1973503977060318,
          0.1973503977060318,
          0.1973503977060318,
          0.1973503977060318,
          0.1973503977060318,
          0.1973503977060318,
          0.1973503977060318,
          0.1973503977060318,
          0.1973503977060318
         ],
         "yaxis": "y6"
        },
        {
         "customdata": [
          [
           0.21491335332393646,
           "pdp",
           "duration"
          ],
          [
           0.21491335332393646,
           "pdp",
           "duration"
          ],
          [
           0.21491335332393646,
           "pdp",
           "duration"
          ],
          [
           0.21491335332393646,
           "pdp",
           "duration"
          ],
          [
           0.21491335332393646,
           "pdp",
           "duration"
          ],
          [
           0.21491335332393646,
           "pdp",
           "duration"
          ],
          [
           0.21491335332393646,
           "pdp",
           "duration"
          ],
          [
           0.21491335332393646,
           "pdp",
           "duration"
          ],
          [
           0.21491335332393646,
           "pdp",
           "duration"
          ],
          [
           0.21491335332393646,
           "pdp",
           "duration"
          ],
          [
           0.21491335332393646,
           "pdp",
           "duration"
          ],
          [
           0.21491335332393646,
           "pdp",
           "duration"
          ],
          [
           0.21491335332393646,
           "pdp",
           "duration"
          ],
          [
           0.21491335332393646,
           "pdp",
           "duration"
          ],
          [
           0.21491335332393646,
           "pdp",
           "duration"
          ],
          [
           0.21491335332393646,
           "pdp",
           "duration"
          ],
          [
           0.21491335332393646,
           "pdp",
           "duration"
          ],
          [
           0.21491335332393646,
           "pdp",
           "duration"
          ],
          [
           0.21491335332393646,
           "pdp",
           "duration"
          ],
          [
           0.21491335332393646,
           "pdp",
           "duration"
          ],
          [
           0.21491335332393646,
           "pdp",
           "duration"
          ],
          [
           0.21491335332393646,
           "pdp",
           "duration"
          ],
          [
           0.21491335332393646,
           "pdp",
           "duration"
          ],
          [
           0.21491335332393646,
           "pdp",
           "duration"
          ],
          [
           0.21491335332393646,
           "pdp",
           "duration"
          ],
          [
           0.21491335332393646,
           "pdp",
           "duration"
          ],
          [
           0.21491335332393646,
           "pdp",
           "duration"
          ],
          [
           0.21491335332393646,
           "pdp",
           "duration"
          ],
          [
           0.21491335332393646,
           "pdp",
           "duration"
          ],
          [
           0.21491335332393646,
           "pdp",
           "duration"
          ],
          [
           0.21491335332393646,
           "pdp",
           "duration"
          ],
          [
           0.21491335332393646,
           "pdp",
           "duration"
          ],
          [
           0.21491335332393646,
           "pdp",
           "duration"
          ],
          [
           0.21491335332393646,
           "pdp",
           "duration"
          ],
          [
           0.21491335332393646,
           "pdp",
           "duration"
          ],
          [
           0.21491335332393646,
           "pdp",
           "duration"
          ],
          [
           0.21491335332393646,
           "pdp",
           "duration"
          ],
          [
           0.21491335332393646,
           "pdp",
           "duration"
          ],
          [
           0.21491335332393646,
           "pdp",
           "duration"
          ],
          [
           0.21491335332393646,
           "pdp",
           "duration"
          ],
          [
           0.21491335332393646,
           "pdp",
           "duration"
          ],
          [
           0.21491335332393646,
           "pdp",
           "duration"
          ],
          [
           0.21491335332393646,
           "pdp",
           "duration"
          ],
          [
           0.21491335332393646,
           "pdp",
           "duration"
          ],
          [
           0.21491335332393646,
           "pdp",
           "duration"
          ],
          [
           0.21491335332393646,
           "pdp",
           "duration"
          ],
          [
           0.21491335332393646,
           "pdp",
           "duration"
          ],
          [
           0.21491335332393646,
           "pdp",
           "duration"
          ],
          [
           0.21491335332393646,
           "pdp",
           "duration"
          ],
          [
           0.21491335332393646,
           "pdp",
           "duration"
          ],
          [
           0.21491335332393646,
           "pdp",
           "duration"
          ],
          [
           0.21491335332393646,
           "pdp",
           "duration"
          ],
          [
           0.21491335332393646,
           "pdp",
           "duration"
          ],
          [
           0.21491335332393646,
           "pdp",
           "duration"
          ],
          [
           0.21491335332393646,
           "pdp",
           "duration"
          ],
          [
           0.21491335332393646,
           "pdp",
           "duration"
          ],
          [
           0.21491335332393646,
           "pdp",
           "duration"
          ],
          [
           0.21491335332393646,
           "pdp",
           "duration"
          ],
          [
           0.21491335332393646,
           "pdp",
           "duration"
          ],
          [
           0.21491335332393646,
           "pdp",
           "duration"
          ],
          [
           0.21491335332393646,
           "pdp",
           "duration"
          ],
          [
           0.21491335332393646,
           "pdp",
           "duration"
          ],
          [
           0.21491335332393646,
           "pdp",
           "duration"
          ],
          [
           0.21491335332393646,
           "pdp",
           "duration"
          ],
          [
           0.21491335332393646,
           "pdp",
           "duration"
          ],
          [
           0.21491335332393646,
           "pdp",
           "duration"
          ],
          [
           0.21491335332393646,
           "pdp",
           "duration"
          ],
          [
           0.21491335332393646,
           "pdp",
           "duration"
          ],
          [
           0.21491335332393646,
           "pdp",
           "duration"
          ],
          [
           0.21491335332393646,
           "pdp",
           "duration"
          ],
          [
           0.21491335332393646,
           "pdp",
           "duration"
          ],
          [
           0.21491335332393646,
           "pdp",
           "duration"
          ],
          [
           0.21491335332393646,
           "pdp",
           "duration"
          ],
          [
           0.21491335332393646,
           "pdp",
           "duration"
          ],
          [
           0.21491335332393646,
           "pdp",
           "duration"
          ],
          [
           0.21491335332393646,
           "pdp",
           "duration"
          ],
          [
           0.21491335332393646,
           "pdp",
           "duration"
          ],
          [
           0.21491335332393646,
           "pdp",
           "duration"
          ],
          [
           0.21491335332393646,
           "pdp",
           "duration"
          ],
          [
           0.21491335332393646,
           "pdp",
           "duration"
          ],
          [
           0.21491335332393646,
           "pdp",
           "duration"
          ],
          [
           0.21491335332393646,
           "pdp",
           "duration"
          ],
          [
           0.21491335332393646,
           "pdp",
           "duration"
          ],
          [
           0.21491335332393646,
           "pdp",
           "duration"
          ],
          [
           0.21491335332393646,
           "pdp",
           "duration"
          ],
          [
           0.21491335332393646,
           "pdp",
           "duration"
          ],
          [
           0.21491335332393646,
           "pdp",
           "duration"
          ],
          [
           0.21491335332393646,
           "pdp",
           "duration"
          ],
          [
           0.21491335332393646,
           "pdp",
           "duration"
          ],
          [
           0.21491335332393646,
           "pdp",
           "duration"
          ],
          [
           0.21491335332393646,
           "pdp",
           "duration"
          ],
          [
           0.21491335332393646,
           "pdp",
           "duration"
          ],
          [
           0.21491335332393646,
           "pdp",
           "duration"
          ],
          [
           0.21491335332393646,
           "pdp",
           "duration"
          ],
          [
           0.21491335332393646,
           "pdp",
           "duration"
          ],
          [
           0.21491335332393646,
           "pdp",
           "duration"
          ],
          [
           0.21491335332393646,
           "pdp",
           "duration"
          ],
          [
           0.21491335332393646,
           "pdp",
           "duration"
          ],
          [
           0.21491335332393646,
           "pdp",
           "duration"
          ],
          [
           0.21491335332393646,
           "pdp",
           "duration"
          ],
          [
           0.21491335332393646,
           "pdp",
           "duration"
          ]
         ],
         "hovertemplate": "<b>%{hovertext}</b><br><br>prediction=%{y:.3f}<br>mean_prediction=%{customdata[0]:.3f}<extra></extra>",
         "hovertext": [
          "pdp",
          "pdp",
          "pdp",
          "pdp",
          "pdp",
          "pdp",
          "pdp",
          "pdp",
          "pdp",
          "pdp",
          "pdp",
          "pdp",
          "pdp",
          "pdp",
          "pdp",
          "pdp",
          "pdp",
          "pdp",
          "pdp",
          "pdp",
          "pdp",
          "pdp",
          "pdp",
          "pdp",
          "pdp",
          "pdp",
          "pdp",
          "pdp",
          "pdp",
          "pdp",
          "pdp",
          "pdp",
          "pdp",
          "pdp",
          "pdp",
          "pdp",
          "pdp",
          "pdp",
          "pdp",
          "pdp",
          "pdp",
          "pdp",
          "pdp",
          "pdp",
          "pdp",
          "pdp",
          "pdp",
          "pdp",
          "pdp",
          "pdp",
          "pdp",
          "pdp",
          "pdp",
          "pdp",
          "pdp",
          "pdp",
          "pdp",
          "pdp",
          "pdp",
          "pdp",
          "pdp",
          "pdp",
          "pdp",
          "pdp",
          "pdp",
          "pdp",
          "pdp",
          "pdp",
          "pdp",
          "pdp",
          "pdp",
          "pdp",
          "pdp",
          "pdp",
          "pdp",
          "pdp",
          "pdp",
          "pdp",
          "pdp",
          "pdp",
          "pdp",
          "pdp",
          "pdp",
          "pdp",
          "pdp",
          "pdp",
          "pdp",
          "pdp",
          "pdp",
          "pdp",
          "pdp",
          "pdp",
          "pdp",
          "pdp",
          "pdp",
          "pdp",
          "pdp",
          "pdp",
          "pdp",
          "pdp",
          "pdp"
         ],
         "legendgroup": "pdp",
         "line": {
          "color": "#8bdcbe",
          "dash": "solid",
          "width": 2
         },
         "marker": {
          "symbol": "circle"
         },
         "mode": "lines",
         "name": "pdp",
         "opacity": 1,
         "orientation": "v",
         "showlegend": false,
         "type": "scatter",
         "x": [
          5,
          24.66,
          44.32,
          63.980000000000004,
          83.64,
          103.3,
          122.96000000000001,
          142.62,
          162.28,
          181.94,
          201.6,
          221.26,
          240.92000000000002,
          260.58000000000004,
          280.24,
          299.9,
          319.56,
          339.22,
          358.88,
          378.54,
          398.2,
          417.86,
          437.52,
          457.18,
          476.84000000000003,
          496.5,
          516.1600000000001,
          535.82,
          555.48,
          575.14,
          594.8,
          614.46,
          634.12,
          653.78,
          673.44,
          693.1,
          712.76,
          732.42,
          752.08,
          771.74,
          791.4,
          811.0600000000001,
          830.72,
          850.38,
          870.04,
          889.7,
          909.36,
          929.02,
          948.6800000000001,
          968.34,
          988,
          1007.66,
          1027.3200000000002,
          1046.98,
          1066.64,
          1086.3,
          1105.96,
          1125.6200000000001,
          1145.28,
          1164.94,
          1184.6,
          1204.26,
          1223.92,
          1243.58,
          1263.24,
          1282.9,
          1302.56,
          1322.22,
          1341.88,
          1361.54,
          1381.2,
          1400.86,
          1420.52,
          1440.18,
          1459.84,
          1479.5,
          1499.16,
          1518.82,
          1538.48,
          1558.14,
          1577.8,
          1597.46,
          1617.1200000000001,
          1636.78,
          1656.44,
          1676.1,
          1695.76,
          1715.42,
          1735.08,
          1754.74,
          1774.4,
          1794.06,
          1813.72,
          1833.38,
          1853.04,
          1872.7,
          1892.3600000000001,
          1912.02,
          1931.68,
          1951.34,
          1971
         ],
         "xaxis": "x3",
         "y": [
          0.007657929323613644,
          0.007657929323613644,
          0.007657929323613644,
          0.007657929323613644,
          0.06109568104147911,
          0.0710831955075264,
          0.08234769850969315,
          0.0956021323800087,
          0.09788834303617477,
          0.09623749554157257,
          0.09618445485830307,
          0.20147794485092163,
          0.2074383944272995,
          0.21053406596183777,
          0.2125183343887329,
          0.22477832436561584,
          0.22695770859718323,
          0.2370123565196991,
          0.32156825065612793,
          0.359770804643631,
          0.37947627902030945,
          0.3814506530761719,
          0.4336281418800354,
          0.4445565342903137,
          0.46142858266830444,
          0.4872944951057434,
          0.4897593855857849,
          0.43130895495414734,
          0.5423975586891174,
          0.5507494211196899,
          0.5565122961997986,
          0.5565122961997986,
          0.5616118907928467,
          0.75281822681427,
          0.7245585322380066,
          0.7245585322380066,
          0.7242938876152039,
          0.7242938876152039,
          0.6990557909011841,
          0.7981038093566895,
          0.7981513738632202,
          0.8839018940925598,
          0.8839018940925598,
          0.8459778428077698,
          0.8459778428077698,
          0.8672504425048828,
          0.8672504425048828,
          0.8672504425048828,
          0.8722459673881531,
          0.8722459673881531,
          0.8722459673881531,
          0.8682042360305786,
          0.8682042360305786,
          0.8682042360305786,
          0.8682042360305786,
          0.8682042360305786,
          0.865816056728363,
          0.8642665147781372,
          0.8642665147781372,
          0.8642665147781372,
          0.8642665147781372,
          0.8762478232383728,
          0.8762478232383728,
          0.8762478232383728,
          0.8762478232383728,
          0.8762478232383728,
          0.8762478232383728,
          0.8762478232383728,
          0.8762478232383728,
          0.8762478232383728,
          0.8762478232383728,
          0.8762478232383728,
          0.8762478232383728,
          0.8726458549499512,
          0.8726458549499512,
          0.8726458549499512,
          0.8726458549499512,
          0.8726458549499512,
          0.8726458549499512,
          0.8726458549499512,
          0.8726458549499512,
          0.8726458549499512,
          0.8726458549499512,
          0.8726458549499512,
          0.8726458549499512,
          0.8726458549499512,
          0.8726458549499512,
          0.8726458549499512,
          0.8726458549499512,
          0.8726458549499512,
          0.8726458549499512,
          0.8726458549499512,
          0.8726458549499512,
          0.8726458549499512,
          0.8726458549499512,
          0.8726458549499512,
          0.8726458549499512,
          0.8726458549499512,
          0.8726458549499512,
          0.8726458549499512,
          0.8726458549499512
         ],
         "yaxis": "y3"
        },
        {
         "customdata": [
          [
           0.21491335332393646,
           "pdp",
           "campaign"
          ],
          [
           0.21491335332393646,
           "pdp",
           "campaign"
          ],
          [
           0.21491335332393646,
           "pdp",
           "campaign"
          ],
          [
           0.21491335332393646,
           "pdp",
           "campaign"
          ],
          [
           0.21491335332393646,
           "pdp",
           "campaign"
          ],
          [
           0.21491335332393646,
           "pdp",
           "campaign"
          ],
          [
           0.21491335332393646,
           "pdp",
           "campaign"
          ],
          [
           0.21491335332393646,
           "pdp",
           "campaign"
          ],
          [
           0.21491335332393646,
           "pdp",
           "campaign"
          ],
          [
           0.21491335332393646,
           "pdp",
           "campaign"
          ],
          [
           0.21491335332393646,
           "pdp",
           "campaign"
          ],
          [
           0.21491335332393646,
           "pdp",
           "campaign"
          ],
          [
           0.21491335332393646,
           "pdp",
           "campaign"
          ],
          [
           0.21491335332393646,
           "pdp",
           "campaign"
          ],
          [
           0.21491335332393646,
           "pdp",
           "campaign"
          ],
          [
           0.21491335332393646,
           "pdp",
           "campaign"
          ],
          [
           0.21491335332393646,
           "pdp",
           "campaign"
          ],
          [
           0.21491335332393646,
           "pdp",
           "campaign"
          ],
          [
           0.21491335332393646,
           "pdp",
           "campaign"
          ],
          [
           0.21491335332393646,
           "pdp",
           "campaign"
          ],
          [
           0.21491335332393646,
           "pdp",
           "campaign"
          ],
          [
           0.21491335332393646,
           "pdp",
           "campaign"
          ],
          [
           0.21491335332393646,
           "pdp",
           "campaign"
          ],
          [
           0.21491335332393646,
           "pdp",
           "campaign"
          ],
          [
           0.21491335332393646,
           "pdp",
           "campaign"
          ],
          [
           0.21491335332393646,
           "pdp",
           "campaign"
          ],
          [
           0.21491335332393646,
           "pdp",
           "campaign"
          ],
          [
           0.21491335332393646,
           "pdp",
           "campaign"
          ],
          [
           0.21491335332393646,
           "pdp",
           "campaign"
          ],
          [
           0.21491335332393646,
           "pdp",
           "campaign"
          ],
          [
           0.21491335332393646,
           "pdp",
           "campaign"
          ],
          [
           0.21491335332393646,
           "pdp",
           "campaign"
          ],
          [
           0.21491335332393646,
           "pdp",
           "campaign"
          ],
          [
           0.21491335332393646,
           "pdp",
           "campaign"
          ],
          [
           0.21491335332393646,
           "pdp",
           "campaign"
          ],
          [
           0.21491335332393646,
           "pdp",
           "campaign"
          ],
          [
           0.21491335332393646,
           "pdp",
           "campaign"
          ],
          [
           0.21491335332393646,
           "pdp",
           "campaign"
          ],
          [
           0.21491335332393646,
           "pdp",
           "campaign"
          ],
          [
           0.21491335332393646,
           "pdp",
           "campaign"
          ],
          [
           0.21491335332393646,
           "pdp",
           "campaign"
          ],
          [
           0.21491335332393646,
           "pdp",
           "campaign"
          ],
          [
           0.21491335332393646,
           "pdp",
           "campaign"
          ],
          [
           0.21491335332393646,
           "pdp",
           "campaign"
          ],
          [
           0.21491335332393646,
           "pdp",
           "campaign"
          ],
          [
           0.21491335332393646,
           "pdp",
           "campaign"
          ],
          [
           0.21491335332393646,
           "pdp",
           "campaign"
          ],
          [
           0.21491335332393646,
           "pdp",
           "campaign"
          ],
          [
           0.21491335332393646,
           "pdp",
           "campaign"
          ],
          [
           0.21491335332393646,
           "pdp",
           "campaign"
          ],
          [
           0.21491335332393646,
           "pdp",
           "campaign"
          ],
          [
           0.21491335332393646,
           "pdp",
           "campaign"
          ],
          [
           0.21491335332393646,
           "pdp",
           "campaign"
          ],
          [
           0.21491335332393646,
           "pdp",
           "campaign"
          ],
          [
           0.21491335332393646,
           "pdp",
           "campaign"
          ],
          [
           0.21491335332393646,
           "pdp",
           "campaign"
          ],
          [
           0.21491335332393646,
           "pdp",
           "campaign"
          ],
          [
           0.21491335332393646,
           "pdp",
           "campaign"
          ],
          [
           0.21491335332393646,
           "pdp",
           "campaign"
          ],
          [
           0.21491335332393646,
           "pdp",
           "campaign"
          ],
          [
           0.21491335332393646,
           "pdp",
           "campaign"
          ],
          [
           0.21491335332393646,
           "pdp",
           "campaign"
          ],
          [
           0.21491335332393646,
           "pdp",
           "campaign"
          ],
          [
           0.21491335332393646,
           "pdp",
           "campaign"
          ],
          [
           0.21491335332393646,
           "pdp",
           "campaign"
          ],
          [
           0.21491335332393646,
           "pdp",
           "campaign"
          ],
          [
           0.21491335332393646,
           "pdp",
           "campaign"
          ],
          [
           0.21491335332393646,
           "pdp",
           "campaign"
          ],
          [
           0.21491335332393646,
           "pdp",
           "campaign"
          ],
          [
           0.21491335332393646,
           "pdp",
           "campaign"
          ],
          [
           0.21491335332393646,
           "pdp",
           "campaign"
          ],
          [
           0.21491335332393646,
           "pdp",
           "campaign"
          ],
          [
           0.21491335332393646,
           "pdp",
           "campaign"
          ],
          [
           0.21491335332393646,
           "pdp",
           "campaign"
          ],
          [
           0.21491335332393646,
           "pdp",
           "campaign"
          ],
          [
           0.21491335332393646,
           "pdp",
           "campaign"
          ],
          [
           0.21491335332393646,
           "pdp",
           "campaign"
          ],
          [
           0.21491335332393646,
           "pdp",
           "campaign"
          ],
          [
           0.21491335332393646,
           "pdp",
           "campaign"
          ],
          [
           0.21491335332393646,
           "pdp",
           "campaign"
          ],
          [
           0.21491335332393646,
           "pdp",
           "campaign"
          ],
          [
           0.21491335332393646,
           "pdp",
           "campaign"
          ],
          [
           0.21491335332393646,
           "pdp",
           "campaign"
          ],
          [
           0.21491335332393646,
           "pdp",
           "campaign"
          ],
          [
           0.21491335332393646,
           "pdp",
           "campaign"
          ],
          [
           0.21491335332393646,
           "pdp",
           "campaign"
          ],
          [
           0.21491335332393646,
           "pdp",
           "campaign"
          ],
          [
           0.21491335332393646,
           "pdp",
           "campaign"
          ],
          [
           0.21491335332393646,
           "pdp",
           "campaign"
          ],
          [
           0.21491335332393646,
           "pdp",
           "campaign"
          ],
          [
           0.21491335332393646,
           "pdp",
           "campaign"
          ],
          [
           0.21491335332393646,
           "pdp",
           "campaign"
          ],
          [
           0.21491335332393646,
           "pdp",
           "campaign"
          ],
          [
           0.21491335332393646,
           "pdp",
           "campaign"
          ],
          [
           0.21491335332393646,
           "pdp",
           "campaign"
          ],
          [
           0.21491335332393646,
           "pdp",
           "campaign"
          ],
          [
           0.21491335332393646,
           "pdp",
           "campaign"
          ],
          [
           0.21491335332393646,
           "pdp",
           "campaign"
          ],
          [
           0.21491335332393646,
           "pdp",
           "campaign"
          ],
          [
           0.21491335332393646,
           "pdp",
           "campaign"
          ],
          [
           0.21491335332393646,
           "pdp",
           "campaign"
          ]
         ],
         "hovertemplate": "<b>%{hovertext}</b><br><br>prediction=%{y:.3f}<br>mean_prediction=%{customdata[0]:.3f}<extra></extra>",
         "hovertext": [
          "pdp",
          "pdp",
          "pdp",
          "pdp",
          "pdp",
          "pdp",
          "pdp",
          "pdp",
          "pdp",
          "pdp",
          "pdp",
          "pdp",
          "pdp",
          "pdp",
          "pdp",
          "pdp",
          "pdp",
          "pdp",
          "pdp",
          "pdp",
          "pdp",
          "pdp",
          "pdp",
          "pdp",
          "pdp",
          "pdp",
          "pdp",
          "pdp",
          "pdp",
          "pdp",
          "pdp",
          "pdp",
          "pdp",
          "pdp",
          "pdp",
          "pdp",
          "pdp",
          "pdp",
          "pdp",
          "pdp",
          "pdp",
          "pdp",
          "pdp",
          "pdp",
          "pdp",
          "pdp",
          "pdp",
          "pdp",
          "pdp",
          "pdp",
          "pdp",
          "pdp",
          "pdp",
          "pdp",
          "pdp",
          "pdp",
          "pdp",
          "pdp",
          "pdp",
          "pdp",
          "pdp",
          "pdp",
          "pdp",
          "pdp",
          "pdp",
          "pdp",
          "pdp",
          "pdp",
          "pdp",
          "pdp",
          "pdp",
          "pdp",
          "pdp",
          "pdp",
          "pdp",
          "pdp",
          "pdp",
          "pdp",
          "pdp",
          "pdp",
          "pdp",
          "pdp",
          "pdp",
          "pdp",
          "pdp",
          "pdp",
          "pdp",
          "pdp",
          "pdp",
          "pdp",
          "pdp",
          "pdp",
          "pdp",
          "pdp",
          "pdp",
          "pdp",
          "pdp",
          "pdp",
          "pdp",
          "pdp",
          "pdp"
         ],
         "legendgroup": "pdp",
         "line": {
          "color": "#8bdcbe",
          "dash": "solid",
          "width": 2
         },
         "marker": {
          "symbol": "circle"
         },
         "mode": "lines",
         "name": "pdp",
         "opacity": 1,
         "orientation": "v",
         "showlegend": false,
         "type": "scatter",
         "x": [
          1,
          1.49,
          1.98,
          2.4699999999999998,
          2.96,
          3.45,
          3.94,
          4.43,
          4.92,
          5.41,
          5.9,
          6.39,
          6.88,
          7.37,
          7.859999999999999,
          8.35,
          8.84,
          9.33,
          9.82,
          10.31,
          10.8,
          11.29,
          11.78,
          12.27,
          12.76,
          13.25,
          13.74,
          14.23,
          14.719999999999999,
          15.209999999999999,
          15.7,
          16.189999999999998,
          16.68,
          17.169999999999998,
          17.66,
          18.15,
          18.64,
          19.13,
          19.62,
          20.11,
          20.6,
          21.09,
          21.58,
          22.07,
          22.56,
          23.05,
          23.54,
          24.03,
          24.52,
          25.009999999999998,
          25.5,
          25.99,
          26.48,
          26.97,
          27.46,
          27.95,
          28.439999999999998,
          28.93,
          29.419999999999998,
          29.91,
          30.4,
          30.89,
          31.38,
          31.87,
          32.36,
          32.849999999999994,
          33.339999999999996,
          33.83,
          34.32,
          34.81,
          35.3,
          35.79,
          36.28,
          36.769999999999996,
          37.26,
          37.75,
          38.24,
          38.73,
          39.22,
          39.71,
          40.2,
          40.69,
          41.18,
          41.67,
          42.16,
          42.65,
          43.14,
          43.63,
          44.12,
          44.61,
          45.1,
          45.589999999999996,
          46.08,
          46.57,
          47.06,
          47.55,
          48.04,
          48.53,
          49.019999999999996,
          49.51,
          50
         ],
         "xaxis": "x4",
         "y": [
          0.2365429401397705,
          0.2365429401397705,
          0.20945695042610168,
          0.20945695042610168,
          0.21491773426532745,
          0.21491773426532745,
          0.21057577431201935,
          0.21057577431201935,
          0.15451304614543915,
          0.15451304614543915,
          0.15936021506786346,
          0.15936021506786346,
          0.15717458724975586,
          0.15717458724975586,
          0.15717458724975586,
          0.15717458724975586,
          0.15717458724975586,
          0.15717458724975586,
          0.14333778619766235,
          0.14333778619766235,
          0.14333778619766235,
          0.14333778619766235,
          0.14333778619766235,
          0.14333778619766235,
          0.14333778619766235,
          0.14333778619766235,
          0.14333778619766235,
          0.14333778619766235,
          0.14333778619766235,
          0.14333778619766235,
          0.14333778619766235,
          0.14333778619766235,
          0.14333778619766235,
          0.14333778619766235,
          0.14333778619766235,
          0.14333778619766235,
          0.14333778619766235,
          0.14333778619766235,
          0.14333778619766235,
          0.14333778619766235,
          0.14333778619766235,
          0.14333778619766235,
          0.14333778619766235,
          0.14333778619766235,
          0.14333778619766235,
          0.14333778619766235,
          0.14333778619766235,
          0.14333778619766235,
          0.14333778619766235,
          0.14333778619766235,
          0.14333778619766235,
          0.14333778619766235,
          0.14333778619766235,
          0.14333778619766235,
          0.14333778619766235,
          0.14333778619766235,
          0.14333778619766235,
          0.14333778619766235,
          0.14333778619766235,
          0.14333778619766235,
          0.14333778619766235,
          0.14333778619766235,
          0.14333778619766235,
          0.14333778619766235,
          0.14333778619766235,
          0.14333778619766235,
          0.14333778619766235,
          0.14333778619766235,
          0.14333778619766235,
          0.14333778619766235,
          0.14333778619766235,
          0.14333778619766235,
          0.14333778619766235,
          0.14333778619766235,
          0.14333778619766235,
          0.14333778619766235,
          0.14333778619766235,
          0.14333778619766235,
          0.14333778619766235,
          0.14333778619766235,
          0.14333778619766235,
          0.14333778619766235,
          0.14333778619766235,
          0.14333778619766235,
          0.14333778619766235,
          0.14333778619766235,
          0.14333778619766235,
          0.14333778619766235,
          0.14333778619766235,
          0.14333778619766235,
          0.14333778619766235,
          0.14333778619766235,
          0.14333778619766235,
          0.14333778619766235,
          0.14333778619766235,
          0.14333778619766235,
          0.14333778619766235,
          0.14333778619766235,
          0.14333778619766235,
          0.14333778619766235,
          0.14333778619766235
         ],
         "yaxis": "y4"
        },
        {
         "customdata": [
          [
           0.21491335332393646,
           "pdp",
           "pdays"
          ],
          [
           0.21491335332393646,
           "pdp",
           "pdays"
          ],
          [
           0.21491335332393646,
           "pdp",
           "pdays"
          ],
          [
           0.21491335332393646,
           "pdp",
           "pdays"
          ],
          [
           0.21491335332393646,
           "pdp",
           "pdays"
          ],
          [
           0.21491335332393646,
           "pdp",
           "pdays"
          ],
          [
           0.21491335332393646,
           "pdp",
           "pdays"
          ],
          [
           0.21491335332393646,
           "pdp",
           "pdays"
          ],
          [
           0.21491335332393646,
           "pdp",
           "pdays"
          ],
          [
           0.21491335332393646,
           "pdp",
           "pdays"
          ],
          [
           0.21491335332393646,
           "pdp",
           "pdays"
          ],
          [
           0.21491335332393646,
           "pdp",
           "pdays"
          ],
          [
           0.21491335332393646,
           "pdp",
           "pdays"
          ],
          [
           0.21491335332393646,
           "pdp",
           "pdays"
          ],
          [
           0.21491335332393646,
           "pdp",
           "pdays"
          ],
          [
           0.21491335332393646,
           "pdp",
           "pdays"
          ],
          [
           0.21491335332393646,
           "pdp",
           "pdays"
          ],
          [
           0.21491335332393646,
           "pdp",
           "pdays"
          ],
          [
           0.21491335332393646,
           "pdp",
           "pdays"
          ],
          [
           0.21491335332393646,
           "pdp",
           "pdays"
          ],
          [
           0.21491335332393646,
           "pdp",
           "pdays"
          ],
          [
           0.21491335332393646,
           "pdp",
           "pdays"
          ],
          [
           0.21491335332393646,
           "pdp",
           "pdays"
          ],
          [
           0.21491335332393646,
           "pdp",
           "pdays"
          ],
          [
           0.21491335332393646,
           "pdp",
           "pdays"
          ],
          [
           0.21491335332393646,
           "pdp",
           "pdays"
          ],
          [
           0.21491335332393646,
           "pdp",
           "pdays"
          ],
          [
           0.21491335332393646,
           "pdp",
           "pdays"
          ],
          [
           0.21491335332393646,
           "pdp",
           "pdays"
          ],
          [
           0.21491335332393646,
           "pdp",
           "pdays"
          ],
          [
           0.21491335332393646,
           "pdp",
           "pdays"
          ],
          [
           0.21491335332393646,
           "pdp",
           "pdays"
          ],
          [
           0.21491335332393646,
           "pdp",
           "pdays"
          ],
          [
           0.21491335332393646,
           "pdp",
           "pdays"
          ],
          [
           0.21491335332393646,
           "pdp",
           "pdays"
          ],
          [
           0.21491335332393646,
           "pdp",
           "pdays"
          ],
          [
           0.21491335332393646,
           "pdp",
           "pdays"
          ],
          [
           0.21491335332393646,
           "pdp",
           "pdays"
          ],
          [
           0.21491335332393646,
           "pdp",
           "pdays"
          ],
          [
           0.21491335332393646,
           "pdp",
           "pdays"
          ],
          [
           0.21491335332393646,
           "pdp",
           "pdays"
          ],
          [
           0.21491335332393646,
           "pdp",
           "pdays"
          ],
          [
           0.21491335332393646,
           "pdp",
           "pdays"
          ],
          [
           0.21491335332393646,
           "pdp",
           "pdays"
          ],
          [
           0.21491335332393646,
           "pdp",
           "pdays"
          ],
          [
           0.21491335332393646,
           "pdp",
           "pdays"
          ],
          [
           0.21491335332393646,
           "pdp",
           "pdays"
          ],
          [
           0.21491335332393646,
           "pdp",
           "pdays"
          ],
          [
           0.21491335332393646,
           "pdp",
           "pdays"
          ],
          [
           0.21491335332393646,
           "pdp",
           "pdays"
          ],
          [
           0.21491335332393646,
           "pdp",
           "pdays"
          ],
          [
           0.21491335332393646,
           "pdp",
           "pdays"
          ],
          [
           0.21491335332393646,
           "pdp",
           "pdays"
          ],
          [
           0.21491335332393646,
           "pdp",
           "pdays"
          ],
          [
           0.21491335332393646,
           "pdp",
           "pdays"
          ],
          [
           0.21491335332393646,
           "pdp",
           "pdays"
          ],
          [
           0.21491335332393646,
           "pdp",
           "pdays"
          ],
          [
           0.21491335332393646,
           "pdp",
           "pdays"
          ],
          [
           0.21491335332393646,
           "pdp",
           "pdays"
          ],
          [
           0.21491335332393646,
           "pdp",
           "pdays"
          ],
          [
           0.21491335332393646,
           "pdp",
           "pdays"
          ],
          [
           0.21491335332393646,
           "pdp",
           "pdays"
          ],
          [
           0.21491335332393646,
           "pdp",
           "pdays"
          ],
          [
           0.21491335332393646,
           "pdp",
           "pdays"
          ],
          [
           0.21491335332393646,
           "pdp",
           "pdays"
          ],
          [
           0.21491335332393646,
           "pdp",
           "pdays"
          ],
          [
           0.21491335332393646,
           "pdp",
           "pdays"
          ],
          [
           0.21491335332393646,
           "pdp",
           "pdays"
          ],
          [
           0.21491335332393646,
           "pdp",
           "pdays"
          ],
          [
           0.21491335332393646,
           "pdp",
           "pdays"
          ],
          [
           0.21491335332393646,
           "pdp",
           "pdays"
          ],
          [
           0.21491335332393646,
           "pdp",
           "pdays"
          ],
          [
           0.21491335332393646,
           "pdp",
           "pdays"
          ],
          [
           0.21491335332393646,
           "pdp",
           "pdays"
          ],
          [
           0.21491335332393646,
           "pdp",
           "pdays"
          ],
          [
           0.21491335332393646,
           "pdp",
           "pdays"
          ],
          [
           0.21491335332393646,
           "pdp",
           "pdays"
          ],
          [
           0.21491335332393646,
           "pdp",
           "pdays"
          ],
          [
           0.21491335332393646,
           "pdp",
           "pdays"
          ],
          [
           0.21491335332393646,
           "pdp",
           "pdays"
          ],
          [
           0.21491335332393646,
           "pdp",
           "pdays"
          ],
          [
           0.21491335332393646,
           "pdp",
           "pdays"
          ],
          [
           0.21491335332393646,
           "pdp",
           "pdays"
          ],
          [
           0.21491335332393646,
           "pdp",
           "pdays"
          ],
          [
           0.21491335332393646,
           "pdp",
           "pdays"
          ],
          [
           0.21491335332393646,
           "pdp",
           "pdays"
          ],
          [
           0.21491335332393646,
           "pdp",
           "pdays"
          ],
          [
           0.21491335332393646,
           "pdp",
           "pdays"
          ],
          [
           0.21491335332393646,
           "pdp",
           "pdays"
          ],
          [
           0.21491335332393646,
           "pdp",
           "pdays"
          ],
          [
           0.21491335332393646,
           "pdp",
           "pdays"
          ],
          [
           0.21491335332393646,
           "pdp",
           "pdays"
          ],
          [
           0.21491335332393646,
           "pdp",
           "pdays"
          ],
          [
           0.21491335332393646,
           "pdp",
           "pdays"
          ],
          [
           0.21491335332393646,
           "pdp",
           "pdays"
          ],
          [
           0.21491335332393646,
           "pdp",
           "pdays"
          ],
          [
           0.21491335332393646,
           "pdp",
           "pdays"
          ],
          [
           0.21491335332393646,
           "pdp",
           "pdays"
          ],
          [
           0.21491335332393646,
           "pdp",
           "pdays"
          ],
          [
           0.21491335332393646,
           "pdp",
           "pdays"
          ],
          [
           0.21491335332393646,
           "pdp",
           "pdays"
          ]
         ],
         "hovertemplate": "<b>%{hovertext}</b><br><br>prediction=%{y:.3f}<br>mean_prediction=%{customdata[0]:.3f}<extra></extra>",
         "hovertext": [
          "pdp",
          "pdp",
          "pdp",
          "pdp",
          "pdp",
          "pdp",
          "pdp",
          "pdp",
          "pdp",
          "pdp",
          "pdp",
          "pdp",
          "pdp",
          "pdp",
          "pdp",
          "pdp",
          "pdp",
          "pdp",
          "pdp",
          "pdp",
          "pdp",
          "pdp",
          "pdp",
          "pdp",
          "pdp",
          "pdp",
          "pdp",
          "pdp",
          "pdp",
          "pdp",
          "pdp",
          "pdp",
          "pdp",
          "pdp",
          "pdp",
          "pdp",
          "pdp",
          "pdp",
          "pdp",
          "pdp",
          "pdp",
          "pdp",
          "pdp",
          "pdp",
          "pdp",
          "pdp",
          "pdp",
          "pdp",
          "pdp",
          "pdp",
          "pdp",
          "pdp",
          "pdp",
          "pdp",
          "pdp",
          "pdp",
          "pdp",
          "pdp",
          "pdp",
          "pdp",
          "pdp",
          "pdp",
          "pdp",
          "pdp",
          "pdp",
          "pdp",
          "pdp",
          "pdp",
          "pdp",
          "pdp",
          "pdp",
          "pdp",
          "pdp",
          "pdp",
          "pdp",
          "pdp",
          "pdp",
          "pdp",
          "pdp",
          "pdp",
          "pdp",
          "pdp",
          "pdp",
          "pdp",
          "pdp",
          "pdp",
          "pdp",
          "pdp",
          "pdp",
          "pdp",
          "pdp",
          "pdp",
          "pdp",
          "pdp",
          "pdp",
          "pdp",
          "pdp",
          "pdp",
          "pdp",
          "pdp",
          "pdp"
         ],
         "legendgroup": "pdp",
         "line": {
          "color": "#8bdcbe",
          "dash": "solid",
          "width": 2
         },
         "marker": {
          "symbol": "circle"
         },
         "mode": "lines",
         "name": "pdp",
         "opacity": 1,
         "orientation": "v",
         "showlegend": false,
         "type": "scatter",
         "x": [
          -1,
          7.09,
          15.18,
          23.27,
          31.36,
          39.45,
          47.54,
          55.629999999999995,
          63.72,
          71.81,
          79.9,
          87.99,
          96.08,
          104.17,
          112.25999999999999,
          120.35,
          128.44,
          136.53,
          144.62,
          152.71,
          160.8,
          168.89,
          176.98,
          185.07,
          193.16,
          201.25,
          209.34,
          217.43,
          225.51999999999998,
          233.60999999999999,
          241.7,
          249.79,
          257.88,
          265.96999999999997,
          274.06,
          282.15,
          290.24,
          298.33,
          306.42,
          314.51,
          322.6,
          330.69,
          338.78,
          346.87,
          354.96,
          363.05,
          371.14,
          379.23,
          387.32,
          395.40999999999997,
          403.5,
          411.59,
          419.68,
          427.77,
          435.86,
          443.95,
          452.03999999999996,
          460.13,
          468.21999999999997,
          476.31,
          484.4,
          492.49,
          500.58,
          508.67,
          516.76,
          524.85,
          532.9399999999999,
          541.03,
          549.12,
          557.21,
          565.3,
          573.39,
          581.48,
          589.5699999999999,
          597.66,
          605.75,
          613.84,
          621.93,
          630.02,
          638.11,
          646.2,
          654.29,
          662.38,
          670.47,
          678.56,
          686.65,
          694.74,
          702.83,
          710.92,
          719.01,
          727.1,
          735.1899999999999,
          743.28,
          751.37,
          759.46,
          767.55,
          775.64,
          783.73,
          791.8199999999999,
          799.91,
          808
         ],
         "xaxis": "x",
         "y": [
          0.2125512808561325,
          0.2125512808561325,
          0.2125512808561325,
          0.2125512808561325,
          0.2125512808561325,
          0.2412300854921341,
          0.24217674136161804,
          0.24217674136161804,
          0.24217674136161804,
          0.24217674136161804,
          0.2410878986120224,
          0.2410878986120224,
          0.24337808787822723,
          0.24337808787822723,
          0.24337808787822723,
          0.24337808787822723,
          0.24337808787822723,
          0.24145688116550446,
          0.24145688116550446,
          0.24145688116550446,
          0.24145688116550446,
          0.24288970232009888,
          0.24288970232009888,
          0.24706079065799713,
          0.2402137815952301,
          0.18941862881183624,
          0.18941862881183624,
          0.18941862881183624,
          0.18941862881183624,
          0.18941862881183624,
          0.18941862881183624,
          0.18941862881183624,
          0.18941862881183624,
          0.23871086537837982,
          0.23871086537837982,
          0.23871086537837982,
          0.23871086537837982,
          0.1683284044265747,
          0.1683284044265747,
          0.1683284044265747,
          0.1683284044265747,
          0.1683284044265747,
          0.1683284044265747,
          0.1683284044265747,
          0.1683284044265747,
          0.1683284044265747,
          0.1683284044265747,
          0.29517412185668945,
          0.29517412185668945,
          0.29517412185668945,
          0.29517412185668945,
          0.29517412185668945,
          0.29517412185668945,
          0.29517412185668945,
          0.29517412185668945,
          0.29517412185668945,
          0.29517412185668945,
          0.29517412185668945,
          0.29517412185668945,
          0.29517412185668945,
          0.29517412185668945,
          0.29517412185668945,
          0.29517412185668945,
          0.29517412185668945,
          0.29517412185668945,
          0.29517412185668945,
          0.29517412185668945,
          0.29517412185668945,
          0.29517412185668945,
          0.29517412185668945,
          0.29517412185668945,
          0.29517412185668945,
          0.29517412185668945,
          0.29517412185668945,
          0.29517412185668945,
          0.29517412185668945,
          0.29517412185668945,
          0.29517412185668945,
          0.29517412185668945,
          0.29517412185668945,
          0.29517412185668945,
          0.29517412185668945,
          0.29517412185668945,
          0.29517412185668945,
          0.29517412185668945,
          0.29517412185668945,
          0.29517412185668945,
          0.29517412185668945,
          0.29517412185668945,
          0.29517412185668945,
          0.29517412185668945,
          0.29517412185668945,
          0.29517412185668945,
          0.29517412185668945,
          0.29517412185668945,
          0.29517412185668945,
          0.29517412185668945,
          0.29517412185668945,
          0.29517412185668945,
          0.29517412185668945,
          0.29517412185668945
         ],
         "yaxis": "y"
        },
        {
         "customdata": [
          [
           0.21491335332393646,
           "pdp",
           "previous"
          ],
          [
           0.21491335332393646,
           "pdp",
           "previous"
          ],
          [
           0.21491335332393646,
           "pdp",
           "previous"
          ],
          [
           0.21491335332393646,
           "pdp",
           "previous"
          ],
          [
           0.21491335332393646,
           "pdp",
           "previous"
          ],
          [
           0.21491335332393646,
           "pdp",
           "previous"
          ],
          [
           0.21491335332393646,
           "pdp",
           "previous"
          ],
          [
           0.21491335332393646,
           "pdp",
           "previous"
          ],
          [
           0.21491335332393646,
           "pdp",
           "previous"
          ],
          [
           0.21491335332393646,
           "pdp",
           "previous"
          ],
          [
           0.21491335332393646,
           "pdp",
           "previous"
          ],
          [
           0.21491335332393646,
           "pdp",
           "previous"
          ],
          [
           0.21491335332393646,
           "pdp",
           "previous"
          ],
          [
           0.21491335332393646,
           "pdp",
           "previous"
          ],
          [
           0.21491335332393646,
           "pdp",
           "previous"
          ],
          [
           0.21491335332393646,
           "pdp",
           "previous"
          ],
          [
           0.21491335332393646,
           "pdp",
           "previous"
          ],
          [
           0.21491335332393646,
           "pdp",
           "previous"
          ],
          [
           0.21491335332393646,
           "pdp",
           "previous"
          ],
          [
           0.21491335332393646,
           "pdp",
           "previous"
          ],
          [
           0.21491335332393646,
           "pdp",
           "previous"
          ],
          [
           0.21491335332393646,
           "pdp",
           "previous"
          ],
          [
           0.21491335332393646,
           "pdp",
           "previous"
          ],
          [
           0.21491335332393646,
           "pdp",
           "previous"
          ],
          [
           0.21491335332393646,
           "pdp",
           "previous"
          ],
          [
           0.21491335332393646,
           "pdp",
           "previous"
          ],
          [
           0.21491335332393646,
           "pdp",
           "previous"
          ],
          [
           0.21491335332393646,
           "pdp",
           "previous"
          ],
          [
           0.21491335332393646,
           "pdp",
           "previous"
          ],
          [
           0.21491335332393646,
           "pdp",
           "previous"
          ],
          [
           0.21491335332393646,
           "pdp",
           "previous"
          ],
          [
           0.21491335332393646,
           "pdp",
           "previous"
          ],
          [
           0.21491335332393646,
           "pdp",
           "previous"
          ],
          [
           0.21491335332393646,
           "pdp",
           "previous"
          ],
          [
           0.21491335332393646,
           "pdp",
           "previous"
          ],
          [
           0.21491335332393646,
           "pdp",
           "previous"
          ],
          [
           0.21491335332393646,
           "pdp",
           "previous"
          ],
          [
           0.21491335332393646,
           "pdp",
           "previous"
          ],
          [
           0.21491335332393646,
           "pdp",
           "previous"
          ],
          [
           0.21491335332393646,
           "pdp",
           "previous"
          ],
          [
           0.21491335332393646,
           "pdp",
           "previous"
          ],
          [
           0.21491335332393646,
           "pdp",
           "previous"
          ],
          [
           0.21491335332393646,
           "pdp",
           "previous"
          ],
          [
           0.21491335332393646,
           "pdp",
           "previous"
          ],
          [
           0.21491335332393646,
           "pdp",
           "previous"
          ],
          [
           0.21491335332393646,
           "pdp",
           "previous"
          ],
          [
           0.21491335332393646,
           "pdp",
           "previous"
          ],
          [
           0.21491335332393646,
           "pdp",
           "previous"
          ],
          [
           0.21491335332393646,
           "pdp",
           "previous"
          ],
          [
           0.21491335332393646,
           "pdp",
           "previous"
          ],
          [
           0.21491335332393646,
           "pdp",
           "previous"
          ],
          [
           0.21491335332393646,
           "pdp",
           "previous"
          ],
          [
           0.21491335332393646,
           "pdp",
           "previous"
          ],
          [
           0.21491335332393646,
           "pdp",
           "previous"
          ],
          [
           0.21491335332393646,
           "pdp",
           "previous"
          ],
          [
           0.21491335332393646,
           "pdp",
           "previous"
          ],
          [
           0.21491335332393646,
           "pdp",
           "previous"
          ],
          [
           0.21491335332393646,
           "pdp",
           "previous"
          ],
          [
           0.21491335332393646,
           "pdp",
           "previous"
          ],
          [
           0.21491335332393646,
           "pdp",
           "previous"
          ],
          [
           0.21491335332393646,
           "pdp",
           "previous"
          ],
          [
           0.21491335332393646,
           "pdp",
           "previous"
          ],
          [
           0.21491335332393646,
           "pdp",
           "previous"
          ],
          [
           0.21491335332393646,
           "pdp",
           "previous"
          ],
          [
           0.21491335332393646,
           "pdp",
           "previous"
          ],
          [
           0.21491335332393646,
           "pdp",
           "previous"
          ],
          [
           0.21491335332393646,
           "pdp",
           "previous"
          ],
          [
           0.21491335332393646,
           "pdp",
           "previous"
          ],
          [
           0.21491335332393646,
           "pdp",
           "previous"
          ],
          [
           0.21491335332393646,
           "pdp",
           "previous"
          ],
          [
           0.21491335332393646,
           "pdp",
           "previous"
          ],
          [
           0.21491335332393646,
           "pdp",
           "previous"
          ],
          [
           0.21491335332393646,
           "pdp",
           "previous"
          ],
          [
           0.21491335332393646,
           "pdp",
           "previous"
          ],
          [
           0.21491335332393646,
           "pdp",
           "previous"
          ],
          [
           0.21491335332393646,
           "pdp",
           "previous"
          ],
          [
           0.21491335332393646,
           "pdp",
           "previous"
          ],
          [
           0.21491335332393646,
           "pdp",
           "previous"
          ],
          [
           0.21491335332393646,
           "pdp",
           "previous"
          ],
          [
           0.21491335332393646,
           "pdp",
           "previous"
          ],
          [
           0.21491335332393646,
           "pdp",
           "previous"
          ],
          [
           0.21491335332393646,
           "pdp",
           "previous"
          ],
          [
           0.21491335332393646,
           "pdp",
           "previous"
          ],
          [
           0.21491335332393646,
           "pdp",
           "previous"
          ],
          [
           0.21491335332393646,
           "pdp",
           "previous"
          ],
          [
           0.21491335332393646,
           "pdp",
           "previous"
          ],
          [
           0.21491335332393646,
           "pdp",
           "previous"
          ],
          [
           0.21491335332393646,
           "pdp",
           "previous"
          ],
          [
           0.21491335332393646,
           "pdp",
           "previous"
          ],
          [
           0.21491335332393646,
           "pdp",
           "previous"
          ],
          [
           0.21491335332393646,
           "pdp",
           "previous"
          ],
          [
           0.21491335332393646,
           "pdp",
           "previous"
          ],
          [
           0.21491335332393646,
           "pdp",
           "previous"
          ],
          [
           0.21491335332393646,
           "pdp",
           "previous"
          ],
          [
           0.21491335332393646,
           "pdp",
           "previous"
          ],
          [
           0.21491335332393646,
           "pdp",
           "previous"
          ],
          [
           0.21491335332393646,
           "pdp",
           "previous"
          ],
          [
           0.21491335332393646,
           "pdp",
           "previous"
          ],
          [
           0.21491335332393646,
           "pdp",
           "previous"
          ],
          [
           0.21491335332393646,
           "pdp",
           "previous"
          ],
          [
           0.21491335332393646,
           "pdp",
           "previous"
          ]
         ],
         "hovertemplate": "<b>%{hovertext}</b><br><br>prediction=%{y:.3f}<br>mean_prediction=%{customdata[0]:.3f}<extra></extra>",
         "hovertext": [
          "pdp",
          "pdp",
          "pdp",
          "pdp",
          "pdp",
          "pdp",
          "pdp",
          "pdp",
          "pdp",
          "pdp",
          "pdp",
          "pdp",
          "pdp",
          "pdp",
          "pdp",
          "pdp",
          "pdp",
          "pdp",
          "pdp",
          "pdp",
          "pdp",
          "pdp",
          "pdp",
          "pdp",
          "pdp",
          "pdp",
          "pdp",
          "pdp",
          "pdp",
          "pdp",
          "pdp",
          "pdp",
          "pdp",
          "pdp",
          "pdp",
          "pdp",
          "pdp",
          "pdp",
          "pdp",
          "pdp",
          "pdp",
          "pdp",
          "pdp",
          "pdp",
          "pdp",
          "pdp",
          "pdp",
          "pdp",
          "pdp",
          "pdp",
          "pdp",
          "pdp",
          "pdp",
          "pdp",
          "pdp",
          "pdp",
          "pdp",
          "pdp",
          "pdp",
          "pdp",
          "pdp",
          "pdp",
          "pdp",
          "pdp",
          "pdp",
          "pdp",
          "pdp",
          "pdp",
          "pdp",
          "pdp",
          "pdp",
          "pdp",
          "pdp",
          "pdp",
          "pdp",
          "pdp",
          "pdp",
          "pdp",
          "pdp",
          "pdp",
          "pdp",
          "pdp",
          "pdp",
          "pdp",
          "pdp",
          "pdp",
          "pdp",
          "pdp",
          "pdp",
          "pdp",
          "pdp",
          "pdp",
          "pdp",
          "pdp",
          "pdp",
          "pdp",
          "pdp",
          "pdp",
          "pdp",
          "pdp",
          "pdp"
         ],
         "legendgroup": "pdp",
         "line": {
          "color": "#8bdcbe",
          "dash": "solid",
          "width": 2
         },
         "marker": {
          "symbol": "circle"
         },
         "mode": "lines",
         "name": "pdp",
         "opacity": 1,
         "orientation": "v",
         "showlegend": false,
         "type": "scatter",
         "x": [
          0,
          0.19,
          0.38,
          0.5700000000000001,
          0.76,
          0.95,
          1.1400000000000001,
          1.33,
          1.52,
          1.71,
          1.9,
          2.09,
          2.2800000000000002,
          2.47,
          2.66,
          2.85,
          3.04,
          3.23,
          3.42,
          3.61,
          3.8,
          3.99,
          4.18,
          4.37,
          4.5600000000000005,
          4.75,
          4.94,
          5.13,
          5.32,
          5.51,
          5.7,
          5.89,
          6.08,
          6.2700000000000005,
          6.46,
          6.65,
          6.84,
          7.03,
          7.22,
          7.41,
          7.6,
          7.79,
          7.98,
          8.17,
          8.36,
          8.55,
          8.74,
          8.93,
          9.120000000000001,
          9.31,
          9.5,
          9.69,
          9.88,
          10.07,
          10.26,
          10.45,
          10.64,
          10.83,
          11.02,
          11.21,
          11.4,
          11.59,
          11.78,
          11.97,
          12.16,
          12.35,
          12.540000000000001,
          12.73,
          12.92,
          13.11,
          13.3,
          13.49,
          13.68,
          13.870000000000001,
          14.06,
          14.25,
          14.44,
          14.63,
          14.82,
          15.01,
          15.2,
          15.39,
          15.58,
          15.77,
          15.96,
          16.15,
          16.34,
          16.53,
          16.72,
          16.91,
          17.1,
          17.29,
          17.48,
          17.67,
          17.86,
          18.05,
          18.240000000000002,
          18.43,
          18.62,
          18.81,
          19
         ],
         "xaxis": "x2",
         "y": [
          0.20958974957466125,
          0.20958974957466125,
          0.20958974957466125,
          0.20958974957466125,
          0.20958974957466125,
          0.20958974957466125,
          0.20958974957466125,
          0.20958974957466125,
          0.2583774924278259,
          0.2583774924278259,
          0.2583774924278259,
          0.2583774924278259,
          0.2583774924278259,
          0.2583774924278259,
          0.25785934925079346,
          0.25785934925079346,
          0.25785934925079346,
          0.25785934925079346,
          0.25785934925079346,
          0.26977142691612244,
          0.26977142691612244,
          0.26977142691612244,
          0.26977142691612244,
          0.26977142691612244,
          0.2688843309879303,
          0.2688843309879303,
          0.2688843309879303,
          0.2688843309879303,
          0.2688843309879303,
          0.37392640113830566,
          0.37392640113830566,
          0.37392640113830566,
          0.37392640113830566,
          0.37392640113830566,
          0.37392640113830566,
          0.1400444656610489,
          0.1400444656610489,
          0.1400444656610489,
          0.1400444656610489,
          0.1400444656610489,
          0.1400444656610489,
          0.1400444656610489,
          0.1400444656610489,
          0.1400444656610489,
          0.1400444656610489,
          0.1400444656610489,
          0.1400444656610489,
          0.1400444656610489,
          0.1400444656610489,
          0.1400444656610489,
          0.1400444656610489,
          0.1400444656610489,
          0.1400444656610489,
          0.1400444656610489,
          0.1400444656610489,
          0.1400444656610489,
          0.1400444656610489,
          0.1400444656610489,
          0.1400444656610489,
          0.1400444656610489,
          0.1400444656610489,
          0.1400444656610489,
          0.1400444656610489,
          0.1400444656610489,
          0.1400444656610489,
          0.1400444656610489,
          0.1400444656610489,
          0.1400444656610489,
          0.1400444656610489,
          0.1400444656610489,
          0.1400444656610489,
          0.1400444656610489,
          0.1400444656610489,
          0.1400444656610489,
          0.1400444656610489,
          0.1400444656610489,
          0.1400444656610489,
          0.1400444656610489,
          0.1400444656610489,
          0.1400444656610489,
          0.1400444656610489,
          0.1400444656610489,
          0.1400444656610489,
          0.1400444656610489,
          0.1400444656610489,
          0.1400444656610489,
          0.1400444656610489,
          0.1400444656610489,
          0.1400444656610489,
          0.1400444656610489,
          0.1400444656610489,
          0.1400444656610489,
          0.1400444656610489,
          0.1400444656610489,
          0.1400444656610489,
          0.1400444656610489,
          0.1400444656610489,
          0.1400444656610489,
          0.1400444656610489,
          0.1400444656610489,
          0.1400444656610489
         ],
         "yaxis": "y2"
        },
        {
         "customdata": [
          [
           0.21236562728881836,
           "ale",
           "age"
          ],
          [
           0.21236562728881836,
           "ale",
           "age"
          ],
          [
           0.21236562728881836,
           "ale",
           "age"
          ],
          [
           0.21236562728881836,
           "ale",
           "age"
          ],
          [
           0.21236562728881836,
           "ale",
           "age"
          ],
          [
           0.21236562728881836,
           "ale",
           "age"
          ],
          [
           0.21236562728881836,
           "ale",
           "age"
          ],
          [
           0.21236562728881836,
           "ale",
           "age"
          ],
          [
           0.21236562728881836,
           "ale",
           "age"
          ],
          [
           0.21236562728881836,
           "ale",
           "age"
          ],
          [
           0.21236562728881836,
           "ale",
           "age"
          ],
          [
           0.21236562728881836,
           "ale",
           "age"
          ],
          [
           0.21236562728881836,
           "ale",
           "age"
          ],
          [
           0.21236562728881836,
           "ale",
           "age"
          ],
          [
           0.21236562728881836,
           "ale",
           "age"
          ],
          [
           0.21236562728881836,
           "ale",
           "age"
          ],
          [
           0.21236562728881836,
           "ale",
           "age"
          ],
          [
           0.21236562728881836,
           "ale",
           "age"
          ],
          [
           0.21236562728881836,
           "ale",
           "age"
          ],
          [
           0.21236562728881836,
           "ale",
           "age"
          ],
          [
           0.21236562728881836,
           "ale",
           "age"
          ],
          [
           0.21236562728881836,
           "ale",
           "age"
          ],
          [
           0.21236562728881836,
           "ale",
           "age"
          ],
          [
           0.21236562728881836,
           "ale",
           "age"
          ],
          [
           0.21236562728881836,
           "ale",
           "age"
          ],
          [
           0.21236562728881836,
           "ale",
           "age"
          ],
          [
           0.21236562728881836,
           "ale",
           "age"
          ],
          [
           0.21236562728881836,
           "ale",
           "age"
          ],
          [
           0.21236562728881836,
           "ale",
           "age"
          ],
          [
           0.21236562728881836,
           "ale",
           "age"
          ],
          [
           0.21236562728881836,
           "ale",
           "age"
          ],
          [
           0.21236562728881836,
           "ale",
           "age"
          ],
          [
           0.21236562728881836,
           "ale",
           "age"
          ],
          [
           0.21236562728881836,
           "ale",
           "age"
          ],
          [
           0.21236562728881836,
           "ale",
           "age"
          ],
          [
           0.21236562728881836,
           "ale",
           "age"
          ],
          [
           0.21236562728881836,
           "ale",
           "age"
          ],
          [
           0.21236562728881836,
           "ale",
           "age"
          ],
          [
           0.21236562728881836,
           "ale",
           "age"
          ],
          [
           0.21236562728881836,
           "ale",
           "age"
          ],
          [
           0.21236562728881836,
           "ale",
           "age"
          ],
          [
           0.21236562728881836,
           "ale",
           "age"
          ],
          [
           0.21236562728881836,
           "ale",
           "age"
          ],
          [
           0.21236562728881836,
           "ale",
           "age"
          ],
          [
           0.21236562728881836,
           "ale",
           "age"
          ],
          [
           0.21236562728881836,
           "ale",
           "age"
          ],
          [
           0.21236562728881836,
           "ale",
           "age"
          ],
          [
           0.21236562728881836,
           "ale",
           "age"
          ],
          [
           0.21236562728881836,
           "ale",
           "age"
          ],
          [
           0.21236562728881836,
           "ale",
           "age"
          ],
          [
           0.21236562728881836,
           "ale",
           "age"
          ],
          [
           0.21236562728881836,
           "ale",
           "age"
          ],
          [
           0.21236562728881836,
           "ale",
           "age"
          ],
          [
           0.21236562728881836,
           "ale",
           "age"
          ],
          [
           0.21236562728881836,
           "ale",
           "age"
          ],
          [
           0.21236562728881836,
           "ale",
           "age"
          ],
          [
           0.21236562728881836,
           "ale",
           "age"
          ],
          [
           0.21236562728881836,
           "ale",
           "age"
          ],
          [
           0.21236562728881836,
           "ale",
           "age"
          ],
          [
           0.21236562728881836,
           "ale",
           "age"
          ],
          [
           0.21236562728881836,
           "ale",
           "age"
          ],
          [
           0.21236562728881836,
           "ale",
           "age"
          ],
          [
           0.21236562728881836,
           "ale",
           "age"
          ],
          [
           0.21236562728881836,
           "ale",
           "age"
          ],
          [
           0.21236562728881836,
           "ale",
           "age"
          ],
          [
           0.21236562728881836,
           "ale",
           "age"
          ],
          [
           0.21236562728881836,
           "ale",
           "age"
          ],
          [
           0.21236562728881836,
           "ale",
           "age"
          ],
          [
           0.21236562728881836,
           "ale",
           "age"
          ],
          [
           0.21236562728881836,
           "ale",
           "age"
          ],
          [
           0.21236562728881836,
           "ale",
           "age"
          ],
          [
           0.21236562728881836,
           "ale",
           "age"
          ],
          [
           0.21236562728881836,
           "ale",
           "age"
          ],
          [
           0.21236562728881836,
           "ale",
           "age"
          ],
          [
           0.21236562728881836,
           "ale",
           "age"
          ],
          [
           0.21236562728881836,
           "ale",
           "age"
          ],
          [
           0.21236562728881836,
           "ale",
           "age"
          ],
          [
           0.21236562728881836,
           "ale",
           "age"
          ],
          [
           0.21236562728881836,
           "ale",
           "age"
          ],
          [
           0.21236562728881836,
           "ale",
           "age"
          ],
          [
           0.21236562728881836,
           "ale",
           "age"
          ],
          [
           0.21236562728881836,
           "ale",
           "age"
          ],
          [
           0.21236562728881836,
           "ale",
           "age"
          ],
          [
           0.21236562728881836,
           "ale",
           "age"
          ],
          [
           0.21236562728881836,
           "ale",
           "age"
          ],
          [
           0.21236562728881836,
           "ale",
           "age"
          ],
          [
           0.21236562728881836,
           "ale",
           "age"
          ],
          [
           0.21236562728881836,
           "ale",
           "age"
          ],
          [
           0.21236562728881836,
           "ale",
           "age"
          ],
          [
           0.21236562728881836,
           "ale",
           "age"
          ],
          [
           0.21236562728881836,
           "ale",
           "age"
          ],
          [
           0.21236562728881836,
           "ale",
           "age"
          ],
          [
           0.21236562728881836,
           "ale",
           "age"
          ],
          [
           0.21236562728881836,
           "ale",
           "age"
          ],
          [
           0.21236562728881836,
           "ale",
           "age"
          ],
          [
           0.21236562728881836,
           "ale",
           "age"
          ],
          [
           0.21236562728881836,
           "ale",
           "age"
          ],
          [
           0.21236562728881836,
           "ale",
           "age"
          ],
          [
           0.21236562728881836,
           "ale",
           "age"
          ],
          [
           0.21236562728881836,
           "ale",
           "age"
          ],
          [
           0.21236562728881836,
           "ale",
           "age"
          ]
         ],
         "hovertemplate": "<b>%{hovertext}</b><br><br>prediction=%{y:.3f}<br>mean_prediction=%{customdata[0]:.3f}<extra></extra>",
         "hovertext": [
          "ale",
          "ale",
          "ale",
          "ale",
          "ale",
          "ale",
          "ale",
          "ale",
          "ale",
          "ale",
          "ale",
          "ale",
          "ale",
          "ale",
          "ale",
          "ale",
          "ale",
          "ale",
          "ale",
          "ale",
          "ale",
          "ale",
          "ale",
          "ale",
          "ale",
          "ale",
          "ale",
          "ale",
          "ale",
          "ale",
          "ale",
          "ale",
          "ale",
          "ale",
          "ale",
          "ale",
          "ale",
          "ale",
          "ale",
          "ale",
          "ale",
          "ale",
          "ale",
          "ale",
          "ale",
          "ale",
          "ale",
          "ale",
          "ale",
          "ale",
          "ale",
          "ale",
          "ale",
          "ale",
          "ale",
          "ale",
          "ale",
          "ale",
          "ale",
          "ale",
          "ale",
          "ale",
          "ale",
          "ale",
          "ale",
          "ale",
          "ale",
          "ale",
          "ale",
          "ale",
          "ale",
          "ale",
          "ale",
          "ale",
          "ale",
          "ale",
          "ale",
          "ale",
          "ale",
          "ale",
          "ale",
          "ale",
          "ale",
          "ale",
          "ale",
          "ale",
          "ale",
          "ale",
          "ale",
          "ale",
          "ale",
          "ale",
          "ale",
          "ale",
          "ale",
          "ale",
          "ale",
          "ale",
          "ale",
          "ale",
          "ale"
         ],
         "legendgroup": "ale",
         "line": {
          "color": "#4378bf",
          "dash": "solid",
          "width": 2
         },
         "marker": {
          "symbol": "circle"
         },
         "mode": "lines",
         "name": "ale",
         "opacity": 1,
         "orientation": "v",
         "showlegend": true,
         "type": "scatter",
         "x": [
          20,
          20.6,
          21.2,
          21.8,
          22.4,
          23,
          23.6,
          24.2,
          24.8,
          25.4,
          26,
          26.6,
          27.2,
          27.8,
          28.4,
          29,
          29.6,
          30.2,
          30.799999999999997,
          31.4,
          32,
          32.6,
          33.2,
          33.8,
          34.4,
          35,
          35.6,
          36.2,
          36.8,
          37.4,
          38,
          38.599999999999994,
          39.2,
          39.8,
          40.4,
          41,
          41.599999999999994,
          42.2,
          42.8,
          43.4,
          44,
          44.599999999999994,
          45.2,
          45.8,
          46.4,
          47,
          47.599999999999994,
          48.2,
          48.8,
          49.4,
          50,
          50.599999999999994,
          51.2,
          51.8,
          52.4,
          53,
          53.6,
          54.199999999999996,
          54.8,
          55.4,
          56,
          56.6,
          57.199999999999996,
          57.8,
          58.4,
          59,
          59.6,
          60.199999999999996,
          60.8,
          61.4,
          62,
          62.6,
          63.199999999999996,
          63.8,
          64.4,
          65,
          65.6,
          66.19999999999999,
          66.8,
          67.4,
          68,
          68.6,
          69.19999999999999,
          69.8,
          70.4,
          71,
          71.6,
          72.19999999999999,
          72.8,
          73.4,
          74,
          74.6,
          75.19999999999999,
          75.8,
          76.4,
          77,
          77.6,
          78.19999999999999,
          78.8,
          79.4,
          80
         ],
         "xaxis": "x5",
         "y": [
          0.130119484354426,
          0.046808660630874105,
          0.034026294159102966,
          0.034026294159102966,
          0.034026294159102966,
          0.03292551049396125,
          0.03215147899012691,
          0.03215147899012691,
          0.03215147899012691,
          0.03215147899012691,
          0.03215147899012691,
          0.03215147899012691,
          0.013073337349754521,
          0.013073337349754521,
          0.011888024342166181,
          0.011888024342166181,
          0.011888024342166181,
          0.0235444496540268,
          0.0235444496540268,
          0.023143551850595245,
          0.023143551850595245,
          0.01151946198953216,
          0.01151946198953216,
          0.007992817792399076,
          0.008524982030515271,
          0.008524982030515271,
          0.01060537623626756,
          0.01060537623626756,
          0.011286342473231764,
          0.011286342473231764,
          0.00977444822077081,
          0.00977444822077081,
          0.010158893205537256,
          0.010881049653634789,
          0.010881049653634789,
          0.011167588435512243,
          0.011167588435512243,
          0.011167588435512243,
          0.011167588435512243,
          0.011539233256464915,
          0.010219037078319615,
          0.010219037078319615,
          0.010219037078319615,
          0.010219037078319615,
          0.010417212476197424,
          0.010044383353549458,
          0.010044383353549458,
          0.010044383353549458,
          0.021251572198412838,
          0.025559046407560793,
          0.027714041049177962,
          0.027714041049177962,
          0.027714041049177962,
          0.027714041049177962,
          0.026910487596471577,
          0.02824093513676562,
          0.02728338565234001,
          0.02728338565234001,
          0.042211484404243854,
          0.04286430790544962,
          0.04286430790544962,
          0.04286430790544962,
          0.04286430790544962,
          0.04286430790544962,
          0.040323852025154844,
          0.040323852025154844,
          0.040323852025154844,
          0.03688064705108321,
          0.03688064705108321,
          0.013476486946737865,
          0.013476486946737865,
          0.013476486946737865,
          0.013476486946737865,
          0.013476486946737865,
          0.0483874986640383,
          0.047710598913388025,
          0.047041921406167975,
          0.04309913245188643,
          0.04309913245188643,
          0.04309913245188643,
          0.04309913245188643,
          0.04315482671899351,
          0.04315482671899351,
          0.04315482671899351,
          0.04315482671899351,
          0.04315482671899351,
          0.04315482671899351,
          0.04315482671899351,
          0.04315482671899351,
          0.04315482671899351,
          0.04315482671899351,
          0.04315482671899351,
          0.04315482671899351,
          0.04315482671899351,
          0.04315482671899351,
          0.04315482671899351,
          0.04315482671899351,
          0.05761170098091803,
          0.06040177426642507,
          0.06040177426642507,
          0.07104908999526557
         ],
         "yaxis": "y5"
        },
        {
         "customdata": [
          [
           0.21236562728881836,
           "ale",
           "balance"
          ],
          [
           0.21236562728881836,
           "ale",
           "balance"
          ],
          [
           0.21236562728881836,
           "ale",
           "balance"
          ],
          [
           0.21236562728881836,
           "ale",
           "balance"
          ],
          [
           0.21236562728881836,
           "ale",
           "balance"
          ],
          [
           0.21236562728881836,
           "ale",
           "balance"
          ],
          [
           0.21236562728881836,
           "ale",
           "balance"
          ],
          [
           0.21236562728881836,
           "ale",
           "balance"
          ],
          [
           0.21236562728881836,
           "ale",
           "balance"
          ],
          [
           0.21236562728881836,
           "ale",
           "balance"
          ],
          [
           0.21236562728881836,
           "ale",
           "balance"
          ],
          [
           0.21236562728881836,
           "ale",
           "balance"
          ],
          [
           0.21236562728881836,
           "ale",
           "balance"
          ],
          [
           0.21236562728881836,
           "ale",
           "balance"
          ],
          [
           0.21236562728881836,
           "ale",
           "balance"
          ],
          [
           0.21236562728881836,
           "ale",
           "balance"
          ],
          [
           0.21236562728881836,
           "ale",
           "balance"
          ],
          [
           0.21236562728881836,
           "ale",
           "balance"
          ],
          [
           0.21236562728881836,
           "ale",
           "balance"
          ],
          [
           0.21236562728881836,
           "ale",
           "balance"
          ],
          [
           0.21236562728881836,
           "ale",
           "balance"
          ],
          [
           0.21236562728881836,
           "ale",
           "balance"
          ],
          [
           0.21236562728881836,
           "ale",
           "balance"
          ],
          [
           0.21236562728881836,
           "ale",
           "balance"
          ],
          [
           0.21236562728881836,
           "ale",
           "balance"
          ],
          [
           0.21236562728881836,
           "ale",
           "balance"
          ],
          [
           0.21236562728881836,
           "ale",
           "balance"
          ],
          [
           0.21236562728881836,
           "ale",
           "balance"
          ],
          [
           0.21236562728881836,
           "ale",
           "balance"
          ],
          [
           0.21236562728881836,
           "ale",
           "balance"
          ],
          [
           0.21236562728881836,
           "ale",
           "balance"
          ],
          [
           0.21236562728881836,
           "ale",
           "balance"
          ],
          [
           0.21236562728881836,
           "ale",
           "balance"
          ],
          [
           0.21236562728881836,
           "ale",
           "balance"
          ],
          [
           0.21236562728881836,
           "ale",
           "balance"
          ],
          [
           0.21236562728881836,
           "ale",
           "balance"
          ],
          [
           0.21236562728881836,
           "ale",
           "balance"
          ],
          [
           0.21236562728881836,
           "ale",
           "balance"
          ],
          [
           0.21236562728881836,
           "ale",
           "balance"
          ],
          [
           0.21236562728881836,
           "ale",
           "balance"
          ],
          [
           0.21236562728881836,
           "ale",
           "balance"
          ],
          [
           0.21236562728881836,
           "ale",
           "balance"
          ],
          [
           0.21236562728881836,
           "ale",
           "balance"
          ],
          [
           0.21236562728881836,
           "ale",
           "balance"
          ],
          [
           0.21236562728881836,
           "ale",
           "balance"
          ],
          [
           0.21236562728881836,
           "ale",
           "balance"
          ],
          [
           0.21236562728881836,
           "ale",
           "balance"
          ],
          [
           0.21236562728881836,
           "ale",
           "balance"
          ],
          [
           0.21236562728881836,
           "ale",
           "balance"
          ],
          [
           0.21236562728881836,
           "ale",
           "balance"
          ],
          [
           0.21236562728881836,
           "ale",
           "balance"
          ],
          [
           0.21236562728881836,
           "ale",
           "balance"
          ],
          [
           0.21236562728881836,
           "ale",
           "balance"
          ],
          [
           0.21236562728881836,
           "ale",
           "balance"
          ],
          [
           0.21236562728881836,
           "ale",
           "balance"
          ],
          [
           0.21236562728881836,
           "ale",
           "balance"
          ],
          [
           0.21236562728881836,
           "ale",
           "balance"
          ],
          [
           0.21236562728881836,
           "ale",
           "balance"
          ],
          [
           0.21236562728881836,
           "ale",
           "balance"
          ],
          [
           0.21236562728881836,
           "ale",
           "balance"
          ],
          [
           0.21236562728881836,
           "ale",
           "balance"
          ],
          [
           0.21236562728881836,
           "ale",
           "balance"
          ],
          [
           0.21236562728881836,
           "ale",
           "balance"
          ],
          [
           0.21236562728881836,
           "ale",
           "balance"
          ],
          [
           0.21236562728881836,
           "ale",
           "balance"
          ],
          [
           0.21236562728881836,
           "ale",
           "balance"
          ],
          [
           0.21236562728881836,
           "ale",
           "balance"
          ],
          [
           0.21236562728881836,
           "ale",
           "balance"
          ],
          [
           0.21236562728881836,
           "ale",
           "balance"
          ],
          [
           0.21236562728881836,
           "ale",
           "balance"
          ],
          [
           0.21236562728881836,
           "ale",
           "balance"
          ],
          [
           0.21236562728881836,
           "ale",
           "balance"
          ],
          [
           0.21236562728881836,
           "ale",
           "balance"
          ],
          [
           0.21236562728881836,
           "ale",
           "balance"
          ],
          [
           0.21236562728881836,
           "ale",
           "balance"
          ],
          [
           0.21236562728881836,
           "ale",
           "balance"
          ],
          [
           0.21236562728881836,
           "ale",
           "balance"
          ],
          [
           0.21236562728881836,
           "ale",
           "balance"
          ],
          [
           0.21236562728881836,
           "ale",
           "balance"
          ],
          [
           0.21236562728881836,
           "ale",
           "balance"
          ],
          [
           0.21236562728881836,
           "ale",
           "balance"
          ],
          [
           0.21236562728881836,
           "ale",
           "balance"
          ],
          [
           0.21236562728881836,
           "ale",
           "balance"
          ],
          [
           0.21236562728881836,
           "ale",
           "balance"
          ],
          [
           0.21236562728881836,
           "ale",
           "balance"
          ],
          [
           0.21236562728881836,
           "ale",
           "balance"
          ],
          [
           0.21236562728881836,
           "ale",
           "balance"
          ],
          [
           0.21236562728881836,
           "ale",
           "balance"
          ],
          [
           0.21236562728881836,
           "ale",
           "balance"
          ],
          [
           0.21236562728881836,
           "ale",
           "balance"
          ],
          [
           0.21236562728881836,
           "ale",
           "balance"
          ],
          [
           0.21236562728881836,
           "ale",
           "balance"
          ],
          [
           0.21236562728881836,
           "ale",
           "balance"
          ],
          [
           0.21236562728881836,
           "ale",
           "balance"
          ],
          [
           0.21236562728881836,
           "ale",
           "balance"
          ],
          [
           0.21236562728881836,
           "ale",
           "balance"
          ],
          [
           0.21236562728881836,
           "ale",
           "balance"
          ],
          [
           0.21236562728881836,
           "ale",
           "balance"
          ],
          [
           0.21236562728881836,
           "ale",
           "balance"
          ],
          [
           0.21236562728881836,
           "ale",
           "balance"
          ],
          [
           0.21236562728881836,
           "ale",
           "balance"
          ]
         ],
         "hovertemplate": "<b>%{hovertext}</b><br><br>prediction=%{y:.3f}<br>mean_prediction=%{customdata[0]:.3f}<extra></extra>",
         "hovertext": [
          "ale",
          "ale",
          "ale",
          "ale",
          "ale",
          "ale",
          "ale",
          "ale",
          "ale",
          "ale",
          "ale",
          "ale",
          "ale",
          "ale",
          "ale",
          "ale",
          "ale",
          "ale",
          "ale",
          "ale",
          "ale",
          "ale",
          "ale",
          "ale",
          "ale",
          "ale",
          "ale",
          "ale",
          "ale",
          "ale",
          "ale",
          "ale",
          "ale",
          "ale",
          "ale",
          "ale",
          "ale",
          "ale",
          "ale",
          "ale",
          "ale",
          "ale",
          "ale",
          "ale",
          "ale",
          "ale",
          "ale",
          "ale",
          "ale",
          "ale",
          "ale",
          "ale",
          "ale",
          "ale",
          "ale",
          "ale",
          "ale",
          "ale",
          "ale",
          "ale",
          "ale",
          "ale",
          "ale",
          "ale",
          "ale",
          "ale",
          "ale",
          "ale",
          "ale",
          "ale",
          "ale",
          "ale",
          "ale",
          "ale",
          "ale",
          "ale",
          "ale",
          "ale",
          "ale",
          "ale",
          "ale",
          "ale",
          "ale",
          "ale",
          "ale",
          "ale",
          "ale",
          "ale",
          "ale",
          "ale",
          "ale",
          "ale",
          "ale",
          "ale",
          "ale",
          "ale",
          "ale",
          "ale",
          "ale",
          "ale",
          "ale"
         ],
         "legendgroup": "ale",
         "line": {
          "color": "#4378bf",
          "dash": "solid",
          "width": 2
         },
         "marker": {
          "symbol": "circle"
         },
         "mode": "lines",
         "name": "ale",
         "opacity": 1,
         "orientation": "v",
         "showlegend": false,
         "type": "scatter",
         "x": [
          -1164,
          -731.9100000000001,
          -299.82000000000005,
          132.26999999999998,
          564.3599999999999,
          996.4499999999998,
          1428.54,
          1860.6299999999997,
          2292.72,
          2724.81,
          3156.8999999999996,
          3588.99,
          4021.08,
          4453.17,
          4885.259999999999,
          5317.349999999999,
          5749.44,
          6181.53,
          6613.62,
          7045.709999999999,
          7477.799999999999,
          7909.889999999999,
          8341.98,
          8774.07,
          9206.16,
          9638.25,
          10070.34,
          10502.429999999998,
          10934.519999999999,
          11366.609999999999,
          11798.699999999999,
          12230.789999999999,
          12662.88,
          13094.97,
          13527.06,
          13959.15,
          14391.24,
          14823.33,
          15255.419999999998,
          15687.509999999998,
          16119.599999999999,
          16551.69,
          16983.78,
          17415.87,
          17847.96,
          18280.05,
          18712.14,
          19144.23,
          19576.32,
          20008.41,
          20440.5,
          20872.59,
          21304.68,
          21736.77,
          22168.859999999997,
          22600.949999999997,
          23033.039999999997,
          23465.129999999997,
          23897.219999999998,
          24329.309999999998,
          24761.399999999998,
          25193.489999999998,
          25625.579999999998,
          26057.67,
          26489.76,
          26921.85,
          27353.94,
          27786.03,
          28218.12,
          28650.21,
          29082.3,
          29514.39,
          29946.48,
          30378.57,
          30810.66,
          31242.749999999996,
          31674.839999999997,
          32106.93,
          32539.019999999997,
          32971.11,
          33403.2,
          33835.29,
          34267.38,
          34699.47,
          35131.56,
          35563.65,
          35995.74,
          36427.829999999994,
          36859.92,
          37292.009999999995,
          37724.1,
          38156.189999999995,
          38588.28,
          39020.369999999995,
          39452.46,
          39884.549999999996,
          40316.64,
          40748.729999999996,
          41180.82,
          41612.909999999996,
          42045
         ],
         "xaxis": "x6",
         "y": [
          0.130119484354426,
          0.130119484354426,
          0.130119484354426,
          0.130119484354426,
          0.130119484354426,
          0.130119484354426,
          0.12400149101588309,
          0.12362283151603173,
          0.19284505175011432,
          0.1436138467159442,
          0.1644266376507399,
          0.1653727483008521,
          0.1927081714364534,
          0.20750390459024617,
          0.20743608269806807,
          0.20743608269806807,
          0.20897502002719898,
          0.20897502002719898,
          0.20897502002719898,
          0.20935538022985822,
          0.20867612547504766,
          0.14734402180428904,
          0.1259734176489582,
          0.1259734176489582,
          0.1259734176489582,
          0.11920316914642123,
          0.112349629469959,
          0.12169662690685727,
          0.12169662690685727,
          0.1221213035192502,
          0.1221213035192502,
          0.11901088752837762,
          0.11901088752837762,
          0.11901088752837762,
          0.12247667877915516,
          0.12247667877915516,
          0.12247667877915516,
          0.11759218036897776,
          0.11759218036897776,
          0.11759218036897776,
          0.11759218036897776,
          0.11759218036897776,
          0.11759218036897776,
          0.11759218036897776,
          0.11759218036897776,
          0.11759218036897776,
          0.11759218036897776,
          0.11759218036897776,
          0.11759218036897776,
          0.11759218036897776,
          0.11759218036897776,
          0.11759218036897776,
          0.11759218036897776,
          0.11759218036897776,
          0.11759218036897776,
          0.11759218036897776,
          0.11759218036897776,
          0.11759218036897776,
          0.11759218036897776,
          0.11759218036897776,
          0.11759218036897776,
          0.11759218036897776,
          0.11759218036897776,
          0.11759218036897776,
          0.11759218036897776,
          0.11759218036897776,
          0.11759218036897776,
          0.11759218036897776,
          0.11759218036897776,
          0.11759218036897776,
          0.11759218036897776,
          0.11759218036897776,
          0.11759218036897776,
          0.11759218036897776,
          0.11759218036897776,
          0.11759218036897776,
          0.11759218036897776,
          0.11759218036897776,
          0.11759218036897776,
          0.11759218036897776,
          0.11759218036897776,
          0.11759218036897776,
          0.11759218036897776,
          0.11759218036897776,
          0.11759218036897776,
          0.11759218036897776,
          0.11759218036897776,
          0.11759218036897776,
          0.11759218036897776,
          0.11759218036897776,
          0.11759218036897776,
          0.11759218036897776,
          0.11759218036897776,
          0.11759218036897776,
          0.11759218036897776,
          0.11759218036897776,
          0.11759218036897776,
          0.11759218036897776,
          0.11759218036897776,
          0.11759218036897776,
          0.11759218036897776
         ],
         "yaxis": "y6"
        },
        {
         "customdata": [
          [
           0.21236562728881836,
           "ale",
           "duration"
          ],
          [
           0.21236562728881836,
           "ale",
           "duration"
          ],
          [
           0.21236562728881836,
           "ale",
           "duration"
          ],
          [
           0.21236562728881836,
           "ale",
           "duration"
          ],
          [
           0.21236562728881836,
           "ale",
           "duration"
          ],
          [
           0.21236562728881836,
           "ale",
           "duration"
          ],
          [
           0.21236562728881836,
           "ale",
           "duration"
          ],
          [
           0.21236562728881836,
           "ale",
           "duration"
          ],
          [
           0.21236562728881836,
           "ale",
           "duration"
          ],
          [
           0.21236562728881836,
           "ale",
           "duration"
          ],
          [
           0.21236562728881836,
           "ale",
           "duration"
          ],
          [
           0.21236562728881836,
           "ale",
           "duration"
          ],
          [
           0.21236562728881836,
           "ale",
           "duration"
          ],
          [
           0.21236562728881836,
           "ale",
           "duration"
          ],
          [
           0.21236562728881836,
           "ale",
           "duration"
          ],
          [
           0.21236562728881836,
           "ale",
           "duration"
          ],
          [
           0.21236562728881836,
           "ale",
           "duration"
          ],
          [
           0.21236562728881836,
           "ale",
           "duration"
          ],
          [
           0.21236562728881836,
           "ale",
           "duration"
          ],
          [
           0.21236562728881836,
           "ale",
           "duration"
          ],
          [
           0.21236562728881836,
           "ale",
           "duration"
          ],
          [
           0.21236562728881836,
           "ale",
           "duration"
          ],
          [
           0.21236562728881836,
           "ale",
           "duration"
          ],
          [
           0.21236562728881836,
           "ale",
           "duration"
          ],
          [
           0.21236562728881836,
           "ale",
           "duration"
          ],
          [
           0.21236562728881836,
           "ale",
           "duration"
          ],
          [
           0.21236562728881836,
           "ale",
           "duration"
          ],
          [
           0.21236562728881836,
           "ale",
           "duration"
          ],
          [
           0.21236562728881836,
           "ale",
           "duration"
          ],
          [
           0.21236562728881836,
           "ale",
           "duration"
          ],
          [
           0.21236562728881836,
           "ale",
           "duration"
          ],
          [
           0.21236562728881836,
           "ale",
           "duration"
          ],
          [
           0.21236562728881836,
           "ale",
           "duration"
          ],
          [
           0.21236562728881836,
           "ale",
           "duration"
          ],
          [
           0.21236562728881836,
           "ale",
           "duration"
          ],
          [
           0.21236562728881836,
           "ale",
           "duration"
          ],
          [
           0.21236562728881836,
           "ale",
           "duration"
          ],
          [
           0.21236562728881836,
           "ale",
           "duration"
          ],
          [
           0.21236562728881836,
           "ale",
           "duration"
          ],
          [
           0.21236562728881836,
           "ale",
           "duration"
          ],
          [
           0.21236562728881836,
           "ale",
           "duration"
          ],
          [
           0.21236562728881836,
           "ale",
           "duration"
          ],
          [
           0.21236562728881836,
           "ale",
           "duration"
          ],
          [
           0.21236562728881836,
           "ale",
           "duration"
          ],
          [
           0.21236562728881836,
           "ale",
           "duration"
          ],
          [
           0.21236562728881836,
           "ale",
           "duration"
          ],
          [
           0.21236562728881836,
           "ale",
           "duration"
          ],
          [
           0.21236562728881836,
           "ale",
           "duration"
          ],
          [
           0.21236562728881836,
           "ale",
           "duration"
          ],
          [
           0.21236562728881836,
           "ale",
           "duration"
          ],
          [
           0.21236562728881836,
           "ale",
           "duration"
          ],
          [
           0.21236562728881836,
           "ale",
           "duration"
          ],
          [
           0.21236562728881836,
           "ale",
           "duration"
          ],
          [
           0.21236562728881836,
           "ale",
           "duration"
          ],
          [
           0.21236562728881836,
           "ale",
           "duration"
          ],
          [
           0.21236562728881836,
           "ale",
           "duration"
          ],
          [
           0.21236562728881836,
           "ale",
           "duration"
          ],
          [
           0.21236562728881836,
           "ale",
           "duration"
          ],
          [
           0.21236562728881836,
           "ale",
           "duration"
          ],
          [
           0.21236562728881836,
           "ale",
           "duration"
          ],
          [
           0.21236562728881836,
           "ale",
           "duration"
          ],
          [
           0.21236562728881836,
           "ale",
           "duration"
          ],
          [
           0.21236562728881836,
           "ale",
           "duration"
          ],
          [
           0.21236562728881836,
           "ale",
           "duration"
          ],
          [
           0.21236562728881836,
           "ale",
           "duration"
          ],
          [
           0.21236562728881836,
           "ale",
           "duration"
          ],
          [
           0.21236562728881836,
           "ale",
           "duration"
          ],
          [
           0.21236562728881836,
           "ale",
           "duration"
          ],
          [
           0.21236562728881836,
           "ale",
           "duration"
          ],
          [
           0.21236562728881836,
           "ale",
           "duration"
          ],
          [
           0.21236562728881836,
           "ale",
           "duration"
          ],
          [
           0.21236562728881836,
           "ale",
           "duration"
          ],
          [
           0.21236562728881836,
           "ale",
           "duration"
          ],
          [
           0.21236562728881836,
           "ale",
           "duration"
          ],
          [
           0.21236562728881836,
           "ale",
           "duration"
          ],
          [
           0.21236562728881836,
           "ale",
           "duration"
          ],
          [
           0.21236562728881836,
           "ale",
           "duration"
          ],
          [
           0.21236562728881836,
           "ale",
           "duration"
          ],
          [
           0.21236562728881836,
           "ale",
           "duration"
          ],
          [
           0.21236562728881836,
           "ale",
           "duration"
          ],
          [
           0.21236562728881836,
           "ale",
           "duration"
          ],
          [
           0.21236562728881836,
           "ale",
           "duration"
          ],
          [
           0.21236562728881836,
           "ale",
           "duration"
          ],
          [
           0.21236562728881836,
           "ale",
           "duration"
          ],
          [
           0.21236562728881836,
           "ale",
           "duration"
          ],
          [
           0.21236562728881836,
           "ale",
           "duration"
          ],
          [
           0.21236562728881836,
           "ale",
           "duration"
          ],
          [
           0.21236562728881836,
           "ale",
           "duration"
          ],
          [
           0.21236562728881836,
           "ale",
           "duration"
          ],
          [
           0.21236562728881836,
           "ale",
           "duration"
          ],
          [
           0.21236562728881836,
           "ale",
           "duration"
          ],
          [
           0.21236562728881836,
           "ale",
           "duration"
          ],
          [
           0.21236562728881836,
           "ale",
           "duration"
          ],
          [
           0.21236562728881836,
           "ale",
           "duration"
          ],
          [
           0.21236562728881836,
           "ale",
           "duration"
          ],
          [
           0.21236562728881836,
           "ale",
           "duration"
          ],
          [
           0.21236562728881836,
           "ale",
           "duration"
          ],
          [
           0.21236562728881836,
           "ale",
           "duration"
          ],
          [
           0.21236562728881836,
           "ale",
           "duration"
          ],
          [
           0.21236562728881836,
           "ale",
           "duration"
          ],
          [
           0.21236562728881836,
           "ale",
           "duration"
          ]
         ],
         "hovertemplate": "<b>%{hovertext}</b><br><br>prediction=%{y:.3f}<br>mean_prediction=%{customdata[0]:.3f}<extra></extra>",
         "hovertext": [
          "ale",
          "ale",
          "ale",
          "ale",
          "ale",
          "ale",
          "ale",
          "ale",
          "ale",
          "ale",
          "ale",
          "ale",
          "ale",
          "ale",
          "ale",
          "ale",
          "ale",
          "ale",
          "ale",
          "ale",
          "ale",
          "ale",
          "ale",
          "ale",
          "ale",
          "ale",
          "ale",
          "ale",
          "ale",
          "ale",
          "ale",
          "ale",
          "ale",
          "ale",
          "ale",
          "ale",
          "ale",
          "ale",
          "ale",
          "ale",
          "ale",
          "ale",
          "ale",
          "ale",
          "ale",
          "ale",
          "ale",
          "ale",
          "ale",
          "ale",
          "ale",
          "ale",
          "ale",
          "ale",
          "ale",
          "ale",
          "ale",
          "ale",
          "ale",
          "ale",
          "ale",
          "ale",
          "ale",
          "ale",
          "ale",
          "ale",
          "ale",
          "ale",
          "ale",
          "ale",
          "ale",
          "ale",
          "ale",
          "ale",
          "ale",
          "ale",
          "ale",
          "ale",
          "ale",
          "ale",
          "ale",
          "ale",
          "ale",
          "ale",
          "ale",
          "ale",
          "ale",
          "ale",
          "ale",
          "ale",
          "ale",
          "ale",
          "ale",
          "ale",
          "ale",
          "ale",
          "ale",
          "ale",
          "ale",
          "ale",
          "ale"
         ],
         "legendgroup": "ale",
         "line": {
          "color": "#4378bf",
          "dash": "solid",
          "width": 2
         },
         "marker": {
          "symbol": "circle"
         },
         "mode": "lines",
         "name": "ale",
         "opacity": 1,
         "orientation": "v",
         "showlegend": false,
         "type": "scatter",
         "x": [
          5,
          24.66,
          44.32,
          63.980000000000004,
          83.64,
          103.3,
          122.96000000000001,
          142.62,
          162.28,
          181.94,
          201.6,
          221.26,
          240.92000000000002,
          260.58000000000004,
          280.24,
          299.9,
          319.56,
          339.22,
          358.88,
          378.54,
          398.2,
          417.86,
          437.52,
          457.18,
          476.84000000000003,
          496.5,
          516.1600000000001,
          535.82,
          555.48,
          575.14,
          594.8,
          614.46,
          634.12,
          653.78,
          673.44,
          693.1,
          712.76,
          732.42,
          752.08,
          771.74,
          791.4,
          811.0600000000001,
          830.72,
          850.38,
          870.04,
          889.7,
          909.36,
          929.02,
          948.6800000000001,
          968.34,
          988,
          1007.66,
          1027.3200000000002,
          1046.98,
          1066.64,
          1086.3,
          1105.96,
          1125.6200000000001,
          1145.28,
          1164.94,
          1184.6,
          1204.26,
          1223.92,
          1243.58,
          1263.24,
          1282.9,
          1302.56,
          1322.22,
          1341.88,
          1361.54,
          1381.2,
          1400.86,
          1420.52,
          1440.18,
          1459.84,
          1479.5,
          1499.16,
          1518.82,
          1538.48,
          1558.14,
          1577.8,
          1597.46,
          1617.1200000000001,
          1636.78,
          1656.44,
          1676.1,
          1695.76,
          1715.42,
          1735.08,
          1754.74,
          1774.4,
          1794.06,
          1813.72,
          1833.38,
          1853.04,
          1872.7,
          1892.3600000000001,
          1912.02,
          1931.68,
          1951.34,
          1971
         ],
         "xaxis": "x3",
         "y": [
          0.130119484354426,
          0.130119484354426,
          0.130119484354426,
          0.130119484354426,
          0.18074528564108996,
          0.189485029341868,
          0.19978908358200115,
          0.21203780814709505,
          0.21457933049537192,
          0.21263389948458272,
          0.21256517353271565,
          0.31583436654987124,
          0.32142380277628113,
          0.32507543330955735,
          0.3264695147760372,
          0.3388589604853286,
          0.34153089946311027,
          0.35079740614346827,
          0.43654137793781406,
          0.47516697175811146,
          0.49436481425369655,
          0.4956108312548506,
          0.5473494261584462,
          0.5580142502674128,
          0.5745485107068167,
          0.6023392632639959,
          0.6037829323164134,
          0.5454568245893492,
          0.656086382798627,
          0.6641608555942577,
          0.6690634633658118,
          0.6690634633658118,
          0.6725061917442878,
          0.8666197590417287,
          0.8370253923142567,
          0.8370253923142567,
          0.8368408735638181,
          0.8368408735638181,
          0.8108982365134922,
          0.9124273683792332,
          0.9124888997610417,
          0.998321226300618,
          0.998321226300618,
          0.9600141339929524,
          0.9600141339929524,
          0.9831292008508595,
          0.9831292008508595,
          0.9831292008508595,
          0.9878890902686444,
          0.9878890902686444,
          0.9878890902686444,
          0.985781107238193,
          0.985781107238193,
          0.985781107238193,
          0.985781107238193,
          0.985781107238193,
          0.9839635296053227,
          0.9834350724597387,
          0.9834350724597387,
          0.9834350724597387,
          0.9834350724597387,
          0.9940670128828955,
          0.9940670128828955,
          0.9940670128828955,
          0.9940670128828955,
          0.9940670128828955,
          0.9940670128828955,
          0.9940670128828955,
          0.9940670128828955,
          0.9940670128828955,
          0.9940670128828955,
          0.9940670128828955,
          0.9940670128828955,
          0.9906231966113896,
          0.9906231966113896,
          0.9906231966113896,
          0.9906231966113896,
          0.9906231966113896,
          0.9906231966113896,
          0.9906231966113896,
          0.9906231966113896,
          0.9906231966113896,
          0.9906231966113896,
          0.9906231966113896,
          0.9906231966113896,
          0.9906231966113896,
          0.9906231966113896,
          0.9906231966113896,
          0.9906231966113896,
          0.9906231966113896,
          0.9906231966113896,
          0.9906231966113896,
          0.9906231966113896,
          0.9906231966113896,
          0.9906231966113896,
          0.9906231966113896,
          0.9906231966113896,
          0.9906231966113896,
          0.9906231966113896,
          0.9906231966113896,
          0.9906231966113896
         ],
         "yaxis": "y3"
        },
        {
         "customdata": [
          [
           0.21236562728881836,
           "ale",
           "campaign"
          ],
          [
           0.21236562728881836,
           "ale",
           "campaign"
          ],
          [
           0.21236562728881836,
           "ale",
           "campaign"
          ],
          [
           0.21236562728881836,
           "ale",
           "campaign"
          ],
          [
           0.21236562728881836,
           "ale",
           "campaign"
          ],
          [
           0.21236562728881836,
           "ale",
           "campaign"
          ],
          [
           0.21236562728881836,
           "ale",
           "campaign"
          ],
          [
           0.21236562728881836,
           "ale",
           "campaign"
          ],
          [
           0.21236562728881836,
           "ale",
           "campaign"
          ],
          [
           0.21236562728881836,
           "ale",
           "campaign"
          ],
          [
           0.21236562728881836,
           "ale",
           "campaign"
          ],
          [
           0.21236562728881836,
           "ale",
           "campaign"
          ],
          [
           0.21236562728881836,
           "ale",
           "campaign"
          ],
          [
           0.21236562728881836,
           "ale",
           "campaign"
          ],
          [
           0.21236562728881836,
           "ale",
           "campaign"
          ],
          [
           0.21236562728881836,
           "ale",
           "campaign"
          ],
          [
           0.21236562728881836,
           "ale",
           "campaign"
          ],
          [
           0.21236562728881836,
           "ale",
           "campaign"
          ],
          [
           0.21236562728881836,
           "ale",
           "campaign"
          ],
          [
           0.21236562728881836,
           "ale",
           "campaign"
          ],
          [
           0.21236562728881836,
           "ale",
           "campaign"
          ],
          [
           0.21236562728881836,
           "ale",
           "campaign"
          ],
          [
           0.21236562728881836,
           "ale",
           "campaign"
          ],
          [
           0.21236562728881836,
           "ale",
           "campaign"
          ],
          [
           0.21236562728881836,
           "ale",
           "campaign"
          ],
          [
           0.21236562728881836,
           "ale",
           "campaign"
          ],
          [
           0.21236562728881836,
           "ale",
           "campaign"
          ],
          [
           0.21236562728881836,
           "ale",
           "campaign"
          ],
          [
           0.21236562728881836,
           "ale",
           "campaign"
          ],
          [
           0.21236562728881836,
           "ale",
           "campaign"
          ],
          [
           0.21236562728881836,
           "ale",
           "campaign"
          ],
          [
           0.21236562728881836,
           "ale",
           "campaign"
          ],
          [
           0.21236562728881836,
           "ale",
           "campaign"
          ],
          [
           0.21236562728881836,
           "ale",
           "campaign"
          ],
          [
           0.21236562728881836,
           "ale",
           "campaign"
          ],
          [
           0.21236562728881836,
           "ale",
           "campaign"
          ],
          [
           0.21236562728881836,
           "ale",
           "campaign"
          ],
          [
           0.21236562728881836,
           "ale",
           "campaign"
          ],
          [
           0.21236562728881836,
           "ale",
           "campaign"
          ],
          [
           0.21236562728881836,
           "ale",
           "campaign"
          ],
          [
           0.21236562728881836,
           "ale",
           "campaign"
          ],
          [
           0.21236562728881836,
           "ale",
           "campaign"
          ],
          [
           0.21236562728881836,
           "ale",
           "campaign"
          ],
          [
           0.21236562728881836,
           "ale",
           "campaign"
          ],
          [
           0.21236562728881836,
           "ale",
           "campaign"
          ],
          [
           0.21236562728881836,
           "ale",
           "campaign"
          ],
          [
           0.21236562728881836,
           "ale",
           "campaign"
          ],
          [
           0.21236562728881836,
           "ale",
           "campaign"
          ],
          [
           0.21236562728881836,
           "ale",
           "campaign"
          ],
          [
           0.21236562728881836,
           "ale",
           "campaign"
          ],
          [
           0.21236562728881836,
           "ale",
           "campaign"
          ],
          [
           0.21236562728881836,
           "ale",
           "campaign"
          ],
          [
           0.21236562728881836,
           "ale",
           "campaign"
          ],
          [
           0.21236562728881836,
           "ale",
           "campaign"
          ],
          [
           0.21236562728881836,
           "ale",
           "campaign"
          ],
          [
           0.21236562728881836,
           "ale",
           "campaign"
          ],
          [
           0.21236562728881836,
           "ale",
           "campaign"
          ],
          [
           0.21236562728881836,
           "ale",
           "campaign"
          ],
          [
           0.21236562728881836,
           "ale",
           "campaign"
          ],
          [
           0.21236562728881836,
           "ale",
           "campaign"
          ],
          [
           0.21236562728881836,
           "ale",
           "campaign"
          ],
          [
           0.21236562728881836,
           "ale",
           "campaign"
          ],
          [
           0.21236562728881836,
           "ale",
           "campaign"
          ],
          [
           0.21236562728881836,
           "ale",
           "campaign"
          ],
          [
           0.21236562728881836,
           "ale",
           "campaign"
          ],
          [
           0.21236562728881836,
           "ale",
           "campaign"
          ],
          [
           0.21236562728881836,
           "ale",
           "campaign"
          ],
          [
           0.21236562728881836,
           "ale",
           "campaign"
          ],
          [
           0.21236562728881836,
           "ale",
           "campaign"
          ],
          [
           0.21236562728881836,
           "ale",
           "campaign"
          ],
          [
           0.21236562728881836,
           "ale",
           "campaign"
          ],
          [
           0.21236562728881836,
           "ale",
           "campaign"
          ],
          [
           0.21236562728881836,
           "ale",
           "campaign"
          ],
          [
           0.21236562728881836,
           "ale",
           "campaign"
          ],
          [
           0.21236562728881836,
           "ale",
           "campaign"
          ],
          [
           0.21236562728881836,
           "ale",
           "campaign"
          ],
          [
           0.21236562728881836,
           "ale",
           "campaign"
          ],
          [
           0.21236562728881836,
           "ale",
           "campaign"
          ],
          [
           0.21236562728881836,
           "ale",
           "campaign"
          ],
          [
           0.21236562728881836,
           "ale",
           "campaign"
          ],
          [
           0.21236562728881836,
           "ale",
           "campaign"
          ],
          [
           0.21236562728881836,
           "ale",
           "campaign"
          ],
          [
           0.21236562728881836,
           "ale",
           "campaign"
          ],
          [
           0.21236562728881836,
           "ale",
           "campaign"
          ],
          [
           0.21236562728881836,
           "ale",
           "campaign"
          ],
          [
           0.21236562728881836,
           "ale",
           "campaign"
          ],
          [
           0.21236562728881836,
           "ale",
           "campaign"
          ],
          [
           0.21236562728881836,
           "ale",
           "campaign"
          ],
          [
           0.21236562728881836,
           "ale",
           "campaign"
          ],
          [
           0.21236562728881836,
           "ale",
           "campaign"
          ],
          [
           0.21236562728881836,
           "ale",
           "campaign"
          ],
          [
           0.21236562728881836,
           "ale",
           "campaign"
          ],
          [
           0.21236562728881836,
           "ale",
           "campaign"
          ],
          [
           0.21236562728881836,
           "ale",
           "campaign"
          ],
          [
           0.21236562728881836,
           "ale",
           "campaign"
          ],
          [
           0.21236562728881836,
           "ale",
           "campaign"
          ],
          [
           0.21236562728881836,
           "ale",
           "campaign"
          ],
          [
           0.21236562728881836,
           "ale",
           "campaign"
          ],
          [
           0.21236562728881836,
           "ale",
           "campaign"
          ],
          [
           0.21236562728881836,
           "ale",
           "campaign"
          ],
          [
           0.21236562728881836,
           "ale",
           "campaign"
          ]
         ],
         "hovertemplate": "<b>%{hovertext}</b><br><br>prediction=%{y:.3f}<br>mean_prediction=%{customdata[0]:.3f}<extra></extra>",
         "hovertext": [
          "ale",
          "ale",
          "ale",
          "ale",
          "ale",
          "ale",
          "ale",
          "ale",
          "ale",
          "ale",
          "ale",
          "ale",
          "ale",
          "ale",
          "ale",
          "ale",
          "ale",
          "ale",
          "ale",
          "ale",
          "ale",
          "ale",
          "ale",
          "ale",
          "ale",
          "ale",
          "ale",
          "ale",
          "ale",
          "ale",
          "ale",
          "ale",
          "ale",
          "ale",
          "ale",
          "ale",
          "ale",
          "ale",
          "ale",
          "ale",
          "ale",
          "ale",
          "ale",
          "ale",
          "ale",
          "ale",
          "ale",
          "ale",
          "ale",
          "ale",
          "ale",
          "ale",
          "ale",
          "ale",
          "ale",
          "ale",
          "ale",
          "ale",
          "ale",
          "ale",
          "ale",
          "ale",
          "ale",
          "ale",
          "ale",
          "ale",
          "ale",
          "ale",
          "ale",
          "ale",
          "ale",
          "ale",
          "ale",
          "ale",
          "ale",
          "ale",
          "ale",
          "ale",
          "ale",
          "ale",
          "ale",
          "ale",
          "ale",
          "ale",
          "ale",
          "ale",
          "ale",
          "ale",
          "ale",
          "ale",
          "ale",
          "ale",
          "ale",
          "ale",
          "ale",
          "ale",
          "ale",
          "ale",
          "ale",
          "ale",
          "ale"
         ],
         "legendgroup": "ale",
         "line": {
          "color": "#4378bf",
          "dash": "solid",
          "width": 2
         },
         "marker": {
          "symbol": "circle"
         },
         "mode": "lines",
         "name": "ale",
         "opacity": 1,
         "orientation": "v",
         "showlegend": false,
         "type": "scatter",
         "x": [
          1,
          1.49,
          1.98,
          2.4699999999999998,
          2.96,
          3.45,
          3.94,
          4.43,
          4.92,
          5.41,
          5.9,
          6.39,
          6.88,
          7.37,
          7.859999999999999,
          8.35,
          8.84,
          9.33,
          9.82,
          10.31,
          10.8,
          11.29,
          11.78,
          12.27,
          12.76,
          13.25,
          13.74,
          14.23,
          14.719999999999999,
          15.209999999999999,
          15.7,
          16.189999999999998,
          16.68,
          17.169999999999998,
          17.66,
          18.15,
          18.64,
          19.13,
          19.62,
          20.11,
          20.6,
          21.09,
          21.58,
          22.07,
          22.56,
          23.05,
          23.54,
          24.03,
          24.52,
          25.009999999999998,
          25.5,
          25.99,
          26.48,
          26.97,
          27.46,
          27.95,
          28.439999999999998,
          28.93,
          29.419999999999998,
          29.91,
          30.4,
          30.89,
          31.38,
          31.87,
          32.36,
          32.849999999999994,
          33.339999999999996,
          33.83,
          34.32,
          34.81,
          35.3,
          35.79,
          36.28,
          36.769999999999996,
          37.26,
          37.75,
          38.24,
          38.73,
          39.22,
          39.71,
          40.2,
          40.69,
          41.18,
          41.67,
          42.16,
          42.65,
          43.14,
          43.63,
          44.12,
          44.61,
          45.1,
          45.589999999999996,
          46.08,
          46.57,
          47.06,
          47.55,
          48.04,
          48.53,
          49.019999999999996,
          49.51,
          50
         ],
         "xaxis": "x4",
         "y": [
          0.130119484354426,
          0.130119484354426,
          0.10224227597862613,
          0.10224227597862613,
          0.10761858681353556,
          0.10761858681353556,
          0.10395164271304838,
          0.10395164271304838,
          0.04871229447016051,
          0.04871229447016051,
          0.05365184974743897,
          0.05365184974743897,
          0.05162694230739806,
          0.05162694230739806,
          0.05162694230739806,
          0.05162694230739806,
          0.05162694230739806,
          0.05162694230739806,
          0.038070738091073725,
          0.038070738091073725,
          0.038070738091073725,
          0.038070738091073725,
          0.038070738091073725,
          0.038070738091073725,
          0.038070738091073725,
          0.038070738091073725,
          0.038070738091073725,
          0.038070738091073725,
          0.038070738091073725,
          0.038070738091073725,
          0.038070738091073725,
          0.038070738091073725,
          0.038070738091073725,
          0.038070738091073725,
          0.038070738091073725,
          0.038070738091073725,
          0.038070738091073725,
          0.038070738091073725,
          0.038070738091073725,
          0.038070738091073725,
          0.038070738091073725,
          0.038070738091073725,
          0.038070738091073725,
          0.038070738091073725,
          0.038070738091073725,
          0.038070738091073725,
          0.038070738091073725,
          0.038070738091073725,
          0.038070738091073725,
          0.038070738091073725,
          0.038070738091073725,
          0.038070738091073725,
          0.038070738091073725,
          0.038070738091073725,
          0.038070738091073725,
          0.038070738091073725,
          0.038070738091073725,
          0.038070738091073725,
          0.038070738091073725,
          0.038070738091073725,
          0.038070738091073725,
          0.038070738091073725,
          0.038070738091073725,
          0.038070738091073725,
          0.038070738091073725,
          0.038070738091073725,
          0.038070738091073725,
          0.038070738091073725,
          0.038070738091073725,
          0.038070738091073725,
          0.038070738091073725,
          0.038070738091073725,
          0.038070738091073725,
          0.038070738091073725,
          0.038070738091073725,
          0.038070738091073725,
          0.038070738091073725,
          0.038070738091073725,
          0.038070738091073725,
          0.038070738091073725,
          0.038070738091073725,
          0.038070738091073725,
          0.038070738091073725,
          0.038070738091073725,
          0.038070738091073725,
          0.038070738091073725,
          0.038070738091073725,
          0.038070738091073725,
          0.038070738091073725,
          0.038070738091073725,
          0.038070738091073725,
          0.038070738091073725,
          0.038070738091073725,
          0.038070738091073725,
          0.038070738091073725,
          0.038070738091073725,
          0.038070738091073725,
          0.038070738091073725,
          0.038070738091073725,
          0.038070738091073725,
          0.038070738091073725
         ],
         "yaxis": "y4"
        },
        {
         "customdata": [
          [
           0.21236562728881836,
           "ale",
           "pdays"
          ],
          [
           0.21236562728881836,
           "ale",
           "pdays"
          ],
          [
           0.21236562728881836,
           "ale",
           "pdays"
          ],
          [
           0.21236562728881836,
           "ale",
           "pdays"
          ],
          [
           0.21236562728881836,
           "ale",
           "pdays"
          ],
          [
           0.21236562728881836,
           "ale",
           "pdays"
          ],
          [
           0.21236562728881836,
           "ale",
           "pdays"
          ],
          [
           0.21236562728881836,
           "ale",
           "pdays"
          ],
          [
           0.21236562728881836,
           "ale",
           "pdays"
          ],
          [
           0.21236562728881836,
           "ale",
           "pdays"
          ],
          [
           0.21236562728881836,
           "ale",
           "pdays"
          ],
          [
           0.21236562728881836,
           "ale",
           "pdays"
          ],
          [
           0.21236562728881836,
           "ale",
           "pdays"
          ],
          [
           0.21236562728881836,
           "ale",
           "pdays"
          ],
          [
           0.21236562728881836,
           "ale",
           "pdays"
          ],
          [
           0.21236562728881836,
           "ale",
           "pdays"
          ],
          [
           0.21236562728881836,
           "ale",
           "pdays"
          ],
          [
           0.21236562728881836,
           "ale",
           "pdays"
          ],
          [
           0.21236562728881836,
           "ale",
           "pdays"
          ],
          [
           0.21236562728881836,
           "ale",
           "pdays"
          ],
          [
           0.21236562728881836,
           "ale",
           "pdays"
          ],
          [
           0.21236562728881836,
           "ale",
           "pdays"
          ],
          [
           0.21236562728881836,
           "ale",
           "pdays"
          ],
          [
           0.21236562728881836,
           "ale",
           "pdays"
          ],
          [
           0.21236562728881836,
           "ale",
           "pdays"
          ],
          [
           0.21236562728881836,
           "ale",
           "pdays"
          ],
          [
           0.21236562728881836,
           "ale",
           "pdays"
          ],
          [
           0.21236562728881836,
           "ale",
           "pdays"
          ],
          [
           0.21236562728881836,
           "ale",
           "pdays"
          ],
          [
           0.21236562728881836,
           "ale",
           "pdays"
          ],
          [
           0.21236562728881836,
           "ale",
           "pdays"
          ],
          [
           0.21236562728881836,
           "ale",
           "pdays"
          ],
          [
           0.21236562728881836,
           "ale",
           "pdays"
          ],
          [
           0.21236562728881836,
           "ale",
           "pdays"
          ],
          [
           0.21236562728881836,
           "ale",
           "pdays"
          ],
          [
           0.21236562728881836,
           "ale",
           "pdays"
          ],
          [
           0.21236562728881836,
           "ale",
           "pdays"
          ],
          [
           0.21236562728881836,
           "ale",
           "pdays"
          ],
          [
           0.21236562728881836,
           "ale",
           "pdays"
          ],
          [
           0.21236562728881836,
           "ale",
           "pdays"
          ],
          [
           0.21236562728881836,
           "ale",
           "pdays"
          ],
          [
           0.21236562728881836,
           "ale",
           "pdays"
          ],
          [
           0.21236562728881836,
           "ale",
           "pdays"
          ],
          [
           0.21236562728881836,
           "ale",
           "pdays"
          ],
          [
           0.21236562728881836,
           "ale",
           "pdays"
          ],
          [
           0.21236562728881836,
           "ale",
           "pdays"
          ],
          [
           0.21236562728881836,
           "ale",
           "pdays"
          ],
          [
           0.21236562728881836,
           "ale",
           "pdays"
          ],
          [
           0.21236562728881836,
           "ale",
           "pdays"
          ],
          [
           0.21236562728881836,
           "ale",
           "pdays"
          ],
          [
           0.21236562728881836,
           "ale",
           "pdays"
          ],
          [
           0.21236562728881836,
           "ale",
           "pdays"
          ],
          [
           0.21236562728881836,
           "ale",
           "pdays"
          ],
          [
           0.21236562728881836,
           "ale",
           "pdays"
          ],
          [
           0.21236562728881836,
           "ale",
           "pdays"
          ],
          [
           0.21236562728881836,
           "ale",
           "pdays"
          ],
          [
           0.21236562728881836,
           "ale",
           "pdays"
          ],
          [
           0.21236562728881836,
           "ale",
           "pdays"
          ],
          [
           0.21236562728881836,
           "ale",
           "pdays"
          ],
          [
           0.21236562728881836,
           "ale",
           "pdays"
          ],
          [
           0.21236562728881836,
           "ale",
           "pdays"
          ],
          [
           0.21236562728881836,
           "ale",
           "pdays"
          ],
          [
           0.21236562728881836,
           "ale",
           "pdays"
          ],
          [
           0.21236562728881836,
           "ale",
           "pdays"
          ],
          [
           0.21236562728881836,
           "ale",
           "pdays"
          ],
          [
           0.21236562728881836,
           "ale",
           "pdays"
          ],
          [
           0.21236562728881836,
           "ale",
           "pdays"
          ],
          [
           0.21236562728881836,
           "ale",
           "pdays"
          ],
          [
           0.21236562728881836,
           "ale",
           "pdays"
          ],
          [
           0.21236562728881836,
           "ale",
           "pdays"
          ],
          [
           0.21236562728881836,
           "ale",
           "pdays"
          ],
          [
           0.21236562728881836,
           "ale",
           "pdays"
          ],
          [
           0.21236562728881836,
           "ale",
           "pdays"
          ],
          [
           0.21236562728881836,
           "ale",
           "pdays"
          ],
          [
           0.21236562728881836,
           "ale",
           "pdays"
          ],
          [
           0.21236562728881836,
           "ale",
           "pdays"
          ],
          [
           0.21236562728881836,
           "ale",
           "pdays"
          ],
          [
           0.21236562728881836,
           "ale",
           "pdays"
          ],
          [
           0.21236562728881836,
           "ale",
           "pdays"
          ],
          [
           0.21236562728881836,
           "ale",
           "pdays"
          ],
          [
           0.21236562728881836,
           "ale",
           "pdays"
          ],
          [
           0.21236562728881836,
           "ale",
           "pdays"
          ],
          [
           0.21236562728881836,
           "ale",
           "pdays"
          ],
          [
           0.21236562728881836,
           "ale",
           "pdays"
          ],
          [
           0.21236562728881836,
           "ale",
           "pdays"
          ],
          [
           0.21236562728881836,
           "ale",
           "pdays"
          ],
          [
           0.21236562728881836,
           "ale",
           "pdays"
          ],
          [
           0.21236562728881836,
           "ale",
           "pdays"
          ],
          [
           0.21236562728881836,
           "ale",
           "pdays"
          ],
          [
           0.21236562728881836,
           "ale",
           "pdays"
          ],
          [
           0.21236562728881836,
           "ale",
           "pdays"
          ],
          [
           0.21236562728881836,
           "ale",
           "pdays"
          ],
          [
           0.21236562728881836,
           "ale",
           "pdays"
          ],
          [
           0.21236562728881836,
           "ale",
           "pdays"
          ],
          [
           0.21236562728881836,
           "ale",
           "pdays"
          ],
          [
           0.21236562728881836,
           "ale",
           "pdays"
          ],
          [
           0.21236562728881836,
           "ale",
           "pdays"
          ],
          [
           0.21236562728881836,
           "ale",
           "pdays"
          ],
          [
           0.21236562728881836,
           "ale",
           "pdays"
          ],
          [
           0.21236562728881836,
           "ale",
           "pdays"
          ],
          [
           0.21236562728881836,
           "ale",
           "pdays"
          ]
         ],
         "hovertemplate": "<b>%{hovertext}</b><br><br>prediction=%{y:.3f}<br>mean_prediction=%{customdata[0]:.3f}<extra></extra>",
         "hovertext": [
          "ale",
          "ale",
          "ale",
          "ale",
          "ale",
          "ale",
          "ale",
          "ale",
          "ale",
          "ale",
          "ale",
          "ale",
          "ale",
          "ale",
          "ale",
          "ale",
          "ale",
          "ale",
          "ale",
          "ale",
          "ale",
          "ale",
          "ale",
          "ale",
          "ale",
          "ale",
          "ale",
          "ale",
          "ale",
          "ale",
          "ale",
          "ale",
          "ale",
          "ale",
          "ale",
          "ale",
          "ale",
          "ale",
          "ale",
          "ale",
          "ale",
          "ale",
          "ale",
          "ale",
          "ale",
          "ale",
          "ale",
          "ale",
          "ale",
          "ale",
          "ale",
          "ale",
          "ale",
          "ale",
          "ale",
          "ale",
          "ale",
          "ale",
          "ale",
          "ale",
          "ale",
          "ale",
          "ale",
          "ale",
          "ale",
          "ale",
          "ale",
          "ale",
          "ale",
          "ale",
          "ale",
          "ale",
          "ale",
          "ale",
          "ale",
          "ale",
          "ale",
          "ale",
          "ale",
          "ale",
          "ale",
          "ale",
          "ale",
          "ale",
          "ale",
          "ale",
          "ale",
          "ale",
          "ale",
          "ale",
          "ale",
          "ale",
          "ale",
          "ale",
          "ale",
          "ale",
          "ale",
          "ale",
          "ale",
          "ale",
          "ale"
         ],
         "legendgroup": "ale",
         "line": {
          "color": "#4378bf",
          "dash": "solid",
          "width": 2
         },
         "marker": {
          "symbol": "circle"
         },
         "mode": "lines",
         "name": "ale",
         "opacity": 1,
         "orientation": "v",
         "showlegend": false,
         "type": "scatter",
         "x": [
          -1,
          7.09,
          15.18,
          23.27,
          31.36,
          39.45,
          47.54,
          55.629999999999995,
          63.72,
          71.81,
          79.9,
          87.99,
          96.08,
          104.17,
          112.25999999999999,
          120.35,
          128.44,
          136.53,
          144.62,
          152.71,
          160.8,
          168.89,
          176.98,
          185.07,
          193.16,
          201.25,
          209.34,
          217.43,
          225.51999999999998,
          233.60999999999999,
          241.7,
          249.79,
          257.88,
          265.96999999999997,
          274.06,
          282.15,
          290.24,
          298.33,
          306.42,
          314.51,
          322.6,
          330.69,
          338.78,
          346.87,
          354.96,
          363.05,
          371.14,
          379.23,
          387.32,
          395.40999999999997,
          403.5,
          411.59,
          419.68,
          427.77,
          435.86,
          443.95,
          452.03999999999996,
          460.13,
          468.21999999999997,
          476.31,
          484.4,
          492.49,
          500.58,
          508.67,
          516.76,
          524.85,
          532.9399999999999,
          541.03,
          549.12,
          557.21,
          565.3,
          573.39,
          581.48,
          589.5699999999999,
          597.66,
          605.75,
          613.84,
          621.93,
          630.02,
          638.11,
          646.2,
          654.29,
          662.38,
          670.47,
          678.56,
          686.65,
          694.74,
          702.83,
          710.92,
          719.01,
          727.1,
          735.1899999999999,
          743.28,
          751.37,
          759.46,
          767.55,
          775.64,
          783.73,
          791.8199999999999,
          799.91,
          808
         ],
         "xaxis": "x",
         "y": [
          0.130119484354426,
          0.130119484354426,
          0.130119484354426,
          0.130119484354426,
          0.130119484354426,
          0.16033123809616012,
          0.16139489666860363,
          0.16139489666860363,
          0.16139489666860363,
          0.16139489666860363,
          0.16060685127686836,
          0.16060685127686836,
          0.16294517202452224,
          0.16294517202452224,
          0.16294517202452224,
          0.16294517202452224,
          0.16294517202452224,
          0.16095233651001348,
          0.16095233651001348,
          0.16095233651001348,
          0.16095233651001348,
          0.16291596580444728,
          0.16291596580444728,
          0.16684787837286008,
          0.15875819609098168,
          0.10610876980990776,
          0.10610876980990776,
          0.10610876980990776,
          0.10610876980990776,
          0.10610876980990776,
          0.10610876980990776,
          0.10610876980990776,
          0.10610876980990776,
          0.1590541118587023,
          0.1590541118587023,
          0.1590541118587023,
          0.1590541118587023,
          0.07930826835528826,
          0.07930826835528826,
          0.07930826835528826,
          0.07930826835528826,
          0.07930826835528826,
          0.07930826835528826,
          0.07930826835528826,
          0.07930826835528826,
          0.07930826835528826,
          0.07930826835528826,
          0.2245471635575378,
          0.2245471635575378,
          0.2245471635575378,
          0.2245471635575378,
          0.2245471635575378,
          0.2245471635575378,
          0.2245471635575378,
          0.2245471635575378,
          0.2245471635575378,
          0.2245471635575378,
          0.2245471635575378,
          0.2245471635575378,
          0.2245471635575378,
          0.2245471635575378,
          0.2245471635575378,
          0.2245471635575378,
          0.2245471635575378,
          0.2245471635575378,
          0.2245471635575378,
          0.2245471635575378,
          0.2245471635575378,
          0.2245471635575378,
          0.2245471635575378,
          0.2245471635575378,
          0.2245471635575378,
          0.2245471635575378,
          0.2245471635575378,
          0.2245471635575378,
          0.2245471635575378,
          0.2245471635575378,
          0.2245471635575378,
          0.2245471635575378,
          0.2245471635575378,
          0.2245471635575378,
          0.2245471635575378,
          0.2245471635575378,
          0.2245471635575378,
          0.2245471635575378,
          0.2245471635575378,
          0.2245471635575378,
          0.2245471635575378,
          0.2245471635575378,
          0.2245471635575378,
          0.2245471635575378,
          0.2245471635575378,
          0.2245471635575378,
          0.2245471635575378,
          0.2245471635575378,
          0.2245471635575378,
          0.2245471635575378,
          0.2245471635575378,
          0.2245471635575378,
          0.2245471635575378,
          0.2245471635575378
         ],
         "yaxis": "y"
        },
        {
         "customdata": [
          [
           0.21236562728881836,
           "ale",
           "previous"
          ],
          [
           0.21236562728881836,
           "ale",
           "previous"
          ],
          [
           0.21236562728881836,
           "ale",
           "previous"
          ],
          [
           0.21236562728881836,
           "ale",
           "previous"
          ],
          [
           0.21236562728881836,
           "ale",
           "previous"
          ],
          [
           0.21236562728881836,
           "ale",
           "previous"
          ],
          [
           0.21236562728881836,
           "ale",
           "previous"
          ],
          [
           0.21236562728881836,
           "ale",
           "previous"
          ],
          [
           0.21236562728881836,
           "ale",
           "previous"
          ],
          [
           0.21236562728881836,
           "ale",
           "previous"
          ],
          [
           0.21236562728881836,
           "ale",
           "previous"
          ],
          [
           0.21236562728881836,
           "ale",
           "previous"
          ],
          [
           0.21236562728881836,
           "ale",
           "previous"
          ],
          [
           0.21236562728881836,
           "ale",
           "previous"
          ],
          [
           0.21236562728881836,
           "ale",
           "previous"
          ],
          [
           0.21236562728881836,
           "ale",
           "previous"
          ],
          [
           0.21236562728881836,
           "ale",
           "previous"
          ],
          [
           0.21236562728881836,
           "ale",
           "previous"
          ],
          [
           0.21236562728881836,
           "ale",
           "previous"
          ],
          [
           0.21236562728881836,
           "ale",
           "previous"
          ],
          [
           0.21236562728881836,
           "ale",
           "previous"
          ],
          [
           0.21236562728881836,
           "ale",
           "previous"
          ],
          [
           0.21236562728881836,
           "ale",
           "previous"
          ],
          [
           0.21236562728881836,
           "ale",
           "previous"
          ],
          [
           0.21236562728881836,
           "ale",
           "previous"
          ],
          [
           0.21236562728881836,
           "ale",
           "previous"
          ],
          [
           0.21236562728881836,
           "ale",
           "previous"
          ],
          [
           0.21236562728881836,
           "ale",
           "previous"
          ],
          [
           0.21236562728881836,
           "ale",
           "previous"
          ],
          [
           0.21236562728881836,
           "ale",
           "previous"
          ],
          [
           0.21236562728881836,
           "ale",
           "previous"
          ],
          [
           0.21236562728881836,
           "ale",
           "previous"
          ],
          [
           0.21236562728881836,
           "ale",
           "previous"
          ],
          [
           0.21236562728881836,
           "ale",
           "previous"
          ],
          [
           0.21236562728881836,
           "ale",
           "previous"
          ],
          [
           0.21236562728881836,
           "ale",
           "previous"
          ],
          [
           0.21236562728881836,
           "ale",
           "previous"
          ],
          [
           0.21236562728881836,
           "ale",
           "previous"
          ],
          [
           0.21236562728881836,
           "ale",
           "previous"
          ],
          [
           0.21236562728881836,
           "ale",
           "previous"
          ],
          [
           0.21236562728881836,
           "ale",
           "previous"
          ],
          [
           0.21236562728881836,
           "ale",
           "previous"
          ],
          [
           0.21236562728881836,
           "ale",
           "previous"
          ],
          [
           0.21236562728881836,
           "ale",
           "previous"
          ],
          [
           0.21236562728881836,
           "ale",
           "previous"
          ],
          [
           0.21236562728881836,
           "ale",
           "previous"
          ],
          [
           0.21236562728881836,
           "ale",
           "previous"
          ],
          [
           0.21236562728881836,
           "ale",
           "previous"
          ],
          [
           0.21236562728881836,
           "ale",
           "previous"
          ],
          [
           0.21236562728881836,
           "ale",
           "previous"
          ],
          [
           0.21236562728881836,
           "ale",
           "previous"
          ],
          [
           0.21236562728881836,
           "ale",
           "previous"
          ],
          [
           0.21236562728881836,
           "ale",
           "previous"
          ],
          [
           0.21236562728881836,
           "ale",
           "previous"
          ],
          [
           0.21236562728881836,
           "ale",
           "previous"
          ],
          [
           0.21236562728881836,
           "ale",
           "previous"
          ],
          [
           0.21236562728881836,
           "ale",
           "previous"
          ],
          [
           0.21236562728881836,
           "ale",
           "previous"
          ],
          [
           0.21236562728881836,
           "ale",
           "previous"
          ],
          [
           0.21236562728881836,
           "ale",
           "previous"
          ],
          [
           0.21236562728881836,
           "ale",
           "previous"
          ],
          [
           0.21236562728881836,
           "ale",
           "previous"
          ],
          [
           0.21236562728881836,
           "ale",
           "previous"
          ],
          [
           0.21236562728881836,
           "ale",
           "previous"
          ],
          [
           0.21236562728881836,
           "ale",
           "previous"
          ],
          [
           0.21236562728881836,
           "ale",
           "previous"
          ],
          [
           0.21236562728881836,
           "ale",
           "previous"
          ],
          [
           0.21236562728881836,
           "ale",
           "previous"
          ],
          [
           0.21236562728881836,
           "ale",
           "previous"
          ],
          [
           0.21236562728881836,
           "ale",
           "previous"
          ],
          [
           0.21236562728881836,
           "ale",
           "previous"
          ],
          [
           0.21236562728881836,
           "ale",
           "previous"
          ],
          [
           0.21236562728881836,
           "ale",
           "previous"
          ],
          [
           0.21236562728881836,
           "ale",
           "previous"
          ],
          [
           0.21236562728881836,
           "ale",
           "previous"
          ],
          [
           0.21236562728881836,
           "ale",
           "previous"
          ],
          [
           0.21236562728881836,
           "ale",
           "previous"
          ],
          [
           0.21236562728881836,
           "ale",
           "previous"
          ],
          [
           0.21236562728881836,
           "ale",
           "previous"
          ],
          [
           0.21236562728881836,
           "ale",
           "previous"
          ],
          [
           0.21236562728881836,
           "ale",
           "previous"
          ],
          [
           0.21236562728881836,
           "ale",
           "previous"
          ],
          [
           0.21236562728881836,
           "ale",
           "previous"
          ],
          [
           0.21236562728881836,
           "ale",
           "previous"
          ],
          [
           0.21236562728881836,
           "ale",
           "previous"
          ],
          [
           0.21236562728881836,
           "ale",
           "previous"
          ],
          [
           0.21236562728881836,
           "ale",
           "previous"
          ],
          [
           0.21236562728881836,
           "ale",
           "previous"
          ],
          [
           0.21236562728881836,
           "ale",
           "previous"
          ],
          [
           0.21236562728881836,
           "ale",
           "previous"
          ],
          [
           0.21236562728881836,
           "ale",
           "previous"
          ],
          [
           0.21236562728881836,
           "ale",
           "previous"
          ],
          [
           0.21236562728881836,
           "ale",
           "previous"
          ],
          [
           0.21236562728881836,
           "ale",
           "previous"
          ],
          [
           0.21236562728881836,
           "ale",
           "previous"
          ],
          [
           0.21236562728881836,
           "ale",
           "previous"
          ],
          [
           0.21236562728881836,
           "ale",
           "previous"
          ],
          [
           0.21236562728881836,
           "ale",
           "previous"
          ],
          [
           0.21236562728881836,
           "ale",
           "previous"
          ],
          [
           0.21236562728881836,
           "ale",
           "previous"
          ],
          [
           0.21236562728881836,
           "ale",
           "previous"
          ]
         ],
         "hovertemplate": "<b>%{hovertext}</b><br><br>prediction=%{y:.3f}<br>mean_prediction=%{customdata[0]:.3f}<extra></extra>",
         "hovertext": [
          "ale",
          "ale",
          "ale",
          "ale",
          "ale",
          "ale",
          "ale",
          "ale",
          "ale",
          "ale",
          "ale",
          "ale",
          "ale",
          "ale",
          "ale",
          "ale",
          "ale",
          "ale",
          "ale",
          "ale",
          "ale",
          "ale",
          "ale",
          "ale",
          "ale",
          "ale",
          "ale",
          "ale",
          "ale",
          "ale",
          "ale",
          "ale",
          "ale",
          "ale",
          "ale",
          "ale",
          "ale",
          "ale",
          "ale",
          "ale",
          "ale",
          "ale",
          "ale",
          "ale",
          "ale",
          "ale",
          "ale",
          "ale",
          "ale",
          "ale",
          "ale",
          "ale",
          "ale",
          "ale",
          "ale",
          "ale",
          "ale",
          "ale",
          "ale",
          "ale",
          "ale",
          "ale",
          "ale",
          "ale",
          "ale",
          "ale",
          "ale",
          "ale",
          "ale",
          "ale",
          "ale",
          "ale",
          "ale",
          "ale",
          "ale",
          "ale",
          "ale",
          "ale",
          "ale",
          "ale",
          "ale",
          "ale",
          "ale",
          "ale",
          "ale",
          "ale",
          "ale",
          "ale",
          "ale",
          "ale",
          "ale",
          "ale",
          "ale",
          "ale",
          "ale",
          "ale",
          "ale",
          "ale",
          "ale",
          "ale",
          "ale"
         ],
         "legendgroup": "ale",
         "line": {
          "color": "#4378bf",
          "dash": "solid",
          "width": 2
         },
         "marker": {
          "symbol": "circle"
         },
         "mode": "lines",
         "name": "ale",
         "opacity": 1,
         "orientation": "v",
         "showlegend": false,
         "type": "scatter",
         "x": [
          0,
          0.19,
          0.38,
          0.5700000000000001,
          0.76,
          0.95,
          1.1400000000000001,
          1.33,
          1.52,
          1.71,
          1.9,
          2.09,
          2.2800000000000002,
          2.47,
          2.66,
          2.85,
          3.04,
          3.23,
          3.42,
          3.61,
          3.8,
          3.99,
          4.18,
          4.37,
          4.5600000000000005,
          4.75,
          4.94,
          5.13,
          5.32,
          5.51,
          5.7,
          5.89,
          6.08,
          6.2700000000000005,
          6.46,
          6.65,
          6.84,
          7.03,
          7.22,
          7.41,
          7.6,
          7.79,
          7.98,
          8.17,
          8.36,
          8.55,
          8.74,
          8.93,
          9.120000000000001,
          9.31,
          9.5,
          9.69,
          9.88,
          10.07,
          10.26,
          10.45,
          10.64,
          10.83,
          11.02,
          11.21,
          11.4,
          11.59,
          11.78,
          11.97,
          12.16,
          12.35,
          12.540000000000001,
          12.73,
          12.92,
          13.11,
          13.3,
          13.49,
          13.68,
          13.870000000000001,
          14.06,
          14.25,
          14.44,
          14.63,
          14.82,
          15.01,
          15.2,
          15.39,
          15.58,
          15.77,
          15.96,
          16.15,
          16.34,
          16.53,
          16.72,
          16.91,
          17.1,
          17.29,
          17.48,
          17.67,
          17.86,
          18.05,
          18.240000000000002,
          18.43,
          18.62,
          18.81,
          19
         ],
         "xaxis": "x2",
         "y": [
          0.130119484354426,
          0.130119484354426,
          0.130119484354426,
          0.130119484354426,
          0.130119484354426,
          0.130119484354426,
          0.130119484354426,
          0.130119484354426,
          0.17985852976004535,
          0.17985852976004535,
          0.17985852976004535,
          0.17985852976004535,
          0.17985852976004535,
          0.17985852976004535,
          0.17932404135247013,
          0.17932404135247013,
          0.17932404135247013,
          0.17932404135247013,
          0.17932404135247013,
          0.19195531126887658,
          0.19195531126887658,
          0.19195531126887658,
          0.19195531126887658,
          0.19195531126887658,
          0.19110654287866774,
          0.19110654287866774,
          0.19110654287866774,
          0.19110654287866774,
          0.19110654287866774,
          0.291118174522058,
          0.291118174522058,
          0.291118174522058,
          0.291118174522058,
          0.291118174522058,
          0.291118174522058,
          0.06075919706131949,
          0.06075919706131949,
          0.06075919706131949,
          0.06075919706131949,
          0.06075919706131949,
          0.06075919706131949,
          0.06075919706131949,
          0.06075919706131949,
          0.06075919706131949,
          0.06075919706131949,
          0.06075919706131949,
          0.06075919706131949,
          0.06075919706131949,
          0.06075919706131949,
          0.06075919706131949,
          0.06075919706131949,
          0.06075919706131949,
          0.06075919706131949,
          0.06075919706131949,
          0.06075919706131949,
          0.06075919706131949,
          0.06075919706131949,
          0.06075919706131949,
          0.06075919706131949,
          0.06075919706131949,
          0.06075919706131949,
          0.06075919706131949,
          0.06075919706131949,
          0.06075919706131949,
          0.06075919706131949,
          0.06075919706131949,
          0.06075919706131949,
          0.06075919706131949,
          0.06075919706131949,
          0.06075919706131949,
          0.06075919706131949,
          0.06075919706131949,
          0.06075919706131949,
          0.06075919706131949,
          0.06075919706131949,
          0.06075919706131949,
          0.06075919706131949,
          0.06075919706131949,
          0.06075919706131949,
          0.06075919706131949,
          0.06075919706131949,
          0.06075919706131949,
          0.06075919706131949,
          0.06075919706131949,
          0.06075919706131949,
          0.06075919706131949,
          0.06075919706131949,
          0.06075919706131949,
          0.06075919706131949,
          0.06075919706131949,
          0.06075919706131949,
          0.06075919706131949,
          0.06075919706131949,
          0.06075919706131949,
          0.06075919706131949,
          0.06075919706131949,
          0.06075919706131949,
          0.06075919706131949,
          0.06075919706131949,
          0.06075919706131949,
          0.06075919706131949
         ],
         "yaxis": "y2"
        }
       ],
       "layout": {
        "annotations": [
         {
          "font": {
           "size": 13
          },
          "showarrow": false,
          "text": "pdays",
          "x": 0.2375,
          "xanchor": "center",
          "xref": "paper",
          "y": 0.26666666666666666,
          "yanchor": "bottom",
          "yref": "paper"
         },
         {
          "font": {
           "size": 13
          },
          "showarrow": false,
          "text": "previous",
          "x": 0.7625,
          "xanchor": "center",
          "xref": "paper",
          "y": 0.26666666666666666,
          "yanchor": "bottom",
          "yref": "paper"
         },
         {
          "font": {
           "size": 13
          },
          "showarrow": false,
          "text": "duration",
          "x": 0.2375,
          "xanchor": "center",
          "xref": "paper",
          "y": 0.6333333333333333,
          "yanchor": "bottom",
          "yref": "paper"
         },
         {
          "font": {
           "size": 13
          },
          "showarrow": false,
          "text": "campaign",
          "x": 0.7625,
          "xanchor": "center",
          "xref": "paper",
          "y": 0.6333333333333333,
          "yanchor": "bottom",
          "yref": "paper"
         },
         {
          "font": {
           "size": 13
          },
          "showarrow": false,
          "text": "age",
          "x": 0.2375,
          "xanchor": "center",
          "xref": "paper",
          "y": 1,
          "yanchor": "bottom",
          "yref": "paper"
         },
         {
          "font": {
           "size": 13
          },
          "showarrow": false,
          "text": "balance",
          "x": 0.7625,
          "xanchor": "center",
          "xref": "paper",
          "y": 1,
          "yanchor": "bottom",
          "yref": "paper"
         },
         {
          "font": {
           "size": 13
          },
          "showarrow": false,
          "text": "prediction",
          "textangle": -90,
          "x": -0.07,
          "xref": "paper",
          "y": 0.5,
          "yref": "paper"
         }
        ],
        "font": {
         "color": "#371ea3"
        },
        "height": 1169,
        "hovermode": "x unified",
        "legend": {
         "font": {
          "size": 11
         },
         "itemsizing": "constant",
         "orientation": "h",
         "title": {
          "font": {
           "size": 12
          },
          "text": "label"
         },
         "tracegroupgap": 0,
         "x": 1,
         "xanchor": "right",
         "y": 1.0256629597946962,
         "yanchor": "bottom"
        },
        "margin": {
         "b": 71,
         "r": 30,
         "t": 78
        },
        "template": {
         "data": {
          "scatter": [
           {
            "type": "scatter"
           }
          ]
         }
        },
        "title": {
         "font": {
          "size": 16
         },
         "text": "Aggregated Profiles",
         "x": 0.15
        },
        "xaxis": {
         "anchor": "y",
         "automargin": true,
         "domain": [
          0,
          0.475
         ],
         "fixedrange": true,
         "gridwidth": 2,
         "showticklabels": true,
         "tickcolor": "white",
         "ticklen": 3,
         "ticks": "outside",
         "title": {
          "text": ""
         },
         "type": "linear",
         "zeroline": false
        },
        "xaxis2": {
         "anchor": "y2",
         "automargin": true,
         "domain": [
          0.525,
          1
         ],
         "fixedrange": true,
         "gridwidth": 2,
         "showticklabels": true,
         "tickcolor": "white",
         "ticklen": 3,
         "ticks": "outside",
         "title": {
          "text": ""
         },
         "type": "linear",
         "zeroline": false
        },
        "xaxis3": {
         "anchor": "y3",
         "automargin": true,
         "domain": [
          0,
          0.475
         ],
         "fixedrange": true,
         "gridwidth": 2,
         "showticklabels": true,
         "tickcolor": "white",
         "ticklen": 3,
         "ticks": "outside",
         "title": {
          "text": ""
         },
         "type": "linear",
         "zeroline": false
        },
        "xaxis4": {
         "anchor": "y4",
         "automargin": true,
         "domain": [
          0.525,
          1
         ],
         "fixedrange": true,
         "gridwidth": 2,
         "showticklabels": true,
         "tickcolor": "white",
         "ticklen": 3,
         "ticks": "outside",
         "title": {
          "text": ""
         },
         "type": "linear",
         "zeroline": false
        },
        "xaxis5": {
         "anchor": "y5",
         "automargin": true,
         "domain": [
          0,
          0.475
         ],
         "fixedrange": true,
         "gridwidth": 2,
         "showticklabels": true,
         "tickcolor": "white",
         "ticklen": 3,
         "ticks": "outside",
         "title": {
          "text": ""
         },
         "type": "linear",
         "zeroline": false
        },
        "xaxis6": {
         "anchor": "y6",
         "automargin": true,
         "domain": [
          0.525,
          1
         ],
         "fixedrange": true,
         "gridwidth": 2,
         "showticklabels": true,
         "tickcolor": "white",
         "ticklen": 3,
         "ticks": "outside",
         "title": {
          "text": ""
         },
         "type": "linear",
         "zeroline": false
        },
        "yaxis": {
         "anchor": "x",
         "automargin": true,
         "domain": [
          0,
          0.26666666666666666
         ],
         "fixedrange": true,
         "gridwidth": 2,
         "range": [
          -0.0914084003740868,
          1.0973875559983184
         ],
         "tickcolor": "white",
         "ticklen": 3,
         "ticks": "outside",
         "title": {
          "text": ""
         },
         "type": "linear",
         "zeroline": false
        },
        "yaxis2": {
         "anchor": "x2",
         "automargin": true,
         "domain": [
          0,
          0.26666666666666666
         ],
         "fixedrange": true,
         "gridwidth": 2,
         "matches": "y",
         "showticklabels": false,
         "tickcolor": "white",
         "ticklen": 3,
         "ticks": "outside",
         "title": {
          "text": ""
         },
         "type": "linear",
         "zeroline": false
        },
        "yaxis3": {
         "anchor": "x3",
         "automargin": true,
         "domain": [
          0.36666666666666664,
          0.6333333333333333
         ],
         "fixedrange": true,
         "gridwidth": 2,
         "matches": "y",
         "range": [
          -0.0914084003740868,
          1.0973875559983184
         ],
         "tickcolor": "white",
         "ticklen": 3,
         "ticks": "outside",
         "title": {
          "text": ""
         },
         "type": "linear",
         "zeroline": false
        },
        "yaxis4": {
         "anchor": "x4",
         "automargin": true,
         "domain": [
          0.36666666666666664,
          0.6333333333333333
         ],
         "fixedrange": true,
         "gridwidth": 2,
         "matches": "y",
         "showticklabels": false,
         "tickcolor": "white",
         "ticklen": 3,
         "ticks": "outside",
         "title": {
          "text": ""
         },
         "type": "linear",
         "zeroline": false
        },
        "yaxis5": {
         "anchor": "x5",
         "automargin": true,
         "domain": [
          0.7333333333333333,
          1
         ],
         "fixedrange": true,
         "gridwidth": 2,
         "matches": "y",
         "range": [
          -0.0914084003740868,
          1.0973875559983184
         ],
         "tickcolor": "white",
         "ticklen": 3,
         "ticks": "outside",
         "title": {
          "text": ""
         },
         "type": "linear",
         "zeroline": false
        },
        "yaxis6": {
         "anchor": "x6",
         "automargin": true,
         "domain": [
          0.7333333333333333,
          1
         ],
         "fixedrange": true,
         "gridwidth": 2,
         "matches": "y",
         "showticklabels": false,
         "tickcolor": "white",
         "ticklen": 3,
         "ticks": "outside",
         "title": {
          "text": ""
         },
         "type": "linear",
         "zeroline": false
        }
       }
      }
     },
     "metadata": {},
     "output_type": "display_data"
    }
   ],
   "source": [
    "pdp_num.plot(ale_num)"
   ]
  },
  {
   "cell_type": "code",
   "execution_count": 16,
   "metadata": {},
   "outputs": [
    {
     "name": "stderr",
     "output_type": "stream",
     "text": [
      "Calculating ceteris paribus: 100%|██████████| 8/8 [00:00<00:00, 64.07it/s]\n",
      "Calculating ceteris paribus: 100%|██████████| 8/8 [00:00<00:00, 77.59it/s]\n",
      "Calculating accumulated dependency: 100%|██████████| 8/8 [00:00<00:00, 40.65it/s]\n"
     ]
    }
   ],
   "source": [
    "cat_var = ['job', 'marital', 'education', 'default', 'housing',\n",
    "       'loan', 'contact', 'poutcome']\n",
    "\n",
    "pdp_cat = exp.model_profile(type = 'partial', variable_type='categorical',\n",
    "                            variables = cat_var, label=\"pdp\")\n",
    "\n",
    "ale_cat = exp.model_profile(type = 'accumulated', variable_type='categorical',\n",
    "                            variables = cat_var, label=\"ale\")"
   ]
  },
  {
   "cell_type": "code",
   "execution_count": 17,
   "metadata": {},
   "outputs": [
    {
     "data": {
      "application/vnd.plotly.v1+json": {
       "config": {
        "displaylogo": false,
        "modeBarButtonsToRemove": [
         "sendDataToCloud",
         "lasso2d",
         "autoScale2d",
         "select2d",
         "zoom2d",
         "pan2d",
         "zoomIn2d",
         "zoomOut2d",
         "resetScale2d",
         "toggleSpikelines",
         "hoverCompareCartesian",
         "hoverClosestCartesian"
        ],
        "plotlyServerURL": "https://plot.ly",
        "staticPlot": false,
        "toImageButtonOptions": {
         "height": null,
         "width": null
        }
       },
       "data": [
        {
         "alignmentgroup": "True",
         "base": [
          0.2029925435781479,
          0.2029925435781479,
          0.2029925435781479
         ],
         "customdata": [
          [
           0.18909806635159612,
           "ale",
           "contact"
          ],
          [
           0.09973971359854289,
           "ale",
           "contact"
          ],
          [
           0.1503075839373007,
           "ale",
           "contact"
          ]
         ],
         "hovertemplate": "<b>%{hovertext}</b><br><br>mean_prediction=%{base:.3f}<br>prediction=%{customdata[0]:.3f}<extra></extra>",
         "hovertext": [
          "ale",
          "ale",
          "ale"
         ],
         "legendgroup": "ale",
         "marker": {
          "color": "#8bdcbe",
          "pattern": {
           "shape": ""
          }
         },
         "name": "ale",
         "offsetgroup": "ale",
         "orientation": "v",
         "showlegend": true,
         "textposition": "auto",
         "type": "bar",
         "x": [
          "cellular",
          "unknown",
          "telephone"
         ],
         "xaxis": "x7",
         "y": [
          -0.013894477226551766,
          -0.103252829979605,
          -0.052684959640847184
         ],
         "yaxis": "y7"
        },
        {
         "alignmentgroup": "True",
         "base": [
          0.2029925435781479,
          0.2029925435781479
         ],
         "customdata": [
          [
           0.18909806635159612,
           "ale",
           "default"
          ],
          [
           0.19440624106604218,
           "ale",
           "default"
          ]
         ],
         "hovertemplate": "<b>%{hovertext}</b><br><br>mean_prediction=%{base:.3f}<br>prediction=%{customdata[0]:.3f}<extra></extra>",
         "hovertext": [
          "ale",
          "ale"
         ],
         "legendgroup": "ale",
         "marker": {
          "color": "#8bdcbe",
          "pattern": {
           "shape": ""
          }
         },
         "name": "ale",
         "offsetgroup": "ale",
         "orientation": "v",
         "showlegend": false,
         "textposition": "auto",
         "type": "bar",
         "x": [
          "no",
          "yes"
         ],
         "xaxis": "x8",
         "y": [
          -0.013894477226551766,
          -0.008586302512105709
         ],
         "yaxis": "y8"
        },
        {
         "alignmentgroup": "True",
         "base": [
          0.2029925435781479,
          0.2029925435781479,
          0.2029925435781479,
          0.2029925435781479
         ],
         "customdata": [
          [
           0.18909806635159612,
           "ale",
           "education"
          ],
          [
           0.1889241161937708,
           "ale",
           "education"
          ],
          [
           0.18780479994865204,
           "ale",
           "education"
          ],
          [
           0.2042362685127629,
           "ale",
           "education"
          ]
         ],
         "hovertemplate": "<b>%{hovertext}</b><br><br>mean_prediction=%{base:.3f}<br>prediction=%{customdata[0]:.3f}<extra></extra>",
         "hovertext": [
          "ale",
          "ale",
          "ale",
          "ale"
         ],
         "legendgroup": "ale",
         "marker": {
          "color": "#8bdcbe",
          "pattern": {
           "shape": ""
          }
         },
         "name": "ale",
         "offsetgroup": "ale",
         "orientation": "v",
         "showlegend": false,
         "textposition": "auto",
         "type": "bar",
         "x": [
          "primary",
          "secondary",
          "unknown",
          "tertiary"
         ],
         "xaxis": "x5",
         "y": [
          -0.013894477226551766,
          -0.01406842738437708,
          -0.015187743629495848,
          0.0012437249346149981
         ],
         "yaxis": "y5"
        },
        {
         "alignmentgroup": "True",
         "base": [
          0.2029925435781479,
          0.2029925435781479
         ],
         "customdata": [
          [
           0.18909806635159612,
           "ale",
           "housing"
          ],
          [
           0.19632273194532743,
           "ale",
           "housing"
          ]
         ],
         "hovertemplate": "<b>%{hovertext}</b><br><br>mean_prediction=%{base:.3f}<br>prediction=%{customdata[0]:.3f}<extra></extra>",
         "hovertext": [
          "ale",
          "ale"
         ],
         "legendgroup": "ale",
         "marker": {
          "color": "#8bdcbe",
          "pattern": {
           "shape": ""
          }
         },
         "name": "ale",
         "offsetgroup": "ale",
         "orientation": "v",
         "showlegend": false,
         "textposition": "auto",
         "type": "bar",
         "x": [
          "yes",
          "no"
         ],
         "xaxis": "x6",
         "y": [
          -0.013894477226551766,
          -0.00666981163282046
         ],
         "yaxis": "y6"
        },
        {
         "alignmentgroup": "True",
         "base": [
          0.2029925435781479,
          0.2029925435781479,
          0.2029925435781479,
          0.2029925435781479,
          0.2029925435781479,
          0.2029925435781479,
          0.2029925435781479,
          0.2029925435781479,
          0.2029925435781479,
          0.2029925435781479,
          0.2029925435781479,
          0.2029925435781479
         ],
         "customdata": [
          [
           0.18909806635159612,
           "ale",
           "job"
          ],
          [
           0.21277168766834698,
           "ale",
           "job"
          ],
          [
           0.25902340487816294,
           "ale",
           "job"
          ],
          [
           0.23413267257146245,
           "ale",
           "job"
          ],
          [
           0.23885295172010923,
           "ale",
           "job"
          ],
          [
           0.23563361454572251,
           "ale",
           "job"
          ],
          [
           0.23024824761203613,
           "ale",
           "job"
          ],
          [
           0.2427474384789833,
           "ale",
           "job"
          ],
          [
           0.20033872288408475,
           "ale",
           "job"
          ],
          [
           0.23343703311624722,
           "ale",
           "job"
          ],
          [
           0.2283900864544343,
           "ale",
           "job"
          ],
          [
           0.23154304736582745,
           "ale",
           "job"
          ]
         ],
         "hovertemplate": "<b>%{hovertext}</b><br><br>mean_prediction=%{base:.3f}<br>prediction=%{customdata[0]:.3f}<extra></extra>",
         "hovertext": [
          "ale",
          "ale",
          "ale",
          "ale",
          "ale",
          "ale",
          "ale",
          "ale",
          "ale",
          "ale",
          "ale",
          "ale"
         ],
         "legendgroup": "ale",
         "marker": {
          "color": "#8bdcbe",
          "pattern": {
           "shape": ""
          }
         },
         "name": "ale",
         "offsetgroup": "ale",
         "orientation": "v",
         "showlegend": false,
         "textposition": "auto",
         "type": "bar",
         "x": [
          "blue-collar",
          "entrepreneur",
          "student",
          "management",
          "admin.",
          "technician",
          "services",
          "self-employed",
          "unemployed",
          "retired",
          "housemaid",
          "unknown"
         ],
         "xaxis": "x3",
         "y": [
          -0.013894477226551766,
          0.009779144090199088,
          0.056030861300015056,
          0.03114012899331456,
          0.03586040814196134,
          0.032641070967574626,
          0.027255704033888245,
          0.03975489490083542,
          -0.0026538206940631415,
          0.030444489538099334,
          0.0253975428762864,
          0.028550503787679565
         ],
         "yaxis": "y3"
        },
        {
         "alignmentgroup": "True",
         "base": [
          0.2029925435781479,
          0.2029925435781479
         ],
         "customdata": [
          [
           0.18909806635159612,
           "ale",
           "loan"
          ],
          [
           0.15093797215854626,
           "ale",
           "loan"
          ]
         ],
         "hovertemplate": "<b>%{hovertext}</b><br><br>mean_prediction=%{base:.3f}<br>prediction=%{customdata[0]:.3f}<extra></extra>",
         "hovertext": [
          "ale",
          "ale"
         ],
         "legendgroup": "ale",
         "marker": {
          "color": "#8bdcbe",
          "pattern": {
           "shape": ""
          }
         },
         "name": "ale",
         "offsetgroup": "ale",
         "orientation": "v",
         "showlegend": false,
         "textposition": "auto",
         "type": "bar",
         "x": [
          "no",
          "yes"
         ],
         "xaxis": "x4",
         "y": [
          -0.013894477226551766,
          -0.052054571419601625
         ],
         "yaxis": "y4"
        },
        {
         "alignmentgroup": "True",
         "base": [
          0.2029925435781479,
          0.2029925435781479,
          0.2029925435781479
         ],
         "customdata": [
          [
           0.18909806635159612,
           "ale",
           "marital"
          ],
          [
           0.16853047346529076,
           "ale",
           "marital"
          ],
          [
           0.16738276649753744,
           "ale",
           "marital"
          ]
         ],
         "hovertemplate": "<b>%{hovertext}</b><br><br>mean_prediction=%{base:.3f}<br>prediction=%{customdata[0]:.3f}<extra></extra>",
         "hovertext": [
          "ale",
          "ale",
          "ale"
         ],
         "legendgroup": "ale",
         "marker": {
          "color": "#8bdcbe",
          "pattern": {
           "shape": ""
          }
         },
         "name": "ale",
         "offsetgroup": "ale",
         "orientation": "v",
         "showlegend": false,
         "textposition": "auto",
         "type": "bar",
         "x": [
          "divorced",
          "married",
          "single"
         ],
         "xaxis": "x",
         "y": [
          -0.013894477226551766,
          -0.034462070112857124,
          -0.035609777080610444
         ],
         "yaxis": "y"
        },
        {
         "alignmentgroup": "True",
         "base": [
          0.2029925435781479,
          0.2029925435781479,
          0.2029925435781479,
          0.2029925435781479
         ],
         "customdata": [
          [
           0.18909806635159612,
           "ale",
           "poutcome"
          ],
          [
           0.2039829738173108,
           "ale",
           "poutcome"
          ],
          [
           0.3172048178546847,
           "ale",
           "poutcome"
          ],
          [
           0.20607749739677736,
           "ale",
           "poutcome"
          ]
         ],
         "hovertemplate": "<b>%{hovertext}</b><br><br>mean_prediction=%{base:.3f}<br>prediction=%{customdata[0]:.3f}<extra></extra>",
         "hovertext": [
          "ale",
          "ale",
          "ale",
          "ale"
         ],
         "legendgroup": "ale",
         "marker": {
          "color": "#8bdcbe",
          "pattern": {
           "shape": ""
          }
         },
         "name": "ale",
         "offsetgroup": "ale",
         "orientation": "v",
         "showlegend": false,
         "textposition": "auto",
         "type": "bar",
         "x": [
          "unknown",
          "other",
          "success",
          "failure"
         ],
         "xaxis": "x2",
         "y": [
          -0.013894477226551766,
          0.0009904302391628983,
          0.1142122742765368,
          0.003084953818629471
         ],
         "yaxis": "y2"
        },
        {
         "alignmentgroup": "True",
         "base": [
          0.23213642835617065,
          0.23213642835617065,
          0.23213642835617065
         ],
         "customdata": [
          [
           0.25506284832954407,
           "pdp",
           "contact"
          ],
          [
           0.18246255815029144,
           "pdp",
           "contact"
          ],
          [
           0.240642249584198,
           "pdp",
           "contact"
          ]
         ],
         "hovertemplate": "<b>%{hovertext}</b><br><br>mean_prediction=%{base:.3f}<br>prediction=%{customdata[0]:.3f}<extra></extra>",
         "hovertext": [
          "pdp",
          "pdp",
          "pdp"
         ],
         "legendgroup": "pdp",
         "marker": {
          "color": "#4378bf",
          "pattern": {
           "shape": ""
          }
         },
         "name": "pdp",
         "offsetgroup": "pdp",
         "orientation": "v",
         "showlegend": true,
         "textposition": "auto",
         "type": "bar",
         "x": [
          "cellular",
          "unknown",
          "telephone"
         ],
         "xaxis": "x7",
         "y": [
          0.022926419973373413,
          -0.04967387020587921,
          0.008505821228027344
         ],
         "yaxis": "y7"
        },
        {
         "alignmentgroup": "True",
         "base": [
          0.23213642835617065,
          0.23213642835617065
         ],
         "customdata": [
          [
           0.23208416998386383,
           "pdp",
           "default"
          ],
          [
           0.24026837944984436,
           "pdp",
           "default"
          ]
         ],
         "hovertemplate": "<b>%{hovertext}</b><br><br>mean_prediction=%{base:.3f}<br>prediction=%{customdata[0]:.3f}<extra></extra>",
         "hovertext": [
          "pdp",
          "pdp"
         ],
         "legendgroup": "pdp",
         "marker": {
          "color": "#4378bf",
          "pattern": {
           "shape": ""
          }
         },
         "name": "pdp",
         "offsetgroup": "pdp",
         "orientation": "v",
         "showlegend": false,
         "textposition": "auto",
         "type": "bar",
         "x": [
          "no",
          "yes"
         ],
         "xaxis": "x8",
         "y": [
          -0.00005225837230682373,
          0.008131951093673706
         ],
         "yaxis": "y8"
        },
        {
         "alignmentgroup": "True",
         "base": [
          0.23213642835617065,
          0.23213642835617065,
          0.23213642835617065,
          0.23213642835617065
         ],
         "customdata": [
          [
           0.23136375844478607,
           "pdp",
           "education"
          ],
          [
           0.23127742111682892,
           "pdp",
           "education"
          ],
          [
           0.2173454761505127,
           "pdp",
           "education"
          ],
          [
           0.23392316699028015,
           "pdp",
           "education"
          ]
         ],
         "hovertemplate": "<b>%{hovertext}</b><br><br>mean_prediction=%{base:.3f}<br>prediction=%{customdata[0]:.3f}<extra></extra>",
         "hovertext": [
          "pdp",
          "pdp",
          "pdp",
          "pdp"
         ],
         "legendgroup": "pdp",
         "marker": {
          "color": "#4378bf",
          "pattern": {
           "shape": ""
          }
         },
         "name": "pdp",
         "offsetgroup": "pdp",
         "orientation": "v",
         "showlegend": false,
         "textposition": "auto",
         "type": "bar",
         "x": [
          "primary",
          "secondary",
          "unknown",
          "tertiary"
         ],
         "xaxis": "x5",
         "y": [
          -0.0007726699113845825,
          -0.0008590072393417358,
          -0.014790952205657959,
          0.001786738634109497
         ],
         "yaxis": "y5"
        },
        {
         "alignmentgroup": "True",
         "base": [
          0.23213642835617065,
          0.23213642835617065
         ],
         "customdata": [
          [
           0.2288009375333786,
           "pdp",
           "housing"
          ],
          [
           0.2424398809671402,
           "pdp",
           "housing"
          ]
         ],
         "hovertemplate": "<b>%{hovertext}</b><br><br>mean_prediction=%{base:.3f}<br>prediction=%{customdata[0]:.3f}<extra></extra>",
         "hovertext": [
          "pdp",
          "pdp"
         ],
         "legendgroup": "pdp",
         "marker": {
          "color": "#4378bf",
          "pattern": {
           "shape": ""
          }
         },
         "name": "pdp",
         "offsetgroup": "pdp",
         "orientation": "v",
         "showlegend": false,
         "textposition": "auto",
         "type": "bar",
         "x": [
          "yes",
          "no"
         ],
         "xaxis": "x6",
         "y": [
          -0.0033354908227920532,
          0.010303452610969543
         ],
         "yaxis": "y6"
        },
        {
         "alignmentgroup": "True",
         "base": [
          0.23213642835617065,
          0.23213642835617065,
          0.23213642835617065,
          0.23213642835617065,
          0.23213642835617065,
          0.23213642835617065,
          0.23213642835617065,
          0.23213642835617065,
          0.23213642835617065,
          0.23213642835617065,
          0.23213642835617065,
          0.23213642835617065
         ],
         "customdata": [
          [
           0.21309241652488708,
           "pdp",
           "job"
          ],
          [
           0.21658581495285034,
           "pdp",
           "job"
          ],
          [
           0.24917681515216827,
           "pdp",
           "job"
          ],
          [
           0.2345735728740692,
           "pdp",
           "job"
          ],
          [
           0.2381875365972519,
           "pdp",
           "job"
          ],
          [
           0.23669229447841644,
           "pdp",
           "job"
          ],
          [
           0.23192653059959412,
           "pdp",
           "job"
          ],
          [
           0.236484557390213,
           "pdp",
           "job"
          ],
          [
           0.21206973493099213,
           "pdp",
           "job"
          ],
          [
           0.24071578681468964,
           "pdp",
           "job"
          ],
          [
           0.2309364527463913,
           "pdp",
           "job"
          ],
          [
           0.236484557390213,
           "pdp",
           "job"
          ]
         ],
         "hovertemplate": "<b>%{hovertext}</b><br><br>mean_prediction=%{base:.3f}<br>prediction=%{customdata[0]:.3f}<extra></extra>",
         "hovertext": [
          "pdp",
          "pdp",
          "pdp",
          "pdp",
          "pdp",
          "pdp",
          "pdp",
          "pdp",
          "pdp",
          "pdp",
          "pdp",
          "pdp"
         ],
         "legendgroup": "pdp",
         "marker": {
          "color": "#4378bf",
          "pattern": {
           "shape": ""
          }
         },
         "name": "pdp",
         "offsetgroup": "pdp",
         "orientation": "v",
         "showlegend": false,
         "textposition": "auto",
         "type": "bar",
         "x": [
          "blue-collar",
          "entrepreneur",
          "student",
          "management",
          "admin.",
          "technician",
          "services",
          "self-employed",
          "unemployed",
          "retired",
          "housemaid",
          "unknown"
         ],
         "xaxis": "x3",
         "y": [
          -0.01904401183128357,
          -0.015550613403320312,
          0.01704038679599762,
          0.0024371445178985596,
          0.006051108241081238,
          0.004555866122245789,
          -0.00020989775657653809,
          0.004348129034042358,
          -0.020066693425178528,
          0.008579358458518982,
          -0.001199975609779358,
          0.004348129034042358
         ],
         "yaxis": "y3"
        },
        {
         "alignmentgroup": "True",
         "base": [
          0.23213642835617065,
          0.23213642835617065
         ],
         "customdata": [
          [
           0.2406320422887802,
           "pdp",
           "loan"
          ],
          [
           0.18249541521072388,
           "pdp",
           "loan"
          ]
         ],
         "hovertemplate": "<b>%{hovertext}</b><br><br>mean_prediction=%{base:.3f}<br>prediction=%{customdata[0]:.3f}<extra></extra>",
         "hovertext": [
          "pdp",
          "pdp"
         ],
         "legendgroup": "pdp",
         "marker": {
          "color": "#4378bf",
          "pattern": {
           "shape": ""
          }
         },
         "name": "pdp",
         "offsetgroup": "pdp",
         "orientation": "v",
         "showlegend": false,
         "textposition": "auto",
         "type": "bar",
         "x": [
          "no",
          "yes"
         ],
         "xaxis": "x4",
         "y": [
          0.008495613932609558,
          -0.04964101314544678
         ],
         "yaxis": "y4"
        },
        {
         "alignmentgroup": "True",
         "base": [
          0.23213642835617065,
          0.23213642835617065,
          0.23213642835617065
         ],
         "customdata": [
          [
           0.25413036346435547,
           "pdp",
           "marital"
          ],
          [
           0.23171940445899963,
           "pdp",
           "marital"
          ],
          [
           0.23017412424087524,
           "pdp",
           "marital"
          ]
         ],
         "hovertemplate": "<b>%{hovertext}</b><br><br>mean_prediction=%{base:.3f}<br>prediction=%{customdata[0]:.3f}<extra></extra>",
         "hovertext": [
          "pdp",
          "pdp",
          "pdp"
         ],
         "legendgroup": "pdp",
         "marker": {
          "color": "#4378bf",
          "pattern": {
           "shape": ""
          }
         },
         "name": "pdp",
         "offsetgroup": "pdp",
         "orientation": "v",
         "showlegend": false,
         "textposition": "auto",
         "type": "bar",
         "x": [
          "divorced",
          "married",
          "single"
         ],
         "xaxis": "x",
         "y": [
          0.021993935108184814,
          -0.0004170238971710205,
          -0.00196230411529541
         ],
         "yaxis": "y"
        },
        {
         "alignmentgroup": "True",
         "base": [
          0.23213642835617065,
          0.23213642835617065,
          0.23213642835617065,
          0.23213642835617065
         ],
         "customdata": [
          [
           0.23070213198661804,
           "pdp",
           "poutcome"
          ],
          [
           0.24482950568199158,
           "pdp",
           "poutcome"
          ],
          [
           0.29607388377189636,
           "pdp",
           "poutcome"
          ],
          [
           0.20764146745204926,
           "pdp",
           "poutcome"
          ]
         ],
         "hovertemplate": "<b>%{hovertext}</b><br><br>mean_prediction=%{base:.3f}<br>prediction=%{customdata[0]:.3f}<extra></extra>",
         "hovertext": [
          "pdp",
          "pdp",
          "pdp",
          "pdp"
         ],
         "legendgroup": "pdp",
         "marker": {
          "color": "#4378bf",
          "pattern": {
           "shape": ""
          }
         },
         "name": "pdp",
         "offsetgroup": "pdp",
         "orientation": "v",
         "showlegend": false,
         "textposition": "auto",
         "type": "bar",
         "x": [
          "unknown",
          "other",
          "success",
          "failure"
         ],
         "xaxis": "x2",
         "y": [
          -0.0014342963695526123,
          0.012693077325820923,
          0.06393745541572571,
          -0.0244949609041214
         ],
         "yaxis": "y2"
        }
       ],
       "layout": {
        "annotations": [
         {
          "font": {
           "size": 13
          },
          "showarrow": false,
          "text": "marital",
          "x": 0.2375,
          "xanchor": "center",
          "xref": "paper",
          "y": 0.19375,
          "yanchor": "bottom",
          "yref": "paper"
         },
         {
          "font": {
           "size": 13
          },
          "showarrow": false,
          "text": "poutcome",
          "x": 0.7625,
          "xanchor": "center",
          "xref": "paper",
          "y": 0.19375,
          "yanchor": "bottom",
          "yref": "paper"
         },
         {
          "font": {
           "size": 13
          },
          "showarrow": false,
          "text": "job",
          "x": 0.2375,
          "xanchor": "center",
          "xref": "paper",
          "y": 0.4625,
          "yanchor": "bottom",
          "yref": "paper"
         },
         {
          "font": {
           "size": 13
          },
          "showarrow": false,
          "text": "loan",
          "x": 0.7625,
          "xanchor": "center",
          "xref": "paper",
          "y": 0.4625,
          "yanchor": "bottom",
          "yref": "paper"
         },
         {
          "font": {
           "size": 13
          },
          "showarrow": false,
          "text": "education",
          "x": 0.2375,
          "xanchor": "center",
          "xref": "paper",
          "y": 0.73125,
          "yanchor": "bottom",
          "yref": "paper"
         },
         {
          "font": {
           "size": 13
          },
          "showarrow": false,
          "text": "housing",
          "x": 0.7625,
          "xanchor": "center",
          "xref": "paper",
          "y": 0.73125,
          "yanchor": "bottom",
          "yref": "paper"
         },
         {
          "font": {
           "size": 13
          },
          "showarrow": false,
          "text": "contact",
          "x": 0.2375,
          "xanchor": "center",
          "xref": "paper",
          "y": 1,
          "yanchor": "bottom",
          "yref": "paper"
         },
         {
          "font": {
           "size": 13
          },
          "showarrow": false,
          "text": "default",
          "x": 0.7625,
          "xanchor": "center",
          "xref": "paper",
          "y": 1,
          "yanchor": "bottom",
          "yref": "paper"
         },
         {
          "font": {
           "size": 13
          },
          "showarrow": false,
          "text": "prediction",
          "textangle": -90,
          "x": -0.07,
          "xref": "paper",
          "y": 0.5,
          "yref": "paper"
         }
        ],
        "barmode": "group",
        "font": {
         "color": "#371ea3"
        },
        "height": 1509,
        "hovermode": "x unified",
        "legend": {
         "font": {
          "size": 11
         },
         "itemsizing": "constant",
         "orientation": "h",
         "title": {
          "font": {
           "size": 12
          },
          "text": "label"
         },
         "tracegroupgap": 0,
         "x": 1,
         "xanchor": "right",
         "y": 1.0198807157057654,
         "yanchor": "bottom"
        },
        "margin": {
         "b": 71,
         "r": 30,
         "t": 78
        },
        "shapes": [
         {
          "layer": "below",
          "line": {
           "color": "#371ea3",
           "dash": "dot",
           "width": 1.5
          },
          "type": "line",
          "x0": 0,
          "x1": 1,
          "xref": "x domain",
          "y0": 0.2029925435781479,
          "y1": 0.2029925435781479,
          "yref": "y"
         },
         {
          "layer": "below",
          "line": {
           "color": "#371ea3",
           "dash": "dot",
           "width": 1.5
          },
          "type": "line",
          "x0": 0,
          "x1": 1,
          "xref": "x2 domain",
          "y0": 0.2029925435781479,
          "y1": 0.2029925435781479,
          "yref": "y2"
         },
         {
          "layer": "below",
          "line": {
           "color": "#371ea3",
           "dash": "dot",
           "width": 1.5
          },
          "type": "line",
          "x0": 0,
          "x1": 1,
          "xref": "x3 domain",
          "y0": 0.2029925435781479,
          "y1": 0.2029925435781479,
          "yref": "y3"
         },
         {
          "layer": "below",
          "line": {
           "color": "#371ea3",
           "dash": "dot",
           "width": 1.5
          },
          "type": "line",
          "x0": 0,
          "x1": 1,
          "xref": "x4 domain",
          "y0": 0.2029925435781479,
          "y1": 0.2029925435781479,
          "yref": "y4"
         },
         {
          "layer": "below",
          "line": {
           "color": "#371ea3",
           "dash": "dot",
           "width": 1.5
          },
          "type": "line",
          "x0": 0,
          "x1": 1,
          "xref": "x5 domain",
          "y0": 0.2029925435781479,
          "y1": 0.2029925435781479,
          "yref": "y5"
         },
         {
          "layer": "below",
          "line": {
           "color": "#371ea3",
           "dash": "dot",
           "width": 1.5
          },
          "type": "line",
          "x0": 0,
          "x1": 1,
          "xref": "x6 domain",
          "y0": 0.2029925435781479,
          "y1": 0.2029925435781479,
          "yref": "y6"
         },
         {
          "layer": "below",
          "line": {
           "color": "#371ea3",
           "dash": "dot",
           "width": 1.5
          },
          "type": "line",
          "x0": 0,
          "x1": 1,
          "xref": "x7 domain",
          "y0": 0.2029925435781479,
          "y1": 0.2029925435781479,
          "yref": "y7"
         },
         {
          "layer": "below",
          "line": {
           "color": "#371ea3",
           "dash": "dot",
           "width": 1.5
          },
          "type": "line",
          "x0": 0,
          "x1": 1,
          "xref": "x8 domain",
          "y0": 0.2029925435781479,
          "y1": 0.2029925435781479,
          "yref": "y8"
         },
         {
          "layer": "below",
          "line": {
           "color": "#371ea3",
           "dash": "dot",
           "width": 1.5
          },
          "type": "line",
          "x0": 0,
          "x1": 1,
          "xref": "x domain",
          "y0": 0.2029925435781479,
          "y1": 0.2029925435781479,
          "yref": "y"
         },
         {
          "layer": "below",
          "line": {
           "color": "#371ea3",
           "dash": "dot",
           "width": 1.5
          },
          "type": "line",
          "x0": 0,
          "x1": 1,
          "xref": "x2 domain",
          "y0": 0.2029925435781479,
          "y1": 0.2029925435781479,
          "yref": "y2"
         },
         {
          "layer": "below",
          "line": {
           "color": "#371ea3",
           "dash": "dot",
           "width": 1.5
          },
          "type": "line",
          "x0": 0,
          "x1": 1,
          "xref": "x3 domain",
          "y0": 0.2029925435781479,
          "y1": 0.2029925435781479,
          "yref": "y3"
         },
         {
          "layer": "below",
          "line": {
           "color": "#371ea3",
           "dash": "dot",
           "width": 1.5
          },
          "type": "line",
          "x0": 0,
          "x1": 1,
          "xref": "x4 domain",
          "y0": 0.2029925435781479,
          "y1": 0.2029925435781479,
          "yref": "y4"
         },
         {
          "layer": "below",
          "line": {
           "color": "#371ea3",
           "dash": "dot",
           "width": 1.5
          },
          "type": "line",
          "x0": 0,
          "x1": 1,
          "xref": "x5 domain",
          "y0": 0.2029925435781479,
          "y1": 0.2029925435781479,
          "yref": "y5"
         },
         {
          "layer": "below",
          "line": {
           "color": "#371ea3",
           "dash": "dot",
           "width": 1.5
          },
          "type": "line",
          "x0": 0,
          "x1": 1,
          "xref": "x6 domain",
          "y0": 0.2029925435781479,
          "y1": 0.2029925435781479,
          "yref": "y6"
         },
         {
          "layer": "below",
          "line": {
           "color": "#371ea3",
           "dash": "dot",
           "width": 1.5
          },
          "type": "line",
          "x0": 0,
          "x1": 1,
          "xref": "x7 domain",
          "y0": 0.2029925435781479,
          "y1": 0.2029925435781479,
          "yref": "y7"
         },
         {
          "layer": "below",
          "line": {
           "color": "#371ea3",
           "dash": "dot",
           "width": 1.5
          },
          "type": "line",
          "x0": 0,
          "x1": 1,
          "xref": "x8 domain",
          "y0": 0.2029925435781479,
          "y1": 0.2029925435781479,
          "yref": "y8"
         },
         {
          "layer": "below",
          "line": {
           "color": "#371ea3",
           "dash": "dot",
           "width": 1.5
          },
          "type": "line",
          "x0": 0,
          "x1": 1,
          "xref": "x domain",
          "y0": 0.2029925435781479,
          "y1": 0.2029925435781479,
          "yref": "y"
         },
         {
          "layer": "below",
          "line": {
           "color": "#371ea3",
           "dash": "dot",
           "width": 1.5
          },
          "type": "line",
          "x0": 0,
          "x1": 1,
          "xref": "x2 domain",
          "y0": 0.2029925435781479,
          "y1": 0.2029925435781479,
          "yref": "y2"
         },
         {
          "layer": "below",
          "line": {
           "color": "#371ea3",
           "dash": "dot",
           "width": 1.5
          },
          "type": "line",
          "x0": 0,
          "x1": 1,
          "xref": "x3 domain",
          "y0": 0.2029925435781479,
          "y1": 0.2029925435781479,
          "yref": "y3"
         },
         {
          "layer": "below",
          "line": {
           "color": "#371ea3",
           "dash": "dot",
           "width": 1.5
          },
          "type": "line",
          "x0": 0,
          "x1": 1,
          "xref": "x4 domain",
          "y0": 0.2029925435781479,
          "y1": 0.2029925435781479,
          "yref": "y4"
         },
         {
          "layer": "below",
          "line": {
           "color": "#371ea3",
           "dash": "dot",
           "width": 1.5
          },
          "type": "line",
          "x0": 0,
          "x1": 1,
          "xref": "x5 domain",
          "y0": 0.2029925435781479,
          "y1": 0.2029925435781479,
          "yref": "y5"
         },
         {
          "layer": "below",
          "line": {
           "color": "#371ea3",
           "dash": "dot",
           "width": 1.5
          },
          "type": "line",
          "x0": 0,
          "x1": 1,
          "xref": "x6 domain",
          "y0": 0.2029925435781479,
          "y1": 0.2029925435781479,
          "yref": "y6"
         },
         {
          "layer": "below",
          "line": {
           "color": "#371ea3",
           "dash": "dot",
           "width": 1.5
          },
          "type": "line",
          "x0": 0,
          "x1": 1,
          "xref": "x7 domain",
          "y0": 0.2029925435781479,
          "y1": 0.2029925435781479,
          "yref": "y7"
         },
         {
          "layer": "below",
          "line": {
           "color": "#371ea3",
           "dash": "dot",
           "width": 1.5
          },
          "type": "line",
          "x0": 0,
          "x1": 1,
          "xref": "x8 domain",
          "y0": 0.2029925435781479,
          "y1": 0.2029925435781479,
          "yref": "y8"
         },
         {
          "layer": "below",
          "line": {
           "color": "#371ea3",
           "dash": "dot",
           "width": 1.5
          },
          "type": "line",
          "x0": 0,
          "x1": 1,
          "xref": "x domain",
          "y0": 0.2029925435781479,
          "y1": 0.2029925435781479,
          "yref": "y"
         },
         {
          "layer": "below",
          "line": {
           "color": "#371ea3",
           "dash": "dot",
           "width": 1.5
          },
          "type": "line",
          "x0": 0,
          "x1": 1,
          "xref": "x2 domain",
          "y0": 0.2029925435781479,
          "y1": 0.2029925435781479,
          "yref": "y2"
         },
         {
          "layer": "below",
          "line": {
           "color": "#371ea3",
           "dash": "dot",
           "width": 1.5
          },
          "type": "line",
          "x0": 0,
          "x1": 1,
          "xref": "x3 domain",
          "y0": 0.2029925435781479,
          "y1": 0.2029925435781479,
          "yref": "y3"
         },
         {
          "layer": "below",
          "line": {
           "color": "#371ea3",
           "dash": "dot",
           "width": 1.5
          },
          "type": "line",
          "x0": 0,
          "x1": 1,
          "xref": "x4 domain",
          "y0": 0.2029925435781479,
          "y1": 0.2029925435781479,
          "yref": "y4"
         },
         {
          "layer": "below",
          "line": {
           "color": "#371ea3",
           "dash": "dot",
           "width": 1.5
          },
          "type": "line",
          "x0": 0,
          "x1": 1,
          "xref": "x5 domain",
          "y0": 0.2029925435781479,
          "y1": 0.2029925435781479,
          "yref": "y5"
         },
         {
          "layer": "below",
          "line": {
           "color": "#371ea3",
           "dash": "dot",
           "width": 1.5
          },
          "type": "line",
          "x0": 0,
          "x1": 1,
          "xref": "x6 domain",
          "y0": 0.2029925435781479,
          "y1": 0.2029925435781479,
          "yref": "y6"
         },
         {
          "layer": "below",
          "line": {
           "color": "#371ea3",
           "dash": "dot",
           "width": 1.5
          },
          "type": "line",
          "x0": 0,
          "x1": 1,
          "xref": "x7 domain",
          "y0": 0.2029925435781479,
          "y1": 0.2029925435781479,
          "yref": "y7"
         },
         {
          "layer": "below",
          "line": {
           "color": "#371ea3",
           "dash": "dot",
           "width": 1.5
          },
          "type": "line",
          "x0": 0,
          "x1": 1,
          "xref": "x8 domain",
          "y0": 0.2029925435781479,
          "y1": 0.2029925435781479,
          "yref": "y8"
         },
         {
          "layer": "below",
          "line": {
           "color": "#371ea3",
           "dash": "dot",
           "width": 1.5
          },
          "type": "line",
          "x0": 0,
          "x1": 1,
          "xref": "x domain",
          "y0": 0.2029925435781479,
          "y1": 0.2029925435781479,
          "yref": "y"
         },
         {
          "layer": "below",
          "line": {
           "color": "#371ea3",
           "dash": "dot",
           "width": 1.5
          },
          "type": "line",
          "x0": 0,
          "x1": 1,
          "xref": "x2 domain",
          "y0": 0.2029925435781479,
          "y1": 0.2029925435781479,
          "yref": "y2"
         },
         {
          "layer": "below",
          "line": {
           "color": "#371ea3",
           "dash": "dot",
           "width": 1.5
          },
          "type": "line",
          "x0": 0,
          "x1": 1,
          "xref": "x3 domain",
          "y0": 0.2029925435781479,
          "y1": 0.2029925435781479,
          "yref": "y3"
         },
         {
          "layer": "below",
          "line": {
           "color": "#371ea3",
           "dash": "dot",
           "width": 1.5
          },
          "type": "line",
          "x0": 0,
          "x1": 1,
          "xref": "x4 domain",
          "y0": 0.2029925435781479,
          "y1": 0.2029925435781479,
          "yref": "y4"
         },
         {
          "layer": "below",
          "line": {
           "color": "#371ea3",
           "dash": "dot",
           "width": 1.5
          },
          "type": "line",
          "x0": 0,
          "x1": 1,
          "xref": "x5 domain",
          "y0": 0.2029925435781479,
          "y1": 0.2029925435781479,
          "yref": "y5"
         },
         {
          "layer": "below",
          "line": {
           "color": "#371ea3",
           "dash": "dot",
           "width": 1.5
          },
          "type": "line",
          "x0": 0,
          "x1": 1,
          "xref": "x6 domain",
          "y0": 0.2029925435781479,
          "y1": 0.2029925435781479,
          "yref": "y6"
         },
         {
          "layer": "below",
          "line": {
           "color": "#371ea3",
           "dash": "dot",
           "width": 1.5
          },
          "type": "line",
          "x0": 0,
          "x1": 1,
          "xref": "x7 domain",
          "y0": 0.2029925435781479,
          "y1": 0.2029925435781479,
          "yref": "y7"
         },
         {
          "layer": "below",
          "line": {
           "color": "#371ea3",
           "dash": "dot",
           "width": 1.5
          },
          "type": "line",
          "x0": 0,
          "x1": 1,
          "xref": "x8 domain",
          "y0": 0.2029925435781479,
          "y1": 0.2029925435781479,
          "yref": "y8"
         },
         {
          "layer": "below",
          "line": {
           "color": "#371ea3",
           "dash": "dot",
           "width": 1.5
          },
          "type": "line",
          "x0": 0,
          "x1": 1,
          "xref": "x domain",
          "y0": 0.2029925435781479,
          "y1": 0.2029925435781479,
          "yref": "y"
         },
         {
          "layer": "below",
          "line": {
           "color": "#371ea3",
           "dash": "dot",
           "width": 1.5
          },
          "type": "line",
          "x0": 0,
          "x1": 1,
          "xref": "x2 domain",
          "y0": 0.2029925435781479,
          "y1": 0.2029925435781479,
          "yref": "y2"
         },
         {
          "layer": "below",
          "line": {
           "color": "#371ea3",
           "dash": "dot",
           "width": 1.5
          },
          "type": "line",
          "x0": 0,
          "x1": 1,
          "xref": "x3 domain",
          "y0": 0.2029925435781479,
          "y1": 0.2029925435781479,
          "yref": "y3"
         },
         {
          "layer": "below",
          "line": {
           "color": "#371ea3",
           "dash": "dot",
           "width": 1.5
          },
          "type": "line",
          "x0": 0,
          "x1": 1,
          "xref": "x4 domain",
          "y0": 0.2029925435781479,
          "y1": 0.2029925435781479,
          "yref": "y4"
         },
         {
          "layer": "below",
          "line": {
           "color": "#371ea3",
           "dash": "dot",
           "width": 1.5
          },
          "type": "line",
          "x0": 0,
          "x1": 1,
          "xref": "x5 domain",
          "y0": 0.2029925435781479,
          "y1": 0.2029925435781479,
          "yref": "y5"
         },
         {
          "layer": "below",
          "line": {
           "color": "#371ea3",
           "dash": "dot",
           "width": 1.5
          },
          "type": "line",
          "x0": 0,
          "x1": 1,
          "xref": "x6 domain",
          "y0": 0.2029925435781479,
          "y1": 0.2029925435781479,
          "yref": "y6"
         },
         {
          "layer": "below",
          "line": {
           "color": "#371ea3",
           "dash": "dot",
           "width": 1.5
          },
          "type": "line",
          "x0": 0,
          "x1": 1,
          "xref": "x7 domain",
          "y0": 0.2029925435781479,
          "y1": 0.2029925435781479,
          "yref": "y7"
         },
         {
          "layer": "below",
          "line": {
           "color": "#371ea3",
           "dash": "dot",
           "width": 1.5
          },
          "type": "line",
          "x0": 0,
          "x1": 1,
          "xref": "x8 domain",
          "y0": 0.2029925435781479,
          "y1": 0.2029925435781479,
          "yref": "y8"
         },
         {
          "layer": "below",
          "line": {
           "color": "#371ea3",
           "dash": "dot",
           "width": 1.5
          },
          "type": "line",
          "x0": 0,
          "x1": 1,
          "xref": "x domain",
          "y0": 0.2029925435781479,
          "y1": 0.2029925435781479,
          "yref": "y"
         },
         {
          "layer": "below",
          "line": {
           "color": "#371ea3",
           "dash": "dot",
           "width": 1.5
          },
          "type": "line",
          "x0": 0,
          "x1": 1,
          "xref": "x2 domain",
          "y0": 0.2029925435781479,
          "y1": 0.2029925435781479,
          "yref": "y2"
         },
         {
          "layer": "below",
          "line": {
           "color": "#371ea3",
           "dash": "dot",
           "width": 1.5
          },
          "type": "line",
          "x0": 0,
          "x1": 1,
          "xref": "x3 domain",
          "y0": 0.2029925435781479,
          "y1": 0.2029925435781479,
          "yref": "y3"
         },
         {
          "layer": "below",
          "line": {
           "color": "#371ea3",
           "dash": "dot",
           "width": 1.5
          },
          "type": "line",
          "x0": 0,
          "x1": 1,
          "xref": "x4 domain",
          "y0": 0.2029925435781479,
          "y1": 0.2029925435781479,
          "yref": "y4"
         },
         {
          "layer": "below",
          "line": {
           "color": "#371ea3",
           "dash": "dot",
           "width": 1.5
          },
          "type": "line",
          "x0": 0,
          "x1": 1,
          "xref": "x5 domain",
          "y0": 0.2029925435781479,
          "y1": 0.2029925435781479,
          "yref": "y5"
         },
         {
          "layer": "below",
          "line": {
           "color": "#371ea3",
           "dash": "dot",
           "width": 1.5
          },
          "type": "line",
          "x0": 0,
          "x1": 1,
          "xref": "x6 domain",
          "y0": 0.2029925435781479,
          "y1": 0.2029925435781479,
          "yref": "y6"
         },
         {
          "layer": "below",
          "line": {
           "color": "#371ea3",
           "dash": "dot",
           "width": 1.5
          },
          "type": "line",
          "x0": 0,
          "x1": 1,
          "xref": "x7 domain",
          "y0": 0.2029925435781479,
          "y1": 0.2029925435781479,
          "yref": "y7"
         },
         {
          "layer": "below",
          "line": {
           "color": "#371ea3",
           "dash": "dot",
           "width": 1.5
          },
          "type": "line",
          "x0": 0,
          "x1": 1,
          "xref": "x8 domain",
          "y0": 0.2029925435781479,
          "y1": 0.2029925435781479,
          "yref": "y8"
         },
         {
          "layer": "below",
          "line": {
           "color": "#371ea3",
           "dash": "dot",
           "width": 1.5
          },
          "type": "line",
          "x0": 0,
          "x1": 1,
          "xref": "x domain",
          "y0": 0.2029925435781479,
          "y1": 0.2029925435781479,
          "yref": "y"
         },
         {
          "layer": "below",
          "line": {
           "color": "#371ea3",
           "dash": "dot",
           "width": 1.5
          },
          "type": "line",
          "x0": 0,
          "x1": 1,
          "xref": "x2 domain",
          "y0": 0.2029925435781479,
          "y1": 0.2029925435781479,
          "yref": "y2"
         },
         {
          "layer": "below",
          "line": {
           "color": "#371ea3",
           "dash": "dot",
           "width": 1.5
          },
          "type": "line",
          "x0": 0,
          "x1": 1,
          "xref": "x3 domain",
          "y0": 0.2029925435781479,
          "y1": 0.2029925435781479,
          "yref": "y3"
         },
         {
          "layer": "below",
          "line": {
           "color": "#371ea3",
           "dash": "dot",
           "width": 1.5
          },
          "type": "line",
          "x0": 0,
          "x1": 1,
          "xref": "x4 domain",
          "y0": 0.2029925435781479,
          "y1": 0.2029925435781479,
          "yref": "y4"
         },
         {
          "layer": "below",
          "line": {
           "color": "#371ea3",
           "dash": "dot",
           "width": 1.5
          },
          "type": "line",
          "x0": 0,
          "x1": 1,
          "xref": "x5 domain",
          "y0": 0.2029925435781479,
          "y1": 0.2029925435781479,
          "yref": "y5"
         },
         {
          "layer": "below",
          "line": {
           "color": "#371ea3",
           "dash": "dot",
           "width": 1.5
          },
          "type": "line",
          "x0": 0,
          "x1": 1,
          "xref": "x6 domain",
          "y0": 0.2029925435781479,
          "y1": 0.2029925435781479,
          "yref": "y6"
         },
         {
          "layer": "below",
          "line": {
           "color": "#371ea3",
           "dash": "dot",
           "width": 1.5
          },
          "type": "line",
          "x0": 0,
          "x1": 1,
          "xref": "x7 domain",
          "y0": 0.2029925435781479,
          "y1": 0.2029925435781479,
          "yref": "y7"
         },
         {
          "layer": "below",
          "line": {
           "color": "#371ea3",
           "dash": "dot",
           "width": 1.5
          },
          "type": "line",
          "x0": 0,
          "x1": 1,
          "xref": "x8 domain",
          "y0": 0.2029925435781479,
          "y1": 0.2029925435781479,
          "yref": "y8"
         },
         {
          "layer": "below",
          "line": {
           "color": "#371ea3",
           "dash": "dot",
           "width": 1.5
          },
          "type": "line",
          "x0": 0,
          "x1": 1,
          "xref": "x domain",
          "y0": 0.23213642835617065,
          "y1": 0.23213642835617065,
          "yref": "y"
         },
         {
          "layer": "below",
          "line": {
           "color": "#371ea3",
           "dash": "dot",
           "width": 1.5
          },
          "type": "line",
          "x0": 0,
          "x1": 1,
          "xref": "x2 domain",
          "y0": 0.23213642835617065,
          "y1": 0.23213642835617065,
          "yref": "y2"
         },
         {
          "layer": "below",
          "line": {
           "color": "#371ea3",
           "dash": "dot",
           "width": 1.5
          },
          "type": "line",
          "x0": 0,
          "x1": 1,
          "xref": "x3 domain",
          "y0": 0.23213642835617065,
          "y1": 0.23213642835617065,
          "yref": "y3"
         },
         {
          "layer": "below",
          "line": {
           "color": "#371ea3",
           "dash": "dot",
           "width": 1.5
          },
          "type": "line",
          "x0": 0,
          "x1": 1,
          "xref": "x4 domain",
          "y0": 0.23213642835617065,
          "y1": 0.23213642835617065,
          "yref": "y4"
         },
         {
          "layer": "below",
          "line": {
           "color": "#371ea3",
           "dash": "dot",
           "width": 1.5
          },
          "type": "line",
          "x0": 0,
          "x1": 1,
          "xref": "x5 domain",
          "y0": 0.23213642835617065,
          "y1": 0.23213642835617065,
          "yref": "y5"
         },
         {
          "layer": "below",
          "line": {
           "color": "#371ea3",
           "dash": "dot",
           "width": 1.5
          },
          "type": "line",
          "x0": 0,
          "x1": 1,
          "xref": "x6 domain",
          "y0": 0.23213642835617065,
          "y1": 0.23213642835617065,
          "yref": "y6"
         },
         {
          "layer": "below",
          "line": {
           "color": "#371ea3",
           "dash": "dot",
           "width": 1.5
          },
          "type": "line",
          "x0": 0,
          "x1": 1,
          "xref": "x7 domain",
          "y0": 0.23213642835617065,
          "y1": 0.23213642835617065,
          "yref": "y7"
         },
         {
          "layer": "below",
          "line": {
           "color": "#371ea3",
           "dash": "dot",
           "width": 1.5
          },
          "type": "line",
          "x0": 0,
          "x1": 1,
          "xref": "x8 domain",
          "y0": 0.23213642835617065,
          "y1": 0.23213642835617065,
          "yref": "y8"
         },
         {
          "layer": "below",
          "line": {
           "color": "#371ea3",
           "dash": "dot",
           "width": 1.5
          },
          "type": "line",
          "x0": 0,
          "x1": 1,
          "xref": "x domain",
          "y0": 0.23213642835617065,
          "y1": 0.23213642835617065,
          "yref": "y"
         },
         {
          "layer": "below",
          "line": {
           "color": "#371ea3",
           "dash": "dot",
           "width": 1.5
          },
          "type": "line",
          "x0": 0,
          "x1": 1,
          "xref": "x2 domain",
          "y0": 0.23213642835617065,
          "y1": 0.23213642835617065,
          "yref": "y2"
         },
         {
          "layer": "below",
          "line": {
           "color": "#371ea3",
           "dash": "dot",
           "width": 1.5
          },
          "type": "line",
          "x0": 0,
          "x1": 1,
          "xref": "x3 domain",
          "y0": 0.23213642835617065,
          "y1": 0.23213642835617065,
          "yref": "y3"
         },
         {
          "layer": "below",
          "line": {
           "color": "#371ea3",
           "dash": "dot",
           "width": 1.5
          },
          "type": "line",
          "x0": 0,
          "x1": 1,
          "xref": "x4 domain",
          "y0": 0.23213642835617065,
          "y1": 0.23213642835617065,
          "yref": "y4"
         },
         {
          "layer": "below",
          "line": {
           "color": "#371ea3",
           "dash": "dot",
           "width": 1.5
          },
          "type": "line",
          "x0": 0,
          "x1": 1,
          "xref": "x5 domain",
          "y0": 0.23213642835617065,
          "y1": 0.23213642835617065,
          "yref": "y5"
         },
         {
          "layer": "below",
          "line": {
           "color": "#371ea3",
           "dash": "dot",
           "width": 1.5
          },
          "type": "line",
          "x0": 0,
          "x1": 1,
          "xref": "x6 domain",
          "y0": 0.23213642835617065,
          "y1": 0.23213642835617065,
          "yref": "y6"
         },
         {
          "layer": "below",
          "line": {
           "color": "#371ea3",
           "dash": "dot",
           "width": 1.5
          },
          "type": "line",
          "x0": 0,
          "x1": 1,
          "xref": "x7 domain",
          "y0": 0.23213642835617065,
          "y1": 0.23213642835617065,
          "yref": "y7"
         },
         {
          "layer": "below",
          "line": {
           "color": "#371ea3",
           "dash": "dot",
           "width": 1.5
          },
          "type": "line",
          "x0": 0,
          "x1": 1,
          "xref": "x8 domain",
          "y0": 0.23213642835617065,
          "y1": 0.23213642835617065,
          "yref": "y8"
         },
         {
          "layer": "below",
          "line": {
           "color": "#371ea3",
           "dash": "dot",
           "width": 1.5
          },
          "type": "line",
          "x0": 0,
          "x1": 1,
          "xref": "x domain",
          "y0": 0.23213642835617065,
          "y1": 0.23213642835617065,
          "yref": "y"
         },
         {
          "layer": "below",
          "line": {
           "color": "#371ea3",
           "dash": "dot",
           "width": 1.5
          },
          "type": "line",
          "x0": 0,
          "x1": 1,
          "xref": "x2 domain",
          "y0": 0.23213642835617065,
          "y1": 0.23213642835617065,
          "yref": "y2"
         },
         {
          "layer": "below",
          "line": {
           "color": "#371ea3",
           "dash": "dot",
           "width": 1.5
          },
          "type": "line",
          "x0": 0,
          "x1": 1,
          "xref": "x3 domain",
          "y0": 0.23213642835617065,
          "y1": 0.23213642835617065,
          "yref": "y3"
         },
         {
          "layer": "below",
          "line": {
           "color": "#371ea3",
           "dash": "dot",
           "width": 1.5
          },
          "type": "line",
          "x0": 0,
          "x1": 1,
          "xref": "x4 domain",
          "y0": 0.23213642835617065,
          "y1": 0.23213642835617065,
          "yref": "y4"
         },
         {
          "layer": "below",
          "line": {
           "color": "#371ea3",
           "dash": "dot",
           "width": 1.5
          },
          "type": "line",
          "x0": 0,
          "x1": 1,
          "xref": "x5 domain",
          "y0": 0.23213642835617065,
          "y1": 0.23213642835617065,
          "yref": "y5"
         },
         {
          "layer": "below",
          "line": {
           "color": "#371ea3",
           "dash": "dot",
           "width": 1.5
          },
          "type": "line",
          "x0": 0,
          "x1": 1,
          "xref": "x6 domain",
          "y0": 0.23213642835617065,
          "y1": 0.23213642835617065,
          "yref": "y6"
         },
         {
          "layer": "below",
          "line": {
           "color": "#371ea3",
           "dash": "dot",
           "width": 1.5
          },
          "type": "line",
          "x0": 0,
          "x1": 1,
          "xref": "x7 domain",
          "y0": 0.23213642835617065,
          "y1": 0.23213642835617065,
          "yref": "y7"
         },
         {
          "layer": "below",
          "line": {
           "color": "#371ea3",
           "dash": "dot",
           "width": 1.5
          },
          "type": "line",
          "x0": 0,
          "x1": 1,
          "xref": "x8 domain",
          "y0": 0.23213642835617065,
          "y1": 0.23213642835617065,
          "yref": "y8"
         },
         {
          "layer": "below",
          "line": {
           "color": "#371ea3",
           "dash": "dot",
           "width": 1.5
          },
          "type": "line",
          "x0": 0,
          "x1": 1,
          "xref": "x domain",
          "y0": 0.23213642835617065,
          "y1": 0.23213642835617065,
          "yref": "y"
         },
         {
          "layer": "below",
          "line": {
           "color": "#371ea3",
           "dash": "dot",
           "width": 1.5
          },
          "type": "line",
          "x0": 0,
          "x1": 1,
          "xref": "x2 domain",
          "y0": 0.23213642835617065,
          "y1": 0.23213642835617065,
          "yref": "y2"
         },
         {
          "layer": "below",
          "line": {
           "color": "#371ea3",
           "dash": "dot",
           "width": 1.5
          },
          "type": "line",
          "x0": 0,
          "x1": 1,
          "xref": "x3 domain",
          "y0": 0.23213642835617065,
          "y1": 0.23213642835617065,
          "yref": "y3"
         },
         {
          "layer": "below",
          "line": {
           "color": "#371ea3",
           "dash": "dot",
           "width": 1.5
          },
          "type": "line",
          "x0": 0,
          "x1": 1,
          "xref": "x4 domain",
          "y0": 0.23213642835617065,
          "y1": 0.23213642835617065,
          "yref": "y4"
         },
         {
          "layer": "below",
          "line": {
           "color": "#371ea3",
           "dash": "dot",
           "width": 1.5
          },
          "type": "line",
          "x0": 0,
          "x1": 1,
          "xref": "x5 domain",
          "y0": 0.23213642835617065,
          "y1": 0.23213642835617065,
          "yref": "y5"
         },
         {
          "layer": "below",
          "line": {
           "color": "#371ea3",
           "dash": "dot",
           "width": 1.5
          },
          "type": "line",
          "x0": 0,
          "x1": 1,
          "xref": "x6 domain",
          "y0": 0.23213642835617065,
          "y1": 0.23213642835617065,
          "yref": "y6"
         },
         {
          "layer": "below",
          "line": {
           "color": "#371ea3",
           "dash": "dot",
           "width": 1.5
          },
          "type": "line",
          "x0": 0,
          "x1": 1,
          "xref": "x7 domain",
          "y0": 0.23213642835617065,
          "y1": 0.23213642835617065,
          "yref": "y7"
         },
         {
          "layer": "below",
          "line": {
           "color": "#371ea3",
           "dash": "dot",
           "width": 1.5
          },
          "type": "line",
          "x0": 0,
          "x1": 1,
          "xref": "x8 domain",
          "y0": 0.23213642835617065,
          "y1": 0.23213642835617065,
          "yref": "y8"
         },
         {
          "layer": "below",
          "line": {
           "color": "#371ea3",
           "dash": "dot",
           "width": 1.5
          },
          "type": "line",
          "x0": 0,
          "x1": 1,
          "xref": "x domain",
          "y0": 0.23213642835617065,
          "y1": 0.23213642835617065,
          "yref": "y"
         },
         {
          "layer": "below",
          "line": {
           "color": "#371ea3",
           "dash": "dot",
           "width": 1.5
          },
          "type": "line",
          "x0": 0,
          "x1": 1,
          "xref": "x2 domain",
          "y0": 0.23213642835617065,
          "y1": 0.23213642835617065,
          "yref": "y2"
         },
         {
          "layer": "below",
          "line": {
           "color": "#371ea3",
           "dash": "dot",
           "width": 1.5
          },
          "type": "line",
          "x0": 0,
          "x1": 1,
          "xref": "x3 domain",
          "y0": 0.23213642835617065,
          "y1": 0.23213642835617065,
          "yref": "y3"
         },
         {
          "layer": "below",
          "line": {
           "color": "#371ea3",
           "dash": "dot",
           "width": 1.5
          },
          "type": "line",
          "x0": 0,
          "x1": 1,
          "xref": "x4 domain",
          "y0": 0.23213642835617065,
          "y1": 0.23213642835617065,
          "yref": "y4"
         },
         {
          "layer": "below",
          "line": {
           "color": "#371ea3",
           "dash": "dot",
           "width": 1.5
          },
          "type": "line",
          "x0": 0,
          "x1": 1,
          "xref": "x5 domain",
          "y0": 0.23213642835617065,
          "y1": 0.23213642835617065,
          "yref": "y5"
         },
         {
          "layer": "below",
          "line": {
           "color": "#371ea3",
           "dash": "dot",
           "width": 1.5
          },
          "type": "line",
          "x0": 0,
          "x1": 1,
          "xref": "x6 domain",
          "y0": 0.23213642835617065,
          "y1": 0.23213642835617065,
          "yref": "y6"
         },
         {
          "layer": "below",
          "line": {
           "color": "#371ea3",
           "dash": "dot",
           "width": 1.5
          },
          "type": "line",
          "x0": 0,
          "x1": 1,
          "xref": "x7 domain",
          "y0": 0.23213642835617065,
          "y1": 0.23213642835617065,
          "yref": "y7"
         },
         {
          "layer": "below",
          "line": {
           "color": "#371ea3",
           "dash": "dot",
           "width": 1.5
          },
          "type": "line",
          "x0": 0,
          "x1": 1,
          "xref": "x8 domain",
          "y0": 0.23213642835617065,
          "y1": 0.23213642835617065,
          "yref": "y8"
         },
         {
          "layer": "below",
          "line": {
           "color": "#371ea3",
           "dash": "dot",
           "width": 1.5
          },
          "type": "line",
          "x0": 0,
          "x1": 1,
          "xref": "x domain",
          "y0": 0.23213642835617065,
          "y1": 0.23213642835617065,
          "yref": "y"
         },
         {
          "layer": "below",
          "line": {
           "color": "#371ea3",
           "dash": "dot",
           "width": 1.5
          },
          "type": "line",
          "x0": 0,
          "x1": 1,
          "xref": "x2 domain",
          "y0": 0.23213642835617065,
          "y1": 0.23213642835617065,
          "yref": "y2"
         },
         {
          "layer": "below",
          "line": {
           "color": "#371ea3",
           "dash": "dot",
           "width": 1.5
          },
          "type": "line",
          "x0": 0,
          "x1": 1,
          "xref": "x3 domain",
          "y0": 0.23213642835617065,
          "y1": 0.23213642835617065,
          "yref": "y3"
         },
         {
          "layer": "below",
          "line": {
           "color": "#371ea3",
           "dash": "dot",
           "width": 1.5
          },
          "type": "line",
          "x0": 0,
          "x1": 1,
          "xref": "x4 domain",
          "y0": 0.23213642835617065,
          "y1": 0.23213642835617065,
          "yref": "y4"
         },
         {
          "layer": "below",
          "line": {
           "color": "#371ea3",
           "dash": "dot",
           "width": 1.5
          },
          "type": "line",
          "x0": 0,
          "x1": 1,
          "xref": "x5 domain",
          "y0": 0.23213642835617065,
          "y1": 0.23213642835617065,
          "yref": "y5"
         },
         {
          "layer": "below",
          "line": {
           "color": "#371ea3",
           "dash": "dot",
           "width": 1.5
          },
          "type": "line",
          "x0": 0,
          "x1": 1,
          "xref": "x6 domain",
          "y0": 0.23213642835617065,
          "y1": 0.23213642835617065,
          "yref": "y6"
         },
         {
          "layer": "below",
          "line": {
           "color": "#371ea3",
           "dash": "dot",
           "width": 1.5
          },
          "type": "line",
          "x0": 0,
          "x1": 1,
          "xref": "x7 domain",
          "y0": 0.23213642835617065,
          "y1": 0.23213642835617065,
          "yref": "y7"
         },
         {
          "layer": "below",
          "line": {
           "color": "#371ea3",
           "dash": "dot",
           "width": 1.5
          },
          "type": "line",
          "x0": 0,
          "x1": 1,
          "xref": "x8 domain",
          "y0": 0.23213642835617065,
          "y1": 0.23213642835617065,
          "yref": "y8"
         },
         {
          "layer": "below",
          "line": {
           "color": "#371ea3",
           "dash": "dot",
           "width": 1.5
          },
          "type": "line",
          "x0": 0,
          "x1": 1,
          "xref": "x domain",
          "y0": 0.23213642835617065,
          "y1": 0.23213642835617065,
          "yref": "y"
         },
         {
          "layer": "below",
          "line": {
           "color": "#371ea3",
           "dash": "dot",
           "width": 1.5
          },
          "type": "line",
          "x0": 0,
          "x1": 1,
          "xref": "x2 domain",
          "y0": 0.23213642835617065,
          "y1": 0.23213642835617065,
          "yref": "y2"
         },
         {
          "layer": "below",
          "line": {
           "color": "#371ea3",
           "dash": "dot",
           "width": 1.5
          },
          "type": "line",
          "x0": 0,
          "x1": 1,
          "xref": "x3 domain",
          "y0": 0.23213642835617065,
          "y1": 0.23213642835617065,
          "yref": "y3"
         },
         {
          "layer": "below",
          "line": {
           "color": "#371ea3",
           "dash": "dot",
           "width": 1.5
          },
          "type": "line",
          "x0": 0,
          "x1": 1,
          "xref": "x4 domain",
          "y0": 0.23213642835617065,
          "y1": 0.23213642835617065,
          "yref": "y4"
         },
         {
          "layer": "below",
          "line": {
           "color": "#371ea3",
           "dash": "dot",
           "width": 1.5
          },
          "type": "line",
          "x0": 0,
          "x1": 1,
          "xref": "x5 domain",
          "y0": 0.23213642835617065,
          "y1": 0.23213642835617065,
          "yref": "y5"
         },
         {
          "layer": "below",
          "line": {
           "color": "#371ea3",
           "dash": "dot",
           "width": 1.5
          },
          "type": "line",
          "x0": 0,
          "x1": 1,
          "xref": "x6 domain",
          "y0": 0.23213642835617065,
          "y1": 0.23213642835617065,
          "yref": "y6"
         },
         {
          "layer": "below",
          "line": {
           "color": "#371ea3",
           "dash": "dot",
           "width": 1.5
          },
          "type": "line",
          "x0": 0,
          "x1": 1,
          "xref": "x7 domain",
          "y0": 0.23213642835617065,
          "y1": 0.23213642835617065,
          "yref": "y7"
         },
         {
          "layer": "below",
          "line": {
           "color": "#371ea3",
           "dash": "dot",
           "width": 1.5
          },
          "type": "line",
          "x0": 0,
          "x1": 1,
          "xref": "x8 domain",
          "y0": 0.23213642835617065,
          "y1": 0.23213642835617065,
          "yref": "y8"
         },
         {
          "layer": "below",
          "line": {
           "color": "#371ea3",
           "dash": "dot",
           "width": 1.5
          },
          "type": "line",
          "x0": 0,
          "x1": 1,
          "xref": "x domain",
          "y0": 0.23213642835617065,
          "y1": 0.23213642835617065,
          "yref": "y"
         },
         {
          "layer": "below",
          "line": {
           "color": "#371ea3",
           "dash": "dot",
           "width": 1.5
          },
          "type": "line",
          "x0": 0,
          "x1": 1,
          "xref": "x2 domain",
          "y0": 0.23213642835617065,
          "y1": 0.23213642835617065,
          "yref": "y2"
         },
         {
          "layer": "below",
          "line": {
           "color": "#371ea3",
           "dash": "dot",
           "width": 1.5
          },
          "type": "line",
          "x0": 0,
          "x1": 1,
          "xref": "x3 domain",
          "y0": 0.23213642835617065,
          "y1": 0.23213642835617065,
          "yref": "y3"
         },
         {
          "layer": "below",
          "line": {
           "color": "#371ea3",
           "dash": "dot",
           "width": 1.5
          },
          "type": "line",
          "x0": 0,
          "x1": 1,
          "xref": "x4 domain",
          "y0": 0.23213642835617065,
          "y1": 0.23213642835617065,
          "yref": "y4"
         },
         {
          "layer": "below",
          "line": {
           "color": "#371ea3",
           "dash": "dot",
           "width": 1.5
          },
          "type": "line",
          "x0": 0,
          "x1": 1,
          "xref": "x5 domain",
          "y0": 0.23213642835617065,
          "y1": 0.23213642835617065,
          "yref": "y5"
         },
         {
          "layer": "below",
          "line": {
           "color": "#371ea3",
           "dash": "dot",
           "width": 1.5
          },
          "type": "line",
          "x0": 0,
          "x1": 1,
          "xref": "x6 domain",
          "y0": 0.23213642835617065,
          "y1": 0.23213642835617065,
          "yref": "y6"
         },
         {
          "layer": "below",
          "line": {
           "color": "#371ea3",
           "dash": "dot",
           "width": 1.5
          },
          "type": "line",
          "x0": 0,
          "x1": 1,
          "xref": "x7 domain",
          "y0": 0.23213642835617065,
          "y1": 0.23213642835617065,
          "yref": "y7"
         },
         {
          "layer": "below",
          "line": {
           "color": "#371ea3",
           "dash": "dot",
           "width": 1.5
          },
          "type": "line",
          "x0": 0,
          "x1": 1,
          "xref": "x8 domain",
          "y0": 0.23213642835617065,
          "y1": 0.23213642835617065,
          "yref": "y8"
         }
        ],
        "template": {
         "data": {
          "scatter": [
           {
            "type": "scatter"
           }
          ]
         }
        },
        "title": {
         "font": {
          "size": 16
         },
         "text": "Aggregated Profiles",
         "x": 0.15
        },
        "xaxis": {
         "anchor": "y",
         "automargin": true,
         "domain": [
          0,
          0.475
         ],
         "fixedrange": true,
         "gridwidth": 2,
         "showticklabels": true,
         "tickcolor": "white",
         "ticklen": 10,
         "ticks": "outside",
         "title": {
          "text": ""
         },
         "type": "category"
        },
        "xaxis2": {
         "anchor": "y2",
         "automargin": true,
         "domain": [
          0.525,
          1
         ],
         "fixedrange": true,
         "gridwidth": 2,
         "showticklabels": true,
         "tickcolor": "white",
         "ticklen": 10,
         "ticks": "outside",
         "title": {
          "text": ""
         },
         "type": "category"
        },
        "xaxis3": {
         "anchor": "y3",
         "automargin": true,
         "domain": [
          0,
          0.475
         ],
         "fixedrange": true,
         "gridwidth": 2,
         "showticklabels": true,
         "tickcolor": "white",
         "ticklen": 10,
         "ticks": "outside",
         "title": {
          "text": ""
         },
         "type": "category"
        },
        "xaxis4": {
         "anchor": "y4",
         "automargin": true,
         "domain": [
          0.525,
          1
         ],
         "fixedrange": true,
         "gridwidth": 2,
         "showticklabels": true,
         "tickcolor": "white",
         "ticklen": 10,
         "ticks": "outside",
         "title": {
          "text": ""
         },
         "type": "category"
        },
        "xaxis5": {
         "anchor": "y5",
         "automargin": true,
         "domain": [
          0,
          0.475
         ],
         "fixedrange": true,
         "gridwidth": 2,
         "showticklabels": true,
         "tickcolor": "white",
         "ticklen": 10,
         "ticks": "outside",
         "title": {
          "text": ""
         },
         "type": "category"
        },
        "xaxis6": {
         "anchor": "y6",
         "automargin": true,
         "domain": [
          0.525,
          1
         ],
         "fixedrange": true,
         "gridwidth": 2,
         "showticklabels": true,
         "tickcolor": "white",
         "ticklen": 10,
         "ticks": "outside",
         "title": {
          "text": ""
         },
         "type": "category"
        },
        "xaxis7": {
         "anchor": "y7",
         "automargin": true,
         "domain": [
          0,
          0.475
         ],
         "fixedrange": true,
         "gridwidth": 2,
         "showticklabels": true,
         "tickcolor": "white",
         "ticklen": 10,
         "ticks": "outside",
         "title": {
          "text": ""
         },
         "type": "category"
        },
        "xaxis8": {
         "anchor": "y8",
         "automargin": true,
         "domain": [
          0.525,
          1
         ],
         "fixedrange": true,
         "gridwidth": 2,
         "showticklabels": true,
         "tickcolor": "white",
         "ticklen": 10,
         "ticks": "outside",
         "title": {
          "text": ""
         },
         "type": "category"
        },
        "yaxis": {
         "anchor": "x",
         "automargin": true,
         "domain": [
          0,
          0.19375
         ],
         "fixedrange": true,
         "gridwidth": 2,
         "range": [
          0.07799320317292871,
          0.33895132828029884
         ],
         "tickcolor": "white",
         "ticklen": 3,
         "ticks": "outside",
         "title": {
          "text": ""
         },
         "type": "linear",
         "zeroline": false
        },
        "yaxis2": {
         "anchor": "x2",
         "automargin": true,
         "domain": [
          0,
          0.19375
         ],
         "fixedrange": true,
         "gridwidth": 2,
         "matches": "y",
         "showticklabels": false,
         "tickcolor": "white",
         "ticklen": 3,
         "ticks": "outside",
         "title": {
          "text": ""
         },
         "type": "linear",
         "zeroline": false
        },
        "yaxis3": {
         "anchor": "x3",
         "automargin": true,
         "domain": [
          0.26875,
          0.4625
         ],
         "fixedrange": true,
         "gridwidth": 2,
         "matches": "y",
         "range": [
          0.07799320317292871,
          0.33895132828029884
         ],
         "tickcolor": "white",
         "ticklen": 3,
         "ticks": "outside",
         "title": {
          "text": ""
         },
         "type": "linear",
         "zeroline": false
        },
        "yaxis4": {
         "anchor": "x4",
         "automargin": true,
         "domain": [
          0.26875,
          0.4625
         ],
         "fixedrange": true,
         "gridwidth": 2,
         "matches": "y",
         "showticklabels": false,
         "tickcolor": "white",
         "ticklen": 3,
         "ticks": "outside",
         "title": {
          "text": ""
         },
         "type": "linear",
         "zeroline": false
        },
        "yaxis5": {
         "anchor": "x5",
         "automargin": true,
         "domain": [
          0.5375,
          0.73125
         ],
         "fixedrange": true,
         "gridwidth": 2,
         "matches": "y",
         "range": [
          0.07799320317292871,
          0.33895132828029884
         ],
         "tickcolor": "white",
         "ticklen": 3,
         "ticks": "outside",
         "title": {
          "text": ""
         },
         "type": "linear",
         "zeroline": false
        },
        "yaxis6": {
         "anchor": "x6",
         "automargin": true,
         "domain": [
          0.5375,
          0.73125
         ],
         "fixedrange": true,
         "gridwidth": 2,
         "matches": "y",
         "showticklabels": false,
         "tickcolor": "white",
         "ticklen": 3,
         "ticks": "outside",
         "title": {
          "text": ""
         },
         "type": "linear",
         "zeroline": false
        },
        "yaxis7": {
         "anchor": "x7",
         "automargin": true,
         "domain": [
          0.80625,
          1
         ],
         "fixedrange": true,
         "gridwidth": 2,
         "matches": "y",
         "range": [
          0.07799320317292871,
          0.33895132828029884
         ],
         "tickcolor": "white",
         "ticklen": 3,
         "ticks": "outside",
         "title": {
          "text": ""
         },
         "type": "linear",
         "zeroline": false
        },
        "yaxis8": {
         "anchor": "x8",
         "automargin": true,
         "domain": [
          0.80625,
          1
         ],
         "fixedrange": true,
         "gridwidth": 2,
         "matches": "y",
         "showticklabels": false,
         "tickcolor": "white",
         "ticklen": 3,
         "ticks": "outside",
         "title": {
          "text": ""
         },
         "type": "linear",
         "zeroline": false
        }
       }
      }
     },
     "metadata": {},
     "output_type": "display_data"
    }
   ],
   "source": [
    "ale_cat.plot(pdp_cat)"
   ]
  },
  {
   "cell_type": "markdown",
   "metadata": {},
   "source": [
    "### Testing predictions for specific cases"
   ]
  },
  {
   "cell_type": "code",
   "execution_count": 45,
   "metadata": {},
   "outputs": [],
   "source": [
    "blue_collar_worker = pd.DataFrame(\n",
    "    {   \n",
    "        'age': [38],\n",
    "        'job': ['blue-collar'],\n",
    "        'maritial': ['married'],\n",
    "        'education': ['tertiary'],\n",
    "        'default': ['no'],\n",
    "        'balance': [20000],\n",
    "        'housing': ['yes'],\n",
    "        'loan': ['yes'],\n",
    "        'contact': ['cellular'],\n",
    "        'day': [16],\n",
    "        'month': ['may'],\n",
    "        'duration': [185],\n",
    "        'campaign': [1],\n",
    "        'pdays': [330],\n",
    "        'previous': [1],\n",
    "        'poutcome': ['success']\n",
    "    },\n",
    "    index=[\"blue_collar_worker\"],\n",
    ")\n",
    "\n",
    "student = pd.DataFrame(\n",
    "    {   \n",
    "        'age': [20],\n",
    "        'job': ['student'],\n",
    "        'maritial': ['single'],\n",
    "        'education': ['tertiary'],\n",
    "        'default': ['no'],\n",
    "        'balance': [350],\n",
    "        'housing': ['no'],\n",
    "        'loan': ['no'],\n",
    "        'contact': ['cellular'],\n",
    "        'day': [16],\n",
    "        'month': ['may'],\n",
    "        'duration': [90],\n",
    "        'campaign': [-1],\n",
    "        'pdays': [0],\n",
    "        'previous': [0],\n",
    "        'poutcome': ['unknown']\n",
    "    },\n",
    "    index=[\"student\"],\n",
    ")\n",
    "\n",
    "\n",
    "grandpa = pd.DataFrame(\n",
    "    {   \n",
    "        'age': [65],\n",
    "        'job': ['retired'],\n",
    "        'maritial': ['married'],\n",
    "        'education': ['secondary'],\n",
    "        'default': ['no'],\n",
    "        'balance': [40000],\n",
    "        'housing': ['no'],\n",
    "        'loan': ['no'],\n",
    "        'contact': ['cellular'],\n",
    "        'day': [16],\n",
    "        'month': ['may'],\n",
    "        'duration': [380],\n",
    "        'campaign': [-1],\n",
    "        'pdays': [20],\n",
    "        'previous': [0],\n",
    "        'poutcome': ['unknown']\n",
    "    },\n",
    "    index=[\"grandpa\"],\n",
    ")\n",
    "\n",
    "young_businessman = pd.DataFrame(\n",
    "    {   \n",
    "        'age': [20],\n",
    "        'job': ['entrepreneur'],\n",
    "        'maritial': ['single'],\n",
    "        'education': ['secondary'],\n",
    "        'default': ['no'],\n",
    "        'balance': [70000],\n",
    "        'housing': ['no'],\n",
    "        'loan': ['no'],\n",
    "        'contact': ['cellular'],\n",
    "        'day': [1],\n",
    "        'month': ['may'],\n",
    "        'duration': [200],\n",
    "        'campaign': [-1],\n",
    "        'pdays': [20],\n",
    "        'previous': [0],\n",
    "        'poutcome': ['unknown']\n",
    "    },\n",
    "    index=[\"young_businessman\"],\n",
    ")\n"
   ]
  },
  {
   "cell_type": "code",
   "execution_count": 46,
   "metadata": {},
   "outputs": [],
   "source": [
    "sh_blue_collar_worker = exp.predict_parts(blue_collar_worker, type=\"shap\", B=50, label=blue_collar_worker.index[0])\n",
    "sh_student = exp.predict_parts(student, type=\"shap\", B=50, label=student.index[0])\n",
    "sh_grandpa = exp.predict_parts(grandpa, type=\"shap\", B=50, label=grandpa.index[0])\n",
    "young_businessman = exp.predict_parts(young_businessman, type=\"shap\", B=50, label=young_businessman.index[0])\n",
    "\n"
   ]
  },
  {
   "cell_type": "code",
   "execution_count": 47,
   "metadata": {},
   "outputs": [
    {
     "data": {
      "application/vnd.plotly.v1+json": {
       "config": {
        "displaylogo": false,
        "modeBarButtonsToRemove": [
         "sendDataToCloud",
         "lasso2d",
         "autoScale2d",
         "select2d",
         "zoom2d",
         "pan2d",
         "zoomIn2d",
         "zoomOut2d",
         "resetScale2d",
         "toggleSpikelines",
         "hoverCompareCartesian",
         "hoverClosestCartesian"
        ],
        "plotlyServerURL": "https://plot.ly",
        "staticPlot": false,
        "toImageButtonOptions": {
         "height": null,
         "width": null
        }
       },
       "data": [
        {
         "base": 0.21398502588272095,
         "hoverinfo": "text",
         "hoverlabel": {
          "bgcolor": "rgba(0,0,0,0.8)"
         },
         "hovertext": [
          "Average response: 0.214<br>Prediction: 0.193<br>age = 38.0<br>increases average response <br>by 0.14",
          "Average response: 0.214<br>Prediction: 0.193<br>duration = 185.0<br>decreases average response <br>by 0.097",
          "Average response: 0.214<br>Prediction: 0.193<br>pdays = 330.0<br>decreases average response <br>by 0.09",
          "Average response: 0.214<br>Prediction: 0.193<br>month = may<br>decreases average response <br>by 0.086",
          "Average response: 0.214<br>Prediction: 0.193<br>poutcome = success<br>increases average response <br>by 0.084",
          "Average response: 0.214<br>Prediction: 0.193<br>contact = cellular<br>increases average response <br>by 0.03",
          "Average response: 0.214<br>Prediction: 0.193<br>loan = yes<br>decreases average response <br>by 0.021",
          "Average response: 0.214<br>Prediction: 0.193<br>day = 16.0<br>increases average response <br>by 0.019",
          "Average response: 0.214<br>Prediction: 0.193<br>campaign = 1.0<br>increases average response <br>by 0.018",
          "Average response: 0.214<br>Prediction: 0.193<br>+ all other factors<br>decreases average response <br>by 0.02"
         ],
         "marker": {
          "color": [
           "#8bdcbe",
           "#f05a71",
           "#f05a71",
           "#f05a71",
           "#8bdcbe",
           "#8bdcbe",
           "#f05a71",
           "#8bdcbe",
           "#8bdcbe",
           "#f05a71"
          ]
         },
         "orientation": "h",
         "showlegend": false,
         "text": [
          "+0.14",
          "-0.097",
          "-0.09",
          "-0.086",
          "+0.084",
          "+0.03",
          "-0.021",
          "+0.019",
          "+0.018",
          "-0.02"
         ],
         "textposition": "outside",
         "type": "bar",
         "x": [
          0.14,
          -0.097,
          -0.09,
          -0.086,
          0.084,
          0.03,
          -0.021,
          0.019,
          0.018,
          -0.02
         ],
         "xaxis": "x",
         "y": [
          "age = 38.0",
          "duration = 185.0",
          "pdays = 330.0",
          "month = may",
          "poutcome = success",
          "contact = cellular",
          "loan = yes",
          "day = 16.0",
          "campaign = 1.0",
          "+ all other factors"
         ],
         "yaxis": "y"
        },
        {
         "base": 0.21398502588272095,
         "hoverinfo": "text",
         "hoverlabel": {
          "bgcolor": "rgba(0,0,0,0.8)"
         },
         "hovertext": [
          "Average response: 0.214<br>Prediction: 0.391<br>age = 20.0<br>increases average response <br>by 0.213",
          "Average response: 0.214<br>Prediction: 0.391<br>duration = 90.0<br>decreases average response <br>by 0.126",
          "Average response: 0.214<br>Prediction: 0.391<br>day = 16.0<br>increases average response <br>by 0.045",
          "Average response: 0.214<br>Prediction: 0.391<br>month = may<br>decreases average response <br>by 0.043",
          "Average response: 0.214<br>Prediction: 0.391<br>job = student<br>increases average response <br>by 0.041",
          "Average response: 0.214<br>Prediction: 0.391<br>contact = cellular<br>increases average response <br>by 0.032",
          "Average response: 0.214<br>Prediction: 0.391<br>housing = no<br>increases average response <br>by 0.012",
          "Average response: 0.214<br>Prediction: 0.391<br>previous = 0.0<br>decreases average response <br>by 0.008",
          "Average response: 0.214<br>Prediction: 0.391<br>marital = single<br>decreases average response <br>by 0.008",
          "Average response: 0.214<br>Prediction: 0.391<br>+ all other factors<br>increases average response <br>by 0.02"
         ],
         "marker": {
          "color": [
           "#8bdcbe",
           "#f05a71",
           "#8bdcbe",
           "#f05a71",
           "#8bdcbe",
           "#8bdcbe",
           "#8bdcbe",
           "#f05a71",
           "#f05a71",
           "#8bdcbe"
          ]
         },
         "orientation": "h",
         "showlegend": false,
         "text": [
          "+0.213",
          "-0.126",
          "+0.045",
          "-0.043",
          "+0.041",
          "+0.032",
          "+0.012",
          "-0.008",
          "-0.008",
          "+0.02"
         ],
         "textposition": "outside",
         "type": "bar",
         "x": [
          0.213,
          -0.126,
          0.045,
          -0.043,
          0.041,
          0.032,
          0.012,
          -0.008,
          -0.008,
          0.02
         ],
         "xaxis": "x2",
         "y": [
          "age = 20.0",
          "duration = 90.0",
          "day = 16.0",
          "month = may",
          "job = student",
          "contact = cellular",
          "housing = no",
          "previous = 0.0",
          "marital = single",
          "+ all other factors"
         ],
         "yaxis": "y2"
        },
        {
         "base": 0.21398502588272095,
         "hoverinfo": "text",
         "hoverlabel": {
          "bgcolor": "rgba(0,0,0,0.8)"
         },
         "hovertext": [
          "Average response: 0.214<br>Prediction: 0.406<br>duration = 380.0<br>increases average response <br>by 0.123",
          "Average response: 0.214<br>Prediction: 0.406<br>balance = 40000.0<br>decreases average response <br>by 0.069",
          "Average response: 0.214<br>Prediction: 0.406<br>contact = cellular<br>increases average response <br>by 0.044",
          "Average response: 0.214<br>Prediction: 0.406<br>campaign = -1.0<br>increases average response <br>by 0.029",
          "Average response: 0.214<br>Prediction: 0.406<br>housing = no<br>increases average response <br>by 0.029",
          "Average response: 0.214<br>Prediction: 0.406<br>month = may<br>decreases average response <br>by 0.025",
          "Average response: 0.214<br>Prediction: 0.406<br>day = 16.0<br>increases average response <br>by 0.021",
          "Average response: 0.214<br>Prediction: 0.406<br>loan = no<br>increases average response <br>by 0.018",
          "Average response: 0.214<br>Prediction: 0.406<br>job = retired<br>increases average response <br>by 0.017",
          "Average response: 0.214<br>Prediction: 0.406<br>+ all other factors<br>increases average response <br>by 0.005"
         ],
         "marker": {
          "color": [
           "#8bdcbe",
           "#f05a71",
           "#8bdcbe",
           "#8bdcbe",
           "#8bdcbe",
           "#f05a71",
           "#8bdcbe",
           "#8bdcbe",
           "#8bdcbe",
           "#8bdcbe"
          ]
         },
         "orientation": "h",
         "showlegend": false,
         "text": [
          "+0.123",
          "-0.069",
          "+0.044",
          "+0.029",
          "+0.029",
          "-0.025",
          "+0.021",
          "+0.018",
          "+0.017",
          "+0.005"
         ],
         "textposition": "outside",
         "type": "bar",
         "x": [
          0.123,
          -0.069,
          0.044,
          0.029,
          0.029,
          -0.025,
          0.021,
          0.018,
          0.017,
          0.005
         ],
         "xaxis": "x3",
         "y": [
          "duration = 380.0",
          "balance = 40000.0",
          "contact = cellular",
          "campaign = -1.0",
          "housing = no",
          "month = may",
          "day = 16.0",
          "loan = no",
          "job = retired",
          "+ all other factors"
         ],
         "yaxis": "y3"
        },
        {
         "base": 0.21398502588272095,
         "hoverinfo": "text",
         "hoverlabel": {
          "bgcolor": "rgba(0,0,0,0.8)"
         },
         "hovertext": [
          "Average response: 0.214<br>Prediction: 0.326<br>duration = 200.0<br>decreases average response <br>by 0.099",
          "Average response: 0.214<br>Prediction: 0.326<br>day = 1.0<br>increases average response <br>by 0.075",
          "Average response: 0.214<br>Prediction: 0.326<br>age = 20.0<br>increases average response <br>by 0.075",
          "Average response: 0.214<br>Prediction: 0.326<br>contact = cellular<br>increases average response <br>by 0.035",
          "Average response: 0.214<br>Prediction: 0.326<br>campaign = -1.0<br>increases average response <br>by 0.025",
          "Average response: 0.214<br>Prediction: 0.326<br>job = entrepreneur<br>decreases average response <br>by 0.025",
          "Average response: 0.214<br>Prediction: 0.326<br>housing = no<br>increases average response <br>by 0.024",
          "Average response: 0.214<br>Prediction: 0.326<br>balance = 70000.0<br>increases average response <br>by 0.02",
          "Average response: 0.214<br>Prediction: 0.326<br>month = may<br>decreases average response <br>by 0.02",
          "Average response: 0.214<br>Prediction: 0.326<br>+ all other factors<br>increases average response <br>by 0.002"
         ],
         "marker": {
          "color": [
           "#f05a71",
           "#8bdcbe",
           "#8bdcbe",
           "#8bdcbe",
           "#8bdcbe",
           "#f05a71",
           "#8bdcbe",
           "#8bdcbe",
           "#f05a71",
           "#8bdcbe"
          ]
         },
         "orientation": "h",
         "showlegend": false,
         "text": [
          "-0.099",
          "+0.075",
          "+0.075",
          "+0.035",
          "+0.025",
          "-0.025",
          "+0.024",
          "+0.02",
          "-0.02",
          "+0.002"
         ],
         "textposition": "outside",
         "type": "bar",
         "x": [
          -0.099,
          0.075,
          0.075,
          0.035,
          0.025,
          -0.025,
          0.024,
          0.02,
          -0.02,
          0.002
         ],
         "xaxis": "x4",
         "y": [
          "duration = 200.0",
          "day = 1.0",
          "age = 20.0",
          "contact = cellular",
          "campaign = -1.0",
          "job = entrepreneur",
          "housing = no",
          "balance = 70000.0",
          "month = may",
          "+ all other factors"
         ],
         "yaxis": "y4"
        }
       ],
       "layout": {
        "annotations": [
         {
          "font": {
           "size": 16
          },
          "showarrow": false,
          "text": "John",
          "x": 0.5,
          "xanchor": "center",
          "xref": "paper",
          "y": 1,
          "yanchor": "bottom",
          "yref": "paper"
         },
         {
          "font": {
           "size": 16
          },
          "showarrow": false,
          "text": "student",
          "x": 0.5,
          "xanchor": "center",
          "xref": "paper",
          "y": 0.7375,
          "yanchor": "bottom",
          "yref": "paper"
         },
         {
          "font": {
           "size": 16
          },
          "showarrow": false,
          "text": "grandpa",
          "x": 0.5,
          "xanchor": "center",
          "xref": "paper",
          "y": 0.475,
          "yanchor": "bottom",
          "yref": "paper"
         },
         {
          "font": {
           "size": 16
          },
          "showarrow": false,
          "text": "young_rich_guy",
          "x": 0.5,
          "xanchor": "center",
          "xref": "paper",
          "y": 0.2125,
          "yanchor": "bottom",
          "yref": "paper"
         },
         {
          "font": {
           "size": 16
          },
          "showarrow": false,
          "text": "contribution",
          "x": 0.5,
          "xanchor": "center",
          "xref": "paper",
          "y": 0,
          "yanchor": "top",
          "yref": "paper",
          "yshift": -30
         }
        ],
        "font": {
         "color": "#371ea3"
        },
        "height": 1255,
        "margin": {
         "b": 71,
         "r": 30,
         "t": 78
        },
        "shapes": [
         {
          "line": {
           "color": "#371ea3",
           "dash": "dot",
           "width": 1.5
          },
          "type": "line",
          "x0": 0.21398502588272095,
          "x1": 0.21398502588272095,
          "xref": "x",
          "y0": -1,
          "y1": 11,
          "yref": "y"
         },
         {
          "line": {
           "color": "#371ea3",
           "dash": "dot",
           "width": 1.5
          },
          "type": "line",
          "x0": 0.21398502588272095,
          "x1": 0.21398502588272095,
          "xref": "x2",
          "y0": -1,
          "y1": 11,
          "yref": "y2"
         },
         {
          "line": {
           "color": "#371ea3",
           "dash": "dot",
           "width": 1.5
          },
          "type": "line",
          "x0": 0.21398502588272095,
          "x1": 0.21398502588272095,
          "xref": "x3",
          "y0": -1,
          "y1": 11,
          "yref": "y3"
         },
         {
          "line": {
           "color": "#371ea3",
           "dash": "dot",
           "width": 1.5
          },
          "type": "line",
          "x0": 0.21398502588272095,
          "x1": 0.21398502588272095,
          "xref": "x4",
          "y0": -1,
          "y1": 11,
          "yref": "y4"
         }
        ],
        "template": {
         "data": {
          "scatter": [
           {
            "type": "scatter"
           }
          ]
         }
        },
        "title": {
         "text": "Shapley Values",
         "x": 0.15
        },
        "xaxis": {
         "anchor": "y",
         "automargin": true,
         "domain": [
          0,
          1
         ],
         "fixedrange": true,
         "gridwidth": 2,
         "matches": "x4",
         "range": [
          0.037135025882720954,
          0.4778350258827209
         ],
         "showticklabels": false,
         "tickcolor": "white",
         "ticklen": 3,
         "ticks": "outside",
         "type": "linear",
         "zeroline": false
        },
        "xaxis2": {
         "anchor": "y2",
         "automargin": true,
         "domain": [
          0,
          1
         ],
         "fixedrange": true,
         "gridwidth": 2,
         "matches": "x4",
         "range": [
          0.037135025882720954,
          0.4778350258827209
         ],
         "showticklabels": false,
         "tickcolor": "white",
         "ticklen": 3,
         "ticks": "outside",
         "type": "linear",
         "zeroline": false
        },
        "xaxis3": {
         "anchor": "y3",
         "automargin": true,
         "domain": [
          0,
          1
         ],
         "fixedrange": true,
         "gridwidth": 2,
         "matches": "x4",
         "range": [
          0.037135025882720954,
          0.4778350258827209
         ],
         "showticklabels": false,
         "tickcolor": "white",
         "ticklen": 3,
         "ticks": "outside",
         "type": "linear",
         "zeroline": false
        },
        "xaxis4": {
         "anchor": "y4",
         "automargin": true,
         "domain": [
          0,
          1
         ],
         "fixedrange": true,
         "gridwidth": 2,
         "range": [
          0.037135025882720954,
          0.4778350258827209
         ],
         "tickcolor": "white",
         "ticklen": 3,
         "ticks": "outside",
         "type": "linear",
         "zeroline": false
        },
        "yaxis": {
         "anchor": "x",
         "automargin": true,
         "autorange": "reversed",
         "domain": [
          0.7875,
          1
         ],
         "fixedrange": true,
         "gridwidth": 2,
         "tickcolor": "white",
         "ticklen": 10,
         "ticks": "outside",
         "type": "category"
        },
        "yaxis2": {
         "anchor": "x2",
         "automargin": true,
         "autorange": "reversed",
         "domain": [
          0.525,
          0.7375
         ],
         "fixedrange": true,
         "gridwidth": 2,
         "tickcolor": "white",
         "ticklen": 10,
         "ticks": "outside",
         "type": "category"
        },
        "yaxis3": {
         "anchor": "x3",
         "automargin": true,
         "autorange": "reversed",
         "domain": [
          0.2625,
          0.475
         ],
         "fixedrange": true,
         "gridwidth": 2,
         "tickcolor": "white",
         "ticklen": 10,
         "ticks": "outside",
         "type": "category"
        },
        "yaxis4": {
         "anchor": "x4",
         "automargin": true,
         "autorange": "reversed",
         "domain": [
          0,
          0.2125
         ],
         "fixedrange": true,
         "gridwidth": 2,
         "tickcolor": "white",
         "ticklen": 10,
         "ticks": "outside",
         "type": "category"
        }
       }
      }
     },
     "metadata": {},
     "output_type": "display_data"
    }
   ],
   "source": [
    "sh_john.plot([sh_student, sh_grandpa, young_rich_guy])\n"
   ]
  },
  {
   "cell_type": "code",
   "execution_count": null,
   "metadata": {},
   "outputs": [],
   "source": []
  }
 ],
 "metadata": {
  "kernelspec": {
   "display_name": "python_dodatkowy",
   "language": "python",
   "name": "python3"
  },
  "language_info": {
   "codemirror_mode": {
    "name": "ipython",
    "version": 3
   },
   "file_extension": ".py",
   "mimetype": "text/x-python",
   "name": "python",
   "nbconvert_exporter": "python",
   "pygments_lexer": "ipython3",
   "version": "3.11.8"
  }
 },
 "nbformat": 4,
 "nbformat_minor": 2
}
