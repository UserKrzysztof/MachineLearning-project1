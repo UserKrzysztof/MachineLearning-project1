{
 "cells": [
  {
   "cell_type": "markdown",
   "metadata": {},
   "source": [
    "# Features engineering"
   ]
  },
  {
   "cell_type": "markdown",
   "metadata": {},
   "source": [
    "#### What have we done so far?"
   ]
  },
  {
   "cell_type": "markdown",
   "metadata": {},
   "source": [
    "During EDA part, we have explored and understood the dataset we are working on. We have prepared some ideas on variables modification and have examined them. We have found some dependencies and correlations between variables. \n",
    "\n",
    "The most significant changes in dataset are:\n",
    "* splittiing dataset into one for traing and testing and the one for validation task\n",
    "* converting day and month columns into one named day_of_the_year\n",
    "Other changes have not been saved yet."
   ]
  },
  {
   "cell_type": "markdown",
   "metadata": {},
   "source": [
    "## Categorical features"
   ]
  },
  {
   "cell_type": "code",
   "execution_count": 47,
   "metadata": {},
   "outputs": [],
   "source": [
    "import pandas as pd\n",
    "import numpy as np\n",
    "import seaborn as sns\n",
    "from matplotlib import pyplot as plt"
   ]
  },
  {
   "cell_type": "code",
   "execution_count": 48,
   "metadata": {},
   "outputs": [],
   "source": [
    "bank_data_df = pd.read_csv('datasource/bank_data_df_changed_time.csv')"
   ]
  },
  {
   "cell_type": "code",
   "execution_count": 49,
   "metadata": {},
   "outputs": [
    {
     "name": "stdout",
     "output_type": "stream",
     "text": [
      "<class 'pandas.core.frame.DataFrame'>\n",
      "RangeIndex: 3616 entries, 0 to 3615\n",
      "Data columns (total 17 columns):\n",
      " #   Column           Non-Null Count  Dtype \n",
      "---  ------           --------------  ----- \n",
      " 0   Unnamed: 0       3616 non-null   int64 \n",
      " 1   age              3616 non-null   int64 \n",
      " 2   job              3616 non-null   object\n",
      " 3   marital          3616 non-null   object\n",
      " 4   education        3616 non-null   object\n",
      " 5   default          3616 non-null   object\n",
      " 6   balance          3616 non-null   int64 \n",
      " 7   housing          3616 non-null   object\n",
      " 8   loan             3616 non-null   object\n",
      " 9   contact          3616 non-null   object\n",
      " 10  duration         3616 non-null   int64 \n",
      " 11  campaign         3616 non-null   int64 \n",
      " 12  pdays            3616 non-null   int64 \n",
      " 13  previous         3616 non-null   int64 \n",
      " 14  poutcome         3616 non-null   object\n",
      " 15  y                3616 non-null   int64 \n",
      " 16  day_of_the_year  3616 non-null   int64 \n",
      "dtypes: int64(9), object(8)\n",
      "memory usage: 480.4+ KB\n"
     ]
    }
   ],
   "source": [
    "bank_data_df.info()"
   ]
  },
  {
   "cell_type": "code",
   "execution_count": 50,
   "metadata": {},
   "outputs": [],
   "source": [
    "bank_data_df = bank_data_df.iloc[:,1:]"
   ]
  },
  {
   "cell_type": "code",
   "execution_count": 51,
   "metadata": {},
   "outputs": [
    {
     "name": "stdout",
     "output_type": "stream",
     "text": [
      "<class 'pandas.core.frame.DataFrame'>\n",
      "RangeIndex: 3616 entries, 0 to 3615\n",
      "Data columns (total 16 columns):\n",
      " #   Column           Non-Null Count  Dtype \n",
      "---  ------           --------------  ----- \n",
      " 0   age              3616 non-null   int64 \n",
      " 1   job              3616 non-null   object\n",
      " 2   marital          3616 non-null   object\n",
      " 3   education        3616 non-null   object\n",
      " 4   default          3616 non-null   object\n",
      " 5   balance          3616 non-null   int64 \n",
      " 6   housing          3616 non-null   object\n",
      " 7   loan             3616 non-null   object\n",
      " 8   contact          3616 non-null   object\n",
      " 9   duration         3616 non-null   int64 \n",
      " 10  campaign         3616 non-null   int64 \n",
      " 11  pdays            3616 non-null   int64 \n",
      " 12  previous         3616 non-null   int64 \n",
      " 13  poutcome         3616 non-null   object\n",
      " 14  y                3616 non-null   int64 \n",
      " 15  day_of_the_year  3616 non-null   int64 \n",
      "dtypes: int64(8), object(8)\n",
      "memory usage: 452.1+ KB\n"
     ]
    }
   ],
   "source": [
    "bank_data_df.info()"
   ]
  },
  {
   "cell_type": "code",
   "execution_count": 52,
   "metadata": {},
   "outputs": [],
   "source": [
    "target_value = \"y\""
   ]
  },
  {
   "cell_type": "code",
   "execution_count": 53,
   "metadata": {},
   "outputs": [],
   "source": [
    "cols = bank_data_df.columns.to_list()\n",
    "cols[-1], cols[-2] = cols[-2], cols[-1] \n",
    "bank_data_df = bank_data_df[cols]"
   ]
  },
  {
   "cell_type": "code",
   "execution_count": 54,
   "metadata": {},
   "outputs": [
    {
     "name": "stdout",
     "output_type": "stream",
     "text": [
      "<class 'pandas.core.frame.DataFrame'>\n",
      "RangeIndex: 3616 entries, 0 to 3615\n",
      "Data columns (total 16 columns):\n",
      " #   Column           Non-Null Count  Dtype \n",
      "---  ------           --------------  ----- \n",
      " 0   age              3616 non-null   int64 \n",
      " 1   job              3616 non-null   object\n",
      " 2   marital          3616 non-null   object\n",
      " 3   education        3616 non-null   object\n",
      " 4   default          3616 non-null   object\n",
      " 5   balance          3616 non-null   int64 \n",
      " 6   housing          3616 non-null   object\n",
      " 7   loan             3616 non-null   object\n",
      " 8   contact          3616 non-null   object\n",
      " 9   duration         3616 non-null   int64 \n",
      " 10  campaign         3616 non-null   int64 \n",
      " 11  pdays            3616 non-null   int64 \n",
      " 12  previous         3616 non-null   int64 \n",
      " 13  poutcome         3616 non-null   object\n",
      " 14  day_of_the_year  3616 non-null   int64 \n",
      " 15  y                3616 non-null   int64 \n",
      "dtypes: int64(8), object(8)\n",
      "memory usage: 452.1+ KB\n"
     ]
    }
   ],
   "source": [
    "bank_data_df.info()"
   ]
  },
  {
   "cell_type": "markdown",
   "metadata": {},
   "source": [
    "### Education"
   ]
  },
  {
   "cell_type": "code",
   "execution_count": 55,
   "metadata": {},
   "outputs": [
    {
     "data": {
      "text/plain": [
       "array(['secondary', 'tertiary', 'primary', 'unknown'], dtype=object)"
      ]
     },
     "execution_count": 55,
     "metadata": {},
     "output_type": "execute_result"
    }
   ],
   "source": [
    "bank_data_df.education.unique()"
   ]
  },
  {
   "cell_type": "markdown",
   "metadata": {},
   "source": [
    "Maybe a good transormation for this feature will be following dictionary:"
   ]
  },
  {
   "cell_type": "code",
   "execution_count": 56,
   "metadata": {},
   "outputs": [],
   "source": [
    "ed_dict = {'unknown' : 0, 'secondary' : 0.5, 'tertiary' : 1, 'primary' : 0.25}"
   ]
  },
  {
   "cell_type": "code",
   "execution_count": 57,
   "metadata": {},
   "outputs": [
    {
     "name": "stderr",
     "output_type": "stream",
     "text": [
      "/var/folders/gp/n7ttdtg56pg0s6ydv9zj9wth0000gn/T/ipykernel_42572/3812209549.py:1: FutureWarning: Downcasting behavior in `replace` is deprecated and will be removed in a future version. To retain the old behavior, explicitly call `result.infer_objects(copy=False)`. To opt-in to the future behavior, set `pd.set_option('future.no_silent_downcasting', True)`\n",
      "  bank_data_df = bank_data_df.replace({\"education\": ed_dict})\n"
     ]
    }
   ],
   "source": [
    "bank_data_df = bank_data_df.replace({\"education\": ed_dict})"
   ]
  },
  {
   "cell_type": "code",
   "execution_count": 58,
   "metadata": {},
   "outputs": [
    {
     "data": {
      "text/plain": [
       "0"
      ]
     },
     "execution_count": 58,
     "metadata": {},
     "output_type": "execute_result"
    }
   ],
   "source": [
    "bank_data_df.education.isna().sum()"
   ]
  },
  {
   "cell_type": "markdown",
   "metadata": {},
   "source": [
    "### Martial"
   ]
  },
  {
   "cell_type": "code",
   "execution_count": 59,
   "metadata": {},
   "outputs": [
    {
     "data": {
      "text/plain": [
       "array(['divorced', 'single', 'married'], dtype=object)"
      ]
     },
     "execution_count": 59,
     "metadata": {},
     "output_type": "execute_result"
    }
   ],
   "source": [
    "bank_data_df.marital.unique()"
   ]
  },
  {
   "cell_type": "code",
   "execution_count": 60,
   "metadata": {},
   "outputs": [
    {
     "name": "stderr",
     "output_type": "stream",
     "text": [
      "/var/folders/gp/n7ttdtg56pg0s6ydv9zj9wth0000gn/T/ipykernel_42572/420417880.py:2: FutureWarning: Downcasting behavior in `replace` is deprecated and will be removed in a future version. To retain the old behavior, explicitly call `result.infer_objects(copy=False)`. To opt-in to the future behavior, set `pd.set_option('future.no_silent_downcasting', True)`\n",
      "  bank_data_df = bank_data_df.replace({\"marital\": m_dict}) #there is misspelling in name of this variable\n"
     ]
    }
   ],
   "source": [
    "m_dict = {\"single\" : 0, \"divorced\" : 0.5, \"married\"  : 1}\n",
    "bank_data_df = bank_data_df.replace({\"marital\": m_dict}) #there is misspelling in name of this variable"
   ]
  },
  {
   "cell_type": "markdown",
   "metadata": {},
   "source": [
    "### YesNo "
   ]
  },
  {
   "cell_type": "code",
   "execution_count": 61,
   "metadata": {},
   "outputs": [],
   "source": [
    "yn_dict = {\"no\" :0, \"yes\" :1}"
   ]
  },
  {
   "cell_type": "code",
   "execution_count": 62,
   "metadata": {},
   "outputs": [
    {
     "name": "stderr",
     "output_type": "stream",
     "text": [
      "/var/folders/gp/n7ttdtg56pg0s6ydv9zj9wth0000gn/T/ipykernel_42572/3788033126.py:1: FutureWarning: Downcasting behavior in `replace` is deprecated and will be removed in a future version. To retain the old behavior, explicitly call `result.infer_objects(copy=False)`. To opt-in to the future behavior, set `pd.set_option('future.no_silent_downcasting', True)`\n",
      "  bank_data_df = bank_data_df.replace({\"default\": yn_dict, \"housing\" : yn_dict, \"loan\" : yn_dict})\n"
     ]
    }
   ],
   "source": [
    "bank_data_df = bank_data_df.replace({\"default\": yn_dict, \"housing\" : yn_dict, \"loan\" : yn_dict})"
   ]
  },
  {
   "cell_type": "code",
   "execution_count": 63,
   "metadata": {},
   "outputs": [
    {
     "name": "stdout",
     "output_type": "stream",
     "text": [
      "<class 'pandas.core.frame.DataFrame'>\n",
      "RangeIndex: 3616 entries, 0 to 3615\n",
      "Data columns (total 16 columns):\n",
      " #   Column           Non-Null Count  Dtype  \n",
      "---  ------           --------------  -----  \n",
      " 0   age              3616 non-null   int64  \n",
      " 1   job              3616 non-null   object \n",
      " 2   marital          3616 non-null   float64\n",
      " 3   education        3616 non-null   float64\n",
      " 4   default          3616 non-null   int64  \n",
      " 5   balance          3616 non-null   int64  \n",
      " 6   housing          3616 non-null   int64  \n",
      " 7   loan             3616 non-null   int64  \n",
      " 8   contact          3616 non-null   object \n",
      " 9   duration         3616 non-null   int64  \n",
      " 10  campaign         3616 non-null   int64  \n",
      " 11  pdays            3616 non-null   int64  \n",
      " 12  previous         3616 non-null   int64  \n",
      " 13  poutcome         3616 non-null   object \n",
      " 14  day_of_the_year  3616 non-null   int64  \n",
      " 15  y                3616 non-null   int64  \n",
      "dtypes: float64(2), int64(11), object(3)\n",
      "memory usage: 452.1+ KB\n"
     ]
    }
   ],
   "source": [
    "bank_data_df.info()"
   ]
  },
  {
   "cell_type": "markdown",
   "metadata": {},
   "source": [
    "### Job"
   ]
  },
  {
   "cell_type": "markdown",
   "metadata": {},
   "source": []
  },
  {
   "cell_type": "code",
   "execution_count": null,
   "metadata": {},
   "outputs": [],
   "source": []
  }
 ],
 "metadata": {
  "kernelspec": {
   "display_name": "base",
   "language": "python",
   "name": "python3"
  },
  "language_info": {
   "codemirror_mode": {
    "name": "ipython",
    "version": 3
   },
   "file_extension": ".py",
   "mimetype": "text/x-python",
   "name": "python",
   "nbconvert_exporter": "python",
   "pygments_lexer": "ipython3",
   "version": "3.9.13"
  }
 },
 "nbformat": 4,
 "nbformat_minor": 2
}
